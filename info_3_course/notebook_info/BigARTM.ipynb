{
 "cells": [
  {
   "cell_type": "markdown",
   "metadata": {},
   "source": [
    "# Пример использования библиотеки BigARTM для тематического моделирования\n",
    "## Для Bigartm v0.8.0\n",
    "### Редактировал Максим Чурилин"
   ]
  },
  {
   "cell_type": "markdown",
   "metadata": {},
   "source": [
    "Импортируем BigARTM:"
   ]
  },
  {
   "cell_type": "code",
   "execution_count": 1,
   "metadata": {
    "collapsed": false,
    "jupyter": {
     "outputs_hidden": false
    }
   },
   "outputs": [],
   "source": [
    "from matplotlib import pyplot as plt\n",
    "%matplotlib inline"
   ]
  },
  {
   "cell_type": "code",
   "execution_count": 124,
   "metadata": {
    "tags": []
   },
   "outputs": [],
   "source": [
    "import artm"
   ]
  },
  {
   "cell_type": "markdown",
   "metadata": {},
   "source": [
    "Первое считывание данных (преобразуем удобный для человека формат в формат, который использует модель):"
   ]
  },
  {
   "cell_type": "code",
   "execution_count": 125,
   "metadata": {
    "collapsed": false,
    "jupyter": {
     "outputs_hidden": false
    }
   },
   "outputs": [],
   "source": [
    "batch_vectorizer = artm.BatchVectorizer(data_path=\"school.txt\", data_format=\"vowpal_wabbit\", target_folder=\"school_batches\", \n",
    "                                       batch_size=100)"
   ]
  },
  {
   "cell_type": "markdown",
   "metadata": {},
   "source": [
    "В следующий раз данные можно считывать уже из батчей:"
   ]
  },
  {
   "cell_type": "code",
   "execution_count": 126,
   "metadata": {
    "collapsed": false,
    "jupyter": {
     "outputs_hidden": false
    }
   },
   "outputs": [],
   "source": [
    "batch_vectorizer = artm.BatchVectorizer(data_path=\"school_batches\", data_format='batches')"
   ]
  },
  {
   "cell_type": "markdown",
   "metadata": {},
   "source": [
    "Создаем объект модели:"
   ]
  },
  {
   "cell_type": "code",
   "execution_count": 150,
   "metadata": {
    "collapsed": false,
    "jupyter": {
     "outputs_hidden": false
    }
   },
   "outputs": [],
   "source": [
    "T = 10   # количество тем\n",
    "model_artm = artm.ARTM(num_topics=T, topic_names=[\"sbj\"+str(i) for i in range(T)], class_ids={\"text\":1}, \n",
    "                       num_document_passes=1, reuse_theta=False, cache_theta=True, seed=-1)\n",
    "# число после названия модальностей - это их веса"
   ]
  },
  {
   "cell_type": "markdown",
   "metadata": {},
   "source": [
    "Создаем словарь и инициализируем модель с его помощью"
   ]
  },
  {
   "cell_type": "code",
   "execution_count": 157,
   "metadata": {
    "collapsed": false,
    "jupyter": {
     "outputs_hidden": false
    }
   },
   "outputs": [],
   "source": [
    "dictionary = artm.Dictionary('dictionary')\n",
    "dictionary.gather(batch_vectorizer.data_path)"
   ]
  },
  {
   "cell_type": "code",
   "execution_count": 158,
   "metadata": {
    "collapsed": true,
    "jupyter": {
     "outputs_hidden": true
    },
    "tags": []
   },
   "outputs": [
    {
     "ename": "AttributeError",
     "evalue": "Unable to replace existing score.                                  If you really want to do it use overwrite=True argument",
     "output_type": "error",
     "traceback": [
      "\u001b[1;31m---------------------------------------------------------------------------\u001b[0m",
      "\u001b[1;31mAttributeError\u001b[0m                            Traceback (most recent call last)",
      "\u001b[1;32mC:\\Users\\DESPAC~1\\AppData\\Local\\Temp/ipykernel_14488/4243608189.py\u001b[0m in \u001b[0;36m<module>\u001b[1;34m\u001b[0m\n\u001b[1;32m----> 1\u001b[1;33m model_artm.scores.add(artm.PerplexityScore(name='PerplexityScore',\n\u001b[0m\u001b[0;32m      2\u001b[0m                                            dictionary='dictionary'))\n\u001b[0;32m      3\u001b[0m \u001b[0mmodel_artm\u001b[0m\u001b[1;33m.\u001b[0m\u001b[0mscores\u001b[0m\u001b[1;33m.\u001b[0m\u001b[0madd\u001b[0m\u001b[1;33m(\u001b[0m\u001b[0martm\u001b[0m\u001b[1;33m.\u001b[0m\u001b[0mSparsityPhiScore\u001b[0m\u001b[1;33m(\u001b[0m\u001b[0mname\u001b[0m\u001b[1;33m=\u001b[0m\u001b[1;34m'SparsityPhiScore'\u001b[0m\u001b[1;33m,\u001b[0m \u001b[0mclass_id\u001b[0m\u001b[1;33m=\u001b[0m\u001b[1;34m\"text\"\u001b[0m\u001b[1;33m)\u001b[0m\u001b[1;33m)\u001b[0m\u001b[1;33m\u001b[0m\u001b[1;33m\u001b[0m\u001b[0m\n\u001b[0;32m      4\u001b[0m \u001b[0mmodel_artm\u001b[0m\u001b[1;33m.\u001b[0m\u001b[0mscores\u001b[0m\u001b[1;33m.\u001b[0m\u001b[0madd\u001b[0m\u001b[1;33m(\u001b[0m\u001b[0martm\u001b[0m\u001b[1;33m.\u001b[0m\u001b[0mSparsityThetaScore\u001b[0m\u001b[1;33m(\u001b[0m\u001b[0mname\u001b[0m\u001b[1;33m=\u001b[0m\u001b[1;34m'SparsityThetaScore'\u001b[0m\u001b[1;33m)\u001b[0m\u001b[1;33m)\u001b[0m\u001b[1;33m\u001b[0m\u001b[1;33m\u001b[0m\u001b[0m\n\u001b[0;32m      5\u001b[0m \u001b[0mmodel_artm\u001b[0m\u001b[1;33m.\u001b[0m\u001b[0mscores\u001b[0m\u001b[1;33m.\u001b[0m\u001b[0madd\u001b[0m\u001b[1;33m(\u001b[0m\u001b[0martm\u001b[0m\u001b[1;33m.\u001b[0m\u001b[0mTopTokensScore\u001b[0m\u001b[1;33m(\u001b[0m\u001b[0mname\u001b[0m\u001b[1;33m=\u001b[0m\u001b[1;34m\"top_words\"\u001b[0m\u001b[1;33m,\u001b[0m \u001b[0mnum_tokens\u001b[0m\u001b[1;33m=\u001b[0m\u001b[1;36m15\u001b[0m\u001b[1;33m,\u001b[0m \u001b[0mclass_id\u001b[0m\u001b[1;33m=\u001b[0m\u001b[1;34m\"text\"\u001b[0m\u001b[1;33m)\u001b[0m\u001b[1;33m)\u001b[0m\u001b[1;33m\u001b[0m\u001b[1;33m\u001b[0m\u001b[0m\n",
      "\u001b[1;32mC:\\BigARTM_v0.9.0_win64\\python\\artm\\scores.py\u001b[0m in \u001b[0;36madd\u001b[1;34m(self, score, overwrite)\u001b[0m\n\u001b[0;32m     51\u001b[0m         \u001b[0mname\u001b[0m \u001b[1;33m=\u001b[0m \u001b[0mscore\u001b[0m\u001b[1;33m.\u001b[0m\u001b[0mname\u001b[0m\u001b[1;33m\u001b[0m\u001b[1;33m\u001b[0m\u001b[0m\n\u001b[0;32m     52\u001b[0m         \u001b[1;32mif\u001b[0m \u001b[0mname\u001b[0m \u001b[1;32min\u001b[0m \u001b[0mself\u001b[0m\u001b[1;33m.\u001b[0m\u001b[0m_data\u001b[0m \u001b[1;32mand\u001b[0m \u001b[1;32mnot\u001b[0m \u001b[0moverwrite\u001b[0m\u001b[1;33m:\u001b[0m\u001b[1;33m\u001b[0m\u001b[1;33m\u001b[0m\u001b[0m\n\u001b[1;32m---> 53\u001b[1;33m             raise AttributeError(\"Unable to replace existing score.\\\n\u001b[0m\u001b[0;32m     54\u001b[0m                                   If you really want to do it use overwrite=True argument\")\n\u001b[0;32m     55\u001b[0m         \u001b[1;31m# next statement represents ternary operator\u001b[0m\u001b[1;33m\u001b[0m\u001b[1;33m\u001b[0m\u001b[1;33m\u001b[0m\u001b[0m\n",
      "\u001b[1;31mAttributeError\u001b[0m: Unable to replace existing score.                                  If you really want to do it use overwrite=True argument"
     ]
    }
   ],
   "source": [
    "model_artm.scores.add(artm.PerplexityScore(name='PerplexityScore',\n",
    "                                           dictionary='dictionary'))\n",
    "model_artm.scores.add(artm.SparsityPhiScore(name='SparsityPhiScore', class_id=\"text\"))\n",
    "model_artm.scores.add(artm.SparsityThetaScore(name='SparsityThetaScore'))\n",
    "model_artm.scores.add(artm.TopTokensScore(name=\"top_words\", num_tokens=15, class_id=\"text\"))"
   ]
  },
  {
   "cell_type": "code",
   "execution_count": 159,
   "metadata": {
    "collapsed": false,
    "jupyter": {
     "outputs_hidden": false
    }
   },
   "outputs": [],
   "source": [
    "model_artm.seed=1\n",
    "model_artm.initialize('dictionary')"
   ]
  },
  {
   "cell_type": "markdown",
   "metadata": {},
   "source": [
    "Строим модель. Offline - проходит по всей коллекции много раз. Удобно, когда коллекция маленькая."
   ]
  },
  {
   "cell_type": "code",
   "execution_count": 160,
   "metadata": {
    "collapsed": false,
    "jupyter": {
     "outputs_hidden": false
    }
   },
   "outputs": [],
   "source": [
    "model_artm.fit_offline(batch_vectorizer=batch_vectorizer, num_collection_passes=40)"
   ]
  },
  {
   "cell_type": "markdown",
   "metadata": {},
   "source": [
    "Необходимое число итераций можно отслеживать по графику перплексии. Когда она перестала меняться, модель сошлась."
   ]
  },
  {
   "cell_type": "code",
   "execution_count": 161,
   "metadata": {
    "collapsed": false,
    "jupyter": {
     "outputs_hidden": false
    }
   },
   "outputs": [
    {
     "data": {
      "image/png": "[encoded data removed]",
      "text/plain": [
       "<Figure size 432x288 with 1 Axes>"
      ]
     },
     "metadata": {
      "needs_background": "light"
     },
     "output_type": "display_data"
    }
   ],
   "source": [
    "plt.plot(model_artm.score_tracker[\"PerplexityScore\"].value);"
   ]
  },
  {
   "cell_type": "markdown",
   "metadata": {},
   "source": [
    "Выведем топы слов:"
   ]
  },
  {
   "cell_type": "code",
   "execution_count": 162,
   "metadata": {
    "tags": []
   },
   "outputs": [
    {
     "name": "stdout",
     "output_type": "stream",
     "text": [
      "sbj0:  быть свой год который русский она однако становиться что весь жизнь век время семья после \n",
      "sbj1:  быть который город они война время первый древний смочь становиться начинать как армия военный империя \n",
      "sbj2:  государство развитие быть год новый такой что происходить общество страна как который первый производство экономический \n",
      "sbj3:  x a число b функция тело быть при равный энергия этот уравнение получать что два \n",
      "sbj4:  что это они сила мочь для как ребенок друг чтобы который такой так быть когда \n",
      "sbj5:  территория страна население этот часть северный являться государство земля природный африка океан регион мир россия \n",
      "sbj6:  что свой герой его произведение этот пушкин поэт автор это стихотворение образ любовь весь творчество \n",
      "sbj7:  человек который жизнь как общество себя мир литература для личность социальный его свой отношение главный \n",
      "sbj8:  который также право это являться весь государственный политика для власть себя мочь государство понятие внутренний \n",
      "sbj9:  быть слово это при предложение например или этот ток язык если поле для предмет сила \n"
     ]
    }
   ],
   "source": [
    "for topic_name in model_artm.topic_names:\n",
    "    print(topic_name + ': ', end=\" \")\n",
    "    tokens = model_artm.score_tracker[\"top_words\"].last_tokens\n",
    "    if tokens.get(topic_name):\n",
    "        for word in tokens[topic_name]:    \n",
    "            print(word, end=\" \")\n",
    "    print()"
   ]
  },
  {
   "cell_type": "markdown",
   "metadata": {},
   "source": [
    "Давайте посмотрим также на разреженность матриц:"
   ]
  },
  {
   "cell_type": "code",
   "execution_count": 163,
   "metadata": {
    "collapsed": false,
    "jupyter": {
     "outputs_hidden": false
    }
   },
   "outputs": [
    {
     "name": "stdout",
     "output_type": "stream",
     "text": [
      "0.6064786911010742\n",
      "0.0006302521214820445\n"
     ]
    }
   ],
   "source": [
    "print(model_artm.score_tracker[\"SparsityPhiScore\"].last_value)\n",
    "print(model_artm.score_tracker[\"SparsityThetaScore\"].last_value)"
   ]
  },
  {
   "cell_type": "markdown",
   "metadata": {},
   "source": [
    "В темах много общеупотребительных слов (так называемой, фоновой лексики). Чтобы этого избежать, будем использовать разреживающий регуляризатор для матрицы фи. Он будет подавлять слова, которые имеют большую частоту во всей коллекции."
   ]
  },
  {
   "cell_type": "code",
   "execution_count": 164,
   "metadata": {
    "tags": []
   },
   "outputs": [],
   "source": [
    "model_artm.regularizers.add(artm.SmoothSparsePhiRegularizer(name='SparsePhi', tau=-100, dictionary=\"dictionary\"))\n",
    "#если вы хотите применять регуляризатор только к некоторым модальностям, указывайте это в параметре class_ids: class_ids=[\"text\"]"
   ]
  },
  {
   "cell_type": "code",
   "execution_count": 165,
   "metadata": {
    "tags": []
   },
   "outputs": [],
   "source": [
    "model_artm.fit_offline(batch_vectorizer=batch_vectorizer, num_collection_passes=15)"
   ]
  },
  {
   "cell_type": "code",
   "execution_count": 166,
   "metadata": {
    "tags": []
   },
   "outputs": [
    {
     "name": "stdout",
     "output_type": "stream",
     "text": [
      "sbj0:  быть свой русский который она год однако что весь становиться время жизнь они семья после \n",
      "sbj1:  быть который война город они время первый год древний смочь становиться военный армия империя начинать \n",
      "sbj2:  государство развитие год быть новый такой что общество страна производство происходить который период становиться как \n",
      "sbj3:  x a число b функция тело быть при равный этот энергия уравнение получать два точка \n",
      "sbj4:  что это они сила как мочь такой друг ребенок для чтобы который так когда очень \n",
      "sbj5:  территория страна этот население земля часть являться северный природный африка океан вода регион самый также \n",
      "sbj6:  что герой его свой произведение этот пушкин поэт автор это стихотворение образ любовь сам творчество \n",
      "sbj7:  человек который жизнь себя как мир общество литература для личность являться его главный век свой \n",
      "sbj8:  который также право государство государственный политика это весь являться отношение власть для понятие мочь внутренний \n",
      "sbj9:  быть слово предложение при это например или этот язык ток если поле предмет для частица \n"
     ]
    }
   ],
   "source": [
    "for topic_name in model_artm.topic_names:\n",
    "    print(topic_name + ': ', end=\" \")\n",
    "    tokens = model_artm.score_tracker[\"top_words\"].last_tokens\n",
    "    if tokens.get(topic_name):\n",
    "        for word in tokens[topic_name]:    \n",
    "            print(word, end=\" \")\n",
    "    print()"
   ]
  },
  {
   "cell_type": "code",
   "execution_count": 167,
   "metadata": {
    "collapsed": false,
    "jupyter": {
     "outputs_hidden": false
    }
   },
   "outputs": [
    {
     "name": "stdout",
     "output_type": "stream",
     "text": [
      "0.8354804515838623\n",
      "0.002731092507019639\n"
     ]
    }
   ],
   "source": [
    "print(model_artm.score_tracker[\"SparsityPhiScore\"].last_value)\n",
    "print(model_artm.score_tracker[\"SparsityThetaScore\"].last_value)"
   ]
  },
  {
   "cell_type": "markdown",
   "metadata": {},
   "source": [
    "Попробуем менять коэффициент регуляризации:"
   ]
  },
  {
   "cell_type": "code",
   "execution_count": 176,
   "metadata": {
    "collapsed": false,
    "jupyter": {
     "outputs_hidden": false
    }
   },
   "outputs": [],
   "source": [
    "model_artm.regularizers['SparsePhi'].tau = -50000"
   ]
  },
  {
   "cell_type": "code",
   "execution_count": 177,
   "metadata": {
    "collapsed": false,
    "jupyter": {
     "outputs_hidden": false
    }
   },
   "outputs": [],
   "source": [
    "model_artm.fit_offline(batch_vectorizer=batch_vectorizer, num_collection_passes=15)"
   ]
  },
  {
   "cell_type": "code",
   "execution_count": 178,
   "metadata": {
    "collapsed": false,
    "jupyter": {
     "outputs_hidden": false
    }
   },
   "outputs": [
    {
     "name": "stdout",
     "output_type": "stream",
     "text": [
      "sbj0:  свой время становиться она русский однако после народ история даже дом семья жить считать I \n",
      "sbj1:  первый война начинать город под смочь древний военный благодаря европа появляться конец империя армия житель \n",
      "sbj2:  год государство новый развитие период социальный происходить начало уже экономический производство количество проблема мировой путь \n",
      "sbj3:  x a если два число вид можно b называть функция пример получать тело равный энергия \n",
      "sbj4:  они так мочь сила чтобы когда очень друг ребенок наш сторона несколько часто всегда работа \n",
      "sbj5:  страна часть территория земля большой население вода находиться высокий место здесь северный условие природный африка \n",
      "sbj6:  его герой самый произведение образ сам пушкин поэт автор писатель рассказ показывать стихотворение тема любовь \n",
      "sbj7:  человек жизнь себя общество век главный мир именно каждый более литература многий разный литературный культура \n",
      "sbj8:  также представлять россия отношение между право политический процесс форма власть система государственный политика внутренний должный \n",
      "sbj9:  при или слово например предложение случай действие язык поэтому через ток использовать чем помощь простой \n"
     ]
    }
   ],
   "source": [
    "for topic_name in model_artm.topic_names:\n",
    "    print(topic_name + ': ', end=\" \")\n",
    "    tokens = model_artm.score_tracker[\"top_words\"].last_tokens\n",
    "    if tokens.get(topic_name):\n",
    "        for word in tokens[topic_name]:    \n",
    "            print(word, end=\" \")\n",
    "    print()"
   ]
  },
  {
   "cell_type": "code",
   "execution_count": 179,
   "metadata": {
    "collapsed": false,
    "jupyter": {
     "outputs_hidden": false
    }
   },
   "outputs": [
    {
     "name": "stdout",
     "output_type": "stream",
     "text": [
      "0.8999316692352295\n",
      "0.013025210238993168\n"
     ]
    }
   ],
   "source": [
    "# еще раз посмотрим на разреженность\n",
    "print(model_artm.score_tracker[\"SparsityPhiScore\"].last_value)\n",
    "print(model_artm.score_tracker[\"SparsityThetaScore\"].last_value)"
   ]
  },
  {
   "cell_type": "markdown",
   "metadata": {},
   "source": [
    "Обратите внимание, что разреживать модель рекомендуется только после того, как она сошлась без регуляризации."
   ]
  },
  {
   "cell_type": "markdown",
   "metadata": {},
   "source": [
    "Сохранение и загрузка модели:"
   ]
  },
  {
   "cell_type": "code",
   "execution_count": 180,
   "metadata": {
    "tags": []
   },
   "outputs": [],
   "source": [
    "model_artm.save(\"my_model\")"
   ]
  },
  {
   "cell_type": "code",
   "execution_count": 181,
   "metadata": {
    "collapsed": false,
    "jupyter": {
     "outputs_hidden": false
    }
   },
   "outputs": [],
   "source": [
    "model_artm.load(\"my_model\")"
   ]
  },
  {
   "cell_type": "markdown",
   "metadata": {},
   "source": [
    "Можно попросить матрицы в чистом виде:"
   ]
  },
  {
   "cell_type": "code",
   "execution_count": 187,
   "metadata": {
    "collapsed": false,
    "jupyter": {
     "outputs_hidden": false
    }
   },
   "outputs": [],
   "source": [
    "phi = model_artm.get_phi() # задать темы и создать модель, после чего загружать"
   ]
  },
  {
   "cell_type": "code",
   "execution_count": 188,
   "metadata": {
    "collapsed": false,
    "jupyter": {
     "outputs_hidden": false
    }
   },
   "outputs": [
    {
     "data": {
      "text/html": [
       "<div>\n",
       "<style scoped>\n",
       "    .dataframe tbody tr th:only-of-type {\n",
       "        vertical-align: middle;\n",
       "    }\n",
       "\n",
       "    .dataframe tbody tr th {\n",
       "        vertical-align: top;\n",
       "    }\n",
       "\n",
       "    .dataframe thead th {\n",
       "        text-align: right;\n",
       "    }\n",
       "</style>\n",
       "<table border=\"1\" class=\"dataframe\">\n",
       "  <thead>\n",
       "    <tr style=\"text-align: right;\">\n",
       "      <th></th>\n",
       "      <th>sbj0</th>\n",
       "      <th>sbj1</th>\n",
       "      <th>sbj2</th>\n",
       "      <th>sbj3</th>\n",
       "      <th>sbj4</th>\n",
       "      <th>sbj5</th>\n",
       "      <th>sbj6</th>\n",
       "      <th>sbj7</th>\n",
       "      <th>sbj8</th>\n",
       "      <th>sbj9</th>\n",
       "    </tr>\n",
       "  </thead>\n",
       "  <tbody>\n",
       "    <tr>\n",
       "      <th>домохозяйка</th>\n",
       "      <td>0.000000</td>\n",
       "      <td>0.0</td>\n",
       "      <td>0.00000</td>\n",
       "      <td>0.0</td>\n",
       "      <td>0.0</td>\n",
       "      <td>0.0</td>\n",
       "      <td>0.000000</td>\n",
       "      <td>0.0</td>\n",
       "      <td>0.000000</td>\n",
       "      <td>0.000072</td>\n",
       "    </tr>\n",
       "    <tr>\n",
       "      <th>институт</th>\n",
       "      <td>0.000000</td>\n",
       "      <td>0.0</td>\n",
       "      <td>0.00000</td>\n",
       "      <td>0.0</td>\n",
       "      <td>0.0</td>\n",
       "      <td>0.0</td>\n",
       "      <td>0.000000</td>\n",
       "      <td>0.0</td>\n",
       "      <td>0.002413</td>\n",
       "      <td>0.000000</td>\n",
       "    </tr>\n",
       "    <tr>\n",
       "      <th>машинка</th>\n",
       "      <td>0.000000</td>\n",
       "      <td>0.0</td>\n",
       "      <td>0.00007</td>\n",
       "      <td>0.0</td>\n",
       "      <td>0.0</td>\n",
       "      <td>0.0</td>\n",
       "      <td>0.000000</td>\n",
       "      <td>0.0</td>\n",
       "      <td>0.000000</td>\n",
       "      <td>0.000000</td>\n",
       "    </tr>\n",
       "    <tr>\n",
       "      <th>прочий</th>\n",
       "      <td>0.000000</td>\n",
       "      <td>0.0</td>\n",
       "      <td>0.00000</td>\n",
       "      <td>0.0</td>\n",
       "      <td>0.0</td>\n",
       "      <td>0.0</td>\n",
       "      <td>0.000504</td>\n",
       "      <td>0.0</td>\n",
       "      <td>0.000000</td>\n",
       "      <td>0.000000</td>\n",
       "    </tr>\n",
       "    <tr>\n",
       "      <th>навязнуть</th>\n",
       "      <td>0.000147</td>\n",
       "      <td>0.0</td>\n",
       "      <td>0.00000</td>\n",
       "      <td>0.0</td>\n",
       "      <td>0.0</td>\n",
       "      <td>0.0</td>\n",
       "      <td>0.000000</td>\n",
       "      <td>0.0</td>\n",
       "      <td>0.000000</td>\n",
       "      <td>0.000000</td>\n",
       "    </tr>\n",
       "    <tr>\n",
       "      <th>...</th>\n",
       "      <td>...</td>\n",
       "      <td>...</td>\n",
       "      <td>...</td>\n",
       "      <td>...</td>\n",
       "      <td>...</td>\n",
       "      <td>...</td>\n",
       "      <td>...</td>\n",
       "      <td>...</td>\n",
       "      <td>...</td>\n",
       "      <td>...</td>\n",
       "    </tr>\n",
       "    <tr>\n",
       "      <th>задабривать</th>\n",
       "      <td>0.000073</td>\n",
       "      <td>0.0</td>\n",
       "      <td>0.00000</td>\n",
       "      <td>0.0</td>\n",
       "      <td>0.0</td>\n",
       "      <td>0.0</td>\n",
       "      <td>0.000000</td>\n",
       "      <td>0.0</td>\n",
       "      <td>0.000000</td>\n",
       "      <td>0.000000</td>\n",
       "    </tr>\n",
       "    <tr>\n",
       "      <th>шаманский</th>\n",
       "      <td>0.000073</td>\n",
       "      <td>0.0</td>\n",
       "      <td>0.00000</td>\n",
       "      <td>0.0</td>\n",
       "      <td>0.0</td>\n",
       "      <td>0.0</td>\n",
       "      <td>0.000000</td>\n",
       "      <td>0.0</td>\n",
       "      <td>0.000000</td>\n",
       "      <td>0.000000</td>\n",
       "    </tr>\n",
       "    <tr>\n",
       "      <th>усопший</th>\n",
       "      <td>0.000073</td>\n",
       "      <td>0.0</td>\n",
       "      <td>0.00000</td>\n",
       "      <td>0.0</td>\n",
       "      <td>0.0</td>\n",
       "      <td>0.0</td>\n",
       "      <td>0.000000</td>\n",
       "      <td>0.0</td>\n",
       "      <td>0.000000</td>\n",
       "      <td>0.000000</td>\n",
       "    </tr>\n",
       "    <tr>\n",
       "      <th>рисование</th>\n",
       "      <td>0.000073</td>\n",
       "      <td>0.0</td>\n",
       "      <td>0.00000</td>\n",
       "      <td>0.0</td>\n",
       "      <td>0.0</td>\n",
       "      <td>0.0</td>\n",
       "      <td>0.000000</td>\n",
       "      <td>0.0</td>\n",
       "      <td>0.000000</td>\n",
       "      <td>0.000000</td>\n",
       "    </tr>\n",
       "    <tr>\n",
       "      <th>бивень</th>\n",
       "      <td>0.000073</td>\n",
       "      <td>0.0</td>\n",
       "      <td>0.00000</td>\n",
       "      <td>0.0</td>\n",
       "      <td>0.0</td>\n",
       "      <td>0.0</td>\n",
       "      <td>0.000000</td>\n",
       "      <td>0.0</td>\n",
       "      <td>0.000000</td>\n",
       "      <td>0.000000</td>\n",
       "    </tr>\n",
       "  </tbody>\n",
       "</table>\n",
       "<p>16099 rows × 10 columns</p>\n",
       "</div>"
      ],
      "text/plain": [
       "                 sbj0  sbj1     sbj2  sbj3  sbj4  sbj5      sbj6  sbj7  \\\n",
       "домохозяйка  0.000000   0.0  0.00000   0.0   0.0   0.0  0.000000   0.0   \n",
       "институт     0.000000   0.0  0.00000   0.0   0.0   0.0  0.000000   0.0   \n",
       "машинка      0.000000   0.0  0.00007   0.0   0.0   0.0  0.000000   0.0   \n",
       "прочий       0.000000   0.0  0.00000   0.0   0.0   0.0  0.000504   0.0   \n",
       "навязнуть    0.000147   0.0  0.00000   0.0   0.0   0.0  0.000000   0.0   \n",
       "...               ...   ...      ...   ...   ...   ...       ...   ...   \n",
       "задабривать  0.000073   0.0  0.00000   0.0   0.0   0.0  0.000000   0.0   \n",
       "шаманский    0.000073   0.0  0.00000   0.0   0.0   0.0  0.000000   0.0   \n",
       "усопший      0.000073   0.0  0.00000   0.0   0.0   0.0  0.000000   0.0   \n",
       "рисование    0.000073   0.0  0.00000   0.0   0.0   0.0  0.000000   0.0   \n",
       "бивень       0.000073   0.0  0.00000   0.0   0.0   0.0  0.000000   0.0   \n",
       "\n",
       "                 sbj8      sbj9  \n",
       "домохозяйка  0.000000  0.000072  \n",
       "институт     0.002413  0.000000  \n",
       "машинка      0.000000  0.000000  \n",
       "прочий       0.000000  0.000000  \n",
       "навязнуть    0.000000  0.000000  \n",
       "...               ...       ...  \n",
       "задабривать  0.000000  0.000000  \n",
       "шаманский    0.000000  0.000000  \n",
       "усопший      0.000000  0.000000  \n",
       "рисование    0.000000  0.000000  \n",
       "бивень       0.000000  0.000000  \n",
       "\n",
       "[16099 rows x 10 columns]"
      ]
     },
     "execution_count": 188,
     "metadata": {},
     "output_type": "execute_result"
    }
   ],
   "source": [
    "phi"
   ]
  },
  {
   "cell_type": "markdown",
   "metadata": {},
   "source": [
    "Матрица вероятностей тем в документах."
   ]
  },
  {
   "cell_type": "code",
   "execution_count": 184,
   "metadata": {
    "collapsed": false,
    "jupyter": {
     "outputs_hidden": false
    }
   },
   "outputs": [
    {
     "data": {
      "text/html": [
       "<div>\n",
       "<style scoped>\n",
       "    .dataframe tbody tr th:only-of-type {\n",
       "        vertical-align: middle;\n",
       "    }\n",
       "\n",
       "    .dataframe tbody tr th {\n",
       "        vertical-align: top;\n",
       "    }\n",
       "\n",
       "    .dataframe thead th {\n",
       "        text-align: right;\n",
       "    }\n",
       "</style>\n",
       "<table border=\"1\" class=\"dataframe\">\n",
       "  <thead>\n",
       "    <tr style=\"text-align: right;\">\n",
       "      <th></th>\n",
       "      <th>300</th>\n",
       "      <th>301</th>\n",
       "      <th>302</th>\n",
       "      <th>303</th>\n",
       "      <th>304</th>\n",
       "      <th>305</th>\n",
       "      <th>306</th>\n",
       "      <th>307</th>\n",
       "      <th>308</th>\n",
       "      <th>309</th>\n",
       "      <th>...</th>\n",
       "      <th>290</th>\n",
       "      <th>291</th>\n",
       "      <th>292</th>\n",
       "      <th>293</th>\n",
       "      <th>294</th>\n",
       "      <th>295</th>\n",
       "      <th>296</th>\n",
       "      <th>297</th>\n",
       "      <th>298</th>\n",
       "      <th>299</th>\n",
       "    </tr>\n",
       "  </thead>\n",
       "  <tbody>\n",
       "    <tr>\n",
       "      <th>sbj0</th>\n",
       "      <td>0.053435</td>\n",
       "      <td>0.501618</td>\n",
       "      <td>0.037152</td>\n",
       "      <td>0.053333</td>\n",
       "      <td>0.060837</td>\n",
       "      <td>0.011905</td>\n",
       "      <td>0.148368</td>\n",
       "      <td>0.037383</td>\n",
       "      <td>0.101695</td>\n",
       "      <td>0.025455</td>\n",
       "      <td>...</td>\n",
       "      <td>0.159091</td>\n",
       "      <td>0.043796</td>\n",
       "      <td>0.046053</td>\n",
       "      <td>0.131980</td>\n",
       "      <td>0.310843</td>\n",
       "      <td>0.012658</td>\n",
       "      <td>0.019199</td>\n",
       "      <td>0.330986</td>\n",
       "      <td>0.025735</td>\n",
       "      <td>0.068182</td>\n",
       "    </tr>\n",
       "    <tr>\n",
       "      <th>sbj1</th>\n",
       "      <td>0.026718</td>\n",
       "      <td>0.090615</td>\n",
       "      <td>0.015480</td>\n",
       "      <td>0.026667</td>\n",
       "      <td>0.022814</td>\n",
       "      <td>0.015873</td>\n",
       "      <td>0.035608</td>\n",
       "      <td>0.023364</td>\n",
       "      <td>0.044068</td>\n",
       "      <td>0.050909</td>\n",
       "      <td>...</td>\n",
       "      <td>0.282468</td>\n",
       "      <td>0.029197</td>\n",
       "      <td>0.039474</td>\n",
       "      <td>0.005076</td>\n",
       "      <td>0.127711</td>\n",
       "      <td>0.016878</td>\n",
       "      <td>0.008772</td>\n",
       "      <td>0.010563</td>\n",
       "      <td>0.014706</td>\n",
       "      <td>0.015152</td>\n",
       "    </tr>\n",
       "    <tr>\n",
       "      <th>sbj2</th>\n",
       "      <td>0.034351</td>\n",
       "      <td>0.042071</td>\n",
       "      <td>0.027864</td>\n",
       "      <td>0.015138</td>\n",
       "      <td>0.038023</td>\n",
       "      <td>0.051587</td>\n",
       "      <td>0.094955</td>\n",
       "      <td>0.028037</td>\n",
       "      <td>0.064407</td>\n",
       "      <td>0.509091</td>\n",
       "      <td>...</td>\n",
       "      <td>0.194805</td>\n",
       "      <td>0.025547</td>\n",
       "      <td>0.062500</td>\n",
       "      <td>0.035533</td>\n",
       "      <td>0.231325</td>\n",
       "      <td>0.025316</td>\n",
       "      <td>0.061404</td>\n",
       "      <td>0.042254</td>\n",
       "      <td>0.393382</td>\n",
       "      <td>0.053030</td>\n",
       "    </tr>\n",
       "    <tr>\n",
       "      <th>sbj3</th>\n",
       "      <td>0.068702</td>\n",
       "      <td>0.019417</td>\n",
       "      <td>0.114551</td>\n",
       "      <td>0.044444</td>\n",
       "      <td>0.041825</td>\n",
       "      <td>0.119048</td>\n",
       "      <td>0.017804</td>\n",
       "      <td>0.051402</td>\n",
       "      <td>0.037288</td>\n",
       "      <td>0.076364</td>\n",
       "      <td>...</td>\n",
       "      <td>0.019481</td>\n",
       "      <td>0.029197</td>\n",
       "      <td>0.019737</td>\n",
       "      <td>0.020305</td>\n",
       "      <td>0.026506</td>\n",
       "      <td>0.827004</td>\n",
       "      <td>0.039474</td>\n",
       "      <td>0.042254</td>\n",
       "      <td>0.062500</td>\n",
       "      <td>0.102273</td>\n",
       "    </tr>\n",
       "    <tr>\n",
       "      <th>sbj4</th>\n",
       "      <td>0.114504</td>\n",
       "      <td>0.139159</td>\n",
       "      <td>0.586899</td>\n",
       "      <td>0.062222</td>\n",
       "      <td>0.140684</td>\n",
       "      <td>0.039683</td>\n",
       "      <td>0.062315</td>\n",
       "      <td>0.056075</td>\n",
       "      <td>0.091525</td>\n",
       "      <td>0.047273</td>\n",
       "      <td>...</td>\n",
       "      <td>0.045455</td>\n",
       "      <td>0.058394</td>\n",
       "      <td>0.055921</td>\n",
       "      <td>0.106599</td>\n",
       "      <td>0.045783</td>\n",
       "      <td>0.025316</td>\n",
       "      <td>0.052632</td>\n",
       "      <td>0.056338</td>\n",
       "      <td>0.088235</td>\n",
       "      <td>0.053030</td>\n",
       "    </tr>\n",
       "    <tr>\n",
       "      <th>sbj5</th>\n",
       "      <td>0.003817</td>\n",
       "      <td>0.012945</td>\n",
       "      <td>0.029200</td>\n",
       "      <td>0.542222</td>\n",
       "      <td>0.038023</td>\n",
       "      <td>0.075397</td>\n",
       "      <td>0.148368</td>\n",
       "      <td>0.023364</td>\n",
       "      <td>0.023729</td>\n",
       "      <td>0.043636</td>\n",
       "      <td>...</td>\n",
       "      <td>0.068182</td>\n",
       "      <td>0.025547</td>\n",
       "      <td>0.338816</td>\n",
       "      <td>0.015228</td>\n",
       "      <td>0.012048</td>\n",
       "      <td>0.008439</td>\n",
       "      <td>0.021930</td>\n",
       "      <td>0.021127</td>\n",
       "      <td>0.036765</td>\n",
       "      <td>0.037879</td>\n",
       "    </tr>\n",
       "    <tr>\n",
       "      <th>sbj6</th>\n",
       "      <td>0.026718</td>\n",
       "      <td>0.058252</td>\n",
       "      <td>0.018576</td>\n",
       "      <td>0.044444</td>\n",
       "      <td>0.106464</td>\n",
       "      <td>0.027778</td>\n",
       "      <td>0.080119</td>\n",
       "      <td>0.046729</td>\n",
       "      <td>0.277966</td>\n",
       "      <td>0.025455</td>\n",
       "      <td>...</td>\n",
       "      <td>0.019481</td>\n",
       "      <td>0.010949</td>\n",
       "      <td>0.032895</td>\n",
       "      <td>0.548223</td>\n",
       "      <td>0.069880</td>\n",
       "      <td>0.025316</td>\n",
       "      <td>0.030702</td>\n",
       "      <td>0.228873</td>\n",
       "      <td>0.058824</td>\n",
       "      <td>0.037879</td>\n",
       "    </tr>\n",
       "    <tr>\n",
       "      <th>sbj7</th>\n",
       "      <td>0.041985</td>\n",
       "      <td>0.093851</td>\n",
       "      <td>0.021672</td>\n",
       "      <td>0.035556</td>\n",
       "      <td>0.471483</td>\n",
       "      <td>0.035714</td>\n",
       "      <td>0.207715</td>\n",
       "      <td>0.067041</td>\n",
       "      <td>0.264407</td>\n",
       "      <td>0.069091</td>\n",
       "      <td>...</td>\n",
       "      <td>0.103896</td>\n",
       "      <td>0.043796</td>\n",
       "      <td>0.111842</td>\n",
       "      <td>0.065990</td>\n",
       "      <td>0.060241</td>\n",
       "      <td>0.008439</td>\n",
       "      <td>0.285088</td>\n",
       "      <td>0.154930</td>\n",
       "      <td>0.033088</td>\n",
       "      <td>0.083333</td>\n",
       "    </tr>\n",
       "    <tr>\n",
       "      <th>sbj8</th>\n",
       "      <td>0.580153</td>\n",
       "      <td>0.019417</td>\n",
       "      <td>0.037152</td>\n",
       "      <td>0.162640</td>\n",
       "      <td>0.034221</td>\n",
       "      <td>0.023810</td>\n",
       "      <td>0.068249</td>\n",
       "      <td>0.084112</td>\n",
       "      <td>0.044068</td>\n",
       "      <td>0.036364</td>\n",
       "      <td>...</td>\n",
       "      <td>0.081169</td>\n",
       "      <td>0.689781</td>\n",
       "      <td>0.217105</td>\n",
       "      <td>0.035533</td>\n",
       "      <td>0.067470</td>\n",
       "      <td>0.016878</td>\n",
       "      <td>0.458871</td>\n",
       "      <td>0.066901</td>\n",
       "      <td>0.022059</td>\n",
       "      <td>0.015152</td>\n",
       "    </tr>\n",
       "    <tr>\n",
       "      <th>sbj9</th>\n",
       "      <td>0.049618</td>\n",
       "      <td>0.022654</td>\n",
       "      <td>0.111455</td>\n",
       "      <td>0.013333</td>\n",
       "      <td>0.045627</td>\n",
       "      <td>0.599206</td>\n",
       "      <td>0.136499</td>\n",
       "      <td>0.582492</td>\n",
       "      <td>0.050847</td>\n",
       "      <td>0.116364</td>\n",
       "      <td>...</td>\n",
       "      <td>0.025974</td>\n",
       "      <td>0.043796</td>\n",
       "      <td>0.075658</td>\n",
       "      <td>0.035533</td>\n",
       "      <td>0.048193</td>\n",
       "      <td>0.033755</td>\n",
       "      <td>0.021930</td>\n",
       "      <td>0.045775</td>\n",
       "      <td>0.264706</td>\n",
       "      <td>0.534091</td>\n",
       "    </tr>\n",
       "  </tbody>\n",
       "</table>\n",
       "<p>10 rows × 476 columns</p>\n",
       "</div>"
      ],
      "text/plain": [
       "           300       301       302       303       304       305       306  \\\n",
       "sbj0  0.053435  0.501618  0.037152  0.053333  0.060837  0.011905  0.148368   \n",
       "sbj1  0.026718  0.090615  0.015480  0.026667  0.022814  0.015873  0.035608   \n",
       "sbj2  0.034351  0.042071  0.027864  0.015138  0.038023  0.051587  0.094955   \n",
       "sbj3  0.068702  0.019417  0.114551  0.044444  0.041825  0.119048  0.017804   \n",
       "sbj4  0.114504  0.139159  0.586899  0.062222  0.140684  0.039683  0.062315   \n",
       "sbj5  0.003817  0.012945  0.029200  0.542222  0.038023  0.075397  0.148368   \n",
       "sbj6  0.026718  0.058252  0.018576  0.044444  0.106464  0.027778  0.080119   \n",
       "sbj7  0.041985  0.093851  0.021672  0.035556  0.471483  0.035714  0.207715   \n",
       "sbj8  0.580153  0.019417  0.037152  0.162640  0.034221  0.023810  0.068249   \n",
       "sbj9  0.049618  0.022654  0.111455  0.013333  0.045627  0.599206  0.136499   \n",
       "\n",
       "           307       308       309  ...       290       291       292  \\\n",
       "sbj0  0.037383  0.101695  0.025455  ...  0.159091  0.043796  0.046053   \n",
       "sbj1  0.023364  0.044068  0.050909  ...  0.282468  0.029197  0.039474   \n",
       "sbj2  0.028037  0.064407  0.509091  ...  0.194805  0.025547  0.062500   \n",
       "sbj3  0.051402  0.037288  0.076364  ...  0.019481  0.029197  0.019737   \n",
       "sbj4  0.056075  0.091525  0.047273  ...  0.045455  0.058394  0.055921   \n",
       "sbj5  0.023364  0.023729  0.043636  ...  0.068182  0.025547  0.338816   \n",
       "sbj6  0.046729  0.277966  0.025455  ...  0.019481  0.010949  0.032895   \n",
       "sbj7  0.067041  0.264407  0.069091  ...  0.103896  0.043796  0.111842   \n",
       "sbj8  0.084112  0.044068  0.036364  ...  0.081169  0.689781  0.217105   \n",
       "sbj9  0.582492  0.050847  0.116364  ...  0.025974  0.043796  0.075658   \n",
       "\n",
       "           293       294       295       296       297       298       299  \n",
       "sbj0  0.131980  0.310843  0.012658  0.019199  0.330986  0.025735  0.068182  \n",
       "sbj1  0.005076  0.127711  0.016878  0.008772  0.010563  0.014706  0.015152  \n",
       "sbj2  0.035533  0.231325  0.025316  0.061404  0.042254  0.393382  0.053030  \n",
       "sbj3  0.020305  0.026506  0.827004  0.039474  0.042254  0.062500  0.102273  \n",
       "sbj4  0.106599  0.045783  0.025316  0.052632  0.056338  0.088235  0.053030  \n",
       "sbj5  0.015228  0.012048  0.008439  0.021930  0.021127  0.036765  0.037879  \n",
       "sbj6  0.548223  0.069880  0.025316  0.030702  0.228873  0.058824  0.037879  \n",
       "sbj7  0.065990  0.060241  0.008439  0.285088  0.154930  0.033088  0.083333  \n",
       "sbj8  0.035533  0.067470  0.016878  0.458871  0.066901  0.022059  0.015152  \n",
       "sbj9  0.035533  0.048193  0.033755  0.021930  0.045775  0.264706  0.534091  \n",
       "\n",
       "[10 rows x 476 columns]"
      ]
     },
     "execution_count": 184,
     "metadata": {},
     "output_type": "execute_result"
    }
   ],
   "source": [
    "theta = model_artm.get_theta()\n",
    "theta"
   ]
  },
  {
   "cell_type": "markdown",
   "metadata": {},
   "source": [
    "Если бы у нас были новые батчи, по которым мы не строим модель, а хотим только получить матрицу theta, можно пользоваться методом transform."
   ]
  },
  {
   "cell_type": "code",
   "execution_count": 185,
   "metadata": {
    "tags": []
   },
   "outputs": [],
   "source": [
    "theta_test = model_artm.transform(batch_vectorizer)"
   ]
  },
  {
   "cell_type": "code",
   "execution_count": 186,
   "metadata": {},
   "outputs": [
    {
     "data": {
      "text/html": [
       "<div>\n",
       "<style scoped>\n",
       "    .dataframe tbody tr th:only-of-type {\n",
       "        vertical-align: middle;\n",
       "    }\n",
       "\n",
       "    .dataframe tbody tr th {\n",
       "        vertical-align: top;\n",
       "    }\n",
       "\n",
       "    .dataframe thead th {\n",
       "        text-align: right;\n",
       "    }\n",
       "</style>\n",
       "<table border=\"1\" class=\"dataframe\">\n",
       "  <thead>\n",
       "    <tr style=\"text-align: right;\">\n",
       "      <th></th>\n",
       "      <th>300</th>\n",
       "      <th>301</th>\n",
       "      <th>302</th>\n",
       "      <th>303</th>\n",
       "      <th>304</th>\n",
       "      <th>305</th>\n",
       "      <th>306</th>\n",
       "      <th>307</th>\n",
       "      <th>308</th>\n",
       "      <th>309</th>\n",
       "      <th>...</th>\n",
       "      <th>290</th>\n",
       "      <th>291</th>\n",
       "      <th>292</th>\n",
       "      <th>293</th>\n",
       "      <th>294</th>\n",
       "      <th>295</th>\n",
       "      <th>296</th>\n",
       "      <th>297</th>\n",
       "      <th>298</th>\n",
       "      <th>299</th>\n",
       "    </tr>\n",
       "  </thead>\n",
       "  <tbody>\n",
       "    <tr>\n",
       "      <th>sbj0</th>\n",
       "      <td>0.053435</td>\n",
       "      <td>0.501618</td>\n",
       "      <td>0.037152</td>\n",
       "      <td>0.053333</td>\n",
       "      <td>0.060837</td>\n",
       "      <td>0.011905</td>\n",
       "      <td>0.148368</td>\n",
       "      <td>0.037383</td>\n",
       "      <td>0.101695</td>\n",
       "      <td>0.025455</td>\n",
       "      <td>...</td>\n",
       "      <td>0.159091</td>\n",
       "      <td>0.043796</td>\n",
       "      <td>0.046053</td>\n",
       "      <td>0.131980</td>\n",
       "      <td>0.310843</td>\n",
       "      <td>0.012658</td>\n",
       "      <td>0.019199</td>\n",
       "      <td>0.330986</td>\n",
       "      <td>0.025735</td>\n",
       "      <td>0.068182</td>\n",
       "    </tr>\n",
       "    <tr>\n",
       "      <th>sbj1</th>\n",
       "      <td>0.026718</td>\n",
       "      <td>0.090615</td>\n",
       "      <td>0.015480</td>\n",
       "      <td>0.026667</td>\n",
       "      <td>0.022814</td>\n",
       "      <td>0.015873</td>\n",
       "      <td>0.035608</td>\n",
       "      <td>0.023364</td>\n",
       "      <td>0.044068</td>\n",
       "      <td>0.050909</td>\n",
       "      <td>...</td>\n",
       "      <td>0.282468</td>\n",
       "      <td>0.029197</td>\n",
       "      <td>0.039474</td>\n",
       "      <td>0.005076</td>\n",
       "      <td>0.127711</td>\n",
       "      <td>0.016878</td>\n",
       "      <td>0.008772</td>\n",
       "      <td>0.010563</td>\n",
       "      <td>0.014706</td>\n",
       "      <td>0.015152</td>\n",
       "    </tr>\n",
       "    <tr>\n",
       "      <th>sbj2</th>\n",
       "      <td>0.034351</td>\n",
       "      <td>0.042071</td>\n",
       "      <td>0.027864</td>\n",
       "      <td>0.015135</td>\n",
       "      <td>0.038023</td>\n",
       "      <td>0.051587</td>\n",
       "      <td>0.094955</td>\n",
       "      <td>0.028037</td>\n",
       "      <td>0.064407</td>\n",
       "      <td>0.509091</td>\n",
       "      <td>...</td>\n",
       "      <td>0.194805</td>\n",
       "      <td>0.025547</td>\n",
       "      <td>0.062500</td>\n",
       "      <td>0.035533</td>\n",
       "      <td>0.231325</td>\n",
       "      <td>0.025316</td>\n",
       "      <td>0.061404</td>\n",
       "      <td>0.042254</td>\n",
       "      <td>0.393382</td>\n",
       "      <td>0.053030</td>\n",
       "    </tr>\n",
       "    <tr>\n",
       "      <th>sbj3</th>\n",
       "      <td>0.068702</td>\n",
       "      <td>0.019417</td>\n",
       "      <td>0.114551</td>\n",
       "      <td>0.044444</td>\n",
       "      <td>0.041825</td>\n",
       "      <td>0.119048</td>\n",
       "      <td>0.017804</td>\n",
       "      <td>0.051402</td>\n",
       "      <td>0.037288</td>\n",
       "      <td>0.076364</td>\n",
       "      <td>...</td>\n",
       "      <td>0.019481</td>\n",
       "      <td>0.029197</td>\n",
       "      <td>0.019737</td>\n",
       "      <td>0.020305</td>\n",
       "      <td>0.026506</td>\n",
       "      <td>0.827004</td>\n",
       "      <td>0.039474</td>\n",
       "      <td>0.042254</td>\n",
       "      <td>0.062500</td>\n",
       "      <td>0.102273</td>\n",
       "    </tr>\n",
       "    <tr>\n",
       "      <th>sbj4</th>\n",
       "      <td>0.114504</td>\n",
       "      <td>0.139159</td>\n",
       "      <td>0.586899</td>\n",
       "      <td>0.062222</td>\n",
       "      <td>0.140684</td>\n",
       "      <td>0.039683</td>\n",
       "      <td>0.062315</td>\n",
       "      <td>0.056075</td>\n",
       "      <td>0.091525</td>\n",
       "      <td>0.047273</td>\n",
       "      <td>...</td>\n",
       "      <td>0.045455</td>\n",
       "      <td>0.058394</td>\n",
       "      <td>0.055921</td>\n",
       "      <td>0.106599</td>\n",
       "      <td>0.045783</td>\n",
       "      <td>0.025316</td>\n",
       "      <td>0.052632</td>\n",
       "      <td>0.056338</td>\n",
       "      <td>0.088235</td>\n",
       "      <td>0.053030</td>\n",
       "    </tr>\n",
       "    <tr>\n",
       "      <th>sbj5</th>\n",
       "      <td>0.003817</td>\n",
       "      <td>0.012945</td>\n",
       "      <td>0.029200</td>\n",
       "      <td>0.542222</td>\n",
       "      <td>0.038023</td>\n",
       "      <td>0.075397</td>\n",
       "      <td>0.148368</td>\n",
       "      <td>0.023364</td>\n",
       "      <td>0.023729</td>\n",
       "      <td>0.043636</td>\n",
       "      <td>...</td>\n",
       "      <td>0.068182</td>\n",
       "      <td>0.025547</td>\n",
       "      <td>0.338816</td>\n",
       "      <td>0.015228</td>\n",
       "      <td>0.012048</td>\n",
       "      <td>0.008439</td>\n",
       "      <td>0.021930</td>\n",
       "      <td>0.021127</td>\n",
       "      <td>0.036765</td>\n",
       "      <td>0.037879</td>\n",
       "    </tr>\n",
       "    <tr>\n",
       "      <th>sbj6</th>\n",
       "      <td>0.026718</td>\n",
       "      <td>0.058252</td>\n",
       "      <td>0.018576</td>\n",
       "      <td>0.044444</td>\n",
       "      <td>0.106464</td>\n",
       "      <td>0.027778</td>\n",
       "      <td>0.080119</td>\n",
       "      <td>0.046729</td>\n",
       "      <td>0.277966</td>\n",
       "      <td>0.025455</td>\n",
       "      <td>...</td>\n",
       "      <td>0.019481</td>\n",
       "      <td>0.010949</td>\n",
       "      <td>0.032895</td>\n",
       "      <td>0.548223</td>\n",
       "      <td>0.069880</td>\n",
       "      <td>0.025316</td>\n",
       "      <td>0.030702</td>\n",
       "      <td>0.228873</td>\n",
       "      <td>0.058824</td>\n",
       "      <td>0.037879</td>\n",
       "    </tr>\n",
       "    <tr>\n",
       "      <th>sbj7</th>\n",
       "      <td>0.041985</td>\n",
       "      <td>0.093851</td>\n",
       "      <td>0.021672</td>\n",
       "      <td>0.035556</td>\n",
       "      <td>0.471483</td>\n",
       "      <td>0.035714</td>\n",
       "      <td>0.207715</td>\n",
       "      <td>0.067044</td>\n",
       "      <td>0.264407</td>\n",
       "      <td>0.069091</td>\n",
       "      <td>...</td>\n",
       "      <td>0.103896</td>\n",
       "      <td>0.043796</td>\n",
       "      <td>0.111842</td>\n",
       "      <td>0.065990</td>\n",
       "      <td>0.060241</td>\n",
       "      <td>0.008439</td>\n",
       "      <td>0.285088</td>\n",
       "      <td>0.154930</td>\n",
       "      <td>0.033088</td>\n",
       "      <td>0.083333</td>\n",
       "    </tr>\n",
       "    <tr>\n",
       "      <th>sbj8</th>\n",
       "      <td>0.580153</td>\n",
       "      <td>0.019417</td>\n",
       "      <td>0.037152</td>\n",
       "      <td>0.162643</td>\n",
       "      <td>0.034221</td>\n",
       "      <td>0.023810</td>\n",
       "      <td>0.068249</td>\n",
       "      <td>0.084112</td>\n",
       "      <td>0.044068</td>\n",
       "      <td>0.036364</td>\n",
       "      <td>...</td>\n",
       "      <td>0.081169</td>\n",
       "      <td>0.689781</td>\n",
       "      <td>0.217105</td>\n",
       "      <td>0.035533</td>\n",
       "      <td>0.067470</td>\n",
       "      <td>0.016878</td>\n",
       "      <td>0.458871</td>\n",
       "      <td>0.066901</td>\n",
       "      <td>0.022059</td>\n",
       "      <td>0.015152</td>\n",
       "    </tr>\n",
       "    <tr>\n",
       "      <th>sbj9</th>\n",
       "      <td>0.049618</td>\n",
       "      <td>0.022654</td>\n",
       "      <td>0.111455</td>\n",
       "      <td>0.013333</td>\n",
       "      <td>0.045627</td>\n",
       "      <td>0.599206</td>\n",
       "      <td>0.136499</td>\n",
       "      <td>0.582489</td>\n",
       "      <td>0.050847</td>\n",
       "      <td>0.116364</td>\n",
       "      <td>...</td>\n",
       "      <td>0.025974</td>\n",
       "      <td>0.043796</td>\n",
       "      <td>0.075658</td>\n",
       "      <td>0.035533</td>\n",
       "      <td>0.048193</td>\n",
       "      <td>0.033755</td>\n",
       "      <td>0.021930</td>\n",
       "      <td>0.045775</td>\n",
       "      <td>0.264706</td>\n",
       "      <td>0.534091</td>\n",
       "    </tr>\n",
       "  </tbody>\n",
       "</table>\n",
       "<p>10 rows × 476 columns</p>\n",
       "</div>"
      ],
      "text/plain": [
       "           300       301       302       303       304       305       306  \\\n",
       "sbj0  0.053435  0.501618  0.037152  0.053333  0.060837  0.011905  0.148368   \n",
       "sbj1  0.026718  0.090615  0.015480  0.026667  0.022814  0.015873  0.035608   \n",
       "sbj2  0.034351  0.042071  0.027864  0.015135  0.038023  0.051587  0.094955   \n",
       "sbj3  0.068702  0.019417  0.114551  0.044444  0.041825  0.119048  0.017804   \n",
       "sbj4  0.114504  0.139159  0.586899  0.062222  0.140684  0.039683  0.062315   \n",
       "sbj5  0.003817  0.012945  0.029200  0.542222  0.038023  0.075397  0.148368   \n",
       "sbj6  0.026718  0.058252  0.018576  0.044444  0.106464  0.027778  0.080119   \n",
       "sbj7  0.041985  0.093851  0.021672  0.035556  0.471483  0.035714  0.207715   \n",
       "sbj8  0.580153  0.019417  0.037152  0.162643  0.034221  0.023810  0.068249   \n",
       "sbj9  0.049618  0.022654  0.111455  0.013333  0.045627  0.599206  0.136499   \n",
       "\n",
       "           307       308       309  ...       290       291       292  \\\n",
       "sbj0  0.037383  0.101695  0.025455  ...  0.159091  0.043796  0.046053   \n",
       "sbj1  0.023364  0.044068  0.050909  ...  0.282468  0.029197  0.039474   \n",
       "sbj2  0.028037  0.064407  0.509091  ...  0.194805  0.025547  0.062500   \n",
       "sbj3  0.051402  0.037288  0.076364  ...  0.019481  0.029197  0.019737   \n",
       "sbj4  0.056075  0.091525  0.047273  ...  0.045455  0.058394  0.055921   \n",
       "sbj5  0.023364  0.023729  0.043636  ...  0.068182  0.025547  0.338816   \n",
       "sbj6  0.046729  0.277966  0.025455  ...  0.019481  0.010949  0.032895   \n",
       "sbj7  0.067044  0.264407  0.069091  ...  0.103896  0.043796  0.111842   \n",
       "sbj8  0.084112  0.044068  0.036364  ...  0.081169  0.689781  0.217105   \n",
       "sbj9  0.582489  0.050847  0.116364  ...  0.025974  0.043796  0.075658   \n",
       "\n",
       "           293       294       295       296       297       298       299  \n",
       "sbj0  0.131980  0.310843  0.012658  0.019199  0.330986  0.025735  0.068182  \n",
       "sbj1  0.005076  0.127711  0.016878  0.008772  0.010563  0.014706  0.015152  \n",
       "sbj2  0.035533  0.231325  0.025316  0.061404  0.042254  0.393382  0.053030  \n",
       "sbj3  0.020305  0.026506  0.827004  0.039474  0.042254  0.062500  0.102273  \n",
       "sbj4  0.106599  0.045783  0.025316  0.052632  0.056338  0.088235  0.053030  \n",
       "sbj5  0.015228  0.012048  0.008439  0.021930  0.021127  0.036765  0.037879  \n",
       "sbj6  0.548223  0.069880  0.025316  0.030702  0.228873  0.058824  0.037879  \n",
       "sbj7  0.065990  0.060241  0.008439  0.285088  0.154930  0.033088  0.083333  \n",
       "sbj8  0.035533  0.067470  0.016878  0.458871  0.066901  0.022059  0.015152  \n",
       "sbj9  0.035533  0.048193  0.033755  0.021930  0.045775  0.264706  0.534091  \n",
       "\n",
       "[10 rows x 476 columns]"
      ]
     },
     "execution_count": 186,
     "metadata": {},
     "output_type": "execute_result"
    }
   ],
   "source": [
    "theta_test"
   ]
  },
  {
   "cell_type": "code",
   "execution_count": null,
   "metadata": {},
   "outputs": [],
   "source": []
  }
 ],
 "metadata": {
  "kernelspec": {
   "display_name": "Python 3 (ipykernel)",
   "language": "python",
   "name": "python3"
  },
  "language_info": {
   "codemirror_mode": {
    "name": "ipython",
    "version": 3
   },
   "file_extension": ".py",
   "mimetype": "text/x-python",
   "name": "python",
   "nbconvert_exporter": "python",
   "pygments_lexer": "ipython3",
   "version": "3.8.5"
  }
 },
 "nbformat": 4,
 "nbformat_minor": 4
}
