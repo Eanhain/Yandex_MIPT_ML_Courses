{
 "cells": [
  {
   "cell_type": "code",
   "execution_count": 1,
   "id": "bb2b67dc-9bc9-4375-9b74-63d8cfa8c5f3",
   "metadata": {},
   "outputs": [],
   "source": [
    "import pandas as pd\n",
    "import numpy as np\n",
    "import matplotlib.pyplot as plt\n",
    "import seaborn as sns"
   ]
  },
  {
   "cell_type": "code",
   "execution_count": 2,
   "id": "98643674-c15e-48b9-83b6-512ee7b69213",
   "metadata": {},
   "outputs": [
    {
     "name": "stdout",
     "output_type": "stream",
     "text": [
      "Looking in indexes: https://pypi.org/simple, https://pypi.ngc.nvidia.com\n",
      "Collecting https://github.com/pybrain/pybrain/archive/0.3.3.zip\n",
      "  Downloading https://github.com/pybrain/pybrain/archive/0.3.3.zip\n",
      "Requirement already satisfied: scipy in a:\\anaconda3\\lib\\site-packages (from PyBrain==0.3.1) (1.7.1)\n",
      "Requirement already satisfied: numpy<1.23.0,>=1.16.5 in a:\\anaconda3\\lib\\site-packages (from scipy->PyBrain==0.3.1) (1.19.5)\n",
      "Building wheels for collected packages: PyBrain\n",
      "  Building wheel for PyBrain (setup.py): started\n",
      "  Building wheel for PyBrain (setup.py): finished with status 'done'\n",
      "  Created wheel for PyBrain: filename=PyBrain-0.3.1-py3-none-any.whl size=468232 sha256=b50e438ea3ca39ecb9c0b90d8bdcb6993b27602a60ea9fe447a316707c9b0688\n",
      "  Stored in directory: C:\\Users\\Despacito\\AppData\\Local\\Temp\\pip-ephem-wheel-cache-jju444dc\\wheels\\ea\\68\\6d\\74c3ea34a0e8263c72bff928915f86b72ec7634f6f2ffb491f\n",
      "Successfully built PyBrain\n",
      "Installing collected packages: PyBrain\n",
      "Successfully installed PyBrain-0.3.1\n"
     ]
    }
   ],
   "source": [
    "!pip install https://github.com/pybrain/pybrain/archive/0.3.3.zip"
   ]
  },
  {
   "cell_type": "code",
   "execution_count": null,
   "id": "5f4d6587-c1b8-467c-8724-2d2396fea519",
   "metadata": {},
   "outputs": [],
   "source": []
  }
 ],
 "metadata": {
  "kernelspec": {
   "display_name": "Python 3",
   "language": "python",
   "name": "python3"
  },
  "language_info": {
   "codemirror_mode": {
    "name": "ipython",
    "version": 3
   },
   "file_extension": ".py",
   "mimetype": "text/x-python",
   "name": "python",
   "nbconvert_exporter": "python",
   "pygments_lexer": "ipython3",
   "version": "3.8.5"
  }
 },
 "nbformat": 4,
 "nbformat_minor": 5
}
