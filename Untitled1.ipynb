{
 "cells": [
  {
   "cell_type": "code",
   "execution_count": 4,
   "id": "cf25c8ce-f9f0-4f48-9cba-9f2de7172938",
   "metadata": {
    "collapsed": true,
    "jupyter": {
     "outputs_hidden": true
    },
    "tags": []
   },
   "outputs": [
    {
     "name": "stderr",
     "output_type": "stream",
     "text": [
      "C:\\BigARTM_v0.9.0_win64\\python\\artm\\master_component.py:639: DeprecationWarning: invalid escape sequence \\*\n",
      "  \"\"\"\n",
      "C:\\BigARTM_v0.9.0_win64\\python\\artm\\master_component.py:745: DeprecationWarning: invalid escape sequence \\d\n",
      "  \"\"\"\n"
     ]
    }
   ],
   "source": [
    "import artm"
   ]
  },
  {
   "cell_type": "code",
   "execution_count": null,
   "id": "4d375c55-4f39-4f7a-bd2e-b4e91ab2701c",
   "metadata": {},
   "outputs": [],
   "source": []
  }
 ],
 "metadata": {
  "kernelspec": {
   "display_name": "Python 3",
   "language": "python",
   "name": "python3"
  },
  "language_info": {
   "codemirror_mode": {
    "name": "ipython",
    "version": 3
   },
   "file_extension": ".py",
   "mimetype": "text/x-python",
   "name": "python",
   "nbconvert_exporter": "python",
   "pygments_lexer": "ipython3",
   "version": "3.8.5"
  }
 },
 "nbformat": 4,
 "nbformat_minor": 5
}
