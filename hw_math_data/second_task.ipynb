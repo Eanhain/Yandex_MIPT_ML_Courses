{
 "cells": [
  {
   "cell_type": "code",
   "execution_count": 107,
   "id": "bda9e123-ca7d-4bbe-9813-8f01b31ea507",
   "metadata": {},
   "outputs": [],
   "source": [
    "import numpy as np\n",
    "import matplotlib.pyplot as plt\n",
    "import scipy as sp\n",
    "import math"
   ]
  },
  {
   "cell_type": "code",
   "execution_count": 115,
   "id": "7966ebe4-161d-4694-8645-8ccaab73ac82",
   "metadata": {},
   "outputs": [],
   "source": [
    "f_x = lambda x: np.sin(x / 5) * np.exp(x / 10) + 5 * np.exp(-x / 2)"
   ]
  },
  {
   "cell_type": "code",
   "execution_count": 110,
   "id": "3f38ef34-d99c-4a43-9e3d-39f13d33128f",
   "metadata": {},
   "outputs": [],
   "source": [
    "def find_min(x, **params):\n",
    "    return sp.optimize.minimize(f_x, x, **params)"
   ]
  },
  {
   "cell_type": "code",
   "execution_count": 111,
   "id": "f843c465-c855-4373-ac67-5890a8c67e41",
   "metadata": {},
   "outputs": [
    {
     "data": {
      "text/plain": [
       "1.75"
      ]
     },
     "execution_count": 111,
     "metadata": {},
     "output_type": "execute_result"
    }
   ],
   "source": [
    "f_min_1 = find_min(2, method=\"BFGS\").fun\n",
    "f_min_1 = round(f_min_1, 2)\n",
    "f_min_1"
   ]
  },
  {
   "cell_type": "code",
   "execution_count": 172,
   "id": "d6b792e5-1251-45a0-beb5-dc132f8852d5",
   "metadata": {},
   "outputs": [
    {
     "data": {
      "text/plain": [
       "-11.9"
      ]
     },
     "execution_count": 172,
     "metadata": {},
     "output_type": "execute_result"
    }
   ],
   "source": [
    "f_min_1_5 = round(find_min(30, method=\"BFGS\").fun, 2)\n",
    "f_min_1_5"
   ]
  },
  {
   "cell_type": "code",
   "execution_count": 49,
   "id": "8ef08ae9-f77b-4bd2-b843-7763a3599bbc",
   "metadata": {},
   "outputs": [],
   "source": [
    "x_line = np.linspace(150, 200, 1000)"
   ]
  },
  {
   "cell_type": "code",
   "execution_count": 116,
   "id": "a7958d31-f404-491a-a3cb-aee06b6614c9",
   "metadata": {},
   "outputs": [
    {
     "data": {
      "image/png": "[encoded data removed]",
      "text/plain": [
       "<Figure size 432x288 with 1 Axes>"
      ]
     },
     "metadata": {
      "needs_background": "light"
     },
     "output_type": "display_data"
    }
   ],
   "source": [
    "plt.plot(x_line, f_x(x_line));"
   ]
  },
  {
   "cell_type": "code",
   "execution_count": 53,
   "id": "e245eb84-0c32-4537-8280-2475d1ae73fd",
   "metadata": {},
   "outputs": [],
   "source": [
    "from scipy.optimize import differential_evolution"
   ]
  },
  {
   "cell_type": "code",
   "execution_count": 69,
   "id": "38e2989f-8ffa-4f51-844e-cee7d9872dd6",
   "metadata": {},
   "outputs": [
    {
     "data": {
      "text/plain": [
       "-11.9"
      ]
     },
     "execution_count": 69,
     "metadata": {},
     "output_type": "execute_result"
    }
   ],
   "source": [
    "f_min_2 = round(float(differential_evolution(f_x, [(1, 30)]).fun), 2)\n",
    "f_min_2"
   ]
  },
  {
   "cell_type": "code",
   "execution_count": 75,
   "id": "21ae3feb-5e8e-4ab8-b7bf-461ca457f6be",
   "metadata": {},
   "outputs": [
    {
     "data": {
      "text/plain": [
       "     fun: array([-11.89889467])\n",
       "     jac: array([3.73034905e-06])\n",
       " message: 'Optimization terminated successfully.'\n",
       "    nfev: 96\n",
       "     nit: 5\n",
       " success: True\n",
       "       x: array([25.88019899])"
      ]
     },
     "execution_count": 75,
     "metadata": {},
     "output_type": "execute_result"
    }
   ],
   "source": [
    "differential_evolution(f_x, [(1, 30)])"
   ]
  },
  {
   "cell_type": "code",
   "execution_count": 71,
   "id": "3143e2d8-c5b7-40cd-b410-fa7196da6875",
   "metadata": {},
   "outputs": [
    {
     "data": {
      "text/plain": [
       "      fun: 1.7452682903447336\n",
       " hess_inv: array([[5.98752645]])\n",
       "      jac: array([-2.04145908e-06])\n",
       "  message: 'Optimization terminated successfully.'\n",
       "     nfev: 14\n",
       "      nit: 6\n",
       "     njev: 7\n",
       "   status: 0\n",
       "  success: True\n",
       "        x: array([4.13627628])"
      ]
     },
     "execution_count": 71,
     "metadata": {},
     "output_type": "execute_result"
    }
   ],
   "source": [
    "find_min(2, method=\"BFGS\")"
   ]
  },
  {
   "cell_type": "code",
   "execution_count": 144,
   "id": "3ba5243a-39cb-4296-932c-c43f5444597a",
   "metadata": {},
   "outputs": [],
   "source": [
    "h_x = lambda x: int(f_x(x)) if type(x) != np.ndarray else f_x(x).astype(int)"
   ]
  },
  {
   "cell_type": "code",
   "execution_count": 142,
   "id": "7b9e4142-4f0f-41c6-bf95-3ba18470d582",
   "metadata": {},
   "outputs": [],
   "source": [
    "#h_x = lambda x: f_x(x).astype(int)"
   ]
  },
  {
   "cell_type": "code",
   "execution_count": 161,
   "id": "343e538d-4020-469d-a08b-094253c1c91f",
   "metadata": {},
   "outputs": [],
   "source": [
    "x_line = np.linspace(0, 30, 1000)"
   ]
  },
  {
   "cell_type": "code",
   "execution_count": 162,
   "id": "f2e1db7c-0cb3-4a0b-92cc-06897c8085fc",
   "metadata": {},
   "outputs": [
    {
     "data": {
      "image/png": "[encoded data removed]",
      "text/plain": [
       "<Figure size 432x288 with 1 Axes>"
      ]
     },
     "metadata": {
      "needs_background": "light"
     },
     "output_type": "display_data"
    }
   ],
   "source": [
    "plt.plot(x_line, h_x(x_line));"
   ]
  },
  {
   "cell_type": "code",
   "execution_count": 168,
   "id": "1ad56ccb-d225-4051-86b1-d099ce901d7f",
   "metadata": {},
   "outputs": [
    {
     "data": {
      "text/plain": [
       "-5"
      ]
     },
     "execution_count": 168,
     "metadata": {},
     "output_type": "execute_result"
    }
   ],
   "source": []
  },
  {
   "cell_type": "code",
   "execution_count": 169,
   "id": "5dd55b30-9306-461a-a9ec-f295a3fd4a14",
   "metadata": {},
   "outputs": [
    {
     "data": {
      "text/plain": [
       "[-5, -11.0]"
      ]
     },
     "execution_count": 169,
     "metadata": {},
     "output_type": "execute_result"
    }
   ],
   "source": [
    "f_min_3 = [sp.optimize.minimize(h_x, 30, method=\"BFGS\").fun, differential_evolution(h_x, [(1, 30)]).fun]\n",
    "f_min_3"
   ]
  },
  {
   "cell_type": "code",
   "execution_count": 165,
   "id": "7e0fe651-19c7-4508-a787-69be07b6f4bd",
   "metadata": {},
   "outputs": [
    {
     "ename": "TypeError",
     "evalue": "sequence item 0: expected str instance, float found",
     "output_type": "error",
     "traceback": [
      "\u001b[1;31m---------------------------------------------------------------------------\u001b[0m",
      "\u001b[1;31mTypeError\u001b[0m                                 Traceback (most recent call last)",
      "\u001b[1;32m<ipython-input-165-8524b0e99600>\u001b[0m in \u001b[0;36m<module>\u001b[1;34m\u001b[0m\n\u001b[1;32m----> 1\u001b[1;33m \u001b[1;34m\" \"\u001b[0m\u001b[1;33m.\u001b[0m\u001b[0mjoin\u001b[0m\u001b[1;33m(\u001b[0m\u001b[1;33m[\u001b[0m\u001b[0mf_min_1\u001b[0m\u001b[1;33m,\u001b[0m \u001b[0mf_min_2\u001b[0m\u001b[1;33m,\u001b[0m \u001b[0mf_min_3\u001b[0m\u001b[1;33m]\u001b[0m\u001b[1;33m)\u001b[0m\u001b[1;33m\u001b[0m\u001b[1;33m\u001b[0m\u001b[0m\n\u001b[0m",
      "\u001b[1;31mTypeError\u001b[0m: sequence item 0: expected str instance, float found"
     ]
    }
   ],
   "source": [
    "\" \".join([f_min_1, f_min_2, f_min_3])"
   ]
  },
  {
   "cell_type": "code",
   "execution_count": 166,
   "id": "dfef52df-2729-49da-8506-e9efaf2568b2",
   "metadata": {},
   "outputs": [
    {
     "data": {
      "text/plain": [
       "1.75"
      ]
     },
     "execution_count": 166,
     "metadata": {},
     "output_type": "execute_result"
    }
   ],
   "source": [
    "f_min_1"
   ]
  },
  {
   "cell_type": "code",
   "execution_count": null,
   "id": "c5c0ecf5-6523-48ff-8804-5675a29c7a3f",
   "metadata": {},
   "outputs": [],
   "source": []
  }
 ],
 "metadata": {
  "kernelspec": {
   "display_name": "Python 3",
   "language": "python",
   "name": "python3"
  },
  "language_info": {
   "codemirror_mode": {
    "name": "ipython",
    "version": 3
   },
   "file_extension": ".py",
   "mimetype": "text/x-python",
   "name": "python",
   "nbconvert_exporter": "python",
   "pygments_lexer": "ipython3",
   "version": "3.8.5"
  }
 },
 "nbformat": 4,
 "nbformat_minor": 5
}
