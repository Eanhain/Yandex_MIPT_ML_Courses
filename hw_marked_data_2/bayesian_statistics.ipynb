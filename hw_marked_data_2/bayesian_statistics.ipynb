{
 "cells": [
  {
   "cell_type": "code",
   "execution_count": 9,
   "id": "1a2bb944-aeb3-41e9-94e3-932dc19c2dd6",
   "metadata": {},
   "outputs": [],
   "source": [
    "from sklearn.datasets import load_digits, load_breast_cancer\n",
    "from sklearn.model_selection import cross_val_score\n",
    "from sklearn.naive_bayes import BernoulliNB, MultinomialNB, GaussianNB\n",
    "import numpy as np"
   ]
  },
  {
   "cell_type": "markdown",
   "id": "85cb68bc-9d3f-44f1-a8e9-6fb3123a8b4b",
   "metadata": {},
   "source": [
    "Вопрос 1\n",
    "\n",
    "Каким получилось максимальное качество классификации на датасете breast_cancer?\n",
    "\n",
    "Вопрос 2\n",
    "\n",
    "Каким получилось максимальное качество классификации на датасете digits?\n",
    "\n",
    "Вопрос 3\n",
    "\n",
    "Выберите верные утверждения и запишите их номера через пробел (в порядке возрастания номера):\n",
    "\n",
    "1) На вещественных признаках лучше всего сработал наивный байесовский классификатор с распределением Бернулли\n",
    "\n",
    "2) На вещественных признаках лучше всего сработал наивный байесовский классификатор с мультиномиальным распределением\n",
    "\n",
    "3) Мультиномиальное распределение лучше показало себя на выборке с целыми неотрицательными значениями признаков\n",
    "\n",
    "4) На вещественных признаках лучше всего сработало нормальное распределение"
   ]
  },
  {
   "cell_type": "code",
   "execution_count": 16,
   "id": "0616ef76-0467-4702-8831-2828f86f64fb",
   "metadata": {},
   "outputs": [],
   "source": [
    "data_d =  load_digits()\n",
    "X_d = data_d.data\n",
    "y_d = data_d.target"
   ]
  },
  {
   "cell_type": "code",
   "execution_count": 18,
   "id": "3a3265f9-afe8-437f-8682-904357df77af",
   "metadata": {},
   "outputs": [
    {
     "name": "stdout",
     "output_type": "stream",
     "text": [
      "0.8241736304549674\n",
      "0.8703497369235531\n",
      "0.8069281956050759\n"
     ]
    }
   ],
   "source": [
    "for model in BernoulliNB, MultinomialNB, GaussianNB:\n",
    "    print(np.mean(cross_val_score(model(), X_d, y_d)))"
   ]
  },
  {
   "cell_type": "code",
   "execution_count": 21,
   "id": "2e3bf6b0-1698-4452-93db-06d87557e2c4",
   "metadata": {},
   "outputs": [],
   "source": [
    "data_d =  load_breast_cancer()\n",
    "X_d = data_d.data\n",
    "y_d = data_d.target"
   ]
  },
  {
   "cell_type": "code",
   "execution_count": 22,
   "id": "c8efc82d-a8c9-4278-ab5b-3e3ca10609d8",
   "metadata": {},
   "outputs": [
    {
     "name": "stdout",
     "output_type": "stream",
     "text": [
      "0.6274181027790716\n",
      "0.8963204471355379\n",
      "0.9385188635305075\n"
     ]
    }
   ],
   "source": [
    "for model in BernoulliNB, MultinomialNB, GaussianNB:\n",
    "    print(np.mean(cross_val_score(model(), X_d, y_d)))"
   ]
  },
  {
   "cell_type": "code",
   "execution_count": null,
   "id": "818db3eb-17f5-4ab5-bc5b-55816315ea4f",
   "metadata": {},
   "outputs": [],
   "source": []
  }
 ],
 "metadata": {
  "kernelspec": {
   "display_name": "Python 3",
   "language": "python",
   "name": "python3"
  },
  "language_info": {
   "codemirror_mode": {
    "name": "ipython",
    "version": 3
   },
   "file_extension": ".py",
   "mimetype": "text/x-python",
   "name": "python",
   "nbconvert_exporter": "python",
   "pygments_lexer": "ipython3",
   "version": "3.8.5"
  }
 },
 "nbformat": 4,
 "nbformat_minor": 5
}
