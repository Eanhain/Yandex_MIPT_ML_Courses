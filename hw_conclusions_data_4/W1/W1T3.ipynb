{
 "cells": [
  {
   "cell_type": "code",
   "execution_count": 62,
   "id": "529d08ee-0766-45d5-a1fd-a3144c53aada",
   "metadata": {},
   "outputs": [],
   "source": [
    "import numpy as np\n",
    "import pandas as pd\n",
    "\n",
    "import scipy\n",
    "from statsmodels.stats.weightstats import _zconfint_generic\n",
    "from statsmodels.stats.proportion import proportion_confint, samplesize_confint_proportion\n",
    "from math import ceil\n",
    "import matplotlib.pyplot as plt"
   ]
  },
  {
   "cell_type": "code",
   "execution_count": 2,
   "id": "6ef84455-1f63-4f1b-bfd9-951c695c56d0",
   "metadata": {},
   "outputs": [
    {
     "data": {
      "text/plain": [
       "<function RandomState.normal>"
      ]
     },
     "execution_count": 2,
     "metadata": {},
     "output_type": "execute_result"
    }
   ],
   "source": [
    "np.random.normal"
   ]
  },
  {
   "cell_type": "code",
   "execution_count": 5,
   "id": "cfa5317b-bfcc-49a8-93df-5a3b9f72e9e0",
   "metadata": {},
   "outputs": [
    {
     "name": "stdout",
     "output_type": "stream",
     "text": [
      "Object `_zconfint_generic` not found.\n"
     ]
    }
   ],
   "source": [
    "_zconfint_generic?"
   ]
  },
  {
   "cell_type": "code",
   "execution_count": 18,
   "id": "e0a13112-d69b-42bd-b778-94d8a97d02d3",
   "metadata": {},
   "outputs": [
    {
     "data": {
      "text/plain": [
       "[-2.9677, 2.9677]"
      ]
     },
     "execution_count": 18,
     "metadata": {},
     "output_type": "execute_result"
    }
   ],
   "source": [
    "[round(x, 4) for x in _zconfint_generic(0, 1, alpha=.003, alternative=\"two-sided\")]"
   ]
  },
  {
   "cell_type": "code",
   "execution_count": 19,
   "id": "31727180-f18a-475f-b734-200f0cd21ab6",
   "metadata": {},
   "outputs": [],
   "source": [
    "n1 = 11037\n",
    "n2 = 11034\n",
    "prop1 = 104\n",
    "prop2 = 189"
   ]
  },
  {
   "cell_type": "code",
   "execution_count": 76,
   "id": "da584c62-27c8-48d0-926c-c3a296e14889",
   "metadata": {},
   "outputs": [
    {
     "data": {
      "text/plain": [
       "0.0077"
      ]
     },
     "execution_count": 76,
     "metadata": {},
     "output_type": "execute_result"
    }
   ],
   "source": [
    "round((prop2 / n2 - prop1 / n1), 4)"
   ]
  },
  {
   "cell_type": "code",
   "execution_count": 75,
   "id": "b68f814f-a64e-4da4-9359-0f8b53f45a19",
   "metadata": {},
   "outputs": [
    {
     "data": {
      "text/plain": [
       "[0.0078, 0.0114]"
      ]
     },
     "execution_count": 75,
     "metadata": {},
     "output_type": "execute_result"
    }
   ],
   "source": [
    "[round(x, 4) for x in proportion_confint(104, 11037, method = 'wilson')]"
   ]
  },
  {
   "cell_type": "code",
   "execution_count": 50,
   "id": "0d6e463f-6a9c-4df0-89dd-e2d88906f99d",
   "metadata": {},
   "outputs": [],
   "source": [
    "def odds(pos, array):\n",
    "    p = pos / len(array)\n",
    "    return p / (1 - p)"
   ]
  },
  {
   "cell_type": "code",
   "execution_count": 58,
   "id": "dc5ededf-feef-46fe-b675-c6d9cc4bb492",
   "metadata": {},
   "outputs": [
    {
     "data": {
      "text/plain": [
       "1.8321"
      ]
     },
     "execution_count": 58,
     "metadata": {},
     "output_type": "execute_result"
    }
   ],
   "source": [
    "round(odds(189, np.zeros(shape=11034)) / odds(104, np.zeros(shape=11037)) , 4)"
   ]
  },
  {
   "cell_type": "code",
   "execution_count": 54,
   "id": "dc6cc3d0-b451-4c30-a90f-0eca02e32665",
   "metadata": {},
   "outputs": [],
   "source": [
    "def bootstrap(data, n_samples):\n",
    "    indices = np.random.randint(0, len(data), [n_samples, len(data)])\n",
    "    return data[indices]"
   ]
  },
  {
   "cell_type": "code",
   "execution_count": 74,
   "id": "3c4ead48-cc8f-4e8b-ad87-799c0de724a7",
   "metadata": {},
   "outputs": [
    {
     "data": {
      "text/plain": [
       "[1.4629, 2.3509]"
      ]
     },
     "execution_count": 74,
     "metadata": {},
     "output_type": "execute_result"
    }
   ],
   "source": [
    "np.random.seed(0)\n",
    "\n",
    "control = np.concatenate([np.ones(shape=189), np.zeros(shape=11034-189)])\n",
    "test = np.concatenate([np.ones(shape=104), np.zeros(shape=11037-104)])\n",
    "control_odds_array = [odds(sum(x), x) for x in bootstrap(control, 1000)]\n",
    "test_odds_array = [odds(sum(x), x) for x in bootstrap(test, 1000)]\n",
    "\n",
    "[round(x, 4) for x in np.quantile(np.array(control_odds_array) / np.array(test_odds_array), [.025, .975])]"
   ]
  },
  {
   "cell_type": "code",
   "execution_count": 77,
   "id": "85653e65-464c-45b1-9c14-fca6a418027c",
   "metadata": {},
   "outputs": [],
   "source": [
    "def proportions_confint_diff_ind(sample1, sample2, alpha = 0.05):    \n",
    "    z = scipy.stats.norm.ppf(1 - alpha / 2.)   \n",
    "    p1 = float(sum(sample1)) / len(sample1)\n",
    "    p2 = float(sum(sample2)) / len(sample2)\n",
    "    \n",
    "    left_boundary = (p1 - p2) - z * np.sqrt(p1 * (1 - p1)/ len(sample1) + p2 * (1 - p2)/ len(sample2))\n",
    "    right_boundary = (p1 - p2) + z * np.sqrt(p1 * (1 - p1)/ len(sample1) + p2 * (1 - p2)/ len(sample2))\n",
    "    \n",
    "    return (left_boundary, right_boundary)"
   ]
  },
  {
   "cell_type": "code",
   "execution_count": 88,
   "id": "5426de7e-8b99-4984-9eb1-826dc344da38",
   "metadata": {},
   "outputs": [
    {
     "data": {
      "text/plain": [
       "{0.0047, 0.0107}"
      ]
     },
     "execution_count": 88,
     "metadata": {},
     "output_type": "execute_result"
    }
   ],
   "source": [
    "{*[round(x, 4) for x in proportions_confint_diff_ind(control, test)]}"
   ]
  },
  {
   "cell_type": "code",
   "execution_count": null,
   "id": "d45416df-eeb5-4492-be89-cde845f09e40",
   "metadata": {},
   "outputs": [],
   "source": []
  }
 ],
 "metadata": {
  "kernelspec": {
   "display_name": "Python 3 (ipykernel)",
   "language": "python",
   "name": "python3"
  },
  "language_info": {
   "codemirror_mode": {
    "name": "ipython",
    "version": 3
   },
   "file_extension": ".py",
   "mimetype": "text/x-python",
   "name": "python",
   "nbconvert_exporter": "python",
   "pygments_lexer": "ipython3",
   "version": "3.8.5"
  }
 },
 "nbformat": 4,
 "nbformat_minor": 5
}
