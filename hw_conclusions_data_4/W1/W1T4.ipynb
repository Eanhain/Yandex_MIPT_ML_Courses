{
 "cells": [
  {
   "cell_type": "code",
   "execution_count": 1,
   "id": "ce72fc50-c972-4f0e-96a1-398d034169c8",
   "metadata": {},
   "outputs": [],
   "source": [
    "import numpy as np\n",
    "import pandas as pd\n",
    "import scipy\n",
    "import matplotlib.pyplot as plt\n",
    "from statsmodels.stats.proportion import proportion_confint\n",
    "from scipy import stats"
   ]
  },
  {
   "cell_type": "code",
   "execution_count": 2,
   "id": "1ef8cdbc-cc89-4645-a696-a44a49286ff4",
   "metadata": {},
   "outputs": [
    {
     "data": {
      "text/plain": [
       "0.0647"
      ]
     },
     "execution_count": 2,
     "metadata": {},
     "output_type": "execute_result"
    }
   ],
   "source": [
    "np.round(0.06465323266163314, 4)"
   ]
  },
  {
   "cell_type": "code",
   "execution_count": 3,
   "id": "20c0e4ab-e1ce-47cd-b7dd-6ea06e1444ed",
   "metadata": {
    "tags": []
   },
   "outputs": [
    {
     "data": {
      "text/plain": [
       "(0.5787876667557488, 0.7499923502948651)"
      ]
     },
     "execution_count": 3,
     "metadata": {},
     "output_type": "execute_result"
    }
   ],
   "source": [
    "proportion_confint(67, 100, 0.0647, method='wilson')"
   ]
  },
  {
   "cell_type": "code",
   "execution_count": 4,
   "id": "7e61d07c-09ed-44d4-833e-705ac427c5b0",
   "metadata": {},
   "outputs": [
    {
     "data": {
      "text/plain": [
       "0.0822"
      ]
     },
     "execution_count": 4,
     "metadata": {},
     "output_type": "execute_result"
    }
   ],
   "source": [
    "np.round(stats.binomtest(67, 100, .75).pvalue, 4)"
   ]
  },
  {
   "cell_type": "code",
   "execution_count": 5,
   "id": "1297e26d-fbce-4077-b552-c8ab71b24180",
   "metadata": {},
   "outputs": [
    {
     "data": {
      "text/plain": [
       "((0.5787712352752283, 0.7500049876693868), 0.06465323266163314)"
      ]
     },
     "execution_count": 5,
     "metadata": {},
     "output_type": "execute_result"
    }
   ],
   "source": [
    "for i in np.linspace(1, 0, 20000):\n",
    "    prop = proportion_confint(67, 100, alpha=i, method='wilson')\n",
    "    if prop[0] <= .75 <= prop[1]:\n",
    "        break\n",
    "prop, i"
   ]
  },
  {
   "cell_type": "code",
   "execution_count": 6,
   "id": "1a7f64ac-bbe6-49b0-858b-0001496779db",
   "metadata": {},
   "outputs": [
    {
     "data": {
      "text/html": [
       "<div>\n",
       "<style scoped>\n",
       "    .dataframe tbody tr th:only-of-type {\n",
       "        vertical-align: middle;\n",
       "    }\n",
       "\n",
       "    .dataframe tbody tr th {\n",
       "        vertical-align: top;\n",
       "    }\n",
       "\n",
       "    .dataframe thead th {\n",
       "        text-align: right;\n",
       "    }\n",
       "</style>\n",
       "<table border=\"1\" class=\"dataframe\">\n",
       "  <thead>\n",
       "    <tr style=\"text-align: right;\">\n",
       "      <th></th>\n",
       "      <th>sn</th>\n",
       "      <th>we</th>\n",
       "    </tr>\n",
       "  </thead>\n",
       "  <tbody>\n",
       "    <tr>\n",
       "      <th>0</th>\n",
       "      <td>200.0</td>\n",
       "      <td>8.8</td>\n",
       "    </tr>\n",
       "    <tr>\n",
       "      <th>1</th>\n",
       "      <td>199.3</td>\n",
       "      <td>10.0</td>\n",
       "    </tr>\n",
       "    <tr>\n",
       "      <th>2</th>\n",
       "      <td>193.6</td>\n",
       "      <td>22.4</td>\n",
       "    </tr>\n",
       "    <tr>\n",
       "      <th>3</th>\n",
       "      <td>167.7</td>\n",
       "      <td>35.6</td>\n",
       "    </tr>\n",
       "    <tr>\n",
       "      <th>4</th>\n",
       "      <td>183.9</td>\n",
       "      <td>45.4</td>\n",
       "    </tr>\n",
       "  </tbody>\n",
       "</table>\n",
       "</div>"
      ],
      "text/plain": [
       "      sn    we\n",
       "0  200.0   8.8\n",
       "1  199.3  10.0\n",
       "2  193.6  22.4\n",
       "3  167.7  35.6\n",
       "4  183.9  45.4"
      ]
     },
     "execution_count": 6,
     "metadata": {},
     "output_type": "execute_result"
    }
   ],
   "source": [
    "data = pd.read_csv(\"data/pines.txt\", sep=\"\\t\")\n",
    "data.head()"
   ]
  },
  {
   "cell_type": "code",
   "execution_count": 7,
   "id": "fc221a32-3a9c-4a26-8578-5ac34bed5eee",
   "metadata": {},
   "outputs": [],
   "source": [
    "binx= np.arange(0, 201, 40)"
   ]
  },
  {
   "cell_type": "code",
   "execution_count": 8,
   "id": "b6048e4c-72df-470e-8e1c-2f0cb8240ad8",
   "metadata": {},
   "outputs": [],
   "source": [
    "trees = scipy.stats.binned_statistic_2d(data.iloc[:, 1], data.iloc[:, 0], None, statistic=\"count\", bins=[binx, binx])[0]"
   ]
  },
  {
   "cell_type": "code",
   "execution_count": 9,
   "id": "abe0330e-6321-45a7-89c6-9da0e81f7116",
   "metadata": {},
   "outputs": [
    {
     "data": {
      "text/plain": [
       "array([[18., 14., 12.,  8.,  7.],\n",
       "       [26., 12., 24., 19.,  8.],\n",
       "       [29., 22., 15., 31., 37.],\n",
       "       [25., 34., 50., 50., 27.],\n",
       "       [20., 25., 37.,  7., 27.]])"
      ]
     },
     "execution_count": 9,
     "metadata": {},
     "output_type": "execute_result"
    }
   ],
   "source": [
    "trees"
   ]
  },
  {
   "cell_type": "code",
   "execution_count": 10,
   "id": "8f41088a-b843-42f6-b70c-2898f56a0ea9",
   "metadata": {},
   "outputs": [
    {
     "data": {
      "text/plain": [
       "23.36"
      ]
     },
     "execution_count": 10,
     "metadata": {},
     "output_type": "execute_result"
    }
   ],
   "source": [
    "trees.mean()"
   ]
  },
  {
   "cell_type": "code",
   "execution_count": 11,
   "id": "c905db9d-1f02-49f9-8cf8-b6c4f2ee0c03",
   "metadata": {},
   "outputs": [],
   "source": [
    "trees_int = trees.ravel().astype(int)"
   ]
  },
  {
   "cell_type": "code",
   "execution_count": 12,
   "id": "2e4d2716-2f9a-4448-9d4b-1c551d7e237b",
   "metadata": {},
   "outputs": [],
   "source": [
    "observed_frequences = trees_int / trees_int.sum()"
   ]
  },
  {
   "cell_type": "code",
   "execution_count": 13,
   "id": "82a039c2-9f28-4ae5-bab4-fcd1ea218f04",
   "metadata": {},
   "outputs": [
    {
     "data": {
      "image/png": "[encoded data removed]",
      "text/plain": [
       "<Figure size 432x288 with 1 Axes>"
      ]
     },
     "metadata": {
      "needs_background": "light"
     },
     "output_type": "display_data"
    }
   ],
   "source": [
    "plt.bar(range(25), trees_int);"
   ]
  },
  {
   "cell_type": "code",
   "execution_count": 16,
   "id": "eb807722-0405-4e7b-be87-53729267b959",
   "metadata": {},
   "outputs": [
    {
     "data": {
      "text/plain": [
       "array([18, 14, 12,  8,  7, 26, 12, 24, 19,  8, 29, 22, 15, 31, 37, 25, 34,\n",
       "       50, 50, 27, 20, 25, 37,  7, 27])"
      ]
     },
     "execution_count": 16,
     "metadata": {},
     "output_type": "execute_result"
    }
   ],
   "source": [
    "trees_int"
   ]
  },
  {
   "cell_type": "code",
   "execution_count": 57,
   "id": "45e1276f-a7a7-4636-ad0e-8941abfa2a8c",
   "metadata": {},
   "outputs": [],
   "source": [
    "gen_frequences = [584 * scipy.stats.uniform.pdf(x, 0, 25) for x in range(25)]"
   ]
  },
  {
   "cell_type": "code",
   "execution_count": 58,
   "id": "40d66730-5f6d-4afc-a916-683e31dd28bf",
   "metadata": {},
   "outputs": [
    {
     "data": {
      "image/png": "[encoded data removed]",
      "text/plain": [
       "<Figure size 432x288 with 1 Axes>"
      ]
     },
     "metadata": {
      "needs_background": "light"
     },
     "output_type": "display_data"
    }
   ],
   "source": [
    "plt.bar(range(25), gen_frequences);"
   ]
  },
  {
   "cell_type": "code",
   "execution_count": 65,
   "id": "8768f911-ab3b-451d-b66f-5ac2fef70dff",
   "metadata": {},
   "outputs": [],
   "source": [
    "a = stats.chisquare(trees_int, gen_frequences, ddof=0)"
   ]
  },
  {
   "cell_type": "code",
   "execution_count": 66,
   "id": "9ac127fa-642d-4337-a311-fa1b56fe0e28",
   "metadata": {},
   "outputs": [
    {
     "data": {
      "text/plain": [
       "150.59"
      ]
     },
     "execution_count": 66,
     "metadata": {},
     "output_type": "execute_result"
    }
   ],
   "source": [
    "np.round(a[0], 2)"
   ]
  },
  {
   "cell_type": "code",
   "execution_count": 67,
   "id": "9d03838a-db4e-490d-b176-fc77496bbf0b",
   "metadata": {},
   "outputs": [
    {
     "data": {
      "text/plain": [
       "Power_divergenceResult(statistic=150.58904109589042, pvalue=2.574669774967279e-20)"
      ]
     },
     "execution_count": 67,
     "metadata": {},
     "output_type": "execute_result"
    }
   ],
   "source": [
    "a"
   ]
  },
  {
   "cell_type": "code",
   "execution_count": null,
   "id": "e8cc4a2d-8b71-4571-ad11-91e180a43f70",
   "metadata": {},
   "outputs": [],
   "source": []
  }
 ],
 "metadata": {
  "kernelspec": {
   "display_name": "Python 3 (ipykernel)",
   "language": "python",
   "name": "python3"
  },
  "language_info": {
   "codemirror_mode": {
    "name": "ipython",
    "version": 3
   },
   "file_extension": ".py",
   "mimetype": "text/x-python",
   "name": "python",
   "nbconvert_exporter": "python",
   "pygments_lexer": "ipython3",
   "version": "3.8.5"
  }
 },
 "nbformat": 4,
 "nbformat_minor": 5
}
