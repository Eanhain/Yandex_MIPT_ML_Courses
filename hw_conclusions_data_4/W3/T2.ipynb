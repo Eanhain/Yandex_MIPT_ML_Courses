{
 "cells": [
  {
   "cell_type": "code",
   "execution_count": 22,
   "id": "c9b0452d-dbd0-4ea0-b0c0-72b5791731ca",
   "metadata": {},
   "outputs": [],
   "source": [
    "import pandas as pd\n",
    "import numpy as np\n",
    "from scipy import stats"
   ]
  },
  {
   "cell_type": "code",
   "execution_count": 4,
   "id": "24a96b8a-0da3-4b9d-bc9d-8dfe977f7869",
   "metadata": {},
   "outputs": [],
   "source": [
    "data = pd.read_csv(\"data/water.txt\", sep=\"\\t\")"
   ]
  },
  {
   "cell_type": "code",
   "execution_count": 11,
   "id": "e0e1bacd-7082-492c-801f-6522fa05ca63",
   "metadata": {},
   "outputs": [
    {
     "data": {
      "text/html": [
       "<div>\n",
       "<style scoped>\n",
       "    .dataframe tbody tr th:only-of-type {\n",
       "        vertical-align: middle;\n",
       "    }\n",
       "\n",
       "    .dataframe tbody tr th {\n",
       "        vertical-align: top;\n",
       "    }\n",
       "\n",
       "    .dataframe thead th {\n",
       "        text-align: right;\n",
       "    }\n",
       "</style>\n",
       "<table border=\"1\" class=\"dataframe\">\n",
       "  <thead>\n",
       "    <tr style=\"text-align: right;\">\n",
       "      <th></th>\n",
       "      <th>mortality</th>\n",
       "      <th>hardness</th>\n",
       "    </tr>\n",
       "  </thead>\n",
       "  <tbody>\n",
       "    <tr>\n",
       "      <th>mortality</th>\n",
       "      <td>1.0000</td>\n",
       "      <td>-0.6317</td>\n",
       "    </tr>\n",
       "    <tr>\n",
       "      <th>hardness</th>\n",
       "      <td>-0.6317</td>\n",
       "      <td>1.0000</td>\n",
       "    </tr>\n",
       "  </tbody>\n",
       "</table>\n",
       "</div>"
      ],
      "text/plain": [
       "           mortality  hardness\n",
       "mortality     1.0000   -0.6317\n",
       "hardness     -0.6317    1.0000"
      ]
     },
     "execution_count": 11,
     "metadata": {},
     "output_type": "execute_result"
    }
   ],
   "source": [
    "np.round(data[[\"mortality\", \"hardness\"]].corr(method=\"spearman\"), 4)"
   ]
  },
  {
   "cell_type": "code",
   "execution_count": 15,
   "id": "08a094d0-d8d8-4088-a974-9897e0bae998",
   "metadata": {},
   "outputs": [
    {
     "data": {
      "text/html": [
       "<div>\n",
       "<style scoped>\n",
       "    .dataframe tbody tr th:only-of-type {\n",
       "        vertical-align: middle;\n",
       "    }\n",
       "\n",
       "    .dataframe tbody tr th {\n",
       "        vertical-align: top;\n",
       "    }\n",
       "\n",
       "    .dataframe thead th {\n",
       "        text-align: right;\n",
       "    }\n",
       "</style>\n",
       "<table border=\"1\" class=\"dataframe\">\n",
       "  <thead>\n",
       "    <tr style=\"text-align: right;\">\n",
       "      <th></th>\n",
       "      <th>mortality</th>\n",
       "      <th>hardness</th>\n",
       "    </tr>\n",
       "  </thead>\n",
       "  <tbody>\n",
       "    <tr>\n",
       "      <th>mortality</th>\n",
       "      <td>1.0000</td>\n",
       "      <td>-0.6022</td>\n",
       "    </tr>\n",
       "    <tr>\n",
       "      <th>hardness</th>\n",
       "      <td>-0.6022</td>\n",
       "      <td>1.0000</td>\n",
       "    </tr>\n",
       "  </tbody>\n",
       "</table>\n",
       "</div>"
      ],
      "text/plain": [
       "           mortality  hardness\n",
       "mortality     1.0000   -0.6022\n",
       "hardness     -0.6022    1.0000"
      ]
     },
     "execution_count": 15,
     "metadata": {},
     "output_type": "execute_result"
    }
   ],
   "source": [
    "np.round(data.query(\"location == 'South'\")[[\"mortality\", \"hardness\"]].corr(), 4)"
   ]
  },
  {
   "cell_type": "code",
   "execution_count": 16,
   "id": "4e77b2b0-0b40-4153-9b8d-326b0492a974",
   "metadata": {},
   "outputs": [
    {
     "data": {
      "text/html": [
       "<div>\n",
       "<style scoped>\n",
       "    .dataframe tbody tr th:only-of-type {\n",
       "        vertical-align: middle;\n",
       "    }\n",
       "\n",
       "    .dataframe tbody tr th {\n",
       "        vertical-align: top;\n",
       "    }\n",
       "\n",
       "    .dataframe thead th {\n",
       "        text-align: right;\n",
       "    }\n",
       "</style>\n",
       "<table border=\"1\" class=\"dataframe\">\n",
       "  <thead>\n",
       "    <tr style=\"text-align: right;\">\n",
       "      <th></th>\n",
       "      <th>mortality</th>\n",
       "      <th>hardness</th>\n",
       "    </tr>\n",
       "  </thead>\n",
       "  <tbody>\n",
       "    <tr>\n",
       "      <th>mortality</th>\n",
       "      <td>1.0000</td>\n",
       "      <td>-0.3686</td>\n",
       "    </tr>\n",
       "    <tr>\n",
       "      <th>hardness</th>\n",
       "      <td>-0.3686</td>\n",
       "      <td>1.0000</td>\n",
       "    </tr>\n",
       "  </tbody>\n",
       "</table>\n",
       "</div>"
      ],
      "text/plain": [
       "           mortality  hardness\n",
       "mortality     1.0000   -0.3686\n",
       "hardness     -0.3686    1.0000"
      ]
     },
     "execution_count": 16,
     "metadata": {},
     "output_type": "execute_result"
    }
   ],
   "source": [
    "np.round(data.query(\"location == 'North'\")[[\"mortality\", \"hardness\"]].corr(), 4)"
   ]
  },
  {
   "cell_type": "code",
   "execution_count": 17,
   "id": "d6b7dfe5-e570-4a5d-a156-6a0af63f12eb",
   "metadata": {},
   "outputs": [],
   "source": [
    "m1 = 239\n",
    "w1 = 203\n",
    "m2 = 515\n",
    "w2 = 718"
   ]
  },
  {
   "cell_type": "code",
   "execution_count": 19,
   "id": "6150862b-a2de-46f8-94d1-03c55c1467b2",
   "metadata": {},
   "outputs": [
    {
     "data": {
      "text/plain": [
       "0.109"
      ]
     },
     "execution_count": 19,
     "metadata": {},
     "output_type": "execute_result"
    }
   ],
   "source": [
    "np.round((239 * 718 - 203 * 515) / np.sqrt((239 + 203) * (239 + 515) * (203 + 718) * (515 + 718)), 4)"
   ]
  },
  {
   "cell_type": "code",
   "execution_count": 30,
   "id": "c0fd8077-feec-4ebc-b54d-5062d9378107",
   "metadata": {},
   "outputs": [
    {
     "data": {
      "text/plain": [
       "(19.40753078854304,\n",
       " 1.0558987006638725e-05,\n",
       " 1,\n",
       " array([[198.96597015, 243.03402985],\n",
       "        [555.03402985, 677.96597015]]))"
      ]
     },
     "execution_count": 30,
     "metadata": {},
     "output_type": "execute_result"
    }
   ],
   "source": [
    "stats.chi2_contingency(aboba)"
   ]
  },
  {
   "cell_type": "code",
   "execution_count": 27,
   "id": "b0b09c8d-522c-4182-b274-c81c8994d9e8",
   "metadata": {},
   "outputs": [],
   "source": [
    "n = m1 + w1 + m2 + w2"
   ]
  },
  {
   "cell_type": "code",
   "execution_count": 29,
   "id": "1975826d-f914-405a-b804-b1017f5c6629",
   "metadata": {},
   "outputs": [],
   "source": [
    "aboba = np.array([[239, 203], [515, 718]])"
   ]
  },
  {
   "cell_type": "code",
   "execution_count": 33,
   "id": "5040a914-c6b3-4f79-93f1-53785f13691d",
   "metadata": {},
   "outputs": [
    {
     "data": {
      "text/plain": [
       "754"
      ]
     },
     "execution_count": 33,
     "metadata": {},
     "output_type": "execute_result"
    }
   ],
   "source": []
  },
  {
   "cell_type": "code",
   "execution_count": 36,
   "id": "1301e2e2-56f8-489a-a042-83b611c7d0d3",
   "metadata": {},
   "outputs": [],
   "source": [
    "alpha = .05\n",
    "z = scipy.stats.norm.ppf(1 - alpha / 2.)   \n",
    "p1 = m1 / (m1 + m2)\n",
    "p2 = w1 / (w1 + w2)\n",
    "    \n",
    "left_boundary = (p1 - p2) - z * np.sqrt(p1 * (1 - p1)/ (m1 + m2) + p2 * (1 - p2)/ (w1 + w2))\n",
    "right_boundary = (p1 - p2) + z * np.sqrt(p1 * (1 - p1)/ (m1 + m2) + p2 * (1 - p2)/ (w1 + w2))\n"
   ]
  },
  {
   "cell_type": "code",
   "execution_count": 38,
   "id": "9d5fc59b-aab4-41d4-a6d8-bd223f3c63b9",
   "metadata": {},
   "outputs": [
    {
     "data": {
      "text/plain": [
       "(0.0539, 0.13922183141523897)"
      ]
     },
     "execution_count": 38,
     "metadata": {},
     "output_type": "execute_result"
    }
   ],
   "source": [
    "np.round(left_boundary, 4), right_boundary"
   ]
  },
  {
   "cell_type": "code",
   "execution_count": 39,
   "id": "c92b1e10-46cf-446c-a425-a6ce4b0d02d0",
   "metadata": {},
   "outputs": [],
   "source": [
    "def prop_diff_z_stat_ind(m1, m2, w1, w2):\n",
    "    n1 = m1 + m2\n",
    "    n2 = w1 + w2\n",
    "    \n",
    "    p1 = m1 / n1\n",
    "    p2 = w1 / n2\n",
    "    P = (p1 * n1 + p2 * n2) / (n1 + n2)\n",
    "    return (p1 - p2) / np.sqrt(P * (1 - P) * (1 / n1 + 1 / n2))\n",
    "\n",
    "def prop_diff_z_test(z_stat, alternative=\"two-sided\"):\n",
    "    if alternative not in (\"two-sided\", \"less\", \"greater\"):\n",
    "        raise ValueError(\"alternative not recognized\\nshould be 'two-sided', 'less' or 'greater'\")\n",
    "    if alternative == \"two-sided\":\n",
    "        return 2 * (1 - scipy.stats.norm.cdf(np.abs(z_stat)))\n",
    "    if alternative == \"less\":\n",
    "        return scipy.stats.norm.cdf(z_stat)\n",
    "    if alternative == \"greater\":\n",
    "        return 1 - scipy.stats.norm.cdf(z_stat)"
   ]
  },
  {
   "cell_type": "code",
   "execution_count": 41,
   "id": "62015048-b12c-4257-a56c-8b0baaead167",
   "metadata": {},
   "outputs": [
    {
     "data": {
      "text/plain": [
       "8.153453089576601e-06"
      ]
     },
     "execution_count": 41,
     "metadata": {},
     "output_type": "execute_result"
    }
   ],
   "source": [
    "prop_diff_z_test(prop_diff_z_stat_ind(m1, m2, w1, w2))"
   ]
  },
  {
   "cell_type": "code",
   "execution_count": 47,
   "id": "8c6d704a-455e-49f7-9bb8-151678bce2ba",
   "metadata": {},
   "outputs": [
    {
     "data": {
      "text/plain": [
       "(293.68311039689746,\n",
       " 2.4964299580093467e-62,\n",
       " 4,\n",
       " array([[ 93.08597464, 153.74722662,  94.16679873],\n",
       "        [381.6251981 , 630.318542  , 386.0562599 ],\n",
       "        [214.28882726, 353.93423138, 216.77694136]]))"
      ]
     },
     "execution_count": 47,
     "metadata": {},
     "output_type": "execute_result"
    }
   ],
   "source": [
    "stats.chi2_contingency(np.array([[197, 111, 33], [382, 685, 331], [110, 342, 333]]))"
   ]
  },
  {
   "cell_type": "code",
   "execution_count": 48,
   "id": "95800607-c83a-417a-8ee3-23acf45fd40e",
   "metadata": {},
   "outputs": [
    {
     "data": {
      "text/plain": [
       "293.6831"
      ]
     },
     "execution_count": 48,
     "metadata": {},
     "output_type": "execute_result"
    }
   ],
   "source": [
    "np.round(293.68311039689746, 4)"
   ]
  },
  {
   "cell_type": "code",
   "execution_count": 49,
   "id": "2c5d7cfa-8bec-4ffc-935f-66c081cb88e2",
   "metadata": {},
   "outputs": [],
   "source": [
    "ass = np.array([[197, 111, 33], [382, 685, 331], [110, 342, 333]])"
   ]
  },
  {
   "cell_type": "code",
   "execution_count": null,
   "id": "aac80c13-1db9-4589-93be-5e077ee93a4e",
   "metadata": {},
   "outputs": [],
   "source": [
    "alpha = .05\n",
    "z = scipy.stats.norm.ppf(1 - alpha / 2.)   \n",
    "p1 = m1 / (m1 + m2)\n",
    "p2 = w1 / (w1 + w2)\n",
    "    \n",
    "left_boundary = (p1 - p2) - z * np.sqrt(p1 * (1 - p1)/ (m1 + m2) + p2 * (1 - p2)/ (w1 + w2))\n",
    "right_boundary = (p1 - p2) + z * np.sqrt(p1 * (1 - p1)/ (m1 + m2) + p2 * (1 - p2)/ (w1 + w2))"
   ]
  },
  {
   "cell_type": "code",
   "execution_count": 52,
   "id": "22bcb088-8185-4077-abc3-7491f8c17f4b",
   "metadata": {},
   "outputs": [
    {
     "data": {
      "text/plain": [
       "2524"
      ]
     },
     "execution_count": 52,
     "metadata": {},
     "output_type": "execute_result"
    }
   ],
   "source": [
    "ass.sum()"
   ]
  },
  {
   "cell_type": "code",
   "execution_count": 55,
   "id": "cd4647af-3b1d-4652-abcc-92f440470fc7",
   "metadata": {},
   "outputs": [
    {
     "data": {
      "text/plain": [
       "0.2412"
      ]
     },
     "execution_count": 55,
     "metadata": {},
     "output_type": "execute_result"
    }
   ],
   "source": [
    "np.round((293.68311039689746 / (2524 * (3 - 1))) ** .5, 4)"
   ]
  },
  {
   "cell_type": "code",
   "execution_count": null,
   "id": "ff5d85cb-0b77-40c7-8668-091e51226d23",
   "metadata": {},
   "outputs": [],
   "source": []
  }
 ],
 "metadata": {
  "kernelspec": {
   "display_name": "Python 3 (ipykernel)",
   "language": "python",
   "name": "python3"
  },
  "language_info": {
   "codemirror_mode": {
    "name": "ipython",
    "version": 3
   },
   "file_extension": ".py",
   "mimetype": "text/x-python",
   "name": "python",
   "nbconvert_exporter": "python",
   "pygments_lexer": "ipython3",
   "version": "3.8.5"
  }
 },
 "nbformat": 4,
 "nbformat_minor": 5
}
