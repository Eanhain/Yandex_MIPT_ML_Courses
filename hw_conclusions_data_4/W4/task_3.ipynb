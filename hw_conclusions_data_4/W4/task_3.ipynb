{
 "cells": [
  {
   "cell_type": "code",
   "execution_count": 1,
   "id": "bc75b195-c9fc-4cd6-8118-8f28cb094d89",
   "metadata": {},
   "outputs": [
    {
     "name": "stdout",
     "output_type": "stream",
     "text": [
      "Populating the interactive namespace from numpy and matplotlib\n"
     ]
    }
   ],
   "source": [
    "import statsmodels\n",
    "import scipy as sc\n",
    "import numpy as np\n",
    "import pandas as pd\n",
    "import statsmodels.formula.api as smf\n",
    "import statsmodels.stats.api as sms\n",
    "from statsmodels.graphics.regressionplots import plot_leverage_resid2\n",
    "import matplotlib.pyplot as plt\n",
    "from statsmodels.stats.weightstats import *\n",
    "import statsmodels.stats.multitest as smm\n",
    "import scipy\n",
    "import seaborn as sns\n",
    "from statsmodels.sandbox.stats.multicomp import multipletests \n",
    "%pylab inline"
   ]
  },
  {
   "cell_type": "code",
   "execution_count": 2,
   "id": "1054dcd7-fcb5-44de-abc0-52fbdef8af0a",
   "metadata": {},
   "outputs": [],
   "source": [
    "data = pd.read_csv(\"data/ab_browser_test.csv\")"
   ]
  },
  {
   "cell_type": "code",
   "execution_count": 3,
   "id": "b9f6d3ad-a527-4a9b-afe7-9c118776e397",
   "metadata": {},
   "outputs": [
    {
     "data": {
      "text/html": [
       "<div>\n",
       "<style scoped>\n",
       "    .dataframe tbody tr th:only-of-type {\n",
       "        vertical-align: middle;\n",
       "    }\n",
       "\n",
       "    .dataframe tbody tr th {\n",
       "        vertical-align: top;\n",
       "    }\n",
       "\n",
       "    .dataframe thead th {\n",
       "        text-align: right;\n",
       "    }\n",
       "</style>\n",
       "<table border=\"1\" class=\"dataframe\">\n",
       "  <thead>\n",
       "    <tr style=\"text-align: right;\">\n",
       "      <th></th>\n",
       "      <th>userID</th>\n",
       "      <th>browser</th>\n",
       "      <th>slot</th>\n",
       "      <th>n_clicks</th>\n",
       "      <th>n_queries</th>\n",
       "      <th>n_nonclk_queries</th>\n",
       "    </tr>\n",
       "  </thead>\n",
       "  <tbody>\n",
       "    <tr>\n",
       "      <th>0</th>\n",
       "      <td>1</td>\n",
       "      <td>Browser #2</td>\n",
       "      <td>exp</td>\n",
       "      <td>23</td>\n",
       "      <td>32</td>\n",
       "      <td>19</td>\n",
       "    </tr>\n",
       "    <tr>\n",
       "      <th>1</th>\n",
       "      <td>3</td>\n",
       "      <td>Browser #4</td>\n",
       "      <td>exp</td>\n",
       "      <td>3</td>\n",
       "      <td>4</td>\n",
       "      <td>2</td>\n",
       "    </tr>\n",
       "    <tr>\n",
       "      <th>2</th>\n",
       "      <td>5</td>\n",
       "      <td>Browser #4</td>\n",
       "      <td>exp</td>\n",
       "      <td>29</td>\n",
       "      <td>35</td>\n",
       "      <td>16</td>\n",
       "    </tr>\n",
       "    <tr>\n",
       "      <th>3</th>\n",
       "      <td>6</td>\n",
       "      <td>Browser #4</td>\n",
       "      <td>control</td>\n",
       "      <td>12</td>\n",
       "      <td>6</td>\n",
       "      <td>0</td>\n",
       "    </tr>\n",
       "    <tr>\n",
       "      <th>4</th>\n",
       "      <td>7</td>\n",
       "      <td>Browser #4</td>\n",
       "      <td>exp</td>\n",
       "      <td>54</td>\n",
       "      <td>68</td>\n",
       "      <td>30</td>\n",
       "    </tr>\n",
       "  </tbody>\n",
       "</table>\n",
       "</div>"
      ],
      "text/plain": [
       "   userID     browser     slot  n_clicks  n_queries  n_nonclk_queries\n",
       "0       1  Browser #2      exp        23         32                19\n",
       "1       3  Browser #4      exp         3          4                 2\n",
       "2       5  Browser #4      exp        29         35                16\n",
       "3       6  Browser #4  control        12          6                 0\n",
       "4       7  Browser #4      exp        54         68                30"
      ]
     },
     "execution_count": 3,
     "metadata": {},
     "output_type": "execute_result"
    }
   ],
   "source": [
    "data.head()"
   ]
  },
  {
   "cell_type": "code",
   "execution_count": 250,
   "id": "40d1886c-0072-4f4d-91b6-3b678de7b911",
   "metadata": {},
   "outputs": [
    {
     "data": {
      "text/plain": [
       "1.614"
      ]
     },
     "execution_count": 250,
     "metadata": {},
     "output_type": "execute_result"
    }
   ],
   "source": [
    "np.round(100 * 0.016135689824415822, 3)"
   ]
  },
  {
   "cell_type": "code",
   "execution_count": 247,
   "id": "be367237-90ef-48cd-adee-2b2870488655",
   "metadata": {},
   "outputs": [
    {
     "data": {
      "text/plain": [
       "0.016135689824415822"
      ]
     },
     "execution_count": 247,
     "metadata": {},
     "output_type": "execute_result"
    }
   ],
   "source": [
    "data.query(\"slot == 'exp'\").n_clicks.sum() / data.query(\"slot == 'control'\").n_clicks.sum() - 1 "
   ]
  },
  {
   "cell_type": "code",
   "execution_count": 4,
   "id": "83aaf9a8-27be-4520-bcea-bdd1419eccb3",
   "metadata": {},
   "outputs": [
    {
     "data": {
      "text/plain": [
       "1.614"
      ]
     },
     "execution_count": 4,
     "metadata": {},
     "output_type": "execute_result"
    }
   ],
   "source": [
    "np.round(data.query(\"slot == 'exp'\").n_clicks.sum() / data.query(\"slot == 'control'\").n_clicks.sum() * 100 - 100, 3)"
   ]
  },
  {
   "cell_type": "code",
   "execution_count": 16,
   "id": "cddf0b07-451f-4eb7-8383-1c50d8fa0d38",
   "metadata": {},
   "outputs": [],
   "source": [
    "data_exp = data.query(\"slot == 'exp'\")\n",
    "data_control = data.query(\"slot == 'control'\")"
   ]
  },
  {
   "cell_type": "code",
   "execution_count": 28,
   "id": "e1a4cf97-32f9-437f-a43a-24450d3d515f",
   "metadata": {},
   "outputs": [],
   "source": [
    "def get_bootstrap_samples(data, n_samples):\n",
    "    indices = np.random.randint(0, len(data), (n_samples, len(data)))\n",
    "    samples = data[indices]\n",
    "    return samples\n",
    "\n",
    "def stat_intervals(stat, alpha=.05):\n",
    "    boundaries = np.percentile(stat, [100 * alpha / 2., 100 * (1 - alpha / 2.)])\n",
    "    return boundaries"
   ]
  },
  {
   "cell_type": "code",
   "execution_count": 37,
   "id": "e0ca6659-bb80-444c-b966-ffbec708fd3f",
   "metadata": {},
   "outputs": [],
   "source": [
    "median_exp = [np.median(x) for x in get_bootstrap_samples(data_exp.n_clicks.values, 3000)]\n",
    "mean_exp = [np.mean(x) for x in get_bootstrap_samples(data_exp.n_clicks.values, 3000)]\n",
    "\n",
    "median_control = [np.median(x) for x in get_bootstrap_samples(data_control.n_clicks.values, 3000)]\n",
    "mean_control = [np.mean(x) for x in get_bootstrap_samples(data_control.n_clicks.values, 3000)]"
   ]
  },
  {
   "cell_type": "code",
   "execution_count": 38,
   "id": "fa12c4f5-12b4-49ee-9189-9cb5e59e8938",
   "metadata": {},
   "outputs": [
    {
     "data": {
      "text/plain": [
       "(array([5., 5.]), array([4., 4.]))"
      ]
     },
     "execution_count": 38,
     "metadata": {},
     "output_type": "execute_result"
    }
   ],
   "source": [
    "stat_intervals(median_exp), stat_intervals(median_control)"
   ]
  },
  {
   "cell_type": "code",
   "execution_count": 39,
   "id": "b5355e98-35d9-4d7c-8abd-455831aeb236",
   "metadata": {},
   "outputs": [
    {
     "data": {
      "text/plain": [
       "array([1., 1.])"
      ]
     },
     "execution_count": 39,
     "metadata": {},
     "output_type": "execute_result"
    }
   ],
   "source": [
    "stat_intervals([x - y for x, y in zip(median_exp, median_control)])"
   ]
  },
  {
   "cell_type": "code",
   "execution_count": 40,
   "id": "ce0f1b90-ae2b-4c4e-a36b-581c953f89cb",
   "metadata": {
    "tags": []
   },
   "outputs": [
    {
     "data": {
      "text/plain": [
       "array([0.19540808, 0.40910994])"
      ]
     },
     "execution_count": 40,
     "metadata": {},
     "output_type": "execute_result"
    }
   ],
   "source": [
    "stat_intervals([x - y for x, y in zip(mean_exp, mean_control)])"
   ]
  },
  {
   "cell_type": "code",
   "execution_count": 41,
   "id": "3d8c977a-21c0-4fa7-8da4-5117b7611829",
   "metadata": {},
   "outputs": [
    {
     "data": {
      "text/plain": [
       "0.3020011005665726"
      ]
     },
     "execution_count": 41,
     "metadata": {},
     "output_type": "execute_result"
    }
   ],
   "source": [
    "np.mean(mean_exp) - np.mean(mean_control)"
   ]
  },
  {
   "cell_type": "code",
   "execution_count": 48,
   "id": "055c9b43-51f2-4aec-8938-0bd95467e1f4",
   "metadata": {},
   "outputs": [],
   "source": [
    "def permutation_t_stat_ind(sample1, sample2):\n",
    "    return np.mean(sample1) - np.mean(sample2)\n",
    "\n",
    "def get_random_combinations(n1, n2, max_combinations):\n",
    "    index = range(n1 + n2)\n",
    "    indices = set([tuple(index)])\n",
    "    for i in range(max_combinations - 1):\n",
    "        np.random.shuffle(index)\n",
    "        indices.add(tuple(index))\n",
    "    return [(index[:n1], index[n1:]) for index in indices]\n",
    "\n",
    "def permutation_zero_dist_ind(sample1, sample2, max_combinations = None):\n",
    "    joined_sample = np.hstack((sample1, sample2))\n",
    "    n1 = len(sample1)\n",
    "    n = len(joined_sample)\n",
    "    \n",
    "    if max_combinations:\n",
    "        indices = get_random_combinations(n1, len(sample2), max_combinations)\n",
    "    else:\n",
    "        indices = [(list(index), filter(lambda i: i not in index, range(n))) \\\n",
    "                    for index in itertools.combinations(range(n), n1)]\n",
    "    \n",
    "    distr = [joined_sample[list(i[0])].mean() - joined_sample[list(i[1])].mean() \\\n",
    "             for i in indices]\n",
    "    return distr\n",
    "\n",
    "def permutation_test(sample, mean, max_permutations = None, alternative = 'two-sided'):\n",
    "    if alternative not in ('two-sided', 'less', 'greater'):\n",
    "        raise ValueError(\"alternative not recognized\\n\"\n",
    "                         \"should be 'two-sided', 'less' or 'greater'\")\n",
    "    \n",
    "    t_stat = permutation_t_stat_ind(sample, mean)\n",
    "    \n",
    "    zero_distr = permutation_zero_dist_ind(sample, mean, max_permutations)\n",
    "    \n",
    "    if alternative == 'two-sided':\n",
    "        return sum([1. if abs(x) >= abs(t_stat) else 0. for x in zero_distr]) / len(zero_distr)\n",
    "    \n",
    "    if alternative == 'less':\n",
    "        return sum([1. if x <= t_stat else 0. for x in zero_distr]) / len(zero_distr)\n",
    "\n",
    "    if alternative == 'greater':\n",
    "        return sum([1. if x >= t_stat else 0. for x in zero_distr]) / len(zero_distr)"
   ]
  },
  {
   "cell_type": "code",
   "execution_count": 104,
   "id": "84dcb58e-39d1-433e-a732-c955091a6625",
   "metadata": {
    "collapsed": true,
    "jupyter": {
     "outputs_hidden": true
    },
    "tags": []
   },
   "outputs": [
    {
     "data": {
      "text/plain": [
       "((array([496.00790142, 496.28984073, 496.44837459, 496.56078615,\n",
       "         496.64886689, 496.72177909, 496.78427733, 496.83915848,\n",
       "         496.88821233, 496.93265597, 496.97335597, 497.01095206,\n",
       "         497.04593046, 497.07866967, 497.10947035, 497.13857541,\n",
       "         497.16618407, 497.1924618 , 497.2175476 , 497.24155939,\n",
       "         497.26459814, 497.28675096, 497.30809357, 497.3286922 ,\n",
       "         497.34860517, 497.36788405, 497.38657472, 497.40471817,\n",
       "         497.42235117, 497.43950686, 497.45621519, 497.47250333,\n",
       "         497.48839601, 497.50391582, 497.51908341, 497.53391776,\n",
       "         497.54843633, 497.56265521, 497.57658929, 497.59025236,\n",
       "         497.60365721, 497.61681574, 497.62973905, 497.64243747,\n",
       "         497.65492068, 497.66719774, 497.67927713, 497.69116683,\n",
       "         497.70287433, 497.71440669, 497.72577056, 497.73697222,\n",
       "         497.74801761, 497.75891232, 497.76966169, 497.78027074,\n",
       "         497.79074426, 497.80108678, 497.81130262, 497.82139589,\n",
       "         497.8313705 , 497.84123017, 497.85097846, 497.86061877,\n",
       "         497.87015434, 497.87958827, 497.88892352, 497.89816293,\n",
       "         497.90730923, 497.91636502, 497.92533281, 497.93421499,\n",
       "         497.94301388, 497.95173169, 497.96037054, 497.9689325 ,\n",
       "         497.97741954, 497.98583355, 497.99417636, 498.00244975,\n",
       "         498.01065542, 498.018795  , 498.0268701 , 498.03488223,\n",
       "         498.04283288, 498.05072347, 498.05855541, 498.06633002,\n",
       "         498.0740486 , 498.0817124 , 498.08932265, 498.09688051,\n",
       "         498.10438714, 498.11184363, 498.11925107, 498.1266105 ,\n",
       "         498.13392292, 498.14118932, 498.14841066, 498.15558786,\n",
       "         498.16272182, 498.16981342, 498.17686352, 498.18387294,\n",
       "         498.19084249, 498.19777295, 498.20466509, 498.21151966,\n",
       "         498.21833739, 498.22511897, 498.2318651 , 498.23857645,\n",
       "         498.24525368, 498.25189743, 498.25850831, 498.26508696,\n",
       "         498.27163394, 498.27814986, 498.28463527, 498.29109073,\n",
       "         498.29751678, 498.30391396, 498.31028277, 498.31662373,\n",
       "         498.32293733, 498.32922406, 498.33548438, 498.34171877,\n",
       "         498.34792768, 498.35411155, 498.36027083, 498.36640592,\n",
       "         498.37251726, 498.37860526, 498.38467031, 498.39071281,\n",
       "         498.39673314, 498.40273169, 498.40870883, 498.41466491,\n",
       "         498.4206003 , 498.42651535, 498.4324104 , 498.43828579,\n",
       "         498.44414186, 498.44997892, 498.45579731, 498.46159733,\n",
       "         498.46737929, 498.4731435 , 498.47889026, 498.48461986,\n",
       "         498.4903326 , 498.49602874, 498.50170858, 498.50737239,\n",
       "         498.51302045, 498.51865301, 498.52427034, 498.5298727 ,\n",
       "         498.53546034, 498.54103351, 498.54659247, 498.55213745,\n",
       "         498.55766869, 498.56318643, 498.56869091, 498.57418235,\n",
       "         498.57966098, 498.58512702, 498.59058069, 498.59602221,\n",
       "         498.6014518 , 498.60686966, 498.61227601, 498.61767105,\n",
       "         498.62305498, 498.62842801, 498.63379033, 498.63914214,\n",
       "         498.64448364, 498.64981501, 498.65513645, 498.66044814,\n",
       "         498.66575027, 498.67104302, 498.67632656, 498.68160109,\n",
       "         498.68686678, 498.69212379, 498.69737231, 498.70261251,\n",
       "         498.70784456, 498.71306862, 498.71828486, 498.72349344,\n",
       "         498.72869454, 498.7338883 , 498.7390749 , 498.74425449,\n",
       "         498.74942723, 498.75459327, 498.75975277, 498.76490588,\n",
       "         498.77005275, 498.77519355, 498.7803284 , 498.78545748,\n",
       "         498.79058091, 498.79569885, 498.80081145, 498.80591885,\n",
       "         498.81102118, 498.81611861, 498.82121126, 498.82629927,\n",
       "         498.8313828 , 498.83646197, 498.84153692, 498.8466078 ,\n",
       "         498.85167473, 498.85673787, 498.86179733, 498.86685325,\n",
       "         498.87190577, 498.87695503, 498.88200115, 498.88704427,\n",
       "         498.89208452, 498.89712202, 498.90215692, 498.90718934,\n",
       "         498.91221941, 498.91724726, 498.92227301, 498.92729681,\n",
       "         498.93231877, 498.93733902, 498.9423577 , 498.94737492,\n",
       "         498.95239083, 498.95740553, 498.96241916, 498.96743185,\n",
       "         498.97244372, 498.97745489, 498.9824655 , 498.98747567,\n",
       "         498.99248553, 498.9974952 , 499.0025048 , 499.00751447,\n",
       "         499.01252433, 499.0175345 , 499.02254511, 499.02755628,\n",
       "         499.03256815, 499.03758084, 499.04259447, 499.04760917,\n",
       "         499.05262508, 499.0576423 , 499.06266098, 499.06768123,\n",
       "         499.07270319, 499.07772699, 499.08275274, 499.08778059,\n",
       "         499.09281066, 499.09784308, 499.10287798, 499.10791548,\n",
       "         499.11295573, 499.11799885, 499.12304497, 499.12809423,\n",
       "         499.13314675, 499.13820267, 499.14326213, 499.14832527,\n",
       "         499.1533922 , 499.15846308, 499.16353803, 499.1686172 ,\n",
       "         499.17370073, 499.17878874, 499.18388139, 499.18897882,\n",
       "         499.19408115, 499.19918855, 499.20430115, 499.20941909,\n",
       "         499.21454252, 499.2196716 , 499.22480645, 499.22994725,\n",
       "         499.23509412, 499.24024723, 499.24540673, 499.25057277,\n",
       "         499.25574551, 499.2609251 , 499.2661117 , 499.27130546,\n",
       "         499.27650656, 499.28171514, 499.28693138, 499.29215544,\n",
       "         499.29738749, 499.30262769, 499.30787621, 499.31313322,\n",
       "         499.31839891, 499.32367344, 499.32895698, 499.33424973,\n",
       "         499.33955186, 499.34486355, 499.35018499, 499.35551636,\n",
       "         499.36085786, 499.36620967, 499.37157199, 499.37694502,\n",
       "         499.38232895, 499.38772399, 499.39313034, 499.3985482 ,\n",
       "         499.40397779, 499.40941931, 499.41487298, 499.42033902,\n",
       "         499.42581765, 499.43130909, 499.43681357, 499.44233131,\n",
       "         499.44786255, 499.45340753, 499.45896649, 499.46453966,\n",
       "         499.4701273 , 499.47572966, 499.48134699, 499.48697955,\n",
       "         499.49262761, 499.49829142, 499.50397126, 499.5096674 ,\n",
       "         499.51538014, 499.52110974, 499.5268565 , 499.53262071,\n",
       "         499.53840267, 499.54420269, 499.55002108, 499.55585814,\n",
       "         499.56171421, 499.5675896 , 499.57348465, 499.5793997 ,\n",
       "         499.58533509, 499.59129117, 499.59726831, 499.60326686,\n",
       "         499.60928719, 499.61532969, 499.62139474, 499.62748274,\n",
       "         499.63359408, 499.63972917, 499.64588845, 499.65207232,\n",
       "         499.65828123, 499.66451562, 499.67077594, 499.67706267,\n",
       "         499.68337627, 499.68971723, 499.69608604, 499.70248322,\n",
       "         499.70890927, 499.71536473, 499.72185014, 499.72836606,\n",
       "         499.73491304, 499.74149169, 499.74810257, 499.75474632,\n",
       "         499.76142355, 499.7681349 , 499.77488103, 499.78166261,\n",
       "         499.78848034, 499.79533491, 499.80222705, 499.80915751,\n",
       "         499.81612706, 499.82313648, 499.83018658, 499.83727818,\n",
       "         499.84441214, 499.85158934, 499.85881068, 499.86607708,\n",
       "         499.8733895 , 499.88074893, 499.88815637, 499.89561286,\n",
       "         499.90311949, 499.91067735, 499.9182876 , 499.9259514 ,\n",
       "         499.93366998, 499.94144459, 499.94927653, 499.95716712,\n",
       "         499.96511777, 499.9731299 , 499.981205  , 499.98934458,\n",
       "         499.99755025, 500.00582364, 500.01416645, 500.02258046,\n",
       "         500.0310675 , 500.03962946, 500.04826831, 500.05698612,\n",
       "         500.06578501, 500.07466719, 500.08363498, 500.09269077,\n",
       "         500.10183707, 500.11107648, 500.12041173, 500.12984566,\n",
       "         500.13938123, 500.14902154, 500.15876983, 500.1686295 ,\n",
       "         500.17860411, 500.18869738, 500.19891322, 500.20925574,\n",
       "         500.21972926, 500.23033831, 500.24108768, 500.25198239,\n",
       "         500.26302778, 500.27422944, 500.28559331, 500.29712567,\n",
       "         500.30883317, 500.32072287, 500.33280226, 500.34507932,\n",
       "         500.35756253, 500.37026095, 500.38318426, 500.39634279,\n",
       "         500.40974764, 500.42341071, 500.43734479, 500.45156367,\n",
       "         500.46608224, 500.48091659, 500.49608418, 500.51160399,\n",
       "         500.52749667, 500.54378481, 500.56049314, 500.57764883,\n",
       "         500.59528183, 500.61342528, 500.63211595, 500.65139483,\n",
       "         500.6713078 , 500.69190643, 500.71324904, 500.73540186,\n",
       "         500.75844061, 500.7824524 , 500.8075382 , 500.83381593,\n",
       "         500.86142459, 500.89052965, 500.92133033, 500.95406954,\n",
       "         500.98904794, 501.02664403, 501.06734403, 501.11178767,\n",
       "         501.16084152, 501.21572267, 501.27822091, 501.35113311,\n",
       "         501.43921385, 501.55162541, 501.71015927, 501.99209858]),\n",
       "  array([11.1824434 , 11.18473822, 11.18830521, 11.19382261, 11.20258369,\n",
       "         11.20325492, 11.20355363, 11.20505423, 11.20609094, 11.20625611,\n",
       "         11.2079043 , 11.21138343, 11.21287699, 11.21341468, 11.2142827 ,\n",
       "         11.21573761, 11.21579735, 11.21644749, 11.21674621, 11.21906563,\n",
       "         11.21948031, 11.21979308, 11.22034833, 11.22213007, 11.22245338,\n",
       "         11.22327924, 11.22662131, 11.22713439, 11.22731011, 11.22771776,\n",
       "         11.22815002, 11.22822382, 11.2283187 , 11.22885287, 11.22957681,\n",
       "         11.22997744, 11.23038158, 11.23081032, 11.23154129, 11.23157292,\n",
       "         11.23189623, 11.23309108, 11.23465845, 11.23483065, 11.23608524,\n",
       "         11.23640153, 11.23664401, 11.23698138, 11.23704112, 11.23742769,\n",
       "         11.23755772, 11.23802863, 11.23852766, 11.23865417, 11.23902669,\n",
       "         11.23916726, 11.23991228, 11.23992283, 11.24141639, 11.24158508,\n",
       "         11.24160968, 11.24163779, 11.24169753, 11.24231605, 11.24278344,\n",
       "         11.24281859, 11.24329653, 11.24353901, 11.24396424, 11.24425592,\n",
       "         11.24438244, 11.24446327, 11.24460384, 11.24470224, 11.24473035,\n",
       "         11.24482172, 11.24492715, 11.24534183, 11.24545078, 11.24585492,\n",
       "         11.24586195, 11.24649803, 11.24708843, 11.2472782 , 11.24735551,\n",
       "         11.24748202, 11.2476472 , 11.24791779, 11.24809351, 11.24811811,\n",
       "         11.24844845, 11.24918996, 11.2492497 , 11.2493727 , 11.25008259,\n",
       "         11.25017747, 11.25060621, 11.25065541, 11.25088735, 11.2511193 ,\n",
       "         11.25147775, 11.25171321, 11.25188541, 11.25189244, 11.25201895,\n",
       "         11.25222981, 11.25248986, 11.25299943, 11.25305566, 11.25328409,\n",
       "         11.25384637, 11.25398343, 11.2544684 , 11.25458085, 11.25487605,\n",
       "         11.25488659, 11.25505528, 11.25508691, 11.25525559, 11.25577219,\n",
       "         11.25590925, 11.25621147, 11.2565875 , 11.25684404, 11.25686513,\n",
       "         11.25702679, 11.25707247, 11.2574977 , 11.2575223 , 11.25800024,\n",
       "         11.25810215, 11.25842898, 11.25844304, 11.25859415, 11.25865741,\n",
       "         11.25881555, 11.25891746, 11.25895964, 11.25947623, 11.25970466,\n",
       "         11.25977846, 11.25985577, 11.26035129, 11.2605024 , 11.26053403,\n",
       "         11.26064649, 11.26068163, 11.26083977, 11.26097331, 11.2612896 ,\n",
       "         11.2613634 , 11.26144071, 11.26180619, 11.26218222, 11.26227359,\n",
       "         11.26281479, 11.26318028, 11.26321893, 11.26322947, 11.26338762,\n",
       "         11.26359496, 11.26368633, 11.2644419 , 11.26454381, 11.26457544,\n",
       "         11.2647617 , 11.26483901, 11.26504284, 11.26541184, 11.26546455,\n",
       "         11.26611821, 11.26614281, 11.26634312, 11.26644152, 11.26677186,\n",
       "         11.26709869, 11.26725683, 11.26732009, 11.26743254, 11.26772071,\n",
       "         11.267791  , 11.26825137, 11.26838843, 11.26864848, 11.26938648,\n",
       "         11.26955165, 11.26982225, 11.26989956, 11.27000499, 11.27000499,\n",
       "         11.2701069 , 11.27039156, 11.27042319, 11.27065162, 11.27087302,\n",
       "         11.27089762, 11.2709679 , 11.27140016, 11.27146341, 11.27182538,\n",
       "         11.2718535 , 11.27223655, 11.27256338, 11.27274261, 11.27291481,\n",
       "         11.27308701, 11.27322758, 11.27336815, 11.27396909, 11.2742924 ,\n",
       "         11.27455597, 11.27467546, 11.27471411, 11.27503743, 11.27530451,\n",
       "         11.27552942, 11.27571217, 11.27575082, 11.27606359, 11.27607765,\n",
       "         11.27635879, 11.27653802, 11.27671373, 11.27682971, 11.27694568,\n",
       "         11.2769527 , 11.2769773 , 11.27720573, 11.27725142, 11.27727602,\n",
       "         11.27733927, 11.27770827, 11.2779121 , 11.2780597 , 11.27836544,\n",
       "         11.27838301, 11.27846033, 11.27860793, 11.27994686, 11.28058646,\n",
       "         11.28083246, 11.28117334, 11.2812612 , 11.28151072, 11.28184106,\n",
       "         11.28203434, 11.28229088, 11.28238577, 11.28250877, 11.28252634,\n",
       "         11.28253688, 11.28272314, 11.28278991, 11.28314134, 11.28398828,\n",
       "         11.28416399, 11.28446973, 11.28469816, 11.28474033, 11.28484927,\n",
       "         11.2850285 , 11.28556267, 11.28580515, 11.28592464, 11.2860125 ,\n",
       "         11.28606521, 11.28624444, 11.28626904, 11.2863077 , 11.28664507,\n",
       "         11.28678915, 11.28686295, 11.28696838, 11.28699298, 11.28710895,\n",
       "         11.28711949, 11.28720735, 11.28752363, 11.28766772, 11.28801563,\n",
       "         11.28801915, 11.28806483, 11.28822649, 11.2882546 , 11.28858143,\n",
       "         11.28905937, 11.28936863, 11.28947405, 11.28947405, 11.2894846 ,\n",
       "         11.29010311, 11.29016637, 11.29018042, 11.29076379, 11.29080245,\n",
       "         11.29098871, 11.29106602, 11.2914315 , 11.29150179, 11.29210976,\n",
       "         11.29266853, 11.29273178, 11.29294967, 11.2932765 , 11.29331515,\n",
       "         11.29344518, 11.29394069, 11.29416209, 11.29428158, 11.29433781,\n",
       "         11.29509689, 11.29521989, 11.29547994, 11.29560294, 11.29560294,\n",
       "         11.29567323, 11.29593329, 11.29605277, 11.29621091, 11.29674157,\n",
       "         11.29675211, 11.29711759, 11.29722302, 11.29742685, 11.29763068,\n",
       "         11.29792939, 11.29811565, 11.2981543 , 11.29825973, 11.29829136,\n",
       "         11.29831596, 11.29833353, 11.29864279, 11.2987939 , 11.29890284,\n",
       "         11.29922616, 11.29926833, 11.29961273, 11.29963381, 11.29964787,\n",
       "         11.29983413, 11.29996415, 11.30047021, 11.30052292, 11.30085678,\n",
       "         11.30089544, 11.30102546, 11.30107466, 11.30115198, 11.30138743,\n",
       "         11.30154558, 11.30205866, 11.30206217, 11.30224492, 11.30304968,\n",
       "         11.30406531, 11.30407234, 11.30417074, 11.30423399, 11.30444134,\n",
       "         11.30509851, 11.30533396, 11.30537613, 11.3056151 , 11.30621253,\n",
       "         11.30638121, 11.3064023 , 11.3066237 , 11.3067467 , 11.30696458,\n",
       "         11.30697513, 11.30702433, 11.30723167, 11.30758309, 11.30762527,\n",
       "         11.30769907, 11.30774827, 11.30777638, 11.30783261, 11.30794155,\n",
       "         11.30805401, 11.30807158, 11.30812781, 11.30849329, 11.30862683,\n",
       "         11.30909775, 11.30965652, 11.30980763, 11.30995171, 11.31005011,\n",
       "         11.31013094, 11.31022583, 11.31023988, 11.31073891, 11.31076702,\n",
       "         11.31091814, 11.31153665, 11.31211651, 11.3121903 , 11.31226762,\n",
       "         11.31240116, 11.3129529 , 11.3130759 , 11.31313213, 11.31313213,\n",
       "         11.31350113, 11.31362061, 11.31378578, 11.31448864, 11.3145765 ,\n",
       "         11.31662532, 11.31675183, 11.3168432 , 11.3173352 , 11.31745117,\n",
       "         11.3177042 , 11.31774285, 11.31789045, 11.31813997, 11.31905368,\n",
       "         11.31961947, 11.31993224, 11.32042424, 11.32091624, 11.3211517 ,\n",
       "         11.32129227, 11.3215207 , 11.32158395, 11.32161558, 11.32216029,\n",
       "         11.32217786, 11.32259958, 11.323443  , 11.32429697, 11.32484168,\n",
       "         11.32580811, 11.32588893, 11.32591002, 11.32596625, 11.32616305,\n",
       "         11.32656719, 11.32761444, 11.32796236, 11.32822593, 11.32949809,\n",
       "         11.3303134 , 11.33039775, 11.33050669, 11.33194402, 11.33224977,\n",
       "         11.33308616, 11.33376442, 11.33431967, 11.33487844, 11.33491358,\n",
       "         11.33536341, 11.33593272, 11.33637552, 11.33695186, 11.33701863,\n",
       "         11.33731383, 11.337971  , 11.33971408, 11.34042045, 11.34072267,\n",
       "         11.34170316, 11.34221624, 11.34325646, 11.34401203, 11.344128  ,\n",
       "         11.3461698 , 11.34617682, 11.34640174, 11.34911476, 11.3497649 ,\n",
       "         11.34978598, 11.35071023, 11.3522776 , 11.35456188, 11.35491682,\n",
       "         11.35499413, 11.35563021, 11.35623818, 11.35998088, 11.36001603,\n",
       "         11.36725542, 11.36806371, 11.36816211, 11.3690477 , 11.37050261,\n",
       "         11.37085404, 11.37088215, 11.37353191, 11.37428748, 11.37443508,\n",
       "         11.37471271, 11.3776155 , 11.37896849, 11.38956402, 11.39341215])),\n",
       " (0.03777466718563094, -7.566314311250846, 0.9979748364604206))"
      ]
     },
     "execution_count": 104,
     "metadata": {},
     "output_type": "execute_result"
    },
    {
     "data": {
      "image/png": "[encoded data removed]",
      "text/plain": [
       "<Figure size 432x288 with 1 Axes>"
      ]
     },
     "metadata": {
      "needs_background": "light"
     },
     "output_type": "display_data"
    }
   ],
   "source": [
    "np.random.seed(0)\n",
    "n = 500\n",
    "n_boot_samples = get_bootstrap_samples(data_control.n_clicks.values, n)\n",
    "n_boot_samples_mean = n_boot_samples.mean(axis=1)\n",
    "control_boot_chi_squared = np.apply_along_axis(arr=n_boot_samples, func1d=lambda x: 1/499 * np.sum((x - x.mean()) ** 2), axis=1)\n",
    "\n",
    "scipy.stats.probplot(n_boot_samples_mean, plot=pylab, sparams=499, dist=\"norm\")"
   ]
  },
  {
   "cell_type": "code",
   "execution_count": 106,
   "id": "d1776b5b-142b-4c99-9b1f-d735b7f2cdbc",
   "metadata": {
    "collapsed": true,
    "jupyter": {
     "outputs_hidden": true
    },
    "tags": []
   },
   "outputs": [
    {
     "data": {
      "text/plain": [
       "((array([409.75447609, 417.6076492 , 422.06789456, 425.24996033,\n",
       "         427.75458277, 429.83540071, 431.6244473 , 433.19958802,\n",
       "         434.61075771, 435.89197548, 437.06750372, 438.15527962,\n",
       "         439.16895419, 440.11916758, 441.0143809 , 441.86143812,\n",
       "         442.66595697, 443.43260794, 444.16531782, 444.86742108,\n",
       "         445.54177438, 446.19084464, 446.81677748, 447.42145127,\n",
       "         448.00652022, 448.57344901, 449.12354099, 449.6579613 ,\n",
       "         450.17775596, 450.68386771, 451.17714938, 451.65837504,\n",
       "         452.12824958, 452.58741674, 453.03646615, 453.47593922,\n",
       "         453.90633437, 454.32811152, 454.74169597, 455.14748186,\n",
       "         455.54583518, 455.93709642, 456.3215829 , 456.69959087,\n",
       "         457.07139736, 457.43726183, 457.79742761, 458.1521233 ,\n",
       "         458.50156388, 458.84595184, 459.1854781 , 459.52032292,\n",
       "         459.85065667, 460.17664058, 460.49842735, 460.81616179,\n",
       "         461.12998133, 461.44001656, 461.74639164, 462.04922476,\n",
       "         462.3486285 , 462.64471019, 462.93757225, 463.22731247,\n",
       "         463.51402431, 463.79779714, 464.07871649, 464.35686427,\n",
       "         464.63231897, 464.90515586, 465.17544715, 465.44326219,\n",
       "         465.70866759, 465.97172738, 466.23250314, 466.49105414,\n",
       "         466.74743742, 467.00170797, 467.25391874, 467.50412083,\n",
       "         467.75236352, 467.99869437, 468.24315933, 468.48580276,\n",
       "         468.72666756, 468.9657952 , 469.20322579, 469.43899817,\n",
       "         469.67314992, 469.90571743, 470.13673598, 470.36623974,\n",
       "         470.59426187, 470.82083452, 471.04598887, 471.26975521,\n",
       "         471.49216293, 471.71324059, 471.93301594, 472.15151593,\n",
       "         472.36876679, 472.58479402, 472.79962241, 473.01327612,\n",
       "         473.22577862, 473.43715282, 473.64742098, 473.85660482,\n",
       "         474.06472549, 474.27180363, 474.47785934, 474.68291223,\n",
       "         474.88698145, 475.09008566, 475.29224309, 475.49347153,\n",
       "         475.69378836, 475.89321056, 476.09175471, 476.28943702,\n",
       "         476.48627333, 476.68227913, 476.87746958, 477.07185948,\n",
       "         477.26546334, 477.45829534, 477.65036938, 477.84169905,\n",
       "         478.03229766, 478.22217826, 478.41135362, 478.59983627,\n",
       "         478.78763846, 478.97477223, 479.16124937, 479.34708144,\n",
       "         479.5322798 , 479.71685555, 479.90081964, 480.08418277,\n",
       "         480.26695546, 480.44914804, 480.63077065, 480.81183327,\n",
       "         480.99234567, 481.17231747, 481.35175812, 481.53067691,\n",
       "         481.70908297, 481.88698529, 482.06439268, 482.24131385,\n",
       "         482.41775732, 482.59373152, 482.76924472, 482.94430506,\n",
       "         483.11892057, 483.29309913, 483.46684854, 483.64017644,\n",
       "         483.81309039, 483.98559783, 484.15770608, 484.32942237,\n",
       "         484.50075382, 484.67170745, 484.8422902 , 485.01250889,\n",
       "         485.18237027, 485.35188099, 485.5210476 , 485.68987659,\n",
       "         485.85837436, 486.02654722, 486.1944014 , 486.36194308,\n",
       "         486.52917832, 486.69611315, 486.86275351, 487.02910527,\n",
       "         487.19517424, 487.36096615, 487.52648669, 487.69174147,\n",
       "         487.85673604, 488.02147589, 488.18596648, 488.35021316,\n",
       "         488.51422128, 488.67799611, 488.84154287, 489.00486673,\n",
       "         489.16797282, 489.33086621, 489.49355193, 489.65603496,\n",
       "         489.81832026, 489.98041271, 490.14231717, 490.30403846,\n",
       "         490.46558136, 490.62695061, 490.78815091, 490.94918693,\n",
       "         491.1100633 , 491.27078462, 491.43135545, 491.59178034,\n",
       "         491.75206378, 491.91221026, 492.07222421, 492.23211006,\n",
       "         492.39187219, 492.55151498, 492.71104276, 492.87045985,\n",
       "         493.02977055, 493.18897913, 493.34808983, 493.50710688,\n",
       "         493.6660345 , 493.82487688, 493.98363818, 494.14232257,\n",
       "         494.30093417, 494.45947713, 494.61795553, 494.77637348,\n",
       "         494.93473505, 495.09304432, 495.25130533, 495.40952214,\n",
       "         495.56769878, 495.72583927, 495.88394762, 496.04202785,\n",
       "         496.20008395, 496.35811992, 496.51613974, 496.67414739,\n",
       "         496.83214685, 496.9901421 , 497.1481371 , 497.30613582,\n",
       "         497.46414222, 497.62216027, 497.78019393, 497.93824716,\n",
       "         498.09632394, 498.25442821, 498.41256396, 498.57073516,\n",
       "         498.72894577, 498.88719979, 499.04550118, 499.20385395,\n",
       "         499.36226209, 499.52072961, 499.67926051, 499.83785882,\n",
       "         499.99652857, 500.15527379, 500.31409855, 500.47300689,\n",
       "         500.6320029 , 500.79109066, 500.95027428, 501.10955787,\n",
       "         501.26894556, 501.4284415 , 501.58804986, 501.74777481,\n",
       "         501.90762055, 502.06759131, 502.22769132, 502.38792485,\n",
       "         502.54829617, 502.7088096 , 502.86946945, 503.03028007,\n",
       "         503.19124585, 503.35237119, 503.51366051, 503.67511828,\n",
       "         503.83674897, 503.99855711, 504.16054723, 504.32272391,\n",
       "         504.48509177, 504.64765544, 504.8104196 , 504.97338897,\n",
       "         505.13656828, 505.29996234, 505.46357595, 505.62741399,\n",
       "         505.79148136, 505.955783  , 506.12032391, 506.28510912,\n",
       "         506.4501437 , 506.61543279, 506.78098155, 506.94679522,\n",
       "         507.11287906, 507.27923839, 507.4458786 , 507.61280512,\n",
       "         507.78002343, 507.94753908, 508.11535769, 508.2834849 ,\n",
       "         508.45192645, 508.62068813, 508.78977579, 508.95919536,\n",
       "         509.12895283, 509.29905425, 509.46950577, 509.64031358,\n",
       "         509.81148398, 509.98302331, 510.15493802, 510.32723463,\n",
       "         510.49991974, 510.67300005, 510.84648233, 511.02037346,\n",
       "         511.19468038, 511.36941017, 511.54456996, 511.72016701,\n",
       "         511.89620869, 512.07270243, 512.24965583, 512.42707654,\n",
       "         512.60497236, 512.7833512 , 512.96222108, 513.14159016,\n",
       "         513.32146669, 513.50185909, 513.68277589, 513.86422576,\n",
       "         514.0462175 , 514.22876007, 514.41186257, 514.59553423,\n",
       "         514.77978447, 514.96462286, 515.1500591 , 515.33610309,\n",
       "         515.52276491, 515.71005479, 515.89798315, 516.0865606 ,\n",
       "         516.27579795, 516.4657062 , 516.65629654, 516.8475804 ,\n",
       "         517.03956939, 517.23227537, 517.42571041, 517.61988681,\n",
       "         517.81481714, 518.01051419, 518.20699101, 518.40426091,\n",
       "         518.6023375 , 518.80123463, 519.00096646, 519.20154744,\n",
       "         519.40299233, 519.6053162 , 519.80853445, 520.01266282,\n",
       "         520.21771737, 520.42371455, 520.63067116, 520.83860438,\n",
       "         521.04753181, 521.25747141, 521.4684416 , 521.68046121,\n",
       "         521.89354953, 522.10772631, 522.32301178, 522.53942666,\n",
       "         522.7569922 , 522.97573016, 523.19566287, 523.41681322,\n",
       "         523.63920469, 523.86286137, 524.08780801, 524.31406997,\n",
       "         524.54167335, 524.77064492, 525.0010122 , 525.23280347,\n",
       "         525.46604781, 525.70077513, 525.93701619, 526.17480264,\n",
       "         526.41416707, 526.65514303, 526.89776509, 527.14206885,\n",
       "         527.38809102, 527.63586946, 527.88544319, 528.13685249,\n",
       "         528.39013894, 528.64534548, 528.90251646, 529.16169769,\n",
       "         529.42293658, 529.68628211, 529.95178499, 530.21949771,\n",
       "         530.48947461, 530.76177201, 531.03644828, 531.31356394,\n",
       "         531.5931818 , 531.87536703, 532.16018736, 532.44771312,\n",
       "         532.73801745, 533.03117645, 533.3272693 , 533.62637848,\n",
       "         533.92858993, 534.23399326, 534.54268197, 534.85475367,\n",
       "         535.17031035, 535.48945862, 535.81231003, 536.13898137,\n",
       "         536.469595  , 536.80427924, 537.14316874, 537.48640494,\n",
       "         537.83413651, 538.18651989, 538.54371983, 538.90591001,\n",
       "         539.27327369, 539.64600445, 540.024307  , 540.40839804,\n",
       "         540.79850724, 541.19487833, 541.59777025, 542.00745848,\n",
       "         542.4242365 , 542.84841741, 543.28033575, 543.72034952,\n",
       "         544.16884245, 544.62622658, 545.09294513, 545.56947578,\n",
       "         546.05633439, 546.55407919, 547.06331567, 547.58470212,\n",
       "         548.11895597, 548.66686128, 549.22927728, 549.80714846,\n",
       "         550.40151635, 551.01353345, 551.6444798 , 552.29578272,\n",
       "         552.96904058, 553.66605164, 554.3888492 , 555.13974497,\n",
       "         555.92138291, 556.73680693, 557.58954684, 558.48372886,\n",
       "         559.42421968, 560.41681721, 561.46850732, 562.58781651,\n",
       "         563.7853068 , 565.0742885 , 566.4718777 , 568.00062101,\n",
       "         569.6910998 , 571.58632494, 573.74964871, 576.28025333,\n",
       "         579.34711248, 583.27672236, 588.8483932 , 598.84337406]),\n",
       "  array([222998.1965897 , 223803.46100615, 225433.7520862 , 226301.82499123,\n",
       "         226709.38493754, 226789.3243704 , 226987.54638342, 227045.47314908,\n",
       "         227256.53127288, 227316.74143511, 227441.25297209, 227545.24001704,\n",
       "         227632.95742183, 227646.02562204, 227706.72718123, 227780.24116061,\n",
       "         227797.54845922, 228001.26162284, 228167.20130411, 228284.65820387,\n",
       "         228309.48249813, 228322.3929158 , 228412.04990378, 228420.18176522,\n",
       "         228508.01883272, 228514.56902492, 228657.46994711, 228922.90348649,\n",
       "         229050.44176009, 229125.34122792, 229165.88091533, 229174.33317122,\n",
       "         229219.12023974, 229268.74984679, 229305.15862015, 229316.59425427,\n",
       "         229324.58797238, 229327.97952393, 229397.39483672, 229419.30629096,\n",
       "         229440.17635657, 229460.33502904, 229479.35875756, 229490.82242744,\n",
       "         229584.08604337, 229731.13441531, 229840.66114475, 229861.70926496,\n",
       "         229869.73802809, 229870.58201593, 229902.4388833 , 229914.53270716,\n",
       "         229924.01757063, 229935.73940905, 229989.39804184, 230009.2405396 ,\n",
       "         230109.40506553, 230151.63222729, 230154.15792052, 230169.28925476,\n",
       "         230180.28067339, 230186.69767259, 230230.51672253, 230255.18711718,\n",
       "         230356.89098566, 230373.6770853 , 230388.45244148, 230494.0904053 ,\n",
       "         230538.72109025, 230561.95117239, 230592.75391538, 230642.20156047,\n",
       "         230644.61112962, 230655.62820735, 230694.06453578, 230741.99914818,\n",
       "         230744.13904521, 230843.29160927, 230924.15879019, 231078.77946012,\n",
       "         231102.64406995, 231105.26100636, 231126.65347159, 231144.43079121,\n",
       "         231159.18123375, 231168.99351756, 231229.99039555, 231242.77332996,\n",
       "         231250.18006609, 231274.81231522, 231277.36009796, 231297.77151875,\n",
       "         231405.50723481, 231447.33272448, 231454.16735186, 231491.13009305,\n",
       "         231612.51398295, 231626.86000195, 231630.01367606, 231641.80128377,\n",
       "         231686.07424139, 231743.59110416, 231778.48605648, 231796.68689094,\n",
       "         231822.71530876, 231834.52526237, 231841.16843537, 231847.94468109,\n",
       "         231889.02519662, 231891.15671112, 231904.90318583, 231943.50986016,\n",
       "         231976.15649921, 231986.19021072, 232022.94210378, 232022.94326373,\n",
       "         232060.249972  , 232070.18505906, 232080.49825383, 232112.0751555 ,\n",
       "         232158.34210221, 232159.68159014, 232212.82271225, 232221.88527855,\n",
       "         232234.55687667, 232288.99994911, 232300.23849784, 232318.00731408,\n",
       "         232332.24024504, 232332.79357878, 232355.10135964, 232369.909671  ,\n",
       "         232426.56215824, 232475.43128766, 232476.38038154, 232499.69463902,\n",
       "         232543.01405049, 232576.82535673, 232584.22256126, 232591.58336266,\n",
       "         232643.63661991, 232680.66375303, 232682.51374916, 232688.86231708,\n",
       "         232690.72788371, 232738.00862886, 232763.35835627, 232794.90829359,\n",
       "         232802.26370887, 232802.83939775, 232822.11166014, 232844.44399446,\n",
       "         232849.14999985, 232852.67357997, 232864.46255787, 232867.35728818,\n",
       "         232874.26795629, 232901.03264657, 232907.33128006, 232913.85402443,\n",
       "         232915.63496977, 232924.12470366, 232940.25623341, 232974.24816937,\n",
       "         232989.92188182, 233018.08971098, 233053.01367452, 233054.14959162,\n",
       "         233058.47444183, 233068.44312118, 233076.44115288, 233130.40131167,\n",
       "         233146.00071821, 233168.00732236, 233216.13805529, 233230.98079632,\n",
       "         233277.80290755, 233335.13358625, 233340.08468761, 233353.6739633 ,\n",
       "         233353.90007071, 233409.07997472, 233449.15107282, 233453.26340437,\n",
       "         233486.85700236, 233489.7070218 , 233495.00710386, 233510.22267743,\n",
       "         233527.02995087, 233534.19459384, 233534.61469476, 233553.35172754,\n",
       "         233560.20748076, 233577.32741814, 233580.67774868, 233622.55163896,\n",
       "         233627.0998986 , 233633.12618859, 233642.03859082, 233654.16948364,\n",
       "         233683.68409005, 233745.96580247, 233793.06837941, 233799.79588692,\n",
       "         233801.67485364, 233810.44466006, 233846.85657875, 233932.67317125,\n",
       "         233983.25522726, 233999.61128803, 234003.99351293, 234015.02952731,\n",
       "         234015.78179809, 234016.1939086 , 234026.48081843, 234044.46271609,\n",
       "         234079.30765824, 234090.88102026, 234109.56426998, 234158.00781752,\n",
       "         234176.43862122, 234177.27388419, 234190.66056725, 234199.9940889 ,\n",
       "         234200.28814066, 234210.23862323, 234219.0059447 , 234219.24035238,\n",
       "         234267.37875868, 234305.3929516 , 234353.71518158, 234378.6866262 ,\n",
       "         234396.09312079, 234398.28704584, 234410.6518226 , 234437.77511505,\n",
       "         234439.24264789, 234477.19904843, 234500.05847019, 234528.99047413,\n",
       "         234544.24100127, 234555.61245649, 234556.58569479, 234562.29661114,\n",
       "         234573.42920513, 234578.32310362, 234658.05275079, 234659.62738604,\n",
       "         234671.72044042, 234690.09002442, 234697.44527328, 234697.95340228,\n",
       "         234730.15868267, 234738.10086446, 234761.12924811, 234767.71207013,\n",
       "         234770.32429976, 234831.80448896, 234833.34372986, 234844.26202011,\n",
       "         234899.80490194, 234901.20152414, 234913.74536896, 234914.92100871,\n",
       "         234920.02325155, 234923.25346962, 234945.14331674, 234949.84285227,\n",
       "         234966.23578982, 235079.78669094, 235124.29831128, 235173.55812779,\n",
       "         235197.56199026, 235209.1895276 , 235233.304516  , 235243.1194127 ,\n",
       "         235276.94321044, 235295.28129515, 235297.6737049 , 235314.99028476,\n",
       "         235328.1193257 , 235370.28232212, 235406.91941846, 235447.6926634 ,\n",
       "         235450.44366366, 235467.03065626, 235475.25917874, 235486.25821565,\n",
       "         235527.78335842, 235532.48887992, 235539.99675304, 235555.34416548,\n",
       "         235585.09932882, 235600.71233274, 235610.35551478, 235621.01290581,\n",
       "         235634.53288089, 235670.23486866, 235677.8847119 , 235686.89300201,\n",
       "         235693.22456559, 235701.22435854, 235789.03292853, 235827.18643014,\n",
       "         235860.43960367, 235874.53034836, 235891.9372074 , 235898.12460317,\n",
       "         235913.78821164, 235922.05712567, 235952.8737619 , 235982.16081482,\n",
       "         235986.54917865, 236006.95763354, 236023.35631858, 236024.9496436 ,\n",
       "         236062.34469577, 236074.41219381, 236074.87717884, 236120.71387407,\n",
       "         236126.28105619, 236135.44673319, 236139.74747169, 236169.12408456,\n",
       "         236179.583142  , 236186.87684014, 236214.00343627, 236249.68084987,\n",
       "         236262.28480659, 236275.63957212, 236310.61373232, 236310.98649082,\n",
       "         236326.77577223, 236353.06929046, 236375.59385941, 236458.24293013,\n",
       "         236473.18240567, 236485.33128995, 236505.4773025 , 236582.74888215,\n",
       "         236588.92591974, 236591.59621167, 236599.22528894, 236602.15613853,\n",
       "         236613.21242039, 236620.83931459, 236621.88818543, 236643.38365975,\n",
       "         236666.76157891, 236682.61017719, 236769.43946616, 236773.53023544,\n",
       "         236779.18708419, 236805.4229095 , 236850.4595675 , 236863.20373167,\n",
       "         236883.96876908, 236887.24710973, 236889.20380748, 236931.96407127,\n",
       "         236934.86616698, 236967.24131409, 236989.20361006, 236992.30340787,\n",
       "         237014.01548345, 237026.03443034, 237026.48564958, 237042.93503842,\n",
       "         237052.18281189, 237116.4514807 , 237118.22797213, 237129.79357716,\n",
       "         237137.28626059, 237164.36117178, 237169.55024807, 237185.7533537 ,\n",
       "         237209.64348386, 237230.21216385, 237253.29789803, 237291.35703183,\n",
       "         237308.28490347, 237312.49257091, 237341.84969862, 237350.54664675,\n",
       "         237386.30267278, 237401.7270001 , 237425.05755224, 237441.82619078,\n",
       "         237459.30670602, 237460.96264209, 237468.69022219, 237484.04811281,\n",
       "         237522.02779404, 237559.68769953, 237582.82113397, 237605.58087194,\n",
       "         237608.04811988, 237622.46607041, 237644.7380289 , 237659.35089936,\n",
       "         237675.12191623, 237678.59208373, 237691.8205022 , 237695.67867395,\n",
       "         237709.59469895, 237712.99244294, 237729.97524015, 237739.73907232,\n",
       "         237783.71547701, 237823.72246851, 237849.0282509 , 237861.64328043,\n",
       "         237863.42136892, 237895.82030145, 237905.46818005, 237943.10741849,\n",
       "         237953.08525246, 237956.22196547, 237964.00898694, 237992.74355989,\n",
       "         238047.37983408, 238202.07906247, 238242.42477372, 238260.42750618,\n",
       "         238292.21424382, 238315.49994593, 238315.55323167, 238327.21523584,\n",
       "         238357.65493962, 238365.14700852, 238371.68277933, 238374.49069019,\n",
       "         238414.7384683 , 238510.3742138 , 238517.33718956, 238548.67851195,\n",
       "         238668.76818794, 238675.26068614, 238773.5098694 , 238789.74466056,\n",
       "         238803.46875369, 238917.33564767, 239020.54255293, 239040.04788618,\n",
       "         239069.47642513, 239163.15659224, 239192.58134188, 239229.76724884,\n",
       "         239385.28386917, 239416.92506026, 239419.88410479, 239514.81072578,\n",
       "         239548.88742394, 239633.38626966, 239664.47799264, 239771.75586139,\n",
       "         239782.16709645, 239792.75594337, 239809.654541  , 239853.38855804,\n",
       "         239974.68991943, 240030.37241993, 240059.14413151, 240106.8855366 ,\n",
       "         240116.8126627 , 240126.2679206 , 240148.85836623, 240352.17642403,\n",
       "         240392.49171165, 240499.83267513, 240580.62523234, 240630.88232441,\n",
       "         240753.72688502, 240767.64075566, 240777.82755365, 240849.93065389,\n",
       "         240851.51133263, 241537.34750028, 241668.66581564, 241697.81027383,\n",
       "         241851.00501191, 241912.19416008, 242151.61724604, 242206.41198448,\n",
       "         242215.86134967, 242344.13525371, 242630.98481988, 242872.53423079,\n",
       "         242980.46837334, 243042.24878609, 243250.58855794, 243291.13039166,\n",
       "         243301.56381041, 243445.99153437, 243550.34879622, 243837.229044  ,\n",
       "         244732.38076349, 245477.57607148, 246038.44077943, 247849.40077933])),\n",
       " (119.10588114422777, 175294.46016260935, 0.998641669882031))"
      ]
     },
     "execution_count": 106,
     "metadata": {},
     "output_type": "execute_result"
    },
    {
     "data": {
      "image/png": "[encoded data removed]",
      "text/plain": [
       "<Figure size 432x288 with 1 Axes>"
      ]
     },
     "metadata": {
      "needs_background": "light"
     },
     "output_type": "display_data"
    }
   ],
   "source": [
    "np.random.seed(0)\n",
    "scipy.stats.probplot(control_boot_chi_squared, dist=\"chi2\", \n",
    "                     sparams=(n-1), plot=pylab)"
   ]
  },
  {
   "cell_type": "code",
   "execution_count": 105,
   "id": "361350a0-9241-44a4-a797-070dea2f6624",
   "metadata": {},
   "outputs": [
    {
     "data": {
      "text/plain": [
       "0.9959537742082033"
      ]
     },
     "execution_count": 105,
     "metadata": {},
     "output_type": "execute_result"
    }
   ],
   "source": [
    "0.9979748364604206 ** 2"
   ]
  },
  {
   "cell_type": "code",
   "execution_count": 103,
   "id": "e25ab44d-4bc9-4589-84fa-a22457caf21a",
   "metadata": {},
   "outputs": [
    {
     "data": {
      "text/plain": [
       "0.9972851848247712"
      ]
     },
     "execution_count": 103,
     "metadata": {},
     "output_type": "execute_result"
    }
   ],
   "source": [
    "0.998641669882031 ** 2"
   ]
  },
  {
   "cell_type": "code",
   "execution_count": 118,
   "id": "23f2d87b-8f0a-4cf2-a77a-eb06191bd33b",
   "metadata": {},
   "outputs": [
    {
     "data": {
      "text/plain": [
       "MannwhitneyuResult(statistic=array([3.89012599e+10]), pvalue=array([8.69429438e-75]))"
      ]
     },
     "execution_count": 118,
     "metadata": {},
     "output_type": "execute_result"
    }
   ],
   "source": [
    "stats.mannwhitneyu(data_control.groupby(\"userID\").agg({\"n_clicks\": \"sum\"}), data_exp.groupby(\"userID\").agg({\"n_clicks\": \"sum\"}))"
   ]
  },
  {
   "cell_type": "code",
   "execution_count": 170,
   "id": "1ff38b62-c214-4432-a372-5199cb07f908",
   "metadata": {},
   "outputs": [],
   "source": [
    "control_user_n_clicks = data_control.groupby([\"userID\", \"browser\"]).agg({\"n_clicks\": \"sum\"})\n",
    "exp_user_n_clicks = data_exp.groupby([\"userID\", \"browser\"]).agg({\"n_clicks\": \"sum\"})"
   ]
  },
  {
   "cell_type": "code",
   "execution_count": 220,
   "id": "63855e75-8768-4ce2-9ecf-a28ec6954de9",
   "metadata": {},
   "outputs": [],
   "source": [
    "arr = []\n",
    "for i in data_control.browser.unique():\n",
    "    arr.append([i] + list(multipletests(stats.mannwhitneyu(exp_user_n_clicks.xs(i, level=1), control_user_n_clicks.xs(i, level=1))[-1],\\\n",
    "                                       alpha=.05, method=\"holm\"))[0:2])"
   ]
  },
  {
   "cell_type": "code",
   "execution_count": 223,
   "id": "485125db-a833-47d8-b589-db143d1ef951",
   "metadata": {},
   "outputs": [
    {
     "data": {
      "text/plain": [
       "[['Browser #4', array([False]), array([0.81521235])],\n",
       " ['Browser #14', array([ True]), array([0.])],\n",
       " ['Browser #2', array([False]), array([0.05448772])],\n",
       " ['Browser #20', array([False]), array([0.90733313])],\n",
       " ['Browser #22', array([False]), array([0.51481103])],\n",
       " ['Browser #17', array([False]), array([0.0748012])]]"
      ]
     },
     "execution_count": 223,
     "metadata": {},
     "output_type": "execute_result"
    }
   ],
   "source": [
    "arr"
   ]
  },
  {
   "cell_type": "code",
   "execution_count": 237,
   "id": "b31dd3c1-0a1a-4a10-bf8a-f95f2646413e",
   "metadata": {},
   "outputs": [],
   "source": [
    "control_user_n_queries = data_control.groupby([\"browser\"]).agg({\"n_queries\": \"sum\"})\n",
    "exp_user_n_queries = data_exp.groupby([\"browser\"]).agg({\"n_queries\": \"sum\"})\n",
    "\n",
    "control_user_n_no_queries = data_control.groupby([\"browser\"]).agg({\"n_nonclk_queries\": \"sum\"})\n",
    "exp_user_n_no_queries = data_exp.groupby([\"browser\"]).agg({\"n_nonclk_queries\": \"sum\"})"
   ]
  },
  {
   "cell_type": "code",
   "execution_count": 254,
   "id": "f0b3cdb0-1e96-4f7e-88d6-59ad4cc2f9d9",
   "metadata": {},
   "outputs": [
    {
     "data": {
      "text/plain": [
       "browser\n",
       "Browser #14    57.590411\n",
       "Browser #17    36.299367\n",
       "Browser #2     45.962747\n",
       "Browser #20    40.540485\n",
       "Browser #22    40.593977\n",
       "Browser #4     46.970930\n",
       "dtype: float64"
      ]
     },
     "execution_count": 254,
     "metadata": {},
     "output_type": "execute_result"
    }
   ],
   "source": [
    "control_user_n_no_queries.iloc[:, 0] / control_user_n_queries.iloc[:, 0] * 100"
   ]
  },
  {
   "cell_type": "code",
   "execution_count": 239,
   "id": "c0ce5010-a762-4870-b7dd-9a397530787a",
   "metadata": {},
   "outputs": [
    {
     "data": {
      "text/plain": [
       "browser\n",
       "Browser #14    43.755617\n",
       "Browser #17    36.937413\n",
       "Browser #2     44.982747\n",
       "Browser #20    38.977376\n",
       "Browser #22    39.853947\n",
       "Browser #4     45.142942\n",
       "dtype: float64"
      ]
     },
     "execution_count": 239,
     "metadata": {},
     "output_type": "execute_result"
    }
   ],
   "source": [
    "exp_user_n_no_queries.iloc[:, 0] / exp_user_n_queries.iloc[:, 0] * 100"
   ]
  },
  {
   "cell_type": "code",
   "execution_count": null,
   "id": "595c0112-e3b9-44c5-9bfc-b67dee3e16a5",
   "metadata": {},
   "outputs": [],
   "source": []
  }
 ],
 "metadata": {
  "kernelspec": {
   "display_name": "Python 3 (ipykernel)",
   "language": "python",
   "name": "python3"
  },
  "language_info": {
   "codemirror_mode": {
    "name": "ipython",
    "version": 3
   },
   "file_extension": ".py",
   "mimetype": "text/x-python",
   "name": "python",
   "nbconvert_exporter": "python",
   "pygments_lexer": "ipython3",
   "version": "3.8.5"
  }
 },
 "nbformat": 4,
 "nbformat_minor": 5
}
