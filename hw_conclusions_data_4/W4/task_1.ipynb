{
 "cells": [
  {
   "cell_type": "code",
   "execution_count": 1,
   "id": "4d7cbdcd-3dab-4d24-a17e-8bed2a9dfcc2",
   "metadata": {},
   "outputs": [],
   "source": [
    "import statsmodels\n",
    "import scipy as sc\n",
    "import numpy as np\n",
    "import pandas as pd\n",
    "import statsmodels.formula.api as smf\n",
    "import statsmodels.stats.api as sms\n",
    "from statsmodels.graphics.regressionplots import plot_leverage_resid2\n",
    "import matplotlib.pyplot as plt\n",
    "from statsmodels.stats.weightstats import *\n",
    "import statsmodels.stats.multitest as smm"
   ]
  },
  {
   "cell_type": "code",
   "execution_count": 2,
   "id": "4d235320-5489-4453-b5ba-9308bc6fb13c",
   "metadata": {},
   "outputs": [],
   "source": [
    "data = pd.read_csv(\"data/gene_high_throughput_sequencing.csv\")"
   ]
  },
  {
   "cell_type": "code",
   "execution_count": 3,
   "id": "7f769417-fc43-4778-9db6-25444b7e514a",
   "metadata": {},
   "outputs": [
    {
     "data": {
      "text/html": [
       "<div>\n",
       "<style scoped>\n",
       "    .dataframe tbody tr th:only-of-type {\n",
       "        vertical-align: middle;\n",
       "    }\n",
       "\n",
       "    .dataframe tbody tr th {\n",
       "        vertical-align: top;\n",
       "    }\n",
       "\n",
       "    .dataframe thead th {\n",
       "        text-align: right;\n",
       "    }\n",
       "</style>\n",
       "<table border=\"1\" class=\"dataframe\">\n",
       "  <thead>\n",
       "    <tr style=\"text-align: right;\">\n",
       "      <th></th>\n",
       "      <th>Patient_id</th>\n",
       "      <th>Diagnosis</th>\n",
       "      <th>LOC643837</th>\n",
       "      <th>LOC100130417</th>\n",
       "      <th>SAMD11</th>\n",
       "      <th>NOC2L</th>\n",
       "      <th>KLHL17</th>\n",
       "      <th>PLEKHN1</th>\n",
       "      <th>C1orf170</th>\n",
       "      <th>HES4</th>\n",
       "      <th>...</th>\n",
       "      <th>CLIC2</th>\n",
       "      <th>RPS4Y1</th>\n",
       "      <th>ZFY</th>\n",
       "      <th>PRKY</th>\n",
       "      <th>USP9Y</th>\n",
       "      <th>DDX3Y</th>\n",
       "      <th>CD24</th>\n",
       "      <th>CYorf15B</th>\n",
       "      <th>KDM5D</th>\n",
       "      <th>EIF1AY</th>\n",
       "    </tr>\n",
       "  </thead>\n",
       "  <tbody>\n",
       "    <tr>\n",
       "      <th>0</th>\n",
       "      <td>STT5425_Breast_001_normal</td>\n",
       "      <td>normal</td>\n",
       "      <td>1.257614</td>\n",
       "      <td>2.408148</td>\n",
       "      <td>13.368622</td>\n",
       "      <td>9.494779</td>\n",
       "      <td>20.880435</td>\n",
       "      <td>12.722017</td>\n",
       "      <td>9.494779</td>\n",
       "      <td>54.349694</td>\n",
       "      <td>...</td>\n",
       "      <td>4.761250</td>\n",
       "      <td>1.257614</td>\n",
       "      <td>1.257614</td>\n",
       "      <td>1.257614</td>\n",
       "      <td>1.257614</td>\n",
       "      <td>1.257614</td>\n",
       "      <td>23.268694</td>\n",
       "      <td>1.257614</td>\n",
       "      <td>1.257614</td>\n",
       "      <td>1.257614</td>\n",
       "    </tr>\n",
       "    <tr>\n",
       "      <th>1</th>\n",
       "      <td>STT5427_Breast_023_normal</td>\n",
       "      <td>normal</td>\n",
       "      <td>4.567931</td>\n",
       "      <td>16.602734</td>\n",
       "      <td>42.477752</td>\n",
       "      <td>25.562376</td>\n",
       "      <td>23.221137</td>\n",
       "      <td>11.622386</td>\n",
       "      <td>14.330573</td>\n",
       "      <td>72.445474</td>\n",
       "      <td>...</td>\n",
       "      <td>6.871902</td>\n",
       "      <td>1.815112</td>\n",
       "      <td>1.815112</td>\n",
       "      <td>1.815112</td>\n",
       "      <td>1.815112</td>\n",
       "      <td>1.815112</td>\n",
       "      <td>10.427023</td>\n",
       "      <td>1.815112</td>\n",
       "      <td>1.815112</td>\n",
       "      <td>1.815112</td>\n",
       "    </tr>\n",
       "    <tr>\n",
       "      <th>2</th>\n",
       "      <td>STT5430_Breast_002_normal</td>\n",
       "      <td>normal</td>\n",
       "      <td>2.077597</td>\n",
       "      <td>3.978294</td>\n",
       "      <td>12.863214</td>\n",
       "      <td>13.728915</td>\n",
       "      <td>14.543176</td>\n",
       "      <td>14.141907</td>\n",
       "      <td>6.232790</td>\n",
       "      <td>57.011005</td>\n",
       "      <td>...</td>\n",
       "      <td>7.096343</td>\n",
       "      <td>2.077597</td>\n",
       "      <td>2.077597</td>\n",
       "      <td>2.077597</td>\n",
       "      <td>2.077597</td>\n",
       "      <td>2.077597</td>\n",
       "      <td>22.344226</td>\n",
       "      <td>2.077597</td>\n",
       "      <td>2.077597</td>\n",
       "      <td>2.077597</td>\n",
       "    </tr>\n",
       "    <tr>\n",
       "      <th>3</th>\n",
       "      <td>STT5439_Breast_003_normal</td>\n",
       "      <td>normal</td>\n",
       "      <td>2.066576</td>\n",
       "      <td>8.520713</td>\n",
       "      <td>14.466035</td>\n",
       "      <td>7.823932</td>\n",
       "      <td>8.520713</td>\n",
       "      <td>2.066576</td>\n",
       "      <td>10.870009</td>\n",
       "      <td>53.292034</td>\n",
       "      <td>...</td>\n",
       "      <td>5.200770</td>\n",
       "      <td>2.066576</td>\n",
       "      <td>2.066576</td>\n",
       "      <td>2.066576</td>\n",
       "      <td>2.066576</td>\n",
       "      <td>2.066576</td>\n",
       "      <td>49.295538</td>\n",
       "      <td>2.066576</td>\n",
       "      <td>2.066576</td>\n",
       "      <td>2.066576</td>\n",
       "    </tr>\n",
       "    <tr>\n",
       "      <th>4</th>\n",
       "      <td>STT5441_Breast_004_normal</td>\n",
       "      <td>normal</td>\n",
       "      <td>2.613616</td>\n",
       "      <td>3.434965</td>\n",
       "      <td>12.682222</td>\n",
       "      <td>10.543189</td>\n",
       "      <td>26.688686</td>\n",
       "      <td>12.484822</td>\n",
       "      <td>1.364917</td>\n",
       "      <td>67.140393</td>\n",
       "      <td>...</td>\n",
       "      <td>11.227770</td>\n",
       "      <td>1.364917</td>\n",
       "      <td>1.364917</td>\n",
       "      <td>1.364917</td>\n",
       "      <td>1.364917</td>\n",
       "      <td>1.364917</td>\n",
       "      <td>23.627911</td>\n",
       "      <td>1.364917</td>\n",
       "      <td>1.364917</td>\n",
       "      <td>1.364917</td>\n",
       "    </tr>\n",
       "    <tr>\n",
       "      <th>...</th>\n",
       "      <td>...</td>\n",
       "      <td>...</td>\n",
       "      <td>...</td>\n",
       "      <td>...</td>\n",
       "      <td>...</td>\n",
       "      <td>...</td>\n",
       "      <td>...</td>\n",
       "      <td>...</td>\n",
       "      <td>...</td>\n",
       "      <td>...</td>\n",
       "      <td>...</td>\n",
       "      <td>...</td>\n",
       "      <td>...</td>\n",
       "      <td>...</td>\n",
       "      <td>...</td>\n",
       "      <td>...</td>\n",
       "      <td>...</td>\n",
       "      <td>...</td>\n",
       "      <td>...</td>\n",
       "      <td>...</td>\n",
       "      <td>...</td>\n",
       "    </tr>\n",
       "    <tr>\n",
       "      <th>67</th>\n",
       "      <td>STT5750_Breast_021_DCIS</td>\n",
       "      <td>cancer</td>\n",
       "      <td>1.466240</td>\n",
       "      <td>3.689955</td>\n",
       "      <td>21.331981</td>\n",
       "      <td>19.359546</td>\n",
       "      <td>23.505609</td>\n",
       "      <td>11.576176</td>\n",
       "      <td>11.325851</td>\n",
       "      <td>80.572057</td>\n",
       "      <td>...</td>\n",
       "      <td>2.807635</td>\n",
       "      <td>1.466240</td>\n",
       "      <td>2.807635</td>\n",
       "      <td>1.466240</td>\n",
       "      <td>2.807635</td>\n",
       "      <td>3.689955</td>\n",
       "      <td>18.449777</td>\n",
       "      <td>1.466240</td>\n",
       "      <td>1.466240</td>\n",
       "      <td>1.466240</td>\n",
       "    </tr>\n",
       "    <tr>\n",
       "      <th>68</th>\n",
       "      <td>STT5751_Breast_021_IDC</td>\n",
       "      <td>cancer</td>\n",
       "      <td>2.492410</td>\n",
       "      <td>12.279444</td>\n",
       "      <td>30.087759</td>\n",
       "      <td>17.703926</td>\n",
       "      <td>26.064890</td>\n",
       "      <td>10.707081</td>\n",
       "      <td>11.520120</td>\n",
       "      <td>65.041865</td>\n",
       "      <td>...</td>\n",
       "      <td>2.492410</td>\n",
       "      <td>2.492410</td>\n",
       "      <td>1.301619</td>\n",
       "      <td>3.275668</td>\n",
       "      <td>1.301619</td>\n",
       "      <td>1.301619</td>\n",
       "      <td>8.601194</td>\n",
       "      <td>1.301619</td>\n",
       "      <td>1.301619</td>\n",
       "      <td>1.301619</td>\n",
       "    </tr>\n",
       "    <tr>\n",
       "      <th>69</th>\n",
       "      <td>STT5758_Breast_022_IDC</td>\n",
       "      <td>cancer</td>\n",
       "      <td>3.530477</td>\n",
       "      <td>20.006038</td>\n",
       "      <td>53.924651</td>\n",
       "      <td>25.449565</td>\n",
       "      <td>30.949995</td>\n",
       "      <td>16.794696</td>\n",
       "      <td>17.121366</td>\n",
       "      <td>70.958462</td>\n",
       "      <td>...</td>\n",
       "      <td>1.176826</td>\n",
       "      <td>1.176826</td>\n",
       "      <td>1.176826</td>\n",
       "      <td>2.961613</td>\n",
       "      <td>1.176826</td>\n",
       "      <td>1.176826</td>\n",
       "      <td>10.764365</td>\n",
       "      <td>1.176826</td>\n",
       "      <td>1.176826</td>\n",
       "      <td>1.176826</td>\n",
       "    </tr>\n",
       "    <tr>\n",
       "      <th>70</th>\n",
       "      <td>STT5763_Breast_022_IDC</td>\n",
       "      <td>cancer</td>\n",
       "      <td>3.733734</td>\n",
       "      <td>8.860505</td>\n",
       "      <td>32.538666</td>\n",
       "      <td>21.585069</td>\n",
       "      <td>24.987992</td>\n",
       "      <td>11.460224</td>\n",
       "      <td>11.201202</td>\n",
       "      <td>67.767125</td>\n",
       "      <td>...</td>\n",
       "      <td>2.840946</td>\n",
       "      <td>1.483635</td>\n",
       "      <td>1.483635</td>\n",
       "      <td>1.483635</td>\n",
       "      <td>1.483635</td>\n",
       "      <td>1.483635</td>\n",
       "      <td>8.522837</td>\n",
       "      <td>1.483635</td>\n",
       "      <td>1.483635</td>\n",
       "      <td>1.483635</td>\n",
       "    </tr>\n",
       "    <tr>\n",
       "      <th>71</th>\n",
       "      <td>STT5825_Breast_024_IDC</td>\n",
       "      <td>cancer</td>\n",
       "      <td>0.833898</td>\n",
       "      <td>18.084880</td>\n",
       "      <td>60.584449</td>\n",
       "      <td>29.659104</td>\n",
       "      <td>31.093687</td>\n",
       "      <td>13.298860</td>\n",
       "      <td>11.010397</td>\n",
       "      <td>55.771485</td>\n",
       "      <td>...</td>\n",
       "      <td>3.698096</td>\n",
       "      <td>1.596792</td>\n",
       "      <td>1.596792</td>\n",
       "      <td>3.698096</td>\n",
       "      <td>0.833898</td>\n",
       "      <td>0.833898</td>\n",
       "      <td>13.978672</td>\n",
       "      <td>0.833898</td>\n",
       "      <td>2.848303</td>\n",
       "      <td>0.833898</td>\n",
       "    </tr>\n",
       "  </tbody>\n",
       "</table>\n",
       "<p>72 rows × 15750 columns</p>\n",
       "</div>"
      ],
      "text/plain": [
       "                   Patient_id Diagnosis  LOC643837  LOC100130417     SAMD11  \\\n",
       "0   STT5425_Breast_001_normal    normal   1.257614      2.408148  13.368622   \n",
       "1   STT5427_Breast_023_normal    normal   4.567931     16.602734  42.477752   \n",
       "2   STT5430_Breast_002_normal    normal   2.077597      3.978294  12.863214   \n",
       "3   STT5439_Breast_003_normal    normal   2.066576      8.520713  14.466035   \n",
       "4   STT5441_Breast_004_normal    normal   2.613616      3.434965  12.682222   \n",
       "..                        ...       ...        ...           ...        ...   \n",
       "67    STT5750_Breast_021_DCIS    cancer   1.466240      3.689955  21.331981   \n",
       "68     STT5751_Breast_021_IDC    cancer   2.492410     12.279444  30.087759   \n",
       "69     STT5758_Breast_022_IDC    cancer   3.530477     20.006038  53.924651   \n",
       "70     STT5763_Breast_022_IDC    cancer   3.733734      8.860505  32.538666   \n",
       "71     STT5825_Breast_024_IDC    cancer   0.833898     18.084880  60.584449   \n",
       "\n",
       "        NOC2L     KLHL17    PLEKHN1   C1orf170       HES4  ...      CLIC2  \\\n",
       "0    9.494779  20.880435  12.722017   9.494779  54.349694  ...   4.761250   \n",
       "1   25.562376  23.221137  11.622386  14.330573  72.445474  ...   6.871902   \n",
       "2   13.728915  14.543176  14.141907   6.232790  57.011005  ...   7.096343   \n",
       "3    7.823932   8.520713   2.066576  10.870009  53.292034  ...   5.200770   \n",
       "4   10.543189  26.688686  12.484822   1.364917  67.140393  ...  11.227770   \n",
       "..        ...        ...        ...        ...        ...  ...        ...   \n",
       "67  19.359546  23.505609  11.576176  11.325851  80.572057  ...   2.807635   \n",
       "68  17.703926  26.064890  10.707081  11.520120  65.041865  ...   2.492410   \n",
       "69  25.449565  30.949995  16.794696  17.121366  70.958462  ...   1.176826   \n",
       "70  21.585069  24.987992  11.460224  11.201202  67.767125  ...   2.840946   \n",
       "71  29.659104  31.093687  13.298860  11.010397  55.771485  ...   3.698096   \n",
       "\n",
       "      RPS4Y1       ZFY      PRKY     USP9Y     DDX3Y       CD24  CYorf15B  \\\n",
       "0   1.257614  1.257614  1.257614  1.257614  1.257614  23.268694  1.257614   \n",
       "1   1.815112  1.815112  1.815112  1.815112  1.815112  10.427023  1.815112   \n",
       "2   2.077597  2.077597  2.077597  2.077597  2.077597  22.344226  2.077597   \n",
       "3   2.066576  2.066576  2.066576  2.066576  2.066576  49.295538  2.066576   \n",
       "4   1.364917  1.364917  1.364917  1.364917  1.364917  23.627911  1.364917   \n",
       "..       ...       ...       ...       ...       ...        ...       ...   \n",
       "67  1.466240  2.807635  1.466240  2.807635  3.689955  18.449777  1.466240   \n",
       "68  2.492410  1.301619  3.275668  1.301619  1.301619   8.601194  1.301619   \n",
       "69  1.176826  1.176826  2.961613  1.176826  1.176826  10.764365  1.176826   \n",
       "70  1.483635  1.483635  1.483635  1.483635  1.483635   8.522837  1.483635   \n",
       "71  1.596792  1.596792  3.698096  0.833898  0.833898  13.978672  0.833898   \n",
       "\n",
       "       KDM5D    EIF1AY  \n",
       "0   1.257614  1.257614  \n",
       "1   1.815112  1.815112  \n",
       "2   2.077597  2.077597  \n",
       "3   2.066576  2.066576  \n",
       "4   1.364917  1.364917  \n",
       "..       ...       ...  \n",
       "67  1.466240  1.466240  \n",
       "68  1.301619  1.301619  \n",
       "69  1.176826  1.176826  \n",
       "70  1.483635  1.483635  \n",
       "71  2.848303  0.833898  \n",
       "\n",
       "[72 rows x 15750 columns]"
      ]
     },
     "execution_count": 3,
     "metadata": {},
     "output_type": "execute_result"
    }
   ],
   "source": [
    "data"
   ]
  },
  {
   "cell_type": "markdown",
   "id": "8b458de3-c057-4eb1-b6b2-3c8758ba4c9f",
   "metadata": {},
   "source": [
    "### P1"
   ]
  },
  {
   "cell_type": "markdown",
   "id": "ab1cd8cd-8063-4423-90a4-f5ec09bc2ace",
   "metadata": {},
   "source": [
    "#### для групп normal (control) и early neoplasia (treatment)"
   ]
  },
  {
   "cell_type": "code",
   "execution_count": 4,
   "id": "215c650b-194c-4507-b5b1-11aaac55cff2",
   "metadata": {},
   "outputs": [],
   "source": [
    "control_1 = data.query(\"Diagnosis == 'normal'\").drop([\"Diagnosis\", \"Patient_id\"], axis=1)\n",
    "treatment_1 = data.query(\"Diagnosis == 'early neoplasia'\").drop([\"Diagnosis\", \"Patient_id\"], axis=1)\n",
    "control_2 = data.query(\"Diagnosis == 'early neoplasia'\").drop([\"Diagnosis\", \"Patient_id\"], axis=1)\n",
    "treatment_2 = data.query(\"Diagnosis == 'cancer'\").drop([\"Diagnosis\", \"Patient_id\"], axis=1)"
   ]
  },
  {
   "cell_type": "code",
   "execution_count": 5,
   "id": "0adbc327-8c5f-4b5b-b8f1-6eb8259069b9",
   "metadata": {},
   "outputs": [],
   "source": [
    "mask1 = sc.stats.ttest_ind(control_1, treatment_1, equal_var=False).pvalue < .05"
   ]
  },
  {
   "cell_type": "code",
   "execution_count": 6,
   "id": "44d250c2-0b05-471a-add3-fd07b93ce76d",
   "metadata": {},
   "outputs": [],
   "source": [
    "mask2 = sc.stats.ttest_ind(control_2, treatment_2, equal_var=False).pvalue < .05"
   ]
  },
  {
   "cell_type": "code",
   "execution_count": 7,
   "id": "74d9e3bc-d225-4ec3-abc0-b74c7a4bfc9d",
   "metadata": {},
   "outputs": [
    {
     "data": {
      "text/plain": [
       "1575"
      ]
     },
     "execution_count": 7,
     "metadata": {},
     "output_type": "execute_result"
    }
   ],
   "source": [
    "mask1.sum()"
   ]
  },
  {
   "cell_type": "code",
   "execution_count": 8,
   "id": "60f49cfc-be53-4e14-9469-4bfd6a44c8ac",
   "metadata": {},
   "outputs": [
    {
     "data": {
      "text/plain": [
       "3490"
      ]
     },
     "execution_count": 8,
     "metadata": {},
     "output_type": "execute_result"
    }
   ],
   "source": [
    "mask2.sum()"
   ]
  },
  {
   "cell_type": "markdown",
   "id": "ea8ed066-e713-44a3-b7b3-182b0bffc639",
   "metadata": {},
   "source": [
    "### P2"
   ]
  },
  {
   "cell_type": "code",
   "execution_count": 15,
   "id": "6384781f-99d3-45a1-b747-2c6029bb3bdd",
   "metadata": {},
   "outputs": [],
   "source": [
    "sign_1 = sc.stats.ttest_ind(control_1, treatment_1, equal_var=False)\n",
    "sign_2 = sc.stats.ttest_ind(control_2, treatment_2, equal_var=False)"
   ]
  },
  {
   "cell_type": "code",
   "execution_count": 54,
   "id": "4f4abb04-7bb4-4049-9aef-a931971b15fe",
   "metadata": {},
   "outputs": [],
   "source": [
    "h_s_1 = smm.multipletests(sign_1.pvalue, alpha = 0.025, method = 'fdr_bh')\n",
    "h_s_2 = smm.multipletests(sign_2.pvalue, alpha = 0.025, method = 'fdr_bh')"
   ]
  },
  {
   "cell_type": "code",
   "execution_count": 40,
   "id": "94c6b1c6-71c9-4175-9abd-3fcc98108765",
   "metadata": {},
   "outputs": [],
   "source": [
    "def fold_change(T, C):\n",
    "    arr = []\n",
    "    for v in zip(T, C):\n",
    "        arr.append(v[0] / v[1] if v[0] >= v[1] else - v[1] / v[0])\n",
    "    arr = np.array(arr)\n",
    "    return np.sum(np.abs(arr) > 1.5)"
   ]
  },
  {
   "cell_type": "code",
   "execution_count": 55,
   "id": "7b7819da-e9c4-4f80-8e28-514d618661ca",
   "metadata": {},
   "outputs": [],
   "source": [
    "c1 = control_1.mean()[h_s_1[1] < .025]\n",
    "t1 = treatment_1.mean()[h_s_1[1] < .025]"
   ]
  },
  {
   "cell_type": "code",
   "execution_count": 56,
   "id": "27fe4794-4705-4c59-a1b8-b1a267a3d7e8",
   "metadata": {},
   "outputs": [
    {
     "data": {
      "text/plain": [
       "4"
      ]
     },
     "execution_count": 56,
     "metadata": {},
     "output_type": "execute_result"
    }
   ],
   "source": [
    "fold_change(t1.values, c1.values)"
   ]
  },
  {
   "cell_type": "code",
   "execution_count": 57,
   "id": "2d69d8e5-b870-49fa-8564-0f4d2eca51a8",
   "metadata": {},
   "outputs": [],
   "source": [
    "c2 = control_2.mean()[h_s_2[1] < .025]\n",
    "t2 = treatment_2.mean()[h_s_2[1] < .025]"
   ]
  },
  {
   "cell_type": "code",
   "execution_count": 58,
   "id": "407690de-3ae0-44bf-8e95-f46ca77cc798",
   "metadata": {},
   "outputs": [
    {
     "data": {
      "text/plain": [
       "524"
      ]
     },
     "execution_count": 58,
     "metadata": {},
     "output_type": "execute_result"
    }
   ],
   "source": [
    "fold_change(t2.values, c2.values)"
   ]
  },
  {
   "cell_type": "code",
   "execution_count": null,
   "id": "6194f49f-9ba3-4a1f-939d-212530fd41bc",
   "metadata": {},
   "outputs": [],
   "source": []
  }
 ],
 "metadata": {
  "kernelspec": {
   "display_name": "Python 3 (ipykernel)",
   "language": "python",
   "name": "python3"
  },
  "language_info": {
   "codemirror_mode": {
    "name": "ipython",
    "version": 3
   },
   "file_extension": ".py",
   "mimetype": "text/x-python",
   "name": "python",
   "nbconvert_exporter": "python",
   "pygments_lexer": "ipython3",
   "version": "3.8.5"
  }
 },
 "nbformat": 4,
 "nbformat_minor": 5
}
