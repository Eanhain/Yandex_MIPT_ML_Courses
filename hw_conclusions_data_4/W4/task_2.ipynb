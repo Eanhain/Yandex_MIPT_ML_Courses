{
 "cells": [
  {
   "cell_type": "code",
   "execution_count": 1,
   "id": "f6e03589-bc35-49ca-9458-523500bb0fc3",
   "metadata": {},
   "outputs": [],
   "source": [
    "import statsmodels\n",
    "import scipy as sc\n",
    "import numpy as np\n",
    "import pandas as pd\n",
    "import statsmodels.formula.api as smf\n",
    "import statsmodels.stats.api as sms\n",
    "from statsmodels.graphics.regressionplots import plot_leverage_resid2\n",
    "import matplotlib.pyplot as plt\n",
    "from statsmodels.stats.weightstats import *\n",
    "import statsmodels.stats.multitest as smm\n",
    "import scipy\n",
    "import seaborn as sns"
   ]
  },
  {
   "cell_type": "code",
   "execution_count": 2,
   "id": "f5fcbef6-4bab-439e-84bf-17281779be1a",
   "metadata": {},
   "outputs": [],
   "source": [
    "data = pd.read_csv(\"data/credit_card_default_analysis.csv\")"
   ]
  },
  {
   "cell_type": "code",
   "execution_count": 3,
   "id": "6ca7b3a7-6036-46ea-b2d0-b785b6a6fa4c",
   "metadata": {},
   "outputs": [
    {
     "data": {
      "text/html": [
       "<div>\n",
       "<style scoped>\n",
       "    .dataframe tbody tr th:only-of-type {\n",
       "        vertical-align: middle;\n",
       "    }\n",
       "\n",
       "    .dataframe tbody tr th {\n",
       "        vertical-align: top;\n",
       "    }\n",
       "\n",
       "    .dataframe thead th {\n",
       "        text-align: right;\n",
       "    }\n",
       "</style>\n",
       "<table border=\"1\" class=\"dataframe\">\n",
       "  <thead>\n",
       "    <tr style=\"text-align: right;\">\n",
       "      <th></th>\n",
       "      <th>ID</th>\n",
       "      <th>LIMIT_BAL</th>\n",
       "      <th>SEX</th>\n",
       "      <th>EDUCATION</th>\n",
       "      <th>MARRIAGE</th>\n",
       "      <th>AGE</th>\n",
       "      <th>PAY_0</th>\n",
       "      <th>PAY_2</th>\n",
       "      <th>PAY_3</th>\n",
       "      <th>PAY_4</th>\n",
       "      <th>...</th>\n",
       "      <th>BILL_AMT4</th>\n",
       "      <th>BILL_AMT5</th>\n",
       "      <th>BILL_AMT6</th>\n",
       "      <th>PAY_AMT1</th>\n",
       "      <th>PAY_AMT2</th>\n",
       "      <th>PAY_AMT3</th>\n",
       "      <th>PAY_AMT4</th>\n",
       "      <th>PAY_AMT5</th>\n",
       "      <th>PAY_AMT6</th>\n",
       "      <th>default</th>\n",
       "    </tr>\n",
       "  </thead>\n",
       "  <tbody>\n",
       "    <tr>\n",
       "      <th>0</th>\n",
       "      <td>1</td>\n",
       "      <td>20000</td>\n",
       "      <td>2</td>\n",
       "      <td>2</td>\n",
       "      <td>1</td>\n",
       "      <td>24</td>\n",
       "      <td>2</td>\n",
       "      <td>2</td>\n",
       "      <td>0</td>\n",
       "      <td>0</td>\n",
       "      <td>...</td>\n",
       "      <td>0</td>\n",
       "      <td>0</td>\n",
       "      <td>0</td>\n",
       "      <td>0</td>\n",
       "      <td>689</td>\n",
       "      <td>0</td>\n",
       "      <td>0</td>\n",
       "      <td>0</td>\n",
       "      <td>0</td>\n",
       "      <td>1</td>\n",
       "    </tr>\n",
       "    <tr>\n",
       "      <th>1</th>\n",
       "      <td>2</td>\n",
       "      <td>120000</td>\n",
       "      <td>2</td>\n",
       "      <td>2</td>\n",
       "      <td>2</td>\n",
       "      <td>26</td>\n",
       "      <td>0</td>\n",
       "      <td>2</td>\n",
       "      <td>0</td>\n",
       "      <td>0</td>\n",
       "      <td>...</td>\n",
       "      <td>3272</td>\n",
       "      <td>3455</td>\n",
       "      <td>3261</td>\n",
       "      <td>0</td>\n",
       "      <td>1000</td>\n",
       "      <td>1000</td>\n",
       "      <td>1000</td>\n",
       "      <td>0</td>\n",
       "      <td>2000</td>\n",
       "      <td>1</td>\n",
       "    </tr>\n",
       "    <tr>\n",
       "      <th>2</th>\n",
       "      <td>3</td>\n",
       "      <td>90000</td>\n",
       "      <td>2</td>\n",
       "      <td>2</td>\n",
       "      <td>2</td>\n",
       "      <td>34</td>\n",
       "      <td>0</td>\n",
       "      <td>0</td>\n",
       "      <td>0</td>\n",
       "      <td>0</td>\n",
       "      <td>...</td>\n",
       "      <td>14331</td>\n",
       "      <td>14948</td>\n",
       "      <td>15549</td>\n",
       "      <td>1518</td>\n",
       "      <td>1500</td>\n",
       "      <td>1000</td>\n",
       "      <td>1000</td>\n",
       "      <td>1000</td>\n",
       "      <td>5000</td>\n",
       "      <td>0</td>\n",
       "    </tr>\n",
       "    <tr>\n",
       "      <th>3</th>\n",
       "      <td>4</td>\n",
       "      <td>50000</td>\n",
       "      <td>2</td>\n",
       "      <td>2</td>\n",
       "      <td>1</td>\n",
       "      <td>37</td>\n",
       "      <td>0</td>\n",
       "      <td>0</td>\n",
       "      <td>0</td>\n",
       "      <td>0</td>\n",
       "      <td>...</td>\n",
       "      <td>28314</td>\n",
       "      <td>28959</td>\n",
       "      <td>29547</td>\n",
       "      <td>2000</td>\n",
       "      <td>2019</td>\n",
       "      <td>1200</td>\n",
       "      <td>1100</td>\n",
       "      <td>1069</td>\n",
       "      <td>1000</td>\n",
       "      <td>0</td>\n",
       "    </tr>\n",
       "    <tr>\n",
       "      <th>4</th>\n",
       "      <td>5</td>\n",
       "      <td>50000</td>\n",
       "      <td>1</td>\n",
       "      <td>2</td>\n",
       "      <td>1</td>\n",
       "      <td>57</td>\n",
       "      <td>0</td>\n",
       "      <td>0</td>\n",
       "      <td>0</td>\n",
       "      <td>0</td>\n",
       "      <td>...</td>\n",
       "      <td>20940</td>\n",
       "      <td>19146</td>\n",
       "      <td>19131</td>\n",
       "      <td>2000</td>\n",
       "      <td>36681</td>\n",
       "      <td>10000</td>\n",
       "      <td>9000</td>\n",
       "      <td>689</td>\n",
       "      <td>679</td>\n",
       "      <td>0</td>\n",
       "    </tr>\n",
       "  </tbody>\n",
       "</table>\n",
       "<p>5 rows × 25 columns</p>\n",
       "</div>"
      ],
      "text/plain": [
       "   ID  LIMIT_BAL  SEX  EDUCATION  MARRIAGE  AGE  PAY_0  PAY_2  PAY_3  PAY_4  \\\n",
       "0   1      20000    2          2         1   24      2      2      0      0   \n",
       "1   2     120000    2          2         2   26      0      2      0      0   \n",
       "2   3      90000    2          2         2   34      0      0      0      0   \n",
       "3   4      50000    2          2         1   37      0      0      0      0   \n",
       "4   5      50000    1          2         1   57      0      0      0      0   \n",
       "\n",
       "   ...  BILL_AMT4  BILL_AMT5  BILL_AMT6  PAY_AMT1  PAY_AMT2  PAY_AMT3  \\\n",
       "0  ...          0          0          0         0       689         0   \n",
       "1  ...       3272       3455       3261         0      1000      1000   \n",
       "2  ...      14331      14948      15549      1518      1500      1000   \n",
       "3  ...      28314      28959      29547      2000      2019      1200   \n",
       "4  ...      20940      19146      19131      2000     36681     10000   \n",
       "\n",
       "   PAY_AMT4  PAY_AMT5  PAY_AMT6  default  \n",
       "0         0         0         0        1  \n",
       "1      1000         0      2000        1  \n",
       "2      1000      1000      5000        0  \n",
       "3      1100      1069      1000        0  \n",
       "4      9000       689       679        0  \n",
       "\n",
       "[5 rows x 25 columns]"
      ]
     },
     "execution_count": 3,
     "metadata": {},
     "output_type": "execute_result"
    }
   ],
   "source": [
    "data.head()"
   ]
  },
  {
   "cell_type": "markdown",
   "id": "6764eab6-f13f-4755-8a25-8c9bb2227115",
   "metadata": {},
   "source": [
    "### Задание 1"
   ]
  },
  {
   "cell_type": "markdown",
   "id": "8ddd0d3e-bfa2-4ca1-8525-ed731eab3d29",
   "metadata": {
    "tags": []
   },
   "source": [
    "#### Гипотеза:   "
   ]
  },
  {
   "cell_type": "markdown",
   "id": "bc49a3f7-3767-4674-999a-5e750c8520aa",
   "metadata": {},
   "source": [
    "a) о равенстве медианных значений кредитного лимита с помощью подходящей интервальной оценки против обратной"
   ]
  },
  {
   "cell_type": "code",
   "execution_count": 4,
   "id": "b29e3f94-ca3e-41ed-8c9f-4690b519c0f7",
   "metadata": {},
   "outputs": [],
   "source": [
    "ret = data.query(\"default == 0\")\n",
    "not_ret = data.query(\"default == 1\")"
   ]
  },
  {
   "cell_type": "code",
   "execution_count": 5,
   "id": "f2a87f27-d0b8-40a9-93be-56117a7f1d91",
   "metadata": {},
   "outputs": [
    {
     "data": {
      "image/png": "[encoded data removed]",
      "text/plain": [
       "<Figure size 432x288 with 1 Axes>"
      ]
     },
     "metadata": {
      "needs_background": "light"
     },
     "output_type": "display_data"
    }
   ],
   "source": [
    "data.boxplot(column=[\"LIMIT_BAL\"], by=\"default\");"
   ]
  },
  {
   "cell_type": "code",
   "execution_count": 6,
   "id": "f535e13e-52df-43de-ae3d-c42b38325e6f",
   "metadata": {},
   "outputs": [],
   "source": [
    "def get_bootstrap_samples(data, n_samples):\n",
    "    indices = np.random.randint(0, len(data), (n_samples, len(data)))\n",
    "    samples = data[indices]\n",
    "    return samples\n",
    "def stat_intervals(stat, alpha):\n",
    "    boundaries = np.percentile(stat, [100 * alpha / 2., 100 * (1 - alpha / 2.)])\n",
    "    return boundaries"
   ]
  },
  {
   "cell_type": "code",
   "execution_count": 7,
   "id": "dbae1bf9-7478-4d22-a00d-1a3424406f74",
   "metadata": {},
   "outputs": [
    {
     "name": "stdout",
     "output_type": "stream",
     "text": [
      "95% confidence interval for the return debt LIMIT_BAL: [150000. 150000.]\n",
      "95% confidence interval for the not return debt LIMIT_BAL: [80000. 90000.]\n"
     ]
    }
   ],
   "source": [
    "np.random.seed(0)\n",
    "\n",
    "ret_med_sample_lim = list(map(np.median, get_bootstrap_samples(ret.LIMIT_BAL.values, 10000)))\n",
    "not_ret_med_sample_lim = list(map(np.median, get_bootstrap_samples(not_ret.LIMIT_BAL.values, 10000)))\n",
    "\n",
    "print(\"95% confidence interval for the return debt LIMIT_BAL:\",  stat_intervals(ret_med_sample_lim, 0.05))\n",
    "print(\"95% confidence interval for the not return debt LIMIT_BAL:\",  stat_intervals(not_ret_med_sample_lim, 0.05))"
   ]
  },
  {
   "cell_type": "code",
   "execution_count": 8,
   "id": "91146320-4a14-4a59-81a5-c3177e122b75",
   "metadata": {},
   "outputs": [
    {
     "name": "stdout",
     "output_type": "stream",
     "text": [
      "difference between medians: 60000.0\n"
     ]
    }
   ],
   "source": [
    "print(\"difference between medians:\", np.median(ret_med_sample_lim) - np.median(not_ret_med_sample_lim))"
   ]
  },
  {
   "cell_type": "markdown",
   "id": "2355a885-b5db-4788-bb7b-f607267b602a",
   "metadata": {},
   "source": [
    "b) о равенстве распределений с помощью одного из подходящих непараметрических критериев проверки равенства средних"
   ]
  },
  {
   "cell_type": "code",
   "execution_count": 9,
   "id": "b109386f-4f1a-4a02-8cc6-236caff9f895",
   "metadata": {},
   "outputs": [
    {
     "data": {
      "text/plain": [
       "MannwhitneyuResult(statistic=95786286.5, pvalue=1.2255485818223303e-189)"
      ]
     },
     "execution_count": 9,
     "metadata": {},
     "output_type": "execute_result"
    }
   ],
   "source": [
    "stats.mannwhitneyu(ret.LIMIT_BAL.values, not_ret.LIMIT_BAL.values)"
   ]
  },
  {
   "cell_type": "markdown",
   "id": "226d98c1-4423-4728-9f0f-0c413e17104e",
   "metadata": {},
   "source": [
    "Результаты значимы как практически (разница между медианами достаточно большая), так и статистически.  \n",
    "H0 отвергается на достигаемом уровне значимости 1.2255485818223303e-189"
   ]
  },
  {
   "cell_type": "markdown",
   "id": "b3f03893-711f-4469-afd9-2c8922fa3d27",
   "metadata": {},
   "source": [
    "### Задание 2"
   ]
  },
  {
   "cell_type": "markdown",
   "id": "cd02c0f6-e0ec-40ee-9ba3-6137f674b766",
   "metadata": {},
   "source": [
    "Пол (SEX)  \n",
    "Гипотеза о том, что гендерный состав группы людей вернувших и не вернувших кредит отличается против альтернативы"
   ]
  },
  {
   "cell_type": "code",
   "execution_count": 10,
   "id": "c61d3074-1a4f-40ec-946a-bb58a7f95d58",
   "metadata": {},
   "outputs": [],
   "source": [
    "ret_sex = ret.SEX\n",
    "not_ret_sex = not_ret.SEX"
   ]
  },
  {
   "cell_type": "code",
   "execution_count": 11,
   "id": "5ddf506f-0cb1-4081-b017-c198b8a92388",
   "metadata": {},
   "outputs": [
    {
     "data": {
      "image/png": "[encoded data removed]",
      "text/plain": [
       "<Figure size 432x288 with 1 Axes>"
      ]
     },
     "metadata": {
      "needs_background": "light"
     },
     "output_type": "display_data"
    }
   ],
   "source": [
    "sns.countplot(x=\"default\", hue=\"SEX\", data=data);"
   ]
  },
  {
   "cell_type": "code",
   "execution_count": 12,
   "id": "000cadd1-b97d-446f-826d-cd51d508f544",
   "metadata": {},
   "outputs": [
    {
     "data": {
      "text/plain": [
       "(2    14349\n",
       " 1     9015\n",
       " Name: SEX, dtype: int64,\n",
       " 2    3763\n",
       " 1    2873\n",
       " Name: SEX, dtype: int64)"
      ]
     },
     "execution_count": 12,
     "metadata": {},
     "output_type": "execute_result"
    }
   ],
   "source": [
    "ret_sex.value_counts(), not_ret_sex.value_counts()"
   ]
  },
  {
   "cell_type": "code",
   "execution_count": 13,
   "id": "12561802-5f30-4115-b8ba-af07653de1cf",
   "metadata": {},
   "outputs": [],
   "source": [
    "def proportions_diff_confint_ind(sample1, sample2, alpha = 0.05):    \n",
    "    z = scipy.stats.norm.ppf(1 - alpha / 2.)\n",
    "    p1 = float(sum(sample1)) / len(sample1)\n",
    "    p2 = float(sum(sample2)) / len(sample2)\n",
    "    print(\"Доля в вернувших: {}, Доля в неплателщиках: {}\".format(p1, p2))\n",
    "    left_boundary = (p1 - p2) - z * np.sqrt(p1 * (1 - p1)/ len(sample1) + p2 * (1 - p2)/ len(sample2))\n",
    "    right_boundary = (p1 - p2) + z * np.sqrt(p1 * (1 - p1)/ len(sample1) + p2 * (1 - p2)/ len(sample2))\n",
    "    \n",
    "    return (left_boundary, right_boundary)\n",
    "def proportions_diff_z_stat_ind(sample1, sample2):\n",
    "    n1 = len(sample1)\n",
    "    n2 = len(sample2)\n",
    "    p1 = float(sum(sample1)) / n1\n",
    "    p2 = float(sum(sample2)) / n2 \n",
    "    P = float(p1*n1 + p2*n2) / (n1 + n2)\n",
    "    \n",
    "    return (p1 - p2) / np.sqrt(P * (1 - P) * (1. / n1 + 1. / n2))\n",
    "def proportions_diff_z_test(z_stat, alternative = 'two-sided'):\n",
    "    if alternative not in ('two-sided', 'less', 'greater'):\n",
    "        raise ValueError(\"alternative not recognized\\n\"\n",
    "                         \"should be 'two-sided', 'less' or 'greater'\")\n",
    "    \n",
    "    if alternative == 'two-sided':\n",
    "        return 2 * (1 - scipy.stats.norm.cdf(np.abs(z_stat)))\n",
    "    \n",
    "    if alternative == 'less':\n",
    "        return scipy.stats.norm.cdf(z_stat)\n",
    "\n",
    "    if alternative == 'greater':\n",
    "        return 1 - scipy.stats.norm.cdf(z_stat)"
   ]
  },
  {
   "cell_type": "code",
   "execution_count": 14,
   "id": "8054dc6a-b090-4a89-82e8-fb5e901a35c2",
   "metadata": {},
   "outputs": [
    {
     "name": "stdout",
     "output_type": "stream",
     "text": [
      "Доля в вернувших: 0.6141499743194658, Доля в неплателщиках: 0.5670584689572031\n",
      "95% confidence interval for a difference between proportions: [0.033635, 0.060548]\n"
     ]
    }
   ],
   "source": [
    "print(\"95%% confidence interval for a difference between proportions: [%f, %f]\" %\\\n",
    "      proportions_diff_confint_ind(ret_sex - 1, not_ret_sex - 1))"
   ]
  },
  {
   "cell_type": "code",
   "execution_count": 15,
   "id": "d5a621da-d834-49da-9e03-856b8afa7dcd",
   "metadata": {},
   "outputs": [
    {
     "name": "stdout",
     "output_type": "stream",
     "text": [
      "p-value: 4.472866521609831e-12\n"
     ]
    }
   ],
   "source": [
    "print(\"p-value: {}\".format(proportions_diff_z_test(proportions_diff_z_stat_ind(ret_sex - 1, not_ret_sex - 1))))"
   ]
  },
  {
   "cell_type": "markdown",
   "id": "c41517d4-b467-4901-af6c-d559f4576784",
   "metadata": {},
   "source": [
    "С p-value = 4.472866521609831e-12 на уровне значимости 0.05 гипотеза об отсутствии связи между полом и возвратом кредита отвергается  \n",
    "в пользу двухсторонней альтернативы. Доверительный интервал говорит, что среди неплательщиков больше доля женщин, чем в случае погашения долга  \n",
    "Результат может иметь практическую значимость"
   ]
  },
  {
   "cell_type": "markdown",
   "id": "c7e334ad-7ec8-4805-aa88-48db2218202b",
   "metadata": {},
   "source": [
    "### Задание 3"
   ]
  },
  {
   "cell_type": "markdown",
   "id": "8da570f3-f9d1-4b03-8bec-786eb6118e8f",
   "metadata": {},
   "source": [
    "Образование (EDUCATION)"
   ]
  },
  {
   "cell_type": "markdown",
   "id": "0e5cf498-1322-4d37-84fb-f84bd8adedf3",
   "metadata": {},
   "source": [
    "Проверим гипотезу о том, что образование не влияет на то, вернет ли человек долг, против двухсторонней альтернативы"
   ]
  },
  {
   "cell_type": "code",
   "execution_count": 16,
   "id": "92de884b-c055-4b40-b4c4-2d7decea83e2",
   "metadata": {},
   "outputs": [],
   "source": [
    "ret_ed = ret.EDUCATION\n",
    "not_ret_ed = not_ret.EDUCATION"
   ]
  },
  {
   "cell_type": "code",
   "execution_count": 17,
   "id": "5fc23c02-58db-4cde-bfac-82ce974cbe41",
   "metadata": {},
   "outputs": [
    {
     "data": {
      "image/png": "[encoded data removed]",
      "text/plain": [
       "<Figure size 432x288 with 1 Axes>"
      ]
     },
     "metadata": {
      "needs_background": "light"
     },
     "output_type": "display_data"
    }
   ],
   "source": [
    "sns.countplot(x=\"default\", hue=\"EDUCATION\", data=data);"
   ]
  },
  {
   "cell_type": "code",
   "execution_count": 18,
   "id": "18b6ff80-1a06-46ad-955f-341826dc7dbb",
   "metadata": {},
   "outputs": [
    {
     "data": {
      "image/png": "[encoded data removed]",
      "text/plain": [
       "<Figure size 432x288 with 1 Axes>"
      ]
     },
     "metadata": {
      "needs_background": "light"
     },
     "output_type": "display_data"
    }
   ],
   "source": [
    "data.EDUCATION.plot.hist();"
   ]
  },
  {
   "cell_type": "markdown",
   "id": "e6d46117-1404-4f7b-81c2-1ccb279c39f3",
   "metadata": {},
   "source": [
    "Предположим, что образование не играет роли в прогнозе, H0 - наблюдаемые данные имеют заданные частоты возврата"
   ]
  },
  {
   "cell_type": "code",
   "execution_count": 92,
   "id": "95fa51fa-30a1-41ce-b651-af13d23c7b63",
   "metadata": {},
   "outputs": [
    {
     "data": {
      "text/plain": [
       "0.2212"
      ]
     },
     "execution_count": 92,
     "metadata": {},
     "output_type": "execute_result"
    }
   ],
   "source": [
    "H0_p = len(not_ret) / (len(ret) + len(not_ret))\n",
    "H0_p"
   ]
  },
  {
   "cell_type": "markdown",
   "id": "76e02720-c846-4aeb-9af6-80d6243bbfff",
   "metadata": {},
   "source": [
    "Предположим, что образование никак не влияет на возрат долга, тогда вероятность невозврата по каждому значению  \n",
    "образования одинакова, вероятность не вернуть долг в каждом случае образованности должна быть примерно равна 0.2212.   \n",
    "Составим таблицу разности отношений не вернувших долг к тем, кто его вернул.  \n",
    "Проверим гипотезу о равности распределения нашей выборки сгенерированному против двухсторонней альтернативы"
   ]
  },
  {
   "cell_type": "code",
   "execution_count": 111,
   "id": "f6546391-8884-4504-a593-1286b2c97387",
   "metadata": {},
   "outputs": [],
   "source": [
    "data_ed_agg = data.groupby(\"EDUCATION\").agg({\"default\": \"value_counts\"})\n",
    "data_ed_agg = data_ed_agg.unstack().fillna(0)\n",
    "data_ed_agg.columns = [0, 1]\n",
    "\n",
    "data_ed_agg_exp = data_ed_agg * 0\n",
    "\n",
    "\n",
    "data_ed_agg_exp[1] = data_ed_agg.sum(axis=1) * (H0_p)\n",
    "data_ed_agg_exp[0] = data_ed_agg.sum(axis=1) * (1 - H0_p)"
   ]
  },
  {
   "cell_type": "markdown",
   "id": "5e5cdcd8-0dd1-44cc-a6d3-801b7531f5bb",
   "metadata": {},
   "source": [
    "Сравним количество"
   ]
  },
  {
   "cell_type": "code",
   "execution_count": 119,
   "id": "040858da-b3bc-42c0-94f8-9a1df6fcbc03",
   "metadata": {},
   "outputs": [
    {
     "data": {
      "text/plain": [
       "EDUCATION\n",
       "0    1.776357e-15\n",
       "1    0.000000e+00\n",
       "2    1.818989e-12\n",
       "3    0.000000e+00\n",
       "4    1.421085e-14\n",
       "5    0.000000e+00\n",
       "6    7.105427e-15\n",
       "dtype: float64"
      ]
     },
     "execution_count": 119,
     "metadata": {},
     "output_type": "execute_result"
    }
   ],
   "source": [
    "data_ed_agg.sum(axis=1) - data_ed_agg_exp.sum(axis=1)"
   ]
  },
  {
   "cell_type": "markdown",
   "id": "a6b10c0c-5a6b-4d4c-bf8e-2fff46fc3d8e",
   "metadata": {},
   "source": [
    "Округлять я не буду, поскольку тогда общая сумма событий в data_ed_agg_exp измениться на 1 и применить хи квадрат уже будет невозможно"
   ]
  },
  {
   "cell_type": "code",
   "execution_count": 120,
   "id": "f68c4070-f09e-4c04-8922-d9d1585ac6bd",
   "metadata": {},
   "outputs": [],
   "source": [
    "data_ed_obs_exp = pd.concat([data_ed_agg, data_ed_agg_exp], axis=1, )\n",
    "data_ed_obs_exp.columns = [\"obs_back\", \"obs_not_back\", \"exp_back\", \"exp_not_back\"]"
   ]
  },
  {
   "cell_type": "code",
   "execution_count": 121,
   "id": "fcd834be-a1c5-4609-9b0e-c2a003ba7859",
   "metadata": {},
   "outputs": [
    {
     "data": {
      "text/html": [
       "<div>\n",
       "<style scoped>\n",
       "    .dataframe tbody tr th:only-of-type {\n",
       "        vertical-align: middle;\n",
       "    }\n",
       "\n",
       "    .dataframe tbody tr th {\n",
       "        vertical-align: top;\n",
       "    }\n",
       "\n",
       "    .dataframe thead th {\n",
       "        text-align: right;\n",
       "    }\n",
       "</style>\n",
       "<table border=\"1\" class=\"dataframe\">\n",
       "  <thead>\n",
       "    <tr style=\"text-align: right;\">\n",
       "      <th></th>\n",
       "      <th>obs_back</th>\n",
       "      <th>obs_not_back</th>\n",
       "      <th>exp_back</th>\n",
       "      <th>exp_not_back</th>\n",
       "    </tr>\n",
       "    <tr>\n",
       "      <th>EDUCATION</th>\n",
       "      <th></th>\n",
       "      <th></th>\n",
       "      <th></th>\n",
       "      <th></th>\n",
       "    </tr>\n",
       "  </thead>\n",
       "  <tbody>\n",
       "    <tr>\n",
       "      <th>0</th>\n",
       "      <td>14.0</td>\n",
       "      <td>0.0</td>\n",
       "      <td>10.9032</td>\n",
       "      <td>3.0968</td>\n",
       "    </tr>\n",
       "    <tr>\n",
       "      <th>1</th>\n",
       "      <td>8549.0</td>\n",
       "      <td>2036.0</td>\n",
       "      <td>8243.5980</td>\n",
       "      <td>2341.4020</td>\n",
       "    </tr>\n",
       "    <tr>\n",
       "      <th>2</th>\n",
       "      <td>10700.0</td>\n",
       "      <td>3330.0</td>\n",
       "      <td>10926.5640</td>\n",
       "      <td>3103.4360</td>\n",
       "    </tr>\n",
       "    <tr>\n",
       "      <th>3</th>\n",
       "      <td>3680.0</td>\n",
       "      <td>1237.0</td>\n",
       "      <td>3829.3596</td>\n",
       "      <td>1087.6404</td>\n",
       "    </tr>\n",
       "    <tr>\n",
       "      <th>4</th>\n",
       "      <td>116.0</td>\n",
       "      <td>7.0</td>\n",
       "      <td>95.7924</td>\n",
       "      <td>27.2076</td>\n",
       "    </tr>\n",
       "    <tr>\n",
       "      <th>5</th>\n",
       "      <td>262.0</td>\n",
       "      <td>18.0</td>\n",
       "      <td>218.0640</td>\n",
       "      <td>61.9360</td>\n",
       "    </tr>\n",
       "    <tr>\n",
       "      <th>6</th>\n",
       "      <td>43.0</td>\n",
       "      <td>8.0</td>\n",
       "      <td>39.7188</td>\n",
       "      <td>11.2812</td>\n",
       "    </tr>\n",
       "  </tbody>\n",
       "</table>\n",
       "</div>"
      ],
      "text/plain": [
       "           obs_back  obs_not_back    exp_back  exp_not_back\n",
       "EDUCATION                                                  \n",
       "0              14.0           0.0     10.9032        3.0968\n",
       "1            8549.0        2036.0   8243.5980     2341.4020\n",
       "2           10700.0        3330.0  10926.5640     3103.4360\n",
       "3            3680.0        1237.0   3829.3596     1087.6404\n",
       "4             116.0           7.0     95.7924       27.2076\n",
       "5             262.0          18.0    218.0640       61.9360\n",
       "6              43.0           8.0     39.7188       11.2812"
      ]
     },
     "execution_count": 121,
     "metadata": {},
     "output_type": "execute_result"
    }
   ],
   "source": [
    "data_ed_obs_exp"
   ]
  },
  {
   "cell_type": "markdown",
   "id": "4dd014e9-0e46-43d9-bbfd-7a116daa8226",
   "metadata": {},
   "source": [
    "Мы видим, что частоты возврата сильно больше 5, а значит мы можем использовать критерий Хи квадрат"
   ]
  },
  {
   "cell_type": "code",
   "execution_count": 122,
   "id": "a7e52fb2-c3bf-4bc5-a747-29a2a7d625e8",
   "metadata": {},
   "outputs": [
    {
     "data": {
      "text/plain": [
       "23363.999999999993"
      ]
     },
     "execution_count": 122,
     "metadata": {},
     "output_type": "execute_result"
    }
   ],
   "source": [
    "sum(data_ed_agg_exp[0].values)"
   ]
  },
  {
   "cell_type": "code",
   "execution_count": 123,
   "id": "e72f57b1-4933-46b4-a458-3ac392cb837f",
   "metadata": {},
   "outputs": [
    {
     "data": {
      "text/plain": [
       "23364.0"
      ]
     },
     "execution_count": 123,
     "metadata": {},
     "output_type": "execute_result"
    }
   ],
   "source": [
    "sum(data_ed_agg[0].values)"
   ]
  },
  {
   "cell_type": "code",
   "execution_count": 156,
   "id": "13b09c12-3720-4da9-8e33-52d85c1570c7",
   "metadata": {},
   "outputs": [
    {
     "data": {
      "text/plain": [
       "Power_divergenceResult(statistic=7.888521958555138, pvalue=0.04837268928031174)"
      ]
     },
     "execution_count": 156,
     "metadata": {},
     "output_type": "execute_result"
    }
   ],
   "source": [
    "scipy.stats.chisquare(data_ed_agg[0].values, data_ed_agg_exp[0].values)"
   ]
  },
  {
   "cell_type": "markdown",
   "id": "3344aef4-36e8-42fb-8d4d-3b4b39dfac70",
   "metadata": {},
   "source": [
    "С достигаемым уровнем значимости 0.04837268928031174 при уровне значимости 0.05 мы можем отклонить гипотезу о равенстве частот возврата долга двух распределений в пользу H1"
   ]
  },
  {
   "cell_type": "markdown",
   "id": "b79e35a4-eafd-47e5-be6f-0c45dc447ac9",
   "metadata": {},
   "source": [
    "Выведем наглядную таблицу, устойчивую к маштабу:"
   ]
  },
  {
   "cell_type": "code",
   "execution_count": 134,
   "id": "14699132-1db2-44d4-94af-6912ad9ce447",
   "metadata": {},
   "outputs": [
    {
     "data": {
      "text/html": [
       "<div>\n",
       "<style scoped>\n",
       "    .dataframe tbody tr th:only-of-type {\n",
       "        vertical-align: middle;\n",
       "    }\n",
       "\n",
       "    .dataframe tbody tr th {\n",
       "        vertical-align: top;\n",
       "    }\n",
       "\n",
       "    .dataframe thead th {\n",
       "        text-align: right;\n",
       "    }\n",
       "</style>\n",
       "<table border=\"1\" class=\"dataframe\">\n",
       "  <thead>\n",
       "    <tr style=\"text-align: right;\">\n",
       "      <th></th>\n",
       "      <th>0</th>\n",
       "      <th>1</th>\n",
       "    </tr>\n",
       "    <tr>\n",
       "      <th>EDUCATION</th>\n",
       "      <th></th>\n",
       "      <th></th>\n",
       "    </tr>\n",
       "  </thead>\n",
       "  <tbody>\n",
       "    <tr>\n",
       "      <th>0</th>\n",
       "      <td>1.284027</td>\n",
       "      <td>0.000000</td>\n",
       "    </tr>\n",
       "    <tr>\n",
       "      <th>1</th>\n",
       "      <td>1.037047</td>\n",
       "      <td>0.869564</td>\n",
       "    </tr>\n",
       "    <tr>\n",
       "      <th>2</th>\n",
       "      <td>0.979265</td>\n",
       "      <td>1.073004</td>\n",
       "    </tr>\n",
       "    <tr>\n",
       "      <th>3</th>\n",
       "      <td>0.960996</td>\n",
       "      <td>1.137324</td>\n",
       "    </tr>\n",
       "    <tr>\n",
       "      <th>4</th>\n",
       "      <td>1.210952</td>\n",
       "      <td>0.257281</td>\n",
       "    </tr>\n",
       "    <tr>\n",
       "      <th>5</th>\n",
       "      <td>1.201482</td>\n",
       "      <td>0.290623</td>\n",
       "    </tr>\n",
       "    <tr>\n",
       "      <th>6</th>\n",
       "      <td>1.082611</td>\n",
       "      <td>0.709144</td>\n",
       "    </tr>\n",
       "  </tbody>\n",
       "</table>\n",
       "</div>"
      ],
      "text/plain": [
       "                  0         1\n",
       "EDUCATION                    \n",
       "0          1.284027  0.000000\n",
       "1          1.037047  0.869564\n",
       "2          0.979265  1.073004\n",
       "3          0.960996  1.137324\n",
       "4          1.210952  0.257281\n",
       "5          1.201482  0.290623\n",
       "6          1.082611  0.709144"
      ]
     },
     "execution_count": 134,
     "metadata": {},
     "output_type": "execute_result"
    }
   ],
   "source": [
    "data_ed_agg / data_ed_agg_exp"
   ]
  },
  {
   "cell_type": "markdown",
   "id": "9b5a921b-17a3-4ab6-bdea-e72cc027338c",
   "metadata": {},
   "source": [
    "Если значение больше > 1 в колонке 0, то количество людей, вернувших долг выше, чем ожидалось и наоборот  \n",
    "Аналогично для столбца 1"
   ]
  },
  {
   "cell_type": "markdown",
   "id": "d1499c3f-b906-4b4c-8c8a-64972d8095f5",
   "metadata": {},
   "source": [
    "#### Вывод\n",
    "Моя таблица говорит, что долг возвращается наиболее часто докторами наук, а наименее часто выпускниками школ"
   ]
  },
  {
   "cell_type": "markdown",
   "id": "91a7b9a5-6852-450a-84b5-0e1985c66567",
   "metadata": {},
   "source": [
    "### Задание 4"
   ]
  },
  {
   "cell_type": "markdown",
   "id": "6311b888-7cd7-4bf8-9cb5-23283243466b",
   "metadata": {},
   "source": [
    "Семейное положение (MARRIAGE). \n",
    "Гипотеза H0 - наблюдаемая выборка имеет сгенерированное частотное распределение, в котором признак не играет роли против альтернативы"
   ]
  },
  {
   "cell_type": "code",
   "execution_count": 139,
   "id": "8ce23363-aeab-49d0-9ba4-316f64d296da",
   "metadata": {},
   "outputs": [],
   "source": [
    "data_ed_agg = data.groupby(\"MARRIAGE\").agg({\"default\": \"value_counts\"})\n",
    "data_ed_agg = data_ed_agg.unstack().fillna(0)\n",
    "data_ed_agg.columns = [0, 1]\n",
    "\n",
    "data_ed_agg_exp = data_ed_agg * 0\n",
    "\n",
    "\n",
    "data_ed_agg_exp[1] = data_ed_agg.sum(axis=1) * (H0_p)\n",
    "data_ed_agg_exp[0] = data_ed_agg.sum(axis=1) * (1 - H0_p)\n",
    "\n",
    "data_ed_obs_exp = pd.concat([data_ed_agg, data_ed_agg_exp], axis=1, )\n",
    "data_ed_obs_exp.columns = [\"obs_back\", \"obs_not_back\", \"exp_back\", \"exp_not_back\"]"
   ]
  },
  {
   "cell_type": "code",
   "execution_count": 140,
   "id": "3af9ce58-7381-45b6-8619-1eb5d90c00cc",
   "metadata": {},
   "outputs": [
    {
     "data": {
      "text/html": [
       "<div>\n",
       "<style scoped>\n",
       "    .dataframe tbody tr th:only-of-type {\n",
       "        vertical-align: middle;\n",
       "    }\n",
       "\n",
       "    .dataframe tbody tr th {\n",
       "        vertical-align: top;\n",
       "    }\n",
       "\n",
       "    .dataframe thead th {\n",
       "        text-align: right;\n",
       "    }\n",
       "</style>\n",
       "<table border=\"1\" class=\"dataframe\">\n",
       "  <thead>\n",
       "    <tr style=\"text-align: right;\">\n",
       "      <th></th>\n",
       "      <th>obs_back</th>\n",
       "      <th>obs_not_back</th>\n",
       "      <th>exp_back</th>\n",
       "      <th>exp_not_back</th>\n",
       "    </tr>\n",
       "    <tr>\n",
       "      <th>MARRIAGE</th>\n",
       "      <th></th>\n",
       "      <th></th>\n",
       "      <th></th>\n",
       "      <th></th>\n",
       "    </tr>\n",
       "  </thead>\n",
       "  <tbody>\n",
       "    <tr>\n",
       "      <th>0</th>\n",
       "      <td>49</td>\n",
       "      <td>5</td>\n",
       "      <td>42.0552</td>\n",
       "      <td>11.9448</td>\n",
       "    </tr>\n",
       "    <tr>\n",
       "      <th>1</th>\n",
       "      <td>10453</td>\n",
       "      <td>3206</td>\n",
       "      <td>10637.6292</td>\n",
       "      <td>3021.3708</td>\n",
       "    </tr>\n",
       "    <tr>\n",
       "      <th>2</th>\n",
       "      <td>12623</td>\n",
       "      <td>3341</td>\n",
       "      <td>12432.7632</td>\n",
       "      <td>3531.2368</td>\n",
       "    </tr>\n",
       "    <tr>\n",
       "      <th>3</th>\n",
       "      <td>239</td>\n",
       "      <td>84</td>\n",
       "      <td>251.5524</td>\n",
       "      <td>71.4476</td>\n",
       "    </tr>\n",
       "  </tbody>\n",
       "</table>\n",
       "</div>"
      ],
      "text/plain": [
       "          obs_back  obs_not_back    exp_back  exp_not_back\n",
       "MARRIAGE                                                  \n",
       "0               49             5     42.0552       11.9448\n",
       "1            10453          3206  10637.6292     3021.3708\n",
       "2            12623          3341  12432.7632     3531.2368\n",
       "3              239            84    251.5524       71.4476"
      ]
     },
     "execution_count": 140,
     "metadata": {},
     "output_type": "execute_result"
    }
   ],
   "source": [
    "data_ed_obs_exp"
   ]
  },
  {
   "cell_type": "markdown",
   "id": "a7c0882c-76d1-40c0-9699-47151d1dd401",
   "metadata": {},
   "source": [
    "Частоты сильно больше 5, а значит мы можем использовать критерий Хи квадрат"
   ]
  },
  {
   "cell_type": "code",
   "execution_count": 157,
   "id": "1078ec3d-3fb6-48b9-9534-e997754407f9",
   "metadata": {},
   "outputs": [
    {
     "data": {
      "text/plain": [
       "Power_divergenceResult(statistic=7.888521958555138, pvalue=0.04837268928031174)"
      ]
     },
     "execution_count": 157,
     "metadata": {},
     "output_type": "execute_result"
    }
   ],
   "source": [
    "scipy.stats.chisquare(data_ed_agg[0].values, data_ed_agg_exp[0].values)"
   ]
  },
  {
   "cell_type": "markdown",
   "id": "022e6511-3629-485c-82cc-08dd07c7ac00",
   "metadata": {},
   "source": [
    "При уровне значимости 0.05 и достигаемом уровне значимости 0.04837268928031174 можем сказать, что частоты сгенерированных и наблюдаемых данных вернуть долг\n",
    "отличаются, а значит существует связь между семейным статусом и шансом вернуть долг"
   ]
  },
  {
   "cell_type": "markdown",
   "id": "988e7d47-7b82-4088-a66f-5980bd6902ba",
   "metadata": {},
   "source": [
    "H0 отвергается при достагаемом уровне значимости 0.05"
   ]
  },
  {
   "cell_type": "code",
   "execution_count": 135,
   "id": "572faf87-7c27-4e0c-a344-dca264e2c075",
   "metadata": {},
   "outputs": [
    {
     "data": {
      "image/png": "[encoded data removed]",
      "text/plain": [
       "<Figure size 432x288 with 1 Axes>"
      ]
     },
     "metadata": {
      "needs_background": "light"
     },
     "output_type": "display_data"
    }
   ],
   "source": [
    "sns.countplot(x=\"default\", hue=\"MARRIAGE\", data=data);"
   ]
  },
  {
   "cell_type": "markdown",
   "id": "a6cd1710-0467-4cca-899e-76fd3c35da85",
   "metadata": {},
   "source": [
    "Построим корреляцию V-Крамера между признаками MARRIAGE и default"
   ]
  },
  {
   "cell_type": "code",
   "execution_count": 146,
   "id": "b23758f5-0090-45b2-8c02-a01976a09b04",
   "metadata": {},
   "outputs": [],
   "source": [
    "chi_square = scipy.stats.chi2_contingency(pd.crosstab(data[\"default\"], data[\"MARRIAGE\"]), correction=False)[0]\n",
    "n = len(data)\n",
    "k_min = 2"
   ]
  },
  {
   "cell_type": "code",
   "execution_count": 147,
   "id": "cee6a968-bb8a-436c-bb6e-7a9d109a7830",
   "metadata": {},
   "outputs": [],
   "source": [
    "v_cramer = (chi_square / n) ** .5"
   ]
  },
  {
   "cell_type": "code",
   "execution_count": 148,
   "id": "37e82c77-f0c4-47e0-becf-c24ece218f96",
   "metadata": {},
   "outputs": [
    {
     "data": {
      "text/plain": [
       "0.034478203662766466"
      ]
     },
     "execution_count": 148,
     "metadata": {},
     "output_type": "execute_result"
    }
   ],
   "source": [
    "v_cramer"
   ]
  },
  {
   "cell_type": "code",
   "execution_count": 149,
   "id": "21d826f6-3a4e-4dea-a34a-f70dd7442b78",
   "metadata": {},
   "outputs": [
    {
     "data": {
      "text/plain": [
       "8.825862457577375e-08"
      ]
     },
     "execution_count": 149,
     "metadata": {},
     "output_type": "execute_result"
    }
   ],
   "source": [
    "scipy.stats.chi2_contingency(pd.crosstab(data[\"default\"], data[\"MARRIAGE\"]), correction=False)[1]"
   ]
  },
  {
   "cell_type": "markdown",
   "id": "312cc58b-601e-46b5-9c87-d89b8ac0012c",
   "metadata": {},
   "source": [
    "С достигаемым уровнем значимости 8.825862457577375e-08 гипотезу о независимости наблюдаемых частот на уровне значимости 0.05 можно отвергнуть  \n",
    "коэффициент V-Крамера ровняется 0.034478203662766466, что достаточно мало и может говорить об практической незначимости результатов"
   ]
  },
  {
   "cell_type": "markdown",
   "id": "503c6ac2-0907-44b5-9ac8-67e96267f703",
   "metadata": {
    "tags": []
   },
   "source": [
    "### Задание 5"
   ]
  },
  {
   "cell_type": "markdown",
   "id": "a3007b37-6da6-4ffa-8e6d-f5f05543d75e",
   "metadata": {},
   "source": [
    "Возраст (Age).  \n",
    "Гипотезы о:"
   ]
  },
  {
   "cell_type": "markdown",
   "id": "b6535479-cdc0-4047-b36f-58e4492a0f57",
   "metadata": {},
   "source": [
    "a)  о равенстве медианных значений возрастов людей против двухсторонней альтернативы"
   ]
  },
  {
   "cell_type": "code",
   "execution_count": 150,
   "id": "03304f0e-3f60-4a21-b019-3de40fd535b5",
   "metadata": {},
   "outputs": [
    {
     "data": {
      "image/png": "[encoded data removed]",
      "text/plain": [
       "<Figure size 432x288 with 1 Axes>"
      ]
     },
     "metadata": {
      "needs_background": "light"
     },
     "output_type": "display_data"
    }
   ],
   "source": [
    "data.boxplot(column=[\"AGE\"], by=\"default\");"
   ]
  },
  {
   "cell_type": "code",
   "execution_count": 151,
   "id": "f0e03919-0b81-4740-a2e8-210a8e63a1fe",
   "metadata": {},
   "outputs": [],
   "source": [
    "ret_age = ret.AGE\n",
    "not_ret_age = not_ret.AGE"
   ]
  },
  {
   "cell_type": "markdown",
   "id": "5fd46d48-eb0d-472f-8d72-a4db0e3c0ab5",
   "metadata": {},
   "source": [
    "Гипотезу о равенстве медианы против двухсторонней альтернативы будем проверять критерием Краскела-Уоллиса для проверки равенста медиан (H0)  \n",
    "против двухсторонней альтернативы."
   ]
  },
  {
   "cell_type": "code",
   "execution_count": 152,
   "id": "e408d52f-97ef-41d4-9c54-bbf5a967f9c0",
   "metadata": {},
   "outputs": [
    {
     "data": {
      "text/plain": [
       "KruskalResult(statistic=0.795297355578892, pvalue=0.3725031126820255)"
      ]
     },
     "execution_count": 152,
     "metadata": {},
     "output_type": "execute_result"
    }
   ],
   "source": [
    "scipy.stats.kruskal(ret_age, not_ret_age)"
   ]
  },
  {
   "cell_type": "markdown",
   "id": "b72ab9d4-4a9f-4dff-889c-73d1d176d2bc",
   "metadata": {},
   "source": [
    "Гипотезу о равенстве медиан H0 на уровне значимости p = 0.05 мы не можем отклонить. Достигаемый уровень значимости: 0.3725031126820255"
   ]
  },
  {
   "cell_type": "markdown",
   "id": "fae991ab-0076-4d0a-9b3e-4680598ec504",
   "metadata": {},
   "source": [
    "b) о равенстве распределений  с помощью одного из подходящих непараметрических критериев проверки равенства средних, против двухсторонней альтернативы\n",
    "Воспользуемся критерием Манна-Уитни"
   ]
  },
  {
   "cell_type": "code",
   "execution_count": 153,
   "id": "8e910db7-2e07-42bd-863f-4e3ef5d95a4d",
   "metadata": {},
   "outputs": [
    {
     "data": {
      "text/plain": [
       "MannwhitneyuResult(statistic=76966879.5, pvalue=0.3725035434898616)"
      ]
     },
     "execution_count": 153,
     "metadata": {},
     "output_type": "execute_result"
    }
   ],
   "source": [
    "stats.mannwhitneyu(ret_age, not_ret_age)"
   ]
  },
  {
   "cell_type": "markdown",
   "id": "c40ecc44-869b-46c2-bb8a-02d23fba21fc",
   "metadata": {},
   "source": [
    "Гипотезу о равестве распределений отклонить невозможно на достигаемом уровне значимости 0.3725035434898616"
   ]
  },
  {
   "cell_type": "code",
   "execution_count": 154,
   "id": "dadafa71-a55d-4ff6-a772-731100a43ca2",
   "metadata": {},
   "outputs": [
    {
     "data": {
      "text/plain": [
       "((35.300871020374075, 35.53366073788649),\n",
       " (35.49251465370673, 35.958962139542216))"
      ]
     },
     "execution_count": 154,
     "metadata": {},
     "output_type": "execute_result"
    }
   ],
   "source": [
    "zconfint(ret_age), zconfint(not_ret_age)"
   ]
  },
  {
   "cell_type": "code",
   "execution_count": 155,
   "id": "dded84d7-c921-4737-bb8b-71a8f373b5ec",
   "metadata": {},
   "outputs": [
    {
     "data": {
      "text/plain": [
       "0.04114608417976484"
      ]
     },
     "execution_count": 155,
     "metadata": {},
     "output_type": "execute_result"
    }
   ],
   "source": [
    "zconfint(ret_age)[1] - zconfint(not_ret_age)[0]"
   ]
  },
  {
   "cell_type": "markdown",
   "id": "8071cd9c-16ad-41e4-814e-9ee72f9f8dc5",
   "metadata": {},
   "source": [
    "Доверительные интервалы говорят нам, что значения в выборках варьируются слабо и разница не будет значима практически"
   ]
  }
 ],
 "metadata": {
  "kernelspec": {
   "display_name": "Python 3 (ipykernel)",
   "language": "python",
   "name": "python3"
  },
  "language_info": {
   "codemirror_mode": {
    "name": "ipython",
    "version": 3
   },
   "file_extension": ".py",
   "mimetype": "text/x-python",
   "name": "python",
   "nbconvert_exporter": "python",
   "pygments_lexer": "ipython3",
   "version": "3.8.5"
  }
 },
 "nbformat": 4,
 "nbformat_minor": 5
}
