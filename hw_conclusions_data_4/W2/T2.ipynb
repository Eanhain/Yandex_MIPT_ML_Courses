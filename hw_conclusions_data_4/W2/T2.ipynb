{
 "cells": [
  {
   "cell_type": "code",
   "execution_count": 4,
   "id": "9f3564a7-de52-42e6-b245-3fd51266f908",
   "metadata": {},
   "outputs": [],
   "source": [
    "import numpy as np\n",
    "import pandas as pd\n",
    "\n",
    "import scipy\n",
    "from statsmodels.stats.weightstats import *\n",
    "from statsmodels.stats.proportion import proportion_confint, binom_test"
   ]
  },
  {
   "cell_type": "code",
   "execution_count": 2,
   "id": "afc25598-8383-4377-8d4c-fbdb1ae103b0",
   "metadata": {
    "tags": []
   },
   "outputs": [],
   "source": [
    "n1 = 34\n",
    "n2 = 16\n",
    "p1 = 10 / 34\n",
    "p2 = 1 / 4"
   ]
  },
  {
   "cell_type": "code",
   "execution_count": 65,
   "id": "1d738c51-2579-47ac-b783-121e5cc8c434",
   "metadata": {},
   "outputs": [],
   "source": [
    "def prop_diff_confint_ind(sample1, sample2, alpha=.05):\n",
    "    z = scipy.stats.norm.ppf(1 - alpha / 2)\n",
    "    p1 = sum(sample1) / len(sample1)\n",
    "    p2 = sum(sample2) / len(sample2)\n",
    "    \n",
    "    left_boundary = (p1 - p2) - z * np.sqrt(p1 * (1 - p1) / len(sample1) + p2 * (1 - p2) / len(sample2))\n",
    "    right_boundary = (p1 - p2) + z * np.sqrt(p1 * (1 - p1) / len(sample1) + p2 * (1 - p2) / len(sample2))\n",
    "    return left_boundary, right_boundary\n",
    "\n",
    "def prop_diff_z_stat_ind1(p1, p2, n1, n2):\n",
    "    P = (p1 * n1 + p2 * n2) / (n1 + n2)\n",
    "    return (p1 - p2) / np.sqrt(P * (1 - P) * (1 / n1 + 1 / n2))\n",
    "\n",
    "def prop_diff_z_stat_ind2(sample1, sample2):\n",
    "    n1 = len(sample1)\n",
    "    n2 = len(sample2)\n",
    "    \n",
    "    p1 = sum(sample1) / n1\n",
    "    p2 = sum(sample2) / n2\n",
    "    P = (p1 * n1 + p2 * n2) / (n1 + n2)\n",
    "    \n",
    "    return (p1 - p2) / np.sqrt(P * (1 - P) * (1 / n1 + 1 / n2))\n",
    "\n",
    "def prop_diff_z_test(z_stat, alternative=\"two-sided\"):\n",
    "    if alternative not in (\"two-sided\", \"less\", \"greater\"):\n",
    "        raise ValueError(\"alternative not recognized\\nshould be 'two-sided', 'less' or 'greater'\")\n",
    "    if alternative == \"two-sided\":\n",
    "        return 2 * (1 - scipy.stats.norm.cdf(np.abs(z_stat)))\n",
    "    if alternative == \"less\":\n",
    "        return scipy.stats.norm.cdf(z_stat)\n",
    "    if alternative == \"greater\":\n",
    "        return 1 - scipy.stats.norm.cdf(z_stat)\n",
    "    \n",
    "def prop_diff_z_stat_rel(sample1, sample2):\n",
    "    sample = list(zip(sample1, sample2))\n",
    "    n = len(sample)\n",
    "    f = sum(1 if x[0] == 1 and x[1] == 0 else 0 for x in sample)\n",
    "    g = sum(1 if x[1] == 1 and x[0] == 0 else 0 for x in sample)\n",
    "    return (f - g) / np.sqrt(f + g - (f - g) ** 2 / n)\n",
    "\n",
    "def proportions_diff_confint_rel(sample1, sample2, alpha = 0.05):\n",
    "    z = scipy.stats.norm.ppf(1 - alpha / 2.)\n",
    "    sample = list(zip(sample1, sample2))\n",
    "    n = len(sample)\n",
    "        \n",
    "    f = sum([1 if (x[0] == 1 and x[1] == 0) else 0 for x in sample])\n",
    "    g = sum([1 if (x[0] == 0 and x[1] == 1) else 0 for x in sample])\n",
    "    \n",
    "    left_boundary = float(f - g) / n  - z * np.sqrt(float((f + g)) / n**2 - float((f - g)**2) / n**3)\n",
    "    right_boundary = float(f - g) / n  + z * np.sqrt(float((f + g)) / n**2 - float((f - g)**2) / n**3)\n",
    "    return (left_boundary, right_boundary)"
   ]
  },
  {
   "cell_type": "code",
   "execution_count": 61,
   "id": "29725e72-e6ec-4867-9673-34ad05a0c40c",
   "metadata": {},
   "outputs": [
    {
     "data": {
      "text/plain": [
       "(0.29411764705882354, 0.25, 34, 16)"
      ]
     },
     "execution_count": 61,
     "metadata": {},
     "output_type": "execute_result"
    }
   ],
   "source": [
    "p1, p2, n1, n2"
   ]
  },
  {
   "cell_type": "code",
   "execution_count": 56,
   "id": "ebe2c020-9f4e-4271-bd27-ccdc0a1f53e0",
   "metadata": {},
   "outputs": [
    {
     "data": {
      "text/plain": [
       "0.32410186177608225"
      ]
     },
     "execution_count": 60,
     "metadata": {},
     "output_type": "execute_result"
    }
   ],
   "source": [
    "prop_diff_z_stat_ind1(p1, p2, n1, n2)"
   ]
  },
  {
   "cell_type": "code",
   "execution_count": 62,
   "id": "348889f1-65a8-419b-b75f-71c39bbc0b23",
   "metadata": {},
   "outputs": [
    {
     "data": {
      "text/plain": [
       "0.3729"
      ]
     },
     "execution_count": 62,
     "metadata": {},
     "output_type": "execute_result"
    }
   ],
   "source": [
    "round(prop_diff_z_test(0.32410186177608225, \"greater\"), 4)"
   ]
  },
  {
   "cell_type": "code",
   "execution_count": 15,
   "id": "acb6d524-186a-462a-8b05-e96b1c72571b",
   "metadata": {},
   "outputs": [],
   "source": [
    "b_d = pd.read_csv(\"data/banknotes.txt\", sep=\"\\t\")"
   ]
  },
  {
   "cell_type": "code",
   "execution_count": 82,
   "id": "0723cf38-febb-4167-b798-44d3640081e2",
   "metadata": {},
   "outputs": [],
   "source": [
    "from sklearn.model_selection import train_test_split\n",
    "from sklearn.linear_model import LogisticRegression\n",
    "from sklearn.metrics import accuracy_score"
   ]
  },
  {
   "cell_type": "code",
   "execution_count": 21,
   "id": "08e7c653-628b-4d92-ae8a-ae051eca40c0",
   "metadata": {},
   "outputs": [],
   "source": [
    "X = b_d.drop(\"real\", axis=1)\n",
    "y = b_d[\"real\"]"
   ]
  },
  {
   "cell_type": "code",
   "execution_count": 26,
   "id": "2692d693-1d56-4432-9ba0-cf4881096491",
   "metadata": {},
   "outputs": [],
   "source": [
    "X_tr, X_te, y_tr, y_te = train_test_split(X, y, random_state=1, test_size=50)"
   ]
  },
  {
   "cell_type": "code",
   "execution_count": 87,
   "id": "b2be286d-958c-4ea4-b431-f5dd20a7bc08",
   "metadata": {},
   "outputs": [],
   "source": [
    "l1 = LogisticRegression(multi_class='ovr', n_jobs=1, solver='liblinear').fit(X_tr[[\"X1\", \"X2\", \"X3\"]], y_tr)\n",
    "l2 = LogisticRegression(multi_class='ovr', n_jobs=1, solver='liblinear').fit(X_tr[[\"X4\", \"X5\", \"X6\"]], y_tr)"
   ]
  },
  {
   "cell_type": "code",
   "execution_count": 93,
   "id": "81789e4a-0232-4894-93bd-1537a5ce6876",
   "metadata": {},
   "outputs": [],
   "source": [
    "l1_p = np.abs(l1.predict(X_te[[\"X1\", \"X2\", \"X3\"]]) - y_te)\n",
    "l2_p = np.abs(l2.predict(X_te[[\"X4\", \"X5\", \"X6\"]]) - y_te)"
   ]
  },
  {
   "cell_type": "code",
   "execution_count": 1,
   "id": "e1f9f125-d7d5-462f-bda2-fbc03068e48e",
   "metadata": {},
   "outputs": [
    {
     "data": {
      "text/plain": [
       "0.003"
      ]
     },
     "execution_count": 1,
     "metadata": {},
     "output_type": "execute_result"
    }
   ],
   "source": [
    "3 * 10 ** -3"
   ]
  },
  {
   "cell_type": "code",
   "execution_count": 98,
   "id": "03a85e06-e7d7-45bc-8a15-cf0cc1c3d73b",
   "metadata": {},
   "outputs": [
    {
     "data": {
      "text/plain": [
       "0.0032969384555543435"
      ]
     },
     "execution_count": 98,
     "metadata": {},
     "output_type": "execute_result"
    }
   ],
   "source": [
    "prop_diff_z_test(prop_diff_z_stat_rel(l1_p, l2_p))"
   ]
  },
  {
   "cell_type": "code",
   "execution_count": 95,
   "id": "69816a75-6c24-4429-bc55-c99d313db44f",
   "metadata": {},
   "outputs": [
    {
     "data": {
      "text/plain": [
       "array([0.0599, 0.3001])"
      ]
     },
     "execution_count": 95,
     "metadata": {},
     "output_type": "execute_result"
    }
   ],
   "source": [
    "np.round(proportions_diff_confint_rel(l1_p, l2_p), 4)"
   ]
  },
  {
   "cell_type": "code",
   "execution_count": 91,
   "id": "ad7f8916-0b9a-4cd1-b934-eff9af777486",
   "metadata": {},
   "outputs": [
    {
     "ename": "SyntaxError",
     "evalue": "invalid syntax (Temp/ipykernel_3636/1666781354.py, line 1)",
     "output_type": "error",
     "traceback": [
      "\u001b[1;36m  File \u001b[1;32m\"C:\\Users\\DESPAC~1\\AppData\\Local\\Temp/ipykernel_3636/1666781354.py\"\u001b[1;36m, line \u001b[1;32m1\u001b[0m\n\u001b[1;33m    np.round(prop_diff_confint_ind(l1_p, l2_p), 4)1\u001b[0m\n\u001b[1;37m                                                  ^\u001b[0m\n\u001b[1;31mSyntaxError\u001b[0m\u001b[1;31m:\u001b[0m invalid syntax\n"
     ]
    }
   ],
   "source": [
    "np.round(prop_diff_confint_ind(l1_p, l2_p), 4)1"
   ]
  },
  {
   "cell_type": "code",
   "execution_count": 44,
   "id": "aaab5230-5a60-4517-9416-0a39fb67e8cf",
   "metadata": {},
   "outputs": [],
   "source": [
    "u = 525\n",
    "dev = 100\n",
    "n = 100\n",
    "mean = 541.4"
   ]
  },
  {
   "cell_type": "code",
   "execution_count": 51,
   "id": "344b5f96-410f-41dd-9ac0-8a38198d9286",
   "metadata": {},
   "outputs": [
    {
     "data": {
      "text/plain": [
       "1.65"
      ]
     },
     "execution_count": 51,
     "metadata": {},
     "output_type": "execute_result"
    }
   ],
   "source": [
    "(541.5 - 525) / (100 / 10)"
   ]
  },
  {
   "cell_type": "code",
   "execution_count": 46,
   "id": "d0ee8f84-42ad-4aef-b1ac-bf8e207348d3",
   "metadata": {},
   "outputs": [
    {
     "data": {
      "text/plain": [
       "nan"
      ]
     },
     "execution_count": 46,
     "metadata": {},
     "output_type": "execute_result"
    }
   ],
   "source": [
    "stats.norm.ppf(1.6399999999999977)"
   ]
  },
  {
   "cell_type": "code",
   "execution_count": 53,
   "id": "5b8e515c-7137-4359-86e6-d5b328ccda8b",
   "metadata": {},
   "outputs": [
    {
     "data": {
      "text/plain": [
       "0.0495"
      ]
     },
     "execution_count": 53,
     "metadata": {},
     "output_type": "execute_result"
    }
   ],
   "source": [
    "round(prop_diff_z_test(1.65, \"greater\"), 4)"
   ]
  },
  {
   "cell_type": "code",
   "execution_count": null,
   "id": "72d52408-dfc6-4dea-9a99-aaaacc9de2b0",
   "metadata": {},
   "outputs": [],
   "source": []
  }
 ],
 "metadata": {
  "kernelspec": {
   "display_name": "Python 3 (ipykernel)",
   "language": "python",
   "name": "python3"
  },
  "language_info": {
   "codemirror_mode": {
    "name": "ipython",
    "version": 3
   },
   "file_extension": ".py",
   "mimetype": "text/x-python",
   "name": "python",
   "nbconvert_exporter": "python",
   "pygments_lexer": "ipython3",
   "version": "3.8.5"
  }
 },
 "nbformat": 4,
 "nbformat_minor": 5
}
