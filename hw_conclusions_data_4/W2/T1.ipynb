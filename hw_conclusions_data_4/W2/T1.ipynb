{
 "cells": [
  {
   "cell_type": "code",
   "execution_count": 1,
   "id": "875b628f-49a3-4ba6-a18a-01594be84541",
   "metadata": {},
   "outputs": [],
   "source": [
    "import numpy as np\n",
    "import pandas as pd\n",
    "\n",
    "import scipy\n",
    "from statsmodels.stats.weightstats import *"
   ]
  },
  {
   "cell_type": "code",
   "execution_count": 6,
   "id": "94c03d0e-f781-429a-a55f-723ba552e8ef",
   "metadata": {},
   "outputs": [
    {
     "name": "stdout",
     "output_type": "stream",
     "text": [
      "Populating the interactive namespace from numpy and matplotlib\n"
     ]
    }
   ],
   "source": [
    "%pylab inline"
   ]
  },
  {
   "cell_type": "code",
   "execution_count": 2,
   "id": "b5521c63-de11-4bc8-9669-35ddeae9ccf8",
   "metadata": {},
   "outputs": [],
   "source": [
    "mu = 9.5\n",
    "der = .4\n",
    "\n",
    "s_x = 9.57\n",
    "n = 160"
   ]
  },
  {
   "cell_type": "code",
   "execution_count": 10,
   "id": "35e9d2cd-3bde-423a-b213-f922fcb28cef",
   "metadata": {},
   "outputs": [],
   "source": [
    "a = (9.57 - 9.5) / (.4 / 12.649110640673518)"
   ]
  },
  {
   "cell_type": "code",
   "execution_count": 14,
   "id": "731ab32d-9f16-4dee-b297-25fb853095e9",
   "metadata": {},
   "outputs": [
    {
     "data": {
      "text/plain": [
       "0.0269"
      ]
     },
     "execution_count": 14,
     "metadata": {},
     "output_type": "execute_result"
    }
   ],
   "source": [
    "np.round(2 * (1 - stats.norm.cdf(a)), 4)"
   ]
  },
  {
   "cell_type": "code",
   "execution_count": 21,
   "id": "1767bf35-06a4-4c6f-a248-370f59415d99",
   "metadata": {},
   "outputs": [],
   "source": [
    "data = pd.read_csv(\"./data/diamonds.txt\", sep=\"\\t\")"
   ]
  },
  {
   "cell_type": "code",
   "execution_count": 22,
   "id": "1cddd0aa-b9b3-42ef-9b52-ace39fa5ec6e",
   "metadata": {},
   "outputs": [
    {
     "data": {
      "text/html": [
       "<div>\n",
       "<style scoped>\n",
       "    .dataframe tbody tr th:only-of-type {\n",
       "        vertical-align: middle;\n",
       "    }\n",
       "\n",
       "    .dataframe tbody tr th {\n",
       "        vertical-align: top;\n",
       "    }\n",
       "\n",
       "    .dataframe thead th {\n",
       "        text-align: right;\n",
       "    }\n",
       "</style>\n",
       "<table border=\"1\" class=\"dataframe\">\n",
       "  <thead>\n",
       "    <tr style=\"text-align: right;\">\n",
       "      <th></th>\n",
       "      <th>carat</th>\n",
       "      <th>depth</th>\n",
       "      <th>table</th>\n",
       "      <th>price</th>\n",
       "      <th>x</th>\n",
       "      <th>y</th>\n",
       "      <th>z</th>\n",
       "    </tr>\n",
       "  </thead>\n",
       "  <tbody>\n",
       "    <tr>\n",
       "      <th>0</th>\n",
       "      <td>0.23</td>\n",
       "      <td>61.5</td>\n",
       "      <td>55.0</td>\n",
       "      <td>326</td>\n",
       "      <td>3.95</td>\n",
       "      <td>3.98</td>\n",
       "      <td>2.43</td>\n",
       "    </tr>\n",
       "    <tr>\n",
       "      <th>1</th>\n",
       "      <td>0.21</td>\n",
       "      <td>59.8</td>\n",
       "      <td>61.0</td>\n",
       "      <td>326</td>\n",
       "      <td>3.89</td>\n",
       "      <td>3.84</td>\n",
       "      <td>2.31</td>\n",
       "    </tr>\n",
       "    <tr>\n",
       "      <th>2</th>\n",
       "      <td>0.23</td>\n",
       "      <td>56.9</td>\n",
       "      <td>65.0</td>\n",
       "      <td>327</td>\n",
       "      <td>4.05</td>\n",
       "      <td>4.07</td>\n",
       "      <td>2.31</td>\n",
       "    </tr>\n",
       "    <tr>\n",
       "      <th>3</th>\n",
       "      <td>0.29</td>\n",
       "      <td>62.4</td>\n",
       "      <td>58.0</td>\n",
       "      <td>334</td>\n",
       "      <td>4.20</td>\n",
       "      <td>4.23</td>\n",
       "      <td>2.63</td>\n",
       "    </tr>\n",
       "    <tr>\n",
       "      <th>4</th>\n",
       "      <td>0.31</td>\n",
       "      <td>63.3</td>\n",
       "      <td>58.0</td>\n",
       "      <td>335</td>\n",
       "      <td>4.34</td>\n",
       "      <td>4.35</td>\n",
       "      <td>2.75</td>\n",
       "    </tr>\n",
       "    <tr>\n",
       "      <th>...</th>\n",
       "      <td>...</td>\n",
       "      <td>...</td>\n",
       "      <td>...</td>\n",
       "      <td>...</td>\n",
       "      <td>...</td>\n",
       "      <td>...</td>\n",
       "      <td>...</td>\n",
       "    </tr>\n",
       "    <tr>\n",
       "      <th>53935</th>\n",
       "      <td>0.72</td>\n",
       "      <td>60.8</td>\n",
       "      <td>57.0</td>\n",
       "      <td>2757</td>\n",
       "      <td>5.75</td>\n",
       "      <td>5.76</td>\n",
       "      <td>3.50</td>\n",
       "    </tr>\n",
       "    <tr>\n",
       "      <th>53936</th>\n",
       "      <td>0.72</td>\n",
       "      <td>63.1</td>\n",
       "      <td>55.0</td>\n",
       "      <td>2757</td>\n",
       "      <td>5.69</td>\n",
       "      <td>5.75</td>\n",
       "      <td>3.61</td>\n",
       "    </tr>\n",
       "    <tr>\n",
       "      <th>53937</th>\n",
       "      <td>0.70</td>\n",
       "      <td>62.8</td>\n",
       "      <td>60.0</td>\n",
       "      <td>2757</td>\n",
       "      <td>5.66</td>\n",
       "      <td>5.68</td>\n",
       "      <td>3.56</td>\n",
       "    </tr>\n",
       "    <tr>\n",
       "      <th>53938</th>\n",
       "      <td>0.86</td>\n",
       "      <td>61.0</td>\n",
       "      <td>58.0</td>\n",
       "      <td>2757</td>\n",
       "      <td>6.15</td>\n",
       "      <td>6.12</td>\n",
       "      <td>3.74</td>\n",
       "    </tr>\n",
       "    <tr>\n",
       "      <th>53939</th>\n",
       "      <td>0.75</td>\n",
       "      <td>62.2</td>\n",
       "      <td>55.0</td>\n",
       "      <td>2757</td>\n",
       "      <td>5.83</td>\n",
       "      <td>5.87</td>\n",
       "      <td>3.64</td>\n",
       "    </tr>\n",
       "  </tbody>\n",
       "</table>\n",
       "<p>53940 rows × 7 columns</p>\n",
       "</div>"
      ],
      "text/plain": [
       "       carat  depth  table  price     x     y     z\n",
       "0       0.23   61.5   55.0    326  3.95  3.98  2.43\n",
       "1       0.21   59.8   61.0    326  3.89  3.84  2.31\n",
       "2       0.23   56.9   65.0    327  4.05  4.07  2.31\n",
       "3       0.29   62.4   58.0    334  4.20  4.23  2.63\n",
       "4       0.31   63.3   58.0    335  4.34  4.35  2.75\n",
       "...      ...    ...    ...    ...   ...   ...   ...\n",
       "53935   0.72   60.8   57.0   2757  5.75  5.76  3.50\n",
       "53936   0.72   63.1   55.0   2757  5.69  5.75  3.61\n",
       "53937   0.70   62.8   60.0   2757  5.66  5.68  3.56\n",
       "53938   0.86   61.0   58.0   2757  6.15  6.12  3.74\n",
       "53939   0.75   62.2   55.0   2757  5.83  5.87  3.64\n",
       "\n",
       "[53940 rows x 7 columns]"
      ]
     },
     "execution_count": 22,
     "metadata": {},
     "output_type": "execute_result"
    }
   ],
   "source": [
    "data"
   ]
  },
  {
   "cell_type": "code",
   "execution_count": 65,
   "id": "821b46ed-d67a-48b7-a0c2-2585404ce065",
   "metadata": {},
   "outputs": [],
   "source": [
    "from sklearn.linear_model import LinearRegression\n",
    "from sklearn.ensemble import RandomForestRegressor\n",
    "from sklearn.model_selection import train_test_split\n",
    "from sklearn.metrics import log_loss, mean_squared_error"
   ]
  },
  {
   "cell_type": "code",
   "execution_count": 37,
   "id": "cdc4853f-da5a-4c3f-8b2d-505786aba190",
   "metadata": {},
   "outputs": [],
   "source": [
    "X_train, X_test, y_train, y_test = train_test_split(data.drop(\"price\", axis=1), data.price, random_state=1, test_size=.25)"
   ]
  },
  {
   "cell_type": "code",
   "execution_count": 40,
   "id": "7e7c24e7-1c87-4b88-83e9-063040c8be1f",
   "metadata": {},
   "outputs": [],
   "source": [
    "model_l = LinearRegression().fit(X_train, y_train)\n",
    "y_pred_l = model_l.predict(X_test)"
   ]
  },
  {
   "cell_type": "code",
   "execution_count": 48,
   "id": "9f1c0304-720c-4c7c-8bf6-4037fc1fddcd",
   "metadata": {},
   "outputs": [],
   "source": [
    "model_rf = RandomForestRegressor(n_estimators=10, random_state=1).fit(X_train, y_train)\n",
    "y_pred_rf = model_rf.predict(X_test)"
   ]
  },
  {
   "cell_type": "code",
   "execution_count": 49,
   "id": "c106ece6-24b8-4364-9feb-4e99fab699e2",
   "metadata": {},
   "outputs": [],
   "source": [
    "d_l = np.abs(y_test - y_pred_l)"
   ]
  },
  {
   "cell_type": "code",
   "execution_count": 50,
   "id": "47dc0d55-0aed-4dba-9436-94b36f73abb9",
   "metadata": {},
   "outputs": [],
   "source": [
    "d_rf = np.abs(y_test - y_pred_rf)"
   ]
  },
  {
   "cell_type": "code",
   "execution_count": 81,
   "id": "1124225a-c2e8-480b-b558-9b662624e10d",
   "metadata": {},
   "outputs": [
    {
     "data": {
      "text/plain": [
       "Ttest_relResult(statistic=-13.017729783879002, pvalue=1.6551745751318887e-38)"
      ]
     },
     "execution_count": 81,
     "metadata": {},
     "output_type": "execute_result"
    }
   ],
   "source": [
    "scipy.stats.ttest_rel(d_rf, d_l)"
   ]
  },
  {
   "cell_type": "code",
   "execution_count": 85,
   "id": "e5d7cad6-18c6-4167-a766-848f15ee7e85",
   "metadata": {},
   "outputs": [
    {
     "data": {
      "text/plain": [
       "(74.28724532595727, 100.62452098634576)"
      ]
     },
     "execution_count": 85,
     "metadata": {},
     "output_type": "execute_result"
    }
   ],
   "source": [
    "DescrStatsW(d_l - d_rf).tconfint_mean()"
   ]
  },
  {
   "cell_type": "code",
   "execution_count": 71,
   "id": "5d25a948-1aa3-4f0d-ab3b-0a3b20f00fa5",
   "metadata": {},
   "outputs": [
    {
     "data": {
      "text/plain": [
       "87.45588315615157"
      ]
     },
     "execution_count": 71,
     "metadata": {},
     "output_type": "execute_result"
    }
   ],
   "source": [
    "d_l.mean() - d_rf.mean()"
   ]
  },
  {
   "cell_type": "code",
   "execution_count": 86,
   "id": "08670865-5fe9-428b-827b-426727898446",
   "metadata": {},
   "outputs": [
    {
     "data": {
      "text/plain": [
       "(59.83194833383145, 115.0798179784717)"
      ]
     },
     "execution_count": 86,
     "metadata": {},
     "output_type": "execute_result"
    }
   ],
   "source": [
    "cm = CompareMeans(DescrStatsW(d_l), DescrStatsW(d_rf))\n",
    "cm.tconfint_diff(alpha=.05)"
   ]
  },
  {
   "cell_type": "code",
   "execution_count": 87,
   "id": "03215d5e-ccf6-4240-bffd-b036f4dd7b22",
   "metadata": {},
   "outputs": [
    {
     "data": {
      "text/plain": [
       "array([ 60., 115.])"
      ]
     },
     "execution_count": 87,
     "metadata": {},
     "output_type": "execute_result"
    }
   ],
   "source": [
    "np.round(cm.tconfint_diff(alpha=.05), 0)"
   ]
  },
  {
   "cell_type": "code",
   "execution_count": 80,
   "id": "5e10dbd9-ec36-4bef-8a68-832706fdad20",
   "metadata": {},
   "outputs": [
    {
     "data": {
      "text/plain": [
       "(-100.62333893131077, -74.28842738099226)"
      ]
     },
     "execution_count": 80,
     "metadata": {},
     "output_type": "execute_result"
    }
   ],
   "source": [
    "DescrStatsW(d_rf-d_l).zconfint_mean(alpha=.05)"
   ]
  },
  {
   "cell_type": "code",
   "execution_count": 78,
   "id": "f708ca1e-e6c1-4368-8174-87059a31cea7",
   "metadata": {},
   "outputs": [
    {
     "data": {
      "text/plain": [
       "(-100.62333893131074, -74.28842738099226)"
      ]
     },
     "execution_count": 78,
     "metadata": {},
     "output_type": "execute_result"
    }
   ],
   "source": [
    "zconfint(d_rf - d_l)"
   ]
  },
  {
   "cell_type": "code",
   "execution_count": 88,
   "id": "d93011b4-0039-41b2-82d3-e2fa38b03a02",
   "metadata": {},
   "outputs": [
    {
     "data": {
      "text/plain": [
       "890.3764004285631"
      ]
     },
     "execution_count": 88,
     "metadata": {},
     "output_type": "execute_result"
    }
   ],
   "source": [
    "d_l.mean()"
   ]
  },
  {
   "cell_type": "code",
   "execution_count": 89,
   "id": "00874cf1-7865-473f-8882-6dee50be19a8",
   "metadata": {},
   "outputs": [
    {
     "data": {
      "text/plain": [
       "802.9205172724115"
      ]
     },
     "execution_count": 89,
     "metadata": {},
     "output_type": "execute_result"
    }
   ],
   "source": [
    "d_rf.mean()"
   ]
  },
  {
   "cell_type": "code",
   "execution_count": null,
   "id": "cb12c411-b30e-402f-9e65-b14b5a8977b6",
   "metadata": {},
   "outputs": [],
   "source": []
  }
 ],
 "metadata": {
  "kernelspec": {
   "display_name": "Python 3 (ipykernel)",
   "language": "python",
   "name": "python3"
  },
  "language_info": {
   "codemirror_mode": {
    "name": "ipython",
    "version": 3
   },
   "file_extension": ".py",
   "mimetype": "text/x-python",
   "name": "python",
   "nbconvert_exporter": "python",
   "pygments_lexer": "ipython3",
   "version": "3.8.5"
  }
 },
 "nbformat": 4,
 "nbformat_minor": 5
}
