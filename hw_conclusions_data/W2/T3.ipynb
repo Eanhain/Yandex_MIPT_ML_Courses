{
 "cells": [
  {
   "cell_type": "code",
   "execution_count": 1,
   "id": "c2824783-2009-4481-b67a-f910161fb180",
   "metadata": {},
   "outputs": [],
   "source": [
    "import numpy as np\n",
    "import pandas as pd\n",
    "import itertools\n",
    "\n",
    "from scipy import stats\n",
    "from statsmodels.stats.descriptivestats import sign_test\n",
    "from statsmodels.stats.weightstats import zconfint\n",
    "from statsmodels.stats.weightstats import *"
   ]
  },
  {
   "cell_type": "code",
   "execution_count": 2,
   "id": "a987725e-57a3-4dae-88c3-6507d3b19a24",
   "metadata": {},
   "outputs": [
    {
     "name": "stdout",
     "output_type": "stream",
     "text": [
      "Populating the interactive namespace from numpy and matplotlib\n"
     ]
    }
   ],
   "source": [
    "%pylab inline"
   ]
  },
  {
   "cell_type": "code",
   "execution_count": 3,
   "id": "e0de7e0c-2184-43a7-903d-a5f3e66f28eb",
   "metadata": {},
   "outputs": [],
   "source": [
    "data = np.array([49,58,75,110,112,132,151,276,281,362])\n",
    "m0 = 200"
   ]
  },
  {
   "cell_type": "code",
   "execution_count": 4,
   "id": "64fb1025-ea72-45d7-8c30-ecb93bd72196",
   "metadata": {},
   "outputs": [
    {
     "data": {
      "text/plain": [
       "array([17.    ,  0.2845])"
      ]
     },
     "execution_count": 4,
     "metadata": {},
     "output_type": "execute_result"
    }
   ],
   "source": [
    "np.round(stats.wilcoxon(data - m0, mode='approx'), 4)"
   ]
  },
  {
   "cell_type": "code",
   "execution_count": 5,
   "id": "7c35b02a-c2f7-41c4-9eb1-e46ebbd130e5",
   "metadata": {},
   "outputs": [],
   "source": [
    "data1 = np.array([22,22,15,13,19,19,18,20,21,13,13,15,])\n",
    "data2 = np.array([17,18,18,15,12,4,14,15,10])"
   ]
  },
  {
   "cell_type": "code",
   "execution_count": 6,
   "id": "f183ef82-02e6-4b1e-9ea2-cac2bca2e24a",
   "metadata": {},
   "outputs": [
    {
     "data": {
      "text/plain": [
       "MannwhitneyuResult(statistic=81.0, pvalue=0.02900499272087373)"
      ]
     },
     "execution_count": 6,
     "metadata": {},
     "output_type": "execute_result"
    }
   ],
   "source": [
    "stats.mannwhitneyu(data1, data2, alternative=\"greater\")"
   ]
  },
  {
   "cell_type": "code",
   "execution_count": 7,
   "id": "8e071e49-1618-4ede-b444-2fe9a33e393f",
   "metadata": {},
   "outputs": [
    {
     "data": {
      "text/plain": [
       "0.029"
      ]
     },
     "execution_count": 7,
     "metadata": {},
     "output_type": "execute_result"
    }
   ],
   "source": [
    "round(0.02900499272087373, 4)"
   ]
  },
  {
   "cell_type": "code",
   "execution_count": 8,
   "id": "a2a6ad12-9ca4-4584-9366-11b51c8796ff",
   "metadata": {},
   "outputs": [],
   "source": [
    "data3 = pd.read_csv(\"data/challenger.txt\", sep=\"\\t\")"
   ]
  },
  {
   "cell_type": "code",
   "execution_count": 9,
   "id": "eb526e59-e007-43e0-8c01-47705acab56e",
   "metadata": {},
   "outputs": [],
   "source": [
    "i1 = data3.query(\"Incident == 1\").Temperature.reset_index(drop=True)"
   ]
  },
  {
   "cell_type": "code",
   "execution_count": 10,
   "id": "7243560b-e5ee-4bdd-be32-c9af7097f1fc",
   "metadata": {},
   "outputs": [],
   "source": [
    "i0 = data3.query(\"Incident == 0\").Temperature.reset_index(drop=True)"
   ]
  },
  {
   "cell_type": "code",
   "execution_count": 79,
   "id": "4da48abe-96ec-4fca-9f72-9356a80687ed",
   "metadata": {},
   "outputs": [],
   "source": [
    "def get_bootstrap_samples(data, n_samples):\n",
    "    indices = np.random.randint(0, len(data), (n_samples, len(data)))\n",
    "    samples = data.values[indices]\n",
    "    return samples\n",
    "def stat_intervals(stat, alpha):\n",
    "    boundaries = np.percentile(stat, [100 * alpha / 2., 100 * (1 - alpha / 2.)])\n",
    "    return boundaries"
   ]
  },
  {
   "cell_type": "code",
   "execution_count": 80,
   "id": "a0e873d5-1e5e-46b0-8ea8-d494b5ed5452",
   "metadata": {},
   "outputs": [],
   "source": [
    "random.seed(0)\n",
    "\n",
    "\n",
    "\n",
    "i0_b = get_bootstrap_samples(i0, 1000)\n",
    "i1_b = get_bootstrap_samples(i1, 1000)"
   ]
  },
  {
   "cell_type": "code",
   "execution_count": 81,
   "id": "705c5ee1-d27d-41b2-b6ee-e3cc6ab8263c",
   "metadata": {},
   "outputs": [
    {
     "data": {
      "text/plain": [
       "array([1.423 , 7.9386])"
      ]
     },
     "execution_count": 81,
     "metadata": {},
     "output_type": "execute_result"
    }
   ],
   "source": [
    "np.round(stat_intervals(i0_b.mean(axis=1) - i1_b.mean(axis=1), .05), 4)"
   ]
  },
  {
   "cell_type": "code",
   "execution_count": 71,
   "id": "03e83036-0034-48ad-979c-0c9432a74548",
   "metadata": {},
   "outputs": [
    {
     "data": {
      "text/plain": [
       "array([-4.7392, -4.5263])"
      ]
     },
     "execution_count": 71,
     "metadata": {},
     "output_type": "execute_result"
    }
   ],
   "source": [
    "np.round(zconfint(i1_b.mean(axis=1) - i0_b.mean(axis=1)), 4)"
   ]
  },
  {
   "cell_type": "code",
   "execution_count": 50,
   "id": "e77f54f9-b929-4a16-880a-68cd37e3b9c7",
   "metadata": {},
   "outputs": [],
   "source": [
    "def permutation_t_stat_ind(sample1, sample2):\n",
    "    return np.mean(sample1) - np.mean(sample2)\n",
    "\n",
    "def get_random_combinations(n1, n2, max_combinations):\n",
    "    index = list(range(n1 + n2))\n",
    "    indices = set([tuple(index)])\n",
    "    for i in range(max_combinations - 1):\n",
    "        np.random.shuffle(index)\n",
    "        indices.add(tuple(index))\n",
    "    return [(index[:n1], index[n1:]) for index in indices]\n",
    "\n",
    "def permutation_zero_dist_ind(sample1, sample2, max_combinations=None):\n",
    "    joined_sample = np.hstack((sample1, sample2))\n",
    "    n1 = len(sample1)\n",
    "    n = len(joined_sample)\n",
    "    if max_combinations:\n",
    "        indices = get_random_combinations(n1, len(sample2), max_combinations)\n",
    "    else:\n",
    "        indices = [(list(index), filter(lambda i: i not in index, range(n))) for index in itertools.combinations(range(n), n1)]\n",
    "    distr = [joined_sample[list(i[0])].mean() - joined_sample[list(i[1])].mean() for i in indices]\n",
    "    return distr\n",
    "\n",
    "def permutation_test(sample, mean, max_permutation=None, alternative=\"two-sided\"):\n",
    "    if alternative not in (\"two-sided\", \"less\", \"greater\"):\n",
    "        raise ValueError(\"alternative not recognized\\nshould be 'two-sided', 'less' or 'greater'\")\n",
    "    t_stat = permutation_t_stat_ind(sample, mean)\n",
    "    zero_distr = permutation_zero_dist_ind(sample, mean, max_permutation)\n",
    "    if alternative == 'two-sided':\n",
    "        return sum([1 if abs(x) >= abs(t_stat) else 0 for x in zero_distr]) / len(zero_distr)\n",
    "    if alternative == 'less':\n",
    "        return sum([1 if x <= t_stat else 0 for x in zero_distr]) / len(zero_distr)\n",
    "    if alternative == 'greater':\n",
    "        return sum([1 if x >= t_stat else 0 for x in zero_distr]) / len(zero_distr)"
   ]
  },
  {
   "cell_type": "code",
   "execution_count": 55,
   "id": "9359c624-2db0-4a9b-9298-ed5a3dcb0787",
   "metadata": {},
   "outputs": [
    {
     "data": {
      "text/plain": [
       "0.007"
      ]
     },
     "execution_count": 55,
     "metadata": {},
     "output_type": "execute_result"
    }
   ],
   "source": [
    "random.seed(0)\n",
    "permutation_test(i0, i1, max_permutation=10000)"
   ]
  },
  {
   "cell_type": "code",
   "execution_count": null,
   "id": "cf53ad11-775b-4c68-b3a0-c2d1bc702f8d",
   "metadata": {},
   "outputs": [],
   "source": []
  }
 ],
 "metadata": {
  "kernelspec": {
   "display_name": "Python 3 (ipykernel)",
   "language": "python",
   "name": "python3"
  },
  "language_info": {
   "codemirror_mode": {
    "name": "ipython",
    "version": 3
   },
   "file_extension": ".py",
   "mimetype": "text/x-python",
   "name": "python",
   "nbconvert_exporter": "python",
   "pygments_lexer": "ipython3",
   "version": "3.8.5"
  }
 },
 "nbformat": 4,
 "nbformat_minor": 5
}
