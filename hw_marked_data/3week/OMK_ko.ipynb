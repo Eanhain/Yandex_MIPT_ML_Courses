{
 "cells": [
  {
   "cell_type": "code",
   "execution_count": 1,
   "id": "039d3137-137f-4a7d-b1a7-e242f5ee29bc",
   "metadata": {},
   "outputs": [],
   "source": [
    "import numpy as np\n",
    "from sympy import *\n",
    "import matplotlib.pyplot as plt\n",
    "import seaborn as sns"
   ]
  },
  {
   "cell_type": "code",
   "execution_count": 3,
   "id": "a55cee36-59b5-4099-8208-10628e703b88",
   "metadata": {},
   "outputs": [],
   "source": [
    "l, xs = symbols(\"l, xs\")"
   ]
  },
  {
   "cell_type": "code",
   "execution_count": 38,
   "id": "d4b89bb5-65d2-4f64-8884-5e75884f2c78",
   "metadata": {},
   "outputs": [],
   "source": [
    "func = log(l ** xs * np.exp(1) ** (-l) / factorial(xs))"
   ]
  },
  {
   "cell_type": "code",
   "execution_count": 39,
   "id": "c0cab130-a791-47af-b034-f2cf7316a95d",
   "metadata": {},
   "outputs": [
    {
     "data": {
      "text/latex": [
       "$\\displaystyle \\log{\\left(\\frac{2.71828182845905^{- l} l^{xs}}{xs!} \\right)}$"
      ],
      "text/plain": [
       "log(l**xs/(2.71828182845905**l*factorial(xs)))"
      ]
     },
     "execution_count": 39,
     "metadata": {},
     "output_type": "execute_result"
    }
   ],
   "source": [
    "func"
   ]
  },
  {
   "cell_type": "code",
   "execution_count": 40,
   "id": "6740d8cb-f68e-4724-8bab-5074e4e55226",
   "metadata": {},
   "outputs": [
    {
     "data": {
      "text/latex": [
       "$\\displaystyle 2.71828182845905^{l} l^{- xs} \\left(- \\frac{1.0 \\cdot 2.71828182845905^{- l} l^{xs}}{xs!} + \\frac{2.71828182845905^{- l} l^{xs} xs}{l xs!}\\right) xs!$"
      ],
      "text/plain": [
       "2.71828182845905**l*(-1.0*l**xs/(2.71828182845905**l*factorial(xs)) + l**xs*xs/(2.71828182845905**l*l*factorial(xs)))*factorial(xs)/l**xs"
      ]
     },
     "execution_count": 40,
     "metadata": {},
     "output_type": "execute_result"
    }
   ],
   "source": [
    "diff_func = diff(func, l)\n",
    "diff_func"
   ]
  },
  {
   "cell_type": "code",
   "execution_count": 41,
   "id": "4db2efe5-9007-4d3a-9ffd-5ea46be0baf2",
   "metadata": {},
   "outputs": [],
   "source": [
    "ll = np.array([0] * 109 + [1] * 65 + [2] * 22 + [3] * 3 + [4])"
   ]
  },
  {
   "cell_type": "code",
   "execution_count": 42,
   "id": "be242a40-6349-4667-ae0f-9ded7cf6f573",
   "metadata": {},
   "outputs": [
    {
     "data": {
      "image/png": "[encoded data removed]",
      "text/plain": [
       "<Figure size 432x288 with 1 Axes>"
      ]
     },
     "metadata": {
      "needs_background": "light"
     },
     "output_type": "display_data"
    }
   ],
   "source": [
    "sns.histplot(ll);"
   ]
  },
  {
   "cell_type": "code",
   "execution_count": 43,
   "id": "50e74d8b-98a9-4052-94da-c02caba3d33b",
   "metadata": {},
   "outputs": [],
   "source": [
    "from sympy import lambdify\n",
    "from scipy.optimize import fsolve"
   ]
  },
  {
   "cell_type": "code",
   "execution_count": 44,
   "id": "cb1d0536-8e7a-4224-b292-599832fb23a4",
   "metadata": {},
   "outputs": [
    {
     "data": {
      "text/latex": [
       "$\\displaystyle -1.0$"
      ],
      "text/plain": [
       "-1.00000000000000"
      ]
     },
     "execution_count": 44,
     "metadata": {},
     "output_type": "execute_result"
    }
   ],
   "source": [
    "diff_func.subs(xs, ll[0])"
   ]
  },
  {
   "cell_type": "code",
   "execution_count": 82,
   "id": "488e782f-d58b-4d85-b9f3-45cd90fd3efe",
   "metadata": {},
   "outputs": [],
   "source": [
    "def prob_pois(xi):\n",
    "    return diff_func.subs(xs, xi)"
   ]
  },
  {
   "cell_type": "code",
   "execution_count": 83,
   "id": "8a2af2a2-b560-4c52-9586-c7ba1852bc36",
   "metadata": {
    "tags": []
   },
   "outputs": [],
   "source": [
    "arr_func = []\n",
    "for x in ll:\n",
    "    arr_func.append(prob_pois(x))"
   ]
  },
  {
   "cell_type": "code",
   "execution_count": 73,
   "id": "5dcea84e-9837-4572-954c-62521fc09bbb",
   "metadata": {},
   "outputs": [],
   "source": [
    "arr_solve = [x for x in arr_solve if x != []]"
   ]
  },
  {
   "cell_type": "code",
   "execution_count": 86,
   "id": "848b74a4-0455-49a4-91ad-b78e8fbc7b4c",
   "metadata": {},
   "outputs": [
    {
     "data": {
      "text/plain": [
       "[0.610000000000000]"
      ]
     },
     "execution_count": 86,
     "metadata": {},
     "output_type": "execute_result"
    }
   ],
   "source": [
    "solve(sum(arr_func), l)"
   ]
  },
  {
   "cell_type": "code",
   "execution_count": 88,
   "id": "21ec40c6-0be6-4afc-a6c9-d412385bcba3",
   "metadata": {},
   "outputs": [
    {
     "data": {
      "text/latex": [
       "$\\displaystyle -200.0 + \\frac{122}{l}$"
      ],
      "text/plain": [
       "-200.0 + 122/l"
      ]
     },
     "execution_count": 88,
     "metadata": {},
     "output_type": "execute_result"
    }
   ],
   "source": [
    "simplify(sum(arr_func))"
   ]
  },
  {
   "cell_type": "code",
   "execution_count": 91,
   "id": "9ebb8200-b327-4395-8b6e-9e4e282b3881",
   "metadata": {},
   "outputs": [
    {
     "data": {
      "text/plain": [
       "122"
      ]
     },
     "execution_count": 91,
     "metadata": {},
     "output_type": "execute_result"
    }
   ],
   "source": [
    "sum(ll)"
   ]
  },
  {
   "cell_type": "markdown",
   "id": "6b2f4635-c440-4a8b-a7bd-ebf1852ef69e",
   "metadata": {},
   "source": [
    "## Binomial "
   ]
  },
  {
   "cell_type": "code",
   "execution_count": 95,
   "id": "a286e4a1-a0c3-4ef3-9246-ac04a98f5e3f",
   "metadata": {},
   "outputs": [],
   "source": [
    "k, N, p = symbols(\"k, N, p\")"
   ]
  },
  {
   "cell_type": "code",
   "execution_count": 98,
   "id": "ff07adf3-ab1d-4f99-bf56-cbd4485a1880",
   "metadata": {},
   "outputs": [],
   "source": [
    "func = log(binomial(N, k) * p ** k * (1 - p) ** (N - k))"
   ]
  },
  {
   "cell_type": "code",
   "execution_count": 101,
   "id": "9edbf1f9-2e37-42ca-b4c4-f25d27a4d6bf",
   "metadata": {},
   "outputs": [
    {
     "data": {
      "text/latex": [
       "$\\displaystyle \\log{\\left(p^{k} \\left(1 - p\\right)^{N - k} {\\binom{N}{k}} \\right)}$"
      ],
      "text/plain": [
       "log(p**k*(1 - p)**(N - k)*binomial(N, k))"
      ]
     },
     "execution_count": 101,
     "metadata": {},
     "output_type": "execute_result"
    }
   ],
   "source": [
    "func"
   ]
  },
  {
   "cell_type": "code",
   "execution_count": 103,
   "id": "867be11f-6e98-40cc-98d6-7fc25c252e04",
   "metadata": {},
   "outputs": [
    {
     "data": {
      "text/latex": [
       "$\\displaystyle \\frac{p^{- k} \\left(1 - p\\right)^{- N + k} \\left(\\frac{k p^{k} \\left(1 - p\\right)^{N - k} {\\binom{N}{k}}}{p} + \\frac{p^{k} \\left(1 - p\\right)^{N - k} \\left(- N + k\\right) {\\binom{N}{k}}}{1 - p}\\right)}{{\\binom{N}{k}}}$"
      ],
      "text/plain": [
       "(1 - p)**(-N + k)*(k*p**k*(1 - p)**(N - k)*binomial(N, k)/p + p**k*(1 - p)**(N - k)*(-N + k)*binomial(N, k)/(1 - p))/(p**k*binomial(N, k))"
      ]
     },
     "execution_count": 103,
     "metadata": {},
     "output_type": "execute_result"
    }
   ],
   "source": [
    "diff_func = func.diff(p)\n",
    "diff_func"
   ]
  },
  {
   "cell_type": "code",
   "execution_count": 111,
   "id": "ff3d0fb7-6b6b-4246-9fc0-a6bd47dd5617",
   "metadata": {},
   "outputs": [],
   "source": [
    "def find_opt(Ni, ki=1):\n",
    "    return diff_func.subs({N: Ni, k: ki})"
   ]
  },
  {
   "cell_type": "code",
   "execution_count": 106,
   "id": "1099b17c-ac44-4361-a6b2-a639cfadb00d",
   "metadata": {},
   "outputs": [],
   "source": [
    "data = [8, 12, 7, 6, 12]"
   ]
  },
  {
   "cell_type": "code",
   "execution_count": 112,
   "id": "e9cb81dc-bb76-4745-8ad9-d67cdc2e92b9",
   "metadata": {},
   "outputs": [],
   "source": [
    "arr_func = []\n",
    "for x in data:\n",
    "    arr_func.append(find_opt(x, ki=1))"
   ]
  },
  {
   "cell_type": "code",
   "execution_count": 115,
   "id": "e938c800-ab7c-4942-af06-15d7c5a3e86a",
   "metadata": {},
   "outputs": [
    {
     "data": {
      "text/plain": [
       "[1/9]"
      ]
     },
     "execution_count": 115,
     "metadata": {},
     "output_type": "execute_result"
    }
   ],
   "source": [
    "solve(sum(arr_func), p)"
   ]
  },
  {
   "cell_type": "markdown",
   "id": "5decdd31-2e7e-4ce2-9ff9-ffe9b31aaa8d",
   "metadata": {},
   "source": [
    "## Pois"
   ]
  },
  {
   "cell_type": "code",
   "execution_count": 116,
   "id": "7e905030-4395-4182-b90a-f97284fcfe72",
   "metadata": {},
   "outputs": [
    {
     "data": {
      "text/latex": [
       "$\\displaystyle \\log{\\left(\\frac{2.71828182845905^{- N} N^{k}}{k!} \\right)}$"
      ],
      "text/plain": [
       "log(N**k/(2.71828182845905**N*factorial(k)))"
      ]
     },
     "execution_count": 116,
     "metadata": {},
     "output_type": "execute_result"
    }
   ],
   "source": [
    "func = log(N ** k * np.exp(1) ** (-N) / factorial(k))\n",
    "func"
   ]
  },
  {
   "cell_type": "code",
   "execution_count": 119,
   "id": "3c02bafb-4991-493d-8cfb-02b3325166fe",
   "metadata": {},
   "outputs": [
    {
     "data": {
      "text/latex": [
       "$\\displaystyle \\log{\\left(\\frac{2.71828182845905^{- N} N^{k}}{k!} \\right)}$"
      ],
      "text/plain": [
       "log(N**k/(2.71828182845905**N*factorial(k)))"
      ]
     },
     "execution_count": 119,
     "metadata": {},
     "output_type": "execute_result"
    }
   ],
   "source": [
    "simplify(func)"
   ]
  },
  {
   "cell_type": "code",
   "execution_count": 117,
   "id": "162783d1-5575-4ab6-b677-391b44d6bb18",
   "metadata": {},
   "outputs": [
    {
     "data": {
      "text/latex": [
       "$\\displaystyle 2.71828182845905^{N} N^{- k} \\left(- \\frac{1.0 \\cdot 2.71828182845905^{- N} N^{k}}{k!} + \\frac{2.71828182845905^{- N} N^{k} k}{N k!}\\right) k!$"
      ],
      "text/plain": [
       "2.71828182845905**N*(-1.0*N**k/(2.71828182845905**N*factorial(k)) + N**k*k/(2.71828182845905**N*N*factorial(k)))*factorial(k)/N**k"
      ]
     },
     "execution_count": 117,
     "metadata": {},
     "output_type": "execute_result"
    }
   ],
   "source": [
    "diff_func = func.diff(N)\n",
    "diff_func"
   ]
  },
  {
   "cell_type": "code",
   "execution_count": 118,
   "id": "9cd80bc3-f5eb-4144-8f7f-1d08d7c6008b",
   "metadata": {},
   "outputs": [
    {
     "data": {
      "text/latex": [
       "$\\displaystyle \\frac{1.0^{N + 1} \\left(- N + k\\right)}{N}$"
      ],
      "text/plain": [
       "1.0**(N + 1)*(-N + k)/N"
      ]
     },
     "execution_count": 118,
     "metadata": {},
     "output_type": "execute_result"
    }
   ],
   "source": [
    "simplify(diff_func)"
   ]
  },
  {
   "cell_type": "code",
   "execution_count": 132,
   "id": "7a6fae28-9586-4380-8833-892d17925385",
   "metadata": {},
   "outputs": [],
   "source": [
    "arr_func = []\n",
    "for x in data:\n",
    "    arr_func.append(prob_pois(x))"
   ]
  },
  {
   "cell_type": "code",
   "execution_count": 131,
   "id": "81435e0f-130f-42f8-860f-c288b22326c9",
   "metadata": {},
   "outputs": [],
   "source": [
    "def prob_pois(xi):\n",
    "    return simplify(diff_func).subs(k, xi)"
   ]
  },
  {
   "cell_type": "code",
   "execution_count": 134,
   "id": "eca79b74-7b64-4941-a1ed-34e598a0cc29",
   "metadata": {},
   "outputs": [
    {
     "data": {
      "text/plain": [
       "[9.00000000000000]"
      ]
     },
     "execution_count": 134,
     "metadata": {},
     "output_type": "execute_result"
    }
   ],
   "source": [
    "solve(sum(arr_func))"
   ]
  },
  {
   "cell_type": "markdown",
   "id": "454795f1-f502-4fd6-9f05-98d09545a993",
   "metadata": {},
   "source": [
    "# Geom"
   ]
  },
  {
   "cell_type": "code",
   "execution_count": 142,
   "id": "0dba718e-7294-40c0-a5f0-ae6689606025",
   "metadata": {},
   "outputs": [],
   "source": [
    "func = log(1/N * (1 - 1/N) ** (k - 1))"
   ]
  },
  {
   "cell_type": "code",
   "execution_count": 143,
   "id": "2d6683b0-4fee-48bb-a1aa-30bb3289b2f1",
   "metadata": {},
   "outputs": [
    {
     "data": {
      "text/latex": [
       "$\\displaystyle \\log{\\left(\\frac{\\left(1 - \\frac{1}{N}\\right)^{k - 1}}{N} \\right)}$"
      ],
      "text/plain": [
       "log((1 - 1/N)**(k - 1)/N)"
      ]
     },
     "execution_count": 143,
     "metadata": {},
     "output_type": "execute_result"
    }
   ],
   "source": [
    "func"
   ]
  },
  {
   "cell_type": "code",
   "execution_count": 144,
   "id": "d24bb14c-8229-4667-b4ab-746036400a46",
   "metadata": {},
   "outputs": [],
   "source": [
    "diff_func = func.diff(N)"
   ]
  },
  {
   "cell_type": "code",
   "execution_count": 145,
   "id": "1af6bbd5-f95b-4915-a4dc-567d8f6ff6fb",
   "metadata": {},
   "outputs": [],
   "source": [
    "def prob_geom(xi):\n",
    "    return simplify(diff_func).subs(k, xi)"
   ]
  },
  {
   "cell_type": "code",
   "execution_count": 146,
   "id": "04bd83df-b4f8-46c4-bec2-efbf2063d715",
   "metadata": {},
   "outputs": [],
   "source": [
    "arr_func = []\n",
    "for x in data:\n",
    "    arr_func.append(prob_geom(x))"
   ]
  },
  {
   "cell_type": "code",
   "execution_count": 147,
   "id": "8edb9a0c-67ad-40ff-89bd-1ef5f3d28752",
   "metadata": {},
   "outputs": [
    {
     "data": {
      "text/plain": [
       "[9]"
      ]
     },
     "execution_count": 147,
     "metadata": {},
     "output_type": "execute_result"
    }
   ],
   "source": [
    "solve(sum(arr_func))"
   ]
  },
  {
   "cell_type": "markdown",
   "id": "36ec7285-6a0f-48d2-a4d1-8af68067b65a",
   "metadata": {},
   "source": [
    "## Bern"
   ]
  },
  {
   "cell_type": "code",
   "execution_count": 111,
   "id": "ae89c0c9-16ed-4cea-82e5-d1dd42dd5c5d",
   "metadata": {},
   "outputs": [],
   "source": [
    "from sympy import factorial as fac"
   ]
  },
  {
   "cell_type": "code",
   "execution_count": 4,
   "id": "021762f7-6a36-45da-a727-3da69434e294",
   "metadata": {},
   "outputs": [
    {
     "data": {
      "text/plain": [
       "array([0, 0, 0, 0, 0, 0, 0, 0, 0, 0, 0, 1, 1, 1, 1])"
      ]
     },
     "execution_count": 4,
     "metadata": {},
     "output_type": "execute_result"
    }
   ],
   "source": [
    "data = np.array([0] * 11 + [1] * 4)\n",
    "data"
   ]
  },
  {
   "cell_type": "code",
   "execution_count": 60,
   "id": "fe44bd36-3433-4bf2-a566-f16a53d1123f",
   "metadata": {},
   "outputs": [],
   "source": [
    "k, N, p, x1 = symbols(\"k, N, p, x1\")"
   ]
  },
  {
   "cell_type": "code",
   "execution_count": 26,
   "id": "51474ef2-ac10-4d5d-9d6b-d505ea560598",
   "metadata": {},
   "outputs": [],
   "source": [
    "p = .2, q = .8"
   ]
  },
  {
   "cell_type": "code",
   "execution_count": 65,
   "id": "792f7613-3a73-4248-810e-04395dbf62ec",
   "metadata": {},
   "outputs": [],
   "source": [
    "func = x1 * log(p) + (1 - x1) * log(1-p)"
   ]
  },
  {
   "cell_type": "code",
   "execution_count": 78,
   "id": "cc5aba14-963d-48d4-866c-d821a4f7318d",
   "metadata": {},
   "outputs": [
    {
     "data": {
      "text/latex": [
       "$\\displaystyle \\frac{p - x_{1}}{p \\left(p - 1\\right)}$"
      ],
      "text/plain": [
       "(p - x1)/(p*(p - 1))"
      ]
     },
     "execution_count": 78,
     "metadata": {},
     "output_type": "execute_result"
    }
   ],
   "source": [
    "simplify(func_diff)"
   ]
  },
  {
   "cell_type": "code",
   "execution_count": 67,
   "id": "f55df4a8-84c2-4dfa-ad57-f4604cac6353",
   "metadata": {},
   "outputs": [
    {
     "data": {
      "text/latex": [
       "$\\displaystyle - \\frac{1 - x_{1}}{1 - p} + \\frac{x_{1}}{p}$"
      ],
      "text/plain": [
       "-(1 - x1)/(1 - p) + x1/p"
      ]
     },
     "execution_count": 67,
     "metadata": {},
     "output_type": "execute_result"
    }
   ],
   "source": [
    "func_diff = func.diff(p)\n",
    "func_diff"
   ]
  },
  {
   "cell_type": "code",
   "execution_count": 79,
   "id": "20a9f94d-1977-4753-a245-f52c4e746111",
   "metadata": {},
   "outputs": [],
   "source": [
    "def find_opt(x):\n",
    "    return simplify(func_diff.subs(x1, x))"
   ]
  },
  {
   "cell_type": "code",
   "execution_count": 80,
   "id": "d3a202eb-4a74-4da3-97ac-134b1408b6d7",
   "metadata": {},
   "outputs": [
    {
     "data": {
      "text/plain": [
       "[]"
      ]
     },
     "execution_count": 80,
     "metadata": {},
     "output_type": "execute_result"
    }
   ],
   "source": [
    "solve(simplify(func_diff.subs(x1, x)), p)"
   ]
  },
  {
   "cell_type": "code",
   "execution_count": 81,
   "id": "4800d9ea-7a1d-49fa-b0fe-d710a122f3f2",
   "metadata": {},
   "outputs": [],
   "source": [
    "r = []\n",
    "for x in data:\n",
    "    r += [find_opt(x)]"
   ]
  },
  {
   "cell_type": "code",
   "execution_count": 89,
   "id": "2965cb2c-3cca-4c8c-bffd-b164ad124b7d",
   "metadata": {},
   "outputs": [
    {
     "data": {
      "text/latex": [
       "$\\displaystyle 0.267$"
      ],
      "text/plain": [
       "0.267"
      ]
     },
     "execution_count": 89,
     "metadata": {},
     "output_type": "execute_result"
    }
   ],
   "source": [
    "round(solve(sum(r))[0], 3)"
   ]
  },
  {
   "cell_type": "code",
   "execution_count": 21,
   "id": "05ac2a19-c160-48dd-9636-9f456b462e72",
   "metadata": {},
   "outputs": [],
   "source": [
    "n = len(data); k = 4"
   ]
  },
  {
   "cell_type": "code",
   "execution_count": 107,
   "id": "5acb6e26-229f-4f7f-a901-2ff1835b4d81",
   "metadata": {},
   "outputs": [
    {
     "data": {
      "text/plain": [
       "0.0"
      ]
     },
     "execution_count": 107,
     "metadata": {},
     "output_type": "execute_result"
    }
   ],
   "source": [
    "round(fac(15) / (fac(11) * fac(4)) * .2 ** (15) * .8 ** (11), 5)"
   ]
  },
  {
   "cell_type": "code",
   "execution_count": 124,
   "id": "351532fd-4b98-4930-90c8-54eda8e6a5d3",
   "metadata": {},
   "outputs": [],
   "source": [
    "def repl(x):\n",
    "    return (p ** x1 * (1 - p) ** (1 - x1)).subs({x1: x, p:.2})"
   ]
  },
  {
   "cell_type": "code",
   "execution_count": 102,
   "id": "85b18798-e058-4116-827d-71459e660c63",
   "metadata": {},
   "outputs": [],
   "source": [
    "r = []\n",
    "for x in data:\n",
    "    r += [repl(x)]"
   ]
  },
  {
   "cell_type": "code",
   "execution_count": 125,
   "id": "ea726475-ce39-4b57-a999-27ddaf35991e",
   "metadata": {},
   "outputs": [
    {
     "data": {
      "text/latex": [
       "$\\displaystyle 0.00014$"
      ],
      "text/plain": [
       "0.00014"
      ]
     },
     "execution_count": 125,
     "metadata": {},
     "output_type": "execute_result"
    }
   ],
   "source": [
    "round(prod(r), 5)"
   ]
  },
  {
   "cell_type": "code",
   "execution_count": 105,
   "id": "ab5f543a-fab0-4759-b018-cfeb4ea3803c",
   "metadata": {},
   "outputs": [
    {
     "data": {
      "text/latex": [
       "$\\displaystyle p^{x_{1}} \\left(1 - p\\right)^{1 - x_{1}}$"
      ],
      "text/plain": [
       "p**x1*(1 - p)**(1 - x1)"
      ]
     },
     "execution_count": 105,
     "metadata": {},
     "output_type": "execute_result"
    }
   ],
   "source": [
    "p ** x1 * (1 - p) ** (1 - x1)"
   ]
  },
  {
   "cell_type": "code",
   "execution_count": 120,
   "id": "1922fffe-7e67-48af-9c35-9cbfffb2c895",
   "metadata": {},
   "outputs": [
    {
     "data": {
      "text/latex": [
       "$\\displaystyle 3.84213343210046 \\cdot 10^{-9}$"
      ],
      "text/plain": [
       "3.84213343210046e-9"
      ]
     },
     "execution_count": 120,
     "metadata": {},
     "output_type": "execute_result"
    }
   ],
   "source": [
    "(binomial(N, k) * p ** (N) * (1 - p) ** (N - k)).subs({N: 15, k: 4, p: .2})"
   ]
  },
  {
   "cell_type": "code",
   "execution_count": 123,
   "id": "f2e52c6e-5458-493f-936f-59ce78d56c61",
   "metadata": {},
   "outputs": [],
   "source": [
    "from sympy.functions.combinatorial.factorials import binomial"
   ]
  },
  {
   "cell_type": "code",
   "execution_count": 3,
   "id": "c727aef9-5d1d-4c49-a1d0-c305dece2875",
   "metadata": {},
   "outputs": [],
   "source": [
    "from sympy.functions.elementary.complexes import Abs"
   ]
  },
  {
   "cell_type": "code",
   "execution_count": 5,
   "id": "e3796543-f5fa-49b3-87f1-ef15d1cb0963",
   "metadata": {},
   "outputs": [],
   "source": [
    "w, y, alpha = symbols(\"w, y, alpha\")"
   ]
  },
  {
   "cell_type": "code",
   "execution_count": 27,
   "id": "482d54c4-9878-49af-a103-2ce4afdc1b76",
   "metadata": {},
   "outputs": [
    {
     "data": {
      "text/latex": [
       "$\\displaystyle \\alpha w + \\left(w - y\\right)^{2}$"
      ],
      "text/plain": [
       "alpha*w + (w - y)**2"
      ]
     },
     "execution_count": 27,
     "metadata": {},
     "output_type": "execute_result"
    }
   ],
   "source": [
    "func = (w - y) ** 2 + alpha * w\n",
    "func"
   ]
  },
  {
   "cell_type": "code",
   "execution_count": 32,
   "id": "b98a2341-6350-4b27-a2c2-8a50c7d1a065",
   "metadata": {},
   "outputs": [
    {
     "data": {
      "text/plain": [
       "[0]"
      ]
     },
     "execution_count": 32,
     "metadata": {},
     "output_type": "execute_result"
    }
   ],
   "source": [
    "solve(func.subs({y: 5e-3, alpha: .01}).diff(w))"
   ]
  },
  {
   "cell_type": "code",
   "execution_count": 36,
   "id": "46cf2894-f6ae-4ac5-88d4-1df345d9056a",
   "metadata": {},
   "outputs": [
    {
     "data": {
      "text/latex": [
       "$\\displaystyle 0.01 w + \\left(w - 0.005\\right)^{2}$"
      ],
      "text/plain": [
       "0.01*w + (w - 0.005)**2"
      ]
     },
     "execution_count": 36,
     "metadata": {},
     "output_type": "execute_result"
    }
   ],
   "source": [
    "func.subs({y: 5e-3, alpha: .01})"
   ]
  },
  {
   "cell_type": "code",
   "execution_count": 35,
   "id": "00352b41-6955-4cd2-b3b6-4ac035110f86",
   "metadata": {},
   "outputs": [
    {
     "data": {
      "text/latex": [
       "$\\displaystyle 2 w$"
      ],
      "text/plain": [
       "2*w"
      ]
     },
     "execution_count": 35,
     "metadata": {},
     "output_type": "execute_result"
    }
   ],
   "source": [
    "func.subs({y: 5e-3, alpha: .01}).diff(w)"
   ]
  },
  {
   "cell_type": "code",
   "execution_count": null,
   "id": "79c74e80-4b2b-4c82-a52d-75b9bde44662",
   "metadata": {},
   "outputs": [],
   "source": []
  }
 ],
 "metadata": {
  "kernelspec": {
   "display_name": "Python 3",
   "language": "python",
   "name": "python3"
  },
  "language_info": {
   "codemirror_mode": {
    "name": "ipython",
    "version": 3
   },
   "file_extension": ".py",
   "mimetype": "text/x-python",
   "name": "python",
   "nbconvert_exporter": "python",
   "pygments_lexer": "ipython3",
   "version": "3.8.5"
  }
 },
 "nbformat": 4,
 "nbformat_minor": 5
}
