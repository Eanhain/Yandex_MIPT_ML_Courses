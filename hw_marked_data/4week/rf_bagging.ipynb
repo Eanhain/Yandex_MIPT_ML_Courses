{
 "cells": [
  {
   "cell_type": "code",
   "execution_count": 130,
   "id": "0c6e397f-b46b-4a7d-a49a-1f2454787846",
   "metadata": {},
   "outputs": [],
   "source": [
    "from sklearn.datasets import load_digits\n",
    "from sklearn.model_selection import cross_val_score, GridSearchCV, RandomizedSearchCV\n",
    "from sklearn.ensemble import RandomForestClassifier, BaggingClassifier\n",
    "from sklearn.tree import DecisionTreeClassifier\n",
    "import matplotlib.pyplot as plt\n",
    "import numpy as np\n",
    "import seaborn as sns"
   ]
  },
  {
   "cell_type": "code",
   "execution_count": 2,
   "id": "8e5f9145-ba4a-4ac9-a5e1-67513c0edaa4",
   "metadata": {},
   "outputs": [],
   "source": [
    "df = load_digits()"
   ]
  },
  {
   "cell_type": "code",
   "execution_count": 183,
   "id": "55b79f10-deb1-4974-9622-ea6ef72060ab",
   "metadata": {},
   "outputs": [],
   "source": [
    "X = df.data\n",
    "y = df.target"
   ]
  },
  {
   "cell_type": "code",
   "execution_count": 184,
   "id": "0f7fa390-1ce6-4bd8-852c-2fd77490718f",
   "metadata": {},
   "outputs": [],
   "source": [
    "k = 10"
   ]
  },
  {
   "cell_type": "code",
   "execution_count": 189,
   "id": "5147c111-c6ca-424b-a237-80cb02d69a0e",
   "metadata": {},
   "outputs": [
    {
     "data": {
      "text/plain": [
       "0.8241247672253259"
      ]
     },
     "execution_count": 189,
     "metadata": {},
     "output_type": "execute_result"
    }
   ],
   "source": [
    "cross_val_score(DecisionTreeClassifier(random_state=0), X, y, cv=k).mean()"
   ]
  },
  {
   "cell_type": "code",
   "execution_count": 60,
   "id": "51f001e0-452c-4171-beab-372cfda0bdfe",
   "metadata": {},
   "outputs": [],
   "source": [
    "bc = BaggingClassifier(DecisionTreeClassifier(), n_estimators=100, n_jobs=-1)"
   ]
  },
  {
   "cell_type": "code",
   "execution_count": 61,
   "id": "df400251-5d5b-4dba-876d-088c2735666f",
   "metadata": {},
   "outputs": [
    {
     "data": {
      "text/plain": [
       "0.9209528243327127"
      ]
     },
     "execution_count": 61,
     "metadata": {},
     "output_type": "execute_result"
    }
   ],
   "source": [
    "cross_val_score(bc, X, y, cv=k).mean()"
   ]
  },
  {
   "cell_type": "code",
   "execution_count": 19,
   "id": "945a7854-a3f1-4948-8946-d84bdd06f7ff",
   "metadata": {
    "collapsed": true,
    "jupyter": {
     "outputs_hidden": true
    },
    "tags": []
   },
   "outputs": [
    {
     "data": {
      "text/plain": [
       "\u001b[1;31mInit signature:\u001b[0m\n",
       "\u001b[0mBaggingClassifier\u001b[0m\u001b[1;33m(\u001b[0m\u001b[1;33m\n",
       "\u001b[0m    \u001b[0mbase_estimator\u001b[0m\u001b[1;33m=\u001b[0m\u001b[1;32mNone\u001b[0m\u001b[1;33m,\u001b[0m\u001b[1;33m\n",
       "\u001b[0m    \u001b[0mn_estimators\u001b[0m\u001b[1;33m=\u001b[0m\u001b[1;36m10\u001b[0m\u001b[1;33m,\u001b[0m\u001b[1;33m\n",
       "\u001b[0m    \u001b[1;33m*\u001b[0m\u001b[1;33m,\u001b[0m\u001b[1;33m\n",
       "\u001b[0m    \u001b[0mmax_samples\u001b[0m\u001b[1;33m=\u001b[0m\u001b[1;36m1.0\u001b[0m\u001b[1;33m,\u001b[0m\u001b[1;33m\n",
       "\u001b[0m    \u001b[0mmax_features\u001b[0m\u001b[1;33m=\u001b[0m\u001b[1;36m1.0\u001b[0m\u001b[1;33m,\u001b[0m\u001b[1;33m\n",
       "\u001b[0m    \u001b[0mbootstrap\u001b[0m\u001b[1;33m=\u001b[0m\u001b[1;32mTrue\u001b[0m\u001b[1;33m,\u001b[0m\u001b[1;33m\n",
       "\u001b[0m    \u001b[0mbootstrap_features\u001b[0m\u001b[1;33m=\u001b[0m\u001b[1;32mFalse\u001b[0m\u001b[1;33m,\u001b[0m\u001b[1;33m\n",
       "\u001b[0m    \u001b[0moob_score\u001b[0m\u001b[1;33m=\u001b[0m\u001b[1;32mFalse\u001b[0m\u001b[1;33m,\u001b[0m\u001b[1;33m\n",
       "\u001b[0m    \u001b[0mwarm_start\u001b[0m\u001b[1;33m=\u001b[0m\u001b[1;32mFalse\u001b[0m\u001b[1;33m,\u001b[0m\u001b[1;33m\n",
       "\u001b[0m    \u001b[0mn_jobs\u001b[0m\u001b[1;33m=\u001b[0m\u001b[1;32mNone\u001b[0m\u001b[1;33m,\u001b[0m\u001b[1;33m\n",
       "\u001b[0m    \u001b[0mrandom_state\u001b[0m\u001b[1;33m=\u001b[0m\u001b[1;32mNone\u001b[0m\u001b[1;33m,\u001b[0m\u001b[1;33m\n",
       "\u001b[0m    \u001b[0mverbose\u001b[0m\u001b[1;33m=\u001b[0m\u001b[1;36m0\u001b[0m\u001b[1;33m,\u001b[0m\u001b[1;33m\n",
       "\u001b[0m\u001b[1;33m)\u001b[0m\u001b[1;33m\u001b[0m\u001b[1;33m\u001b[0m\u001b[0m\n",
       "\u001b[1;31mDocstring:\u001b[0m     \n",
       "A Bagging classifier.\n",
       "\n",
       "A Bagging classifier is an ensemble meta-estimator that fits base\n",
       "classifiers each on random subsets of the original dataset and then\n",
       "aggregate their individual predictions (either by voting or by averaging)\n",
       "to form a final prediction. Such a meta-estimator can typically be used as\n",
       "a way to reduce the variance of a black-box estimator (e.g., a decision\n",
       "tree), by introducing randomization into its construction procedure and\n",
       "then making an ensemble out of it.\n",
       "\n",
       "This algorithm encompasses several works from the literature. When random\n",
       "subsets of the dataset are drawn as random subsets of the samples, then\n",
       "this algorithm is known as Pasting [1]_. If samples are drawn with\n",
       "replacement, then the method is known as Bagging [2]_. When random subsets\n",
       "of the dataset are drawn as random subsets of the features, then the method\n",
       "is known as Random Subspaces [3]_. Finally, when base estimators are built\n",
       "on subsets of both samples and features, then the method is known as\n",
       "Random Patches [4]_.\n",
       "\n",
       "Read more in the :ref:`User Guide <bagging>`.\n",
       "\n",
       ".. versionadded:: 0.15\n",
       "\n",
       "Parameters\n",
       "----------\n",
       "base_estimator : object, default=None\n",
       "    The base estimator to fit on random subsets of the dataset.\n",
       "    If None, then the base estimator is a\n",
       "    :class:`~sklearn.tree.DecisionTreeClassifier`.\n",
       "\n",
       "n_estimators : int, default=10\n",
       "    The number of base estimators in the ensemble.\n",
       "\n",
       "max_samples : int or float, default=1.0\n",
       "    The number of samples to draw from X to train each base estimator (with\n",
       "    replacement by default, see `bootstrap` for more details).\n",
       "\n",
       "    - If int, then draw `max_samples` samples.\n",
       "    - If float, then draw `max_samples * X.shape[0]` samples.\n",
       "\n",
       "max_features : int or float, default=1.0\n",
       "    The number of features to draw from X to train each base estimator (\n",
       "    without replacement by default, see `bootstrap_features` for more\n",
       "    details).\n",
       "\n",
       "    - If int, then draw `max_features` features.\n",
       "    - If float, then draw `max_features * X.shape[1]` features.\n",
       "\n",
       "bootstrap : bool, default=True\n",
       "    Whether samples are drawn with replacement. If False, sampling\n",
       "    without replacement is performed.\n",
       "\n",
       "bootstrap_features : bool, default=False\n",
       "    Whether features are drawn with replacement.\n",
       "\n",
       "oob_score : bool, default=False\n",
       "    Whether to use out-of-bag samples to estimate\n",
       "    the generalization error. Only available if bootstrap=True.\n",
       "\n",
       "warm_start : bool, default=False\n",
       "    When set to True, reuse the solution of the previous call to fit\n",
       "    and add more estimators to the ensemble, otherwise, just fit\n",
       "    a whole new ensemble. See :term:`the Glossary <warm_start>`.\n",
       "\n",
       "    .. versionadded:: 0.17\n",
       "       *warm_start* constructor parameter.\n",
       "\n",
       "n_jobs : int, default=None\n",
       "    The number of jobs to run in parallel for both :meth:`fit` and\n",
       "    :meth:`predict`. ``None`` means 1 unless in a\n",
       "    :obj:`joblib.parallel_backend` context. ``-1`` means using all\n",
       "    processors. See :term:`Glossary <n_jobs>` for more details.\n",
       "\n",
       "random_state : int, RandomState instance or None, default=None\n",
       "    Controls the random resampling of the original dataset\n",
       "    (sample wise and feature wise).\n",
       "    If the base estimator accepts a `random_state` attribute, a different\n",
       "    seed is generated for each instance in the ensemble.\n",
       "    Pass an int for reproducible output across multiple function calls.\n",
       "    See :term:`Glossary <random_state>`.\n",
       "\n",
       "verbose : int, default=0\n",
       "    Controls the verbosity when fitting and predicting.\n",
       "\n",
       "Attributes\n",
       "----------\n",
       "base_estimator_ : estimator\n",
       "    The base estimator from which the ensemble is grown.\n",
       "\n",
       "n_features_ : int\n",
       "    The number of features when :meth:`fit` is performed.\n",
       "\n",
       "estimators_ : list of estimators\n",
       "    The collection of fitted base estimators.\n",
       "\n",
       "estimators_samples_ : list of arrays\n",
       "    The subset of drawn samples (i.e., the in-bag samples) for each base\n",
       "    estimator. Each subset is defined by an array of the indices selected.\n",
       "\n",
       "estimators_features_ : list of arrays\n",
       "    The subset of drawn features for each base estimator.\n",
       "\n",
       "classes_ : ndarray of shape (n_classes,)\n",
       "    The classes labels.\n",
       "\n",
       "n_classes_ : int or list\n",
       "    The number of classes.\n",
       "\n",
       "oob_score_ : float\n",
       "    Score of the training dataset obtained using an out-of-bag estimate.\n",
       "    This attribute exists only when ``oob_score`` is True.\n",
       "\n",
       "oob_decision_function_ : ndarray of shape (n_samples, n_classes)\n",
       "    Decision function computed with out-of-bag estimate on the training\n",
       "    set. If n_estimators is small it might be possible that a data point\n",
       "    was never left out during the bootstrap. In this case,\n",
       "    `oob_decision_function_` might contain NaN. This attribute exists\n",
       "    only when ``oob_score`` is True.\n",
       "\n",
       "Examples\n",
       "--------\n",
       ">>> from sklearn.svm import SVC\n",
       ">>> from sklearn.ensemble import BaggingClassifier\n",
       ">>> from sklearn.datasets import make_classification\n",
       ">>> X, y = make_classification(n_samples=100, n_features=4,\n",
       "...                            n_informative=2, n_redundant=0,\n",
       "...                            random_state=0, shuffle=False)\n",
       ">>> clf = BaggingClassifier(base_estimator=SVC(),\n",
       "...                         n_estimators=10, random_state=0).fit(X, y)\n",
       ">>> clf.predict([[0, 0, 0, 0]])\n",
       "array([1])\n",
       "\n",
       "References\n",
       "----------\n",
       "\n",
       ".. [1] L. Breiman, \"Pasting small votes for classification in large\n",
       "       databases and on-line\", Machine Learning, 36(1), 85-103, 1999.\n",
       "\n",
       ".. [2] L. Breiman, \"Bagging predictors\", Machine Learning, 24(2), 123-140,\n",
       "       1996.\n",
       "\n",
       ".. [3] T. Ho, \"The random subspace method for constructing decision\n",
       "       forests\", Pattern Analysis and Machine Intelligence, 20(8), 832-844,\n",
       "       1998.\n",
       "\n",
       ".. [4] G. Louppe and P. Geurts, \"Ensembles on Random Patches\", Machine\n",
       "       Learning and Knowledge Discovery in Databases, 346-361, 2012.\n",
       "\u001b[1;31mFile:\u001b[0m           a:\\anaconda3\\lib\\site-packages\\sklearn\\ensemble\\_bagging.py\n",
       "\u001b[1;31mType:\u001b[0m           ABCMeta\n",
       "\u001b[1;31mSubclasses:\u001b[0m     \n"
      ]
     },
     "metadata": {},
     "output_type": "display_data"
    }
   ],
   "source": [
    "d = X.shape[1]\n",
    "BaggingClassifier?"
   ]
  },
  {
   "cell_type": "code",
   "execution_count": 190,
   "id": "94eb9e91-7636-4ce6-a2ea-f17ec71785fa",
   "metadata": {},
   "outputs": [
    {
     "data": {
      "text/plain": [
       "0.9248944754810676"
      ]
     },
     "execution_count": 190,
     "metadata": {},
     "output_type": "execute_result"
    }
   ],
   "source": [
    "bc = BaggingClassifier(DecisionTreeClassifier(random_state=0), n_estimators=100, n_jobs=-1, max_features=int(d ** .5))\n",
    "cross_val_score(bc, X, y, cv=k).mean()"
   ]
  },
  {
   "cell_type": "code",
   "execution_count": 191,
   "id": "7a75b04d-8a83-457d-80f7-e6c44de391eb",
   "metadata": {},
   "outputs": [
    {
     "data": {
      "text/plain": [
       "0.9482464307883302"
      ]
     },
     "execution_count": 191,
     "metadata": {},
     "output_type": "execute_result"
    }
   ],
   "source": [
    "bc = BaggingClassifier(DecisionTreeClassifier(max_features=int(d ** .5), random_state=0), n_estimators=100, n_jobs=-1)\n",
    "cross_val_score(bc, X, y, cv=k).mean()"
   ]
  },
  {
   "cell_type": "code",
   "execution_count": 34,
   "id": "db45e5dd-6218-40ca-91a0-2078809ec0ff",
   "metadata": {
    "collapsed": true,
    "jupyter": {
     "outputs_hidden": true
    },
    "tags": []
   },
   "outputs": [
    {
     "data": {
      "text/plain": [
       "\u001b[1;31mInit signature:\u001b[0m\n",
       "\u001b[0mRandomForestClassifier\u001b[0m\u001b[1;33m(\u001b[0m\u001b[1;33m\n",
       "\u001b[0m    \u001b[0mn_estimators\u001b[0m\u001b[1;33m=\u001b[0m\u001b[1;36m100\u001b[0m\u001b[1;33m,\u001b[0m\u001b[1;33m\n",
       "\u001b[0m    \u001b[1;33m*\u001b[0m\u001b[1;33m,\u001b[0m\u001b[1;33m\n",
       "\u001b[0m    \u001b[0mcriterion\u001b[0m\u001b[1;33m=\u001b[0m\u001b[1;34m'gini'\u001b[0m\u001b[1;33m,\u001b[0m\u001b[1;33m\n",
       "\u001b[0m    \u001b[0mmax_depth\u001b[0m\u001b[1;33m=\u001b[0m\u001b[1;32mNone\u001b[0m\u001b[1;33m,\u001b[0m\u001b[1;33m\n",
       "\u001b[0m    \u001b[0mmin_samples_split\u001b[0m\u001b[1;33m=\u001b[0m\u001b[1;36m2\u001b[0m\u001b[1;33m,\u001b[0m\u001b[1;33m\n",
       "\u001b[0m    \u001b[0mmin_samples_leaf\u001b[0m\u001b[1;33m=\u001b[0m\u001b[1;36m1\u001b[0m\u001b[1;33m,\u001b[0m\u001b[1;33m\n",
       "\u001b[0m    \u001b[0mmin_weight_fraction_leaf\u001b[0m\u001b[1;33m=\u001b[0m\u001b[1;36m0.0\u001b[0m\u001b[1;33m,\u001b[0m\u001b[1;33m\n",
       "\u001b[0m    \u001b[0mmax_features\u001b[0m\u001b[1;33m=\u001b[0m\u001b[1;34m'auto'\u001b[0m\u001b[1;33m,\u001b[0m\u001b[1;33m\n",
       "\u001b[0m    \u001b[0mmax_leaf_nodes\u001b[0m\u001b[1;33m=\u001b[0m\u001b[1;32mNone\u001b[0m\u001b[1;33m,\u001b[0m\u001b[1;33m\n",
       "\u001b[0m    \u001b[0mmin_impurity_decrease\u001b[0m\u001b[1;33m=\u001b[0m\u001b[1;36m0.0\u001b[0m\u001b[1;33m,\u001b[0m\u001b[1;33m\n",
       "\u001b[0m    \u001b[0mmin_impurity_split\u001b[0m\u001b[1;33m=\u001b[0m\u001b[1;32mNone\u001b[0m\u001b[1;33m,\u001b[0m\u001b[1;33m\n",
       "\u001b[0m    \u001b[0mbootstrap\u001b[0m\u001b[1;33m=\u001b[0m\u001b[1;32mTrue\u001b[0m\u001b[1;33m,\u001b[0m\u001b[1;33m\n",
       "\u001b[0m    \u001b[0moob_score\u001b[0m\u001b[1;33m=\u001b[0m\u001b[1;32mFalse\u001b[0m\u001b[1;33m,\u001b[0m\u001b[1;33m\n",
       "\u001b[0m    \u001b[0mn_jobs\u001b[0m\u001b[1;33m=\u001b[0m\u001b[1;32mNone\u001b[0m\u001b[1;33m,\u001b[0m\u001b[1;33m\n",
       "\u001b[0m    \u001b[0mrandom_state\u001b[0m\u001b[1;33m=\u001b[0m\u001b[1;32mNone\u001b[0m\u001b[1;33m,\u001b[0m\u001b[1;33m\n",
       "\u001b[0m    \u001b[0mverbose\u001b[0m\u001b[1;33m=\u001b[0m\u001b[1;36m0\u001b[0m\u001b[1;33m,\u001b[0m\u001b[1;33m\n",
       "\u001b[0m    \u001b[0mwarm_start\u001b[0m\u001b[1;33m=\u001b[0m\u001b[1;32mFalse\u001b[0m\u001b[1;33m,\u001b[0m\u001b[1;33m\n",
       "\u001b[0m    \u001b[0mclass_weight\u001b[0m\u001b[1;33m=\u001b[0m\u001b[1;32mNone\u001b[0m\u001b[1;33m,\u001b[0m\u001b[1;33m\n",
       "\u001b[0m    \u001b[0mccp_alpha\u001b[0m\u001b[1;33m=\u001b[0m\u001b[1;36m0.0\u001b[0m\u001b[1;33m,\u001b[0m\u001b[1;33m\n",
       "\u001b[0m    \u001b[0mmax_samples\u001b[0m\u001b[1;33m=\u001b[0m\u001b[1;32mNone\u001b[0m\u001b[1;33m,\u001b[0m\u001b[1;33m\n",
       "\u001b[0m\u001b[1;33m)\u001b[0m\u001b[1;33m\u001b[0m\u001b[1;33m\u001b[0m\u001b[0m\n",
       "\u001b[1;31mDocstring:\u001b[0m     \n",
       "A random forest classifier.\n",
       "\n",
       "A random forest is a meta estimator that fits a number of decision tree\n",
       "classifiers on various sub-samples of the dataset and uses averaging to\n",
       "improve the predictive accuracy and control over-fitting.\n",
       "The sub-sample size is controlled with the `max_samples` parameter if\n",
       "`bootstrap=True` (default), otherwise the whole dataset is used to build\n",
       "each tree.\n",
       "\n",
       "Read more in the :ref:`User Guide <forest>`.\n",
       "\n",
       "Parameters\n",
       "----------\n",
       "n_estimators : int, default=100\n",
       "    The number of trees in the forest.\n",
       "\n",
       "    .. versionchanged:: 0.22\n",
       "       The default value of ``n_estimators`` changed from 10 to 100\n",
       "       in 0.22.\n",
       "\n",
       "criterion : {\"gini\", \"entropy\"}, default=\"gini\"\n",
       "    The function to measure the quality of a split. Supported criteria are\n",
       "    \"gini\" for the Gini impurity and \"entropy\" for the information gain.\n",
       "    Note: this parameter is tree-specific.\n",
       "\n",
       "max_depth : int, default=None\n",
       "    The maximum depth of the tree. If None, then nodes are expanded until\n",
       "    all leaves are pure or until all leaves contain less than\n",
       "    min_samples_split samples.\n",
       "\n",
       "min_samples_split : int or float, default=2\n",
       "    The minimum number of samples required to split an internal node:\n",
       "\n",
       "    - If int, then consider `min_samples_split` as the minimum number.\n",
       "    - If float, then `min_samples_split` is a fraction and\n",
       "      `ceil(min_samples_split * n_samples)` are the minimum\n",
       "      number of samples for each split.\n",
       "\n",
       "    .. versionchanged:: 0.18\n",
       "       Added float values for fractions.\n",
       "\n",
       "min_samples_leaf : int or float, default=1\n",
       "    The minimum number of samples required to be at a leaf node.\n",
       "    A split point at any depth will only be considered if it leaves at\n",
       "    least ``min_samples_leaf`` training samples in each of the left and\n",
       "    right branches.  This may have the effect of smoothing the model,\n",
       "    especially in regression.\n",
       "\n",
       "    - If int, then consider `min_samples_leaf` as the minimum number.\n",
       "    - If float, then `min_samples_leaf` is a fraction and\n",
       "      `ceil(min_samples_leaf * n_samples)` are the minimum\n",
       "      number of samples for each node.\n",
       "\n",
       "    .. versionchanged:: 0.18\n",
       "       Added float values for fractions.\n",
       "\n",
       "min_weight_fraction_leaf : float, default=0.0\n",
       "    The minimum weighted fraction of the sum total of weights (of all\n",
       "    the input samples) required to be at a leaf node. Samples have\n",
       "    equal weight when sample_weight is not provided.\n",
       "\n",
       "max_features : {\"auto\", \"sqrt\", \"log2\"}, int or float, default=\"auto\"\n",
       "    The number of features to consider when looking for the best split:\n",
       "\n",
       "    - If int, then consider `max_features` features at each split.\n",
       "    - If float, then `max_features` is a fraction and\n",
       "      `round(max_features * n_features)` features are considered at each\n",
       "      split.\n",
       "    - If \"auto\", then `max_features=sqrt(n_features)`.\n",
       "    - If \"sqrt\", then `max_features=sqrt(n_features)` (same as \"auto\").\n",
       "    - If \"log2\", then `max_features=log2(n_features)`.\n",
       "    - If None, then `max_features=n_features`.\n",
       "\n",
       "    Note: the search for a split does not stop until at least one\n",
       "    valid partition of the node samples is found, even if it requires to\n",
       "    effectively inspect more than ``max_features`` features.\n",
       "\n",
       "max_leaf_nodes : int, default=None\n",
       "    Grow trees with ``max_leaf_nodes`` in best-first fashion.\n",
       "    Best nodes are defined as relative reduction in impurity.\n",
       "    If None then unlimited number of leaf nodes.\n",
       "\n",
       "min_impurity_decrease : float, default=0.0\n",
       "    A node will be split if this split induces a decrease of the impurity\n",
       "    greater than or equal to this value.\n",
       "\n",
       "    The weighted impurity decrease equation is the following::\n",
       "\n",
       "        N_t / N * (impurity - N_t_R / N_t * right_impurity\n",
       "                            - N_t_L / N_t * left_impurity)\n",
       "\n",
       "    where ``N`` is the total number of samples, ``N_t`` is the number of\n",
       "    samples at the current node, ``N_t_L`` is the number of samples in the\n",
       "    left child, and ``N_t_R`` is the number of samples in the right child.\n",
       "\n",
       "    ``N``, ``N_t``, ``N_t_R`` and ``N_t_L`` all refer to the weighted sum,\n",
       "    if ``sample_weight`` is passed.\n",
       "\n",
       "    .. versionadded:: 0.19\n",
       "\n",
       "min_impurity_split : float, default=None\n",
       "    Threshold for early stopping in tree growth. A node will split\n",
       "    if its impurity is above the threshold, otherwise it is a leaf.\n",
       "\n",
       "    .. deprecated:: 0.19\n",
       "       ``min_impurity_split`` has been deprecated in favor of\n",
       "       ``min_impurity_decrease`` in 0.19. The default value of\n",
       "       ``min_impurity_split`` has changed from 1e-7 to 0 in 0.23 and it\n",
       "       will be removed in 1.0 (renaming of 0.25).\n",
       "       Use ``min_impurity_decrease`` instead.\n",
       "\n",
       "bootstrap : bool, default=True\n",
       "    Whether bootstrap samples are used when building trees. If False, the\n",
       "    whole dataset is used to build each tree.\n",
       "\n",
       "oob_score : bool, default=False\n",
       "    Whether to use out-of-bag samples to estimate the generalization score.\n",
       "    Only available if bootstrap=True.\n",
       "\n",
       "n_jobs : int, default=None\n",
       "    The number of jobs to run in parallel. :meth:`fit`, :meth:`predict`,\n",
       "    :meth:`decision_path` and :meth:`apply` are all parallelized over the\n",
       "    trees. ``None`` means 1 unless in a :obj:`joblib.parallel_backend`\n",
       "    context. ``-1`` means using all processors. See :term:`Glossary\n",
       "    <n_jobs>` for more details.\n",
       "\n",
       "random_state : int, RandomState instance or None, default=None\n",
       "    Controls both the randomness of the bootstrapping of the samples used\n",
       "    when building trees (if ``bootstrap=True``) and the sampling of the\n",
       "    features to consider when looking for the best split at each node\n",
       "    (if ``max_features < n_features``).\n",
       "    See :term:`Glossary <random_state>` for details.\n",
       "\n",
       "verbose : int, default=0\n",
       "    Controls the verbosity when fitting and predicting.\n",
       "\n",
       "warm_start : bool, default=False\n",
       "    When set to ``True``, reuse the solution of the previous call to fit\n",
       "    and add more estimators to the ensemble, otherwise, just fit a whole\n",
       "    new forest. See :term:`the Glossary <warm_start>`.\n",
       "\n",
       "class_weight : {\"balanced\", \"balanced_subsample\"}, dict or list of dicts,             default=None\n",
       "    Weights associated with classes in the form ``{class_label: weight}``.\n",
       "    If not given, all classes are supposed to have weight one. For\n",
       "    multi-output problems, a list of dicts can be provided in the same\n",
       "    order as the columns of y.\n",
       "\n",
       "    Note that for multioutput (including multilabel) weights should be\n",
       "    defined for each class of every column in its own dict. For example,\n",
       "    for four-class multilabel classification weights should be\n",
       "    [{0: 1, 1: 1}, {0: 1, 1: 5}, {0: 1, 1: 1}, {0: 1, 1: 1}] instead of\n",
       "    [{1:1}, {2:5}, {3:1}, {4:1}].\n",
       "\n",
       "    The \"balanced\" mode uses the values of y to automatically adjust\n",
       "    weights inversely proportional to class frequencies in the input data\n",
       "    as ``n_samples / (n_classes * np.bincount(y))``\n",
       "\n",
       "    The \"balanced_subsample\" mode is the same as \"balanced\" except that\n",
       "    weights are computed based on the bootstrap sample for every tree\n",
       "    grown.\n",
       "\n",
       "    For multi-output, the weights of each column of y will be multiplied.\n",
       "\n",
       "    Note that these weights will be multiplied with sample_weight (passed\n",
       "    through the fit method) if sample_weight is specified.\n",
       "\n",
       "ccp_alpha : non-negative float, default=0.0\n",
       "    Complexity parameter used for Minimal Cost-Complexity Pruning. The\n",
       "    subtree with the largest cost complexity that is smaller than\n",
       "    ``ccp_alpha`` will be chosen. By default, no pruning is performed. See\n",
       "    :ref:`minimal_cost_complexity_pruning` for details.\n",
       "\n",
       "    .. versionadded:: 0.22\n",
       "\n",
       "max_samples : int or float, default=None\n",
       "    If bootstrap is True, the number of samples to draw from X\n",
       "    to train each base estimator.\n",
       "\n",
       "    - If None (default), then draw `X.shape[0]` samples.\n",
       "    - If int, then draw `max_samples` samples.\n",
       "    - If float, then draw `max_samples * X.shape[0]` samples. Thus,\n",
       "      `max_samples` should be in the interval `(0, 1)`.\n",
       "\n",
       "    .. versionadded:: 0.22\n",
       "\n",
       "Attributes\n",
       "----------\n",
       "base_estimator_ : DecisionTreeClassifier\n",
       "    The child estimator template used to create the collection of fitted\n",
       "    sub-estimators.\n",
       "\n",
       "estimators_ : list of DecisionTreeClassifier\n",
       "    The collection of fitted sub-estimators.\n",
       "\n",
       "classes_ : ndarray of shape (n_classes,) or a list of such arrays\n",
       "    The classes labels (single output problem), or a list of arrays of\n",
       "    class labels (multi-output problem).\n",
       "\n",
       "n_classes_ : int or list\n",
       "    The number of classes (single output problem), or a list containing the\n",
       "    number of classes for each output (multi-output problem).\n",
       "\n",
       "n_features_ : int\n",
       "    The number of features when ``fit`` is performed.\n",
       "\n",
       "n_outputs_ : int\n",
       "    The number of outputs when ``fit`` is performed.\n",
       "\n",
       "feature_importances_ : ndarray of shape (n_features,)\n",
       "    The impurity-based feature importances.\n",
       "    The higher, the more important the feature.\n",
       "    The importance of a feature is computed as the (normalized)\n",
       "    total reduction of the criterion brought by that feature.  It is also\n",
       "    known as the Gini importance.\n",
       "\n",
       "    Warning: impurity-based feature importances can be misleading for\n",
       "    high cardinality features (many unique values). See\n",
       "    :func:`sklearn.inspection.permutation_importance` as an alternative.\n",
       "\n",
       "oob_score_ : float\n",
       "    Score of the training dataset obtained using an out-of-bag estimate.\n",
       "    This attribute exists only when ``oob_score`` is True.\n",
       "\n",
       "oob_decision_function_ : ndarray of shape (n_samples, n_classes)\n",
       "    Decision function computed with out-of-bag estimate on the training\n",
       "    set. If n_estimators is small it might be possible that a data point\n",
       "    was never left out during the bootstrap. In this case,\n",
       "    `oob_decision_function_` might contain NaN. This attribute exists\n",
       "    only when ``oob_score`` is True.\n",
       "\n",
       "See Also\n",
       "--------\n",
       "DecisionTreeClassifier, ExtraTreesClassifier\n",
       "\n",
       "Notes\n",
       "-----\n",
       "The default values for the parameters controlling the size of the trees\n",
       "(e.g. ``max_depth``, ``min_samples_leaf``, etc.) lead to fully grown and\n",
       "unpruned trees which can potentially be very large on some data sets. To\n",
       "reduce memory consumption, the complexity and size of the trees should be\n",
       "controlled by setting those parameter values.\n",
       "\n",
       "The features are always randomly permuted at each split. Therefore,\n",
       "the best found split may vary, even with the same training data,\n",
       "``max_features=n_features`` and ``bootstrap=False``, if the improvement\n",
       "of the criterion is identical for several splits enumerated during the\n",
       "search of the best split. To obtain a deterministic behaviour during\n",
       "fitting, ``random_state`` has to be fixed.\n",
       "\n",
       "References\n",
       "----------\n",
       ".. [1] L. Breiman, \"Random Forests\", Machine Learning, 45(1), 5-32, 2001.\n",
       "\n",
       "Examples\n",
       "--------\n",
       ">>> from sklearn.ensemble import RandomForestClassifier\n",
       ">>> from sklearn.datasets import make_classification\n",
       ">>> X, y = make_classification(n_samples=1000, n_features=4,\n",
       "...                            n_informative=2, n_redundant=0,\n",
       "...                            random_state=0, shuffle=False)\n",
       ">>> clf = RandomForestClassifier(max_depth=2, random_state=0)\n",
       ">>> clf.fit(X, y)\n",
       "RandomForestClassifier(...)\n",
       ">>> print(clf.predict([[0, 0, 0, 0]]))\n",
       "[1]\n",
       "\u001b[1;31mFile:\u001b[0m           a:\\anaconda3\\lib\\site-packages\\sklearn\\ensemble\\_forest.py\n",
       "\u001b[1;31mType:\u001b[0m           ABCMeta\n",
       "\u001b[1;31mSubclasses:\u001b[0m     \n"
      ]
     },
     "metadata": {},
     "output_type": "display_data"
    }
   ],
   "source": [
    "RandomForestClassifier?"
   ]
  },
  {
   "cell_type": "code",
   "execution_count": 192,
   "id": "11d517ee-2962-4e9a-9edf-5e7b95cbadf9",
   "metadata": {
    "tags": []
   },
   "outputs": [
    {
     "data": {
      "text/plain": [
       "0.9476939788950961"
      ]
     },
     "execution_count": 192,
     "metadata": {},
     "output_type": "execute_result"
    }
   ],
   "source": [
    "rfc = RandomForestClassifier(random_state=0, n_estimators=100, n_jobs=-1, max_features=int(d ** .5))\n",
    "cross_val_score(rfc, X, y, cv=k).mean()"
   ]
  },
  {
   "cell_type": "code",
   "execution_count": 67,
   "id": "916814cf-ac6c-4f85-96f8-4a545901a815",
   "metadata": {
    "collapsed": true,
    "jupyter": {
     "outputs_hidden": true
    },
    "tags": []
   },
   "outputs": [
    {
     "data": {
      "text/plain": [
       "\u001b[1;31mInit signature:\u001b[0m\n",
       "\u001b[0mGridSearchCV\u001b[0m\u001b[1;33m(\u001b[0m\u001b[1;33m\n",
       "\u001b[0m    \u001b[0mestimator\u001b[0m\u001b[1;33m,\u001b[0m\u001b[1;33m\n",
       "\u001b[0m    \u001b[0mparam_grid\u001b[0m\u001b[1;33m,\u001b[0m\u001b[1;33m\n",
       "\u001b[0m    \u001b[1;33m*\u001b[0m\u001b[1;33m,\u001b[0m\u001b[1;33m\n",
       "\u001b[0m    \u001b[0mscoring\u001b[0m\u001b[1;33m=\u001b[0m\u001b[1;32mNone\u001b[0m\u001b[1;33m,\u001b[0m\u001b[1;33m\n",
       "\u001b[0m    \u001b[0mn_jobs\u001b[0m\u001b[1;33m=\u001b[0m\u001b[1;32mNone\u001b[0m\u001b[1;33m,\u001b[0m\u001b[1;33m\n",
       "\u001b[0m    \u001b[0mrefit\u001b[0m\u001b[1;33m=\u001b[0m\u001b[1;32mTrue\u001b[0m\u001b[1;33m,\u001b[0m\u001b[1;33m\n",
       "\u001b[0m    \u001b[0mcv\u001b[0m\u001b[1;33m=\u001b[0m\u001b[1;32mNone\u001b[0m\u001b[1;33m,\u001b[0m\u001b[1;33m\n",
       "\u001b[0m    \u001b[0mverbose\u001b[0m\u001b[1;33m=\u001b[0m\u001b[1;36m0\u001b[0m\u001b[1;33m,\u001b[0m\u001b[1;33m\n",
       "\u001b[0m    \u001b[0mpre_dispatch\u001b[0m\u001b[1;33m=\u001b[0m\u001b[1;34m'2*n_jobs'\u001b[0m\u001b[1;33m,\u001b[0m\u001b[1;33m\n",
       "\u001b[0m    \u001b[0merror_score\u001b[0m\u001b[1;33m=\u001b[0m\u001b[0mnan\u001b[0m\u001b[1;33m,\u001b[0m\u001b[1;33m\n",
       "\u001b[0m    \u001b[0mreturn_train_score\u001b[0m\u001b[1;33m=\u001b[0m\u001b[1;32mFalse\u001b[0m\u001b[1;33m,\u001b[0m\u001b[1;33m\n",
       "\u001b[0m\u001b[1;33m)\u001b[0m\u001b[1;33m\u001b[0m\u001b[1;33m\u001b[0m\u001b[0m\n",
       "\u001b[1;31mDocstring:\u001b[0m     \n",
       "Exhaustive search over specified parameter values for an estimator.\n",
       "\n",
       "Important members are fit, predict.\n",
       "\n",
       "GridSearchCV implements a \"fit\" and a \"score\" method.\n",
       "It also implements \"score_samples\", \"predict\", \"predict_proba\",\n",
       "\"decision_function\", \"transform\" and \"inverse_transform\" if they are\n",
       "implemented in the estimator used.\n",
       "\n",
       "The parameters of the estimator used to apply these methods are optimized\n",
       "by cross-validated grid-search over a parameter grid.\n",
       "\n",
       "Read more in the :ref:`User Guide <grid_search>`.\n",
       "\n",
       "Parameters\n",
       "----------\n",
       "estimator : estimator object.\n",
       "    This is assumed to implement the scikit-learn estimator interface.\n",
       "    Either estimator needs to provide a ``score`` function,\n",
       "    or ``scoring`` must be passed.\n",
       "\n",
       "param_grid : dict or list of dictionaries\n",
       "    Dictionary with parameters names (`str`) as keys and lists of\n",
       "    parameter settings to try as values, or a list of such\n",
       "    dictionaries, in which case the grids spanned by each dictionary\n",
       "    in the list are explored. This enables searching over any sequence\n",
       "    of parameter settings.\n",
       "\n",
       "scoring : str, callable, list, tuple or dict, default=None\n",
       "    Strategy to evaluate the performance of the cross-validated model on\n",
       "    the test set.\n",
       "\n",
       "    If `scoring` represents a single score, one can use:\n",
       "\n",
       "    - a single string (see :ref:`scoring_parameter`);\n",
       "    - a callable (see :ref:`scoring`) that returns a single value.\n",
       "\n",
       "    If `scoring` represents multiple scores, one can use:\n",
       "\n",
       "    - a list or tuple of unique strings;\n",
       "    - a callable returning a dictionary where the keys are the metric\n",
       "      names and the values are the metric scores;\n",
       "    - a dictionary with metric names as keys and callables a values.\n",
       "\n",
       "    See :ref:`multimetric_grid_search` for an example.\n",
       "\n",
       "n_jobs : int, default=None\n",
       "    Number of jobs to run in parallel.\n",
       "    ``None`` means 1 unless in a :obj:`joblib.parallel_backend` context.\n",
       "    ``-1`` means using all processors. See :term:`Glossary <n_jobs>`\n",
       "    for more details.\n",
       "\n",
       "    .. versionchanged:: v0.20\n",
       "       `n_jobs` default changed from 1 to None\n",
       "\n",
       "refit : bool, str, or callable, default=True\n",
       "    Refit an estimator using the best found parameters on the whole\n",
       "    dataset.\n",
       "\n",
       "    For multiple metric evaluation, this needs to be a `str` denoting the\n",
       "    scorer that would be used to find the best parameters for refitting\n",
       "    the estimator at the end.\n",
       "\n",
       "    Where there are considerations other than maximum score in\n",
       "    choosing a best estimator, ``refit`` can be set to a function which\n",
       "    returns the selected ``best_index_`` given ``cv_results_``. In that\n",
       "    case, the ``best_estimator_`` and ``best_params_`` will be set\n",
       "    according to the returned ``best_index_`` while the ``best_score_``\n",
       "    attribute will not be available.\n",
       "\n",
       "    The refitted estimator is made available at the ``best_estimator_``\n",
       "    attribute and permits using ``predict`` directly on this\n",
       "    ``GridSearchCV`` instance.\n",
       "\n",
       "    Also for multiple metric evaluation, the attributes ``best_index_``,\n",
       "    ``best_score_`` and ``best_params_`` will only be available if\n",
       "    ``refit`` is set and all of them will be determined w.r.t this specific\n",
       "    scorer.\n",
       "\n",
       "    See ``scoring`` parameter to know more about multiple metric\n",
       "    evaluation.\n",
       "\n",
       "    .. versionchanged:: 0.20\n",
       "        Support for callable added.\n",
       "\n",
       "cv : int, cross-validation generator or an iterable, default=None\n",
       "    Determines the cross-validation splitting strategy.\n",
       "    Possible inputs for cv are:\n",
       "\n",
       "    - None, to use the default 5-fold cross validation,\n",
       "    - integer, to specify the number of folds in a `(Stratified)KFold`,\n",
       "    - :term:`CV splitter`,\n",
       "    - An iterable yielding (train, test) splits as arrays of indices.\n",
       "\n",
       "    For integer/None inputs, if the estimator is a classifier and ``y`` is\n",
       "    either binary or multiclass, :class:`StratifiedKFold` is used. In all\n",
       "    other cases, :class:`KFold` is used. These splitters are instantiated\n",
       "    with `shuffle=False` so the splits will be the same across calls.\n",
       "\n",
       "    Refer :ref:`User Guide <cross_validation>` for the various\n",
       "    cross-validation strategies that can be used here.\n",
       "\n",
       "    .. versionchanged:: 0.22\n",
       "        ``cv`` default value if None changed from 3-fold to 5-fold.\n",
       "\n",
       "verbose : int\n",
       "    Controls the verbosity: the higher, the more messages.\n",
       "\n",
       "    - >1 : the computation time for each fold and parameter candidate is\n",
       "      displayed;\n",
       "    - >2 : the score is also displayed;\n",
       "    - >3 : the fold and candidate parameter indexes are also displayed\n",
       "      together with the starting time of the computation.\n",
       "\n",
       "pre_dispatch : int, or str, default=n_jobs\n",
       "    Controls the number of jobs that get dispatched during parallel\n",
       "    execution. Reducing this number can be useful to avoid an\n",
       "    explosion of memory consumption when more jobs get dispatched\n",
       "    than CPUs can process. This parameter can be:\n",
       "\n",
       "        - None, in which case all the jobs are immediately\n",
       "          created and spawned. Use this for lightweight and\n",
       "          fast-running jobs, to avoid delays due to on-demand\n",
       "          spawning of the jobs\n",
       "\n",
       "        - An int, giving the exact number of total jobs that are\n",
       "          spawned\n",
       "\n",
       "        - A str, giving an expression as a function of n_jobs,\n",
       "          as in '2*n_jobs'\n",
       "\n",
       "error_score : 'raise' or numeric, default=np.nan\n",
       "    Value to assign to the score if an error occurs in estimator fitting.\n",
       "    If set to 'raise', the error is raised. If a numeric value is given,\n",
       "    FitFailedWarning is raised. This parameter does not affect the refit\n",
       "    step, which will always raise the error.\n",
       "\n",
       "return_train_score : bool, default=False\n",
       "    If ``False``, the ``cv_results_`` attribute will not include training\n",
       "    scores.\n",
       "    Computing training scores is used to get insights on how different\n",
       "    parameter settings impact the overfitting/underfitting trade-off.\n",
       "    However computing the scores on the training set can be computationally\n",
       "    expensive and is not strictly required to select the parameters that\n",
       "    yield the best generalization performance.\n",
       "\n",
       "    .. versionadded:: 0.19\n",
       "\n",
       "    .. versionchanged:: 0.21\n",
       "        Default value was changed from ``True`` to ``False``\n",
       "\n",
       "\n",
       "Examples\n",
       "--------\n",
       ">>> from sklearn import svm, datasets\n",
       ">>> from sklearn.model_selection import GridSearchCV\n",
       ">>> iris = datasets.load_iris()\n",
       ">>> parameters = {'kernel':('linear', 'rbf'), 'C':[1, 10]}\n",
       ">>> svc = svm.SVC()\n",
       ">>> clf = GridSearchCV(svc, parameters)\n",
       ">>> clf.fit(iris.data, iris.target)\n",
       "GridSearchCV(estimator=SVC(),\n",
       "             param_grid={'C': [1, 10], 'kernel': ('linear', 'rbf')})\n",
       ">>> sorted(clf.cv_results_.keys())\n",
       "['mean_fit_time', 'mean_score_time', 'mean_test_score',...\n",
       " 'param_C', 'param_kernel', 'params',...\n",
       " 'rank_test_score', 'split0_test_score',...\n",
       " 'split2_test_score', ...\n",
       " 'std_fit_time', 'std_score_time', 'std_test_score']\n",
       "\n",
       "Attributes\n",
       "----------\n",
       "cv_results_ : dict of numpy (masked) ndarrays\n",
       "    A dict with keys as column headers and values as columns, that can be\n",
       "    imported into a pandas ``DataFrame``.\n",
       "\n",
       "    For instance the below given table\n",
       "\n",
       "    +------------+-----------+------------+-----------------+---+---------+\n",
       "    |param_kernel|param_gamma|param_degree|split0_test_score|...|rank_t...|\n",
       "    +============+===========+============+=================+===+=========+\n",
       "    |  'poly'    |     --    |      2     |       0.80      |...|    2    |\n",
       "    +------------+-----------+------------+-----------------+---+---------+\n",
       "    |  'poly'    |     --    |      3     |       0.70      |...|    4    |\n",
       "    +------------+-----------+------------+-----------------+---+---------+\n",
       "    |  'rbf'     |     0.1   |     --     |       0.80      |...|    3    |\n",
       "    +------------+-----------+------------+-----------------+---+---------+\n",
       "    |  'rbf'     |     0.2   |     --     |       0.93      |...|    1    |\n",
       "    +------------+-----------+------------+-----------------+---+---------+\n",
       "\n",
       "    will be represented by a ``cv_results_`` dict of::\n",
       "\n",
       "        {\n",
       "        'param_kernel': masked_array(data = ['poly', 'poly', 'rbf', 'rbf'],\n",
       "                                     mask = [False False False False]...)\n",
       "        'param_gamma': masked_array(data = [-- -- 0.1 0.2],\n",
       "                                    mask = [ True  True False False]...),\n",
       "        'param_degree': masked_array(data = [2.0 3.0 -- --],\n",
       "                                     mask = [False False  True  True]...),\n",
       "        'split0_test_score'  : [0.80, 0.70, 0.80, 0.93],\n",
       "        'split1_test_score'  : [0.82, 0.50, 0.70, 0.78],\n",
       "        'mean_test_score'    : [0.81, 0.60, 0.75, 0.85],\n",
       "        'std_test_score'     : [0.01, 0.10, 0.05, 0.08],\n",
       "        'rank_test_score'    : [2, 4, 3, 1],\n",
       "        'split0_train_score' : [0.80, 0.92, 0.70, 0.93],\n",
       "        'split1_train_score' : [0.82, 0.55, 0.70, 0.87],\n",
       "        'mean_train_score'   : [0.81, 0.74, 0.70, 0.90],\n",
       "        'std_train_score'    : [0.01, 0.19, 0.00, 0.03],\n",
       "        'mean_fit_time'      : [0.73, 0.63, 0.43, 0.49],\n",
       "        'std_fit_time'       : [0.01, 0.02, 0.01, 0.01],\n",
       "        'mean_score_time'    : [0.01, 0.06, 0.04, 0.04],\n",
       "        'std_score_time'     : [0.00, 0.00, 0.00, 0.01],\n",
       "        'params'             : [{'kernel': 'poly', 'degree': 2}, ...],\n",
       "        }\n",
       "\n",
       "    NOTE\n",
       "\n",
       "    The key ``'params'`` is used to store a list of parameter\n",
       "    settings dicts for all the parameter candidates.\n",
       "\n",
       "    The ``mean_fit_time``, ``std_fit_time``, ``mean_score_time`` and\n",
       "    ``std_score_time`` are all in seconds.\n",
       "\n",
       "    For multi-metric evaluation, the scores for all the scorers are\n",
       "    available in the ``cv_results_`` dict at the keys ending with that\n",
       "    scorer's name (``'_<scorer_name>'``) instead of ``'_score'`` shown\n",
       "    above. ('split0_test_precision', 'mean_train_precision' etc.)\n",
       "\n",
       "best_estimator_ : estimator\n",
       "    Estimator that was chosen by the search, i.e. estimator\n",
       "    which gave highest score (or smallest loss if specified)\n",
       "    on the left out data. Not available if ``refit=False``.\n",
       "\n",
       "    See ``refit`` parameter for more information on allowed values.\n",
       "\n",
       "best_score_ : float\n",
       "    Mean cross-validated score of the best_estimator\n",
       "\n",
       "    For multi-metric evaluation, this is present only if ``refit`` is\n",
       "    specified.\n",
       "\n",
       "    This attribute is not available if ``refit`` is a function.\n",
       "\n",
       "best_params_ : dict\n",
       "    Parameter setting that gave the best results on the hold out data.\n",
       "\n",
       "    For multi-metric evaluation, this is present only if ``refit`` is\n",
       "    specified.\n",
       "\n",
       "best_index_ : int\n",
       "    The index (of the ``cv_results_`` arrays) which corresponds to the best\n",
       "    candidate parameter setting.\n",
       "\n",
       "    The dict at ``search.cv_results_['params'][search.best_index_]`` gives\n",
       "    the parameter setting for the best model, that gives the highest\n",
       "    mean score (``search.best_score_``).\n",
       "\n",
       "    For multi-metric evaluation, this is present only if ``refit`` is\n",
       "    specified.\n",
       "\n",
       "scorer_ : function or a dict\n",
       "    Scorer function used on the held out data to choose the best\n",
       "    parameters for the model.\n",
       "\n",
       "    For multi-metric evaluation, this attribute holds the validated\n",
       "    ``scoring`` dict which maps the scorer key to the scorer callable.\n",
       "\n",
       "n_splits_ : int\n",
       "    The number of cross-validation splits (folds/iterations).\n",
       "\n",
       "refit_time_ : float\n",
       "    Seconds used for refitting the best model on the whole dataset.\n",
       "\n",
       "    This is present only if ``refit`` is not False.\n",
       "\n",
       "    .. versionadded:: 0.20\n",
       "\n",
       "multimetric_ : bool\n",
       "    Whether or not the scorers compute several metrics.\n",
       "\n",
       "Notes\n",
       "-----\n",
       "The parameters selected are those that maximize the score of the left out\n",
       "data, unless an explicit score is passed in which case it is used instead.\n",
       "\n",
       "If `n_jobs` was set to a value higher than one, the data is copied for each\n",
       "point in the grid (and not `n_jobs` times). This is done for efficiency\n",
       "reasons if individual jobs take very little time, but may raise errors if\n",
       "the dataset is large and not enough memory is available.  A workaround in\n",
       "this case is to set `pre_dispatch`. Then, the memory is copied only\n",
       "`pre_dispatch` many times. A reasonable value for `pre_dispatch` is `2 *\n",
       "n_jobs`.\n",
       "\n",
       "See Also\n",
       "---------\n",
       "ParameterGrid : Generates all the combinations of a hyperparameter grid.\n",
       "train_test_split : Utility function to split the data into a development\n",
       "    set usable for fitting a GridSearchCV instance and an evaluation set\n",
       "    for its final evaluation.\n",
       "sklearn.metrics.make_scorer : Make a scorer from a performance metric or\n",
       "    loss function.\n",
       "\u001b[1;31mFile:\u001b[0m           a:\\anaconda3\\lib\\site-packages\\sklearn\\model_selection\\_search.py\n",
       "\u001b[1;31mType:\u001b[0m           ABCMeta\n",
       "\u001b[1;31mSubclasses:\u001b[0m     \n"
      ]
     },
     "metadata": {},
     "output_type": "display_data"
    }
   ],
   "source": [
    "GridSearchCV?"
   ]
  },
  {
   "cell_type": "code",
   "execution_count": 116,
   "id": "c2acf0ac-021c-428b-aa1a-9477d9b895da",
   "metadata": {},
   "outputs": [
    {
     "data": {
      "text/plain": [
       "[10, 60, 110, 160]"
      ]
     },
     "execution_count": 116,
     "metadata": {},
     "output_type": "execute_result"
    }
   ],
   "source": [
    "list(range(10, 201, 50))"
   ]
  },
  {
   "cell_type": "code",
   "execution_count": 103,
   "id": "e7b8151c-0d31-454c-823e-cfbe52226b64",
   "metadata": {},
   "outputs": [
    {
     "data": {
      "text/plain": [
       "[2, 4, 6, 8, 10]"
      ]
     },
     "execution_count": 103,
     "metadata": {},
     "output_type": "execute_result"
    }
   ],
   "source": [
    "list(range(2, int((d ** .5) + 4), 2))"
   ]
  },
  {
   "cell_type": "code",
   "execution_count": 106,
   "id": "671ac009-c880-424b-ab35-9f8adbf80932",
   "metadata": {},
   "outputs": [
    {
     "data": {
      "text/plain": [
       "[2, 17, 32, 47]"
      ]
     },
     "execution_count": 106,
     "metadata": {},
     "output_type": "execute_result"
    }
   ],
   "source": [
    "list(range(2, 60, 15))"
   ]
  },
  {
   "cell_type": "code",
   "execution_count": 199,
   "id": "362e077f-1bf2-4420-aa17-8c4fbc12c5bc",
   "metadata": {},
   "outputs": [],
   "source": [
    "params = {\n",
    "    \"n_estimators\": range(10, 201, 50),\n",
    "    \"max_features\": range(2, int((d ** .5) + 4), 2),\n",
    "    \"max_depth\": range(1, 5, 1)\n",
    "}"
   ]
  },
  {
   "cell_type": "code",
   "execution_count": 201,
   "id": "0c01a6f6-d94c-4f76-a25c-a52511b446f5",
   "metadata": {},
   "outputs": [
    {
     "data": {
      "text/plain": [
       "{'max_depth': 4, 'max_features': 4, 'n_estimators': 160}"
      ]
     },
     "execution_count": 201,
     "metadata": {},
     "output_type": "execute_result"
    }
   ],
   "source": [
    "gsc.best_params_"
   ]
  },
  {
   "cell_type": "code",
   "execution_count": 200,
   "id": "b5c372f6-baa1-490a-a34a-cbc0870fed96",
   "metadata": {},
   "outputs": [],
   "source": [
    "gsc = GridSearchCV(estimator=RandomForestClassifier(), n_jobs=-1, cv=k, param_grid=params).fit(X, y)"
   ]
  },
  {
   "cell_type": "code",
   "execution_count": 128,
   "id": "da25665d-f1a5-4501-aff2-fe533784c60c",
   "metadata": {},
   "outputs": [],
   "source": [
    "def best_nest(list_, name, where='params'):\n",
    "    return np.array([x[name] for x in list_[\"params\"] if x['n_estimators'] == 160])"
   ]
  },
  {
   "cell_type": "code",
   "execution_count": 139,
   "id": "cca1f129-327b-4654-828e-7c2e9a1290e7",
   "metadata": {},
   "outputs": [
    {
     "data": {
      "text/plain": [
       "(80, 80)"
      ]
     },
     "execution_count": 139,
     "metadata": {},
     "output_type": "execute_result"
    }
   ],
   "source": [
    "len(gsc.cv_results_['mean_test_score']), len(gsc.cv_results_['params'])"
   ]
  },
  {
   "cell_type": "code",
   "execution_count": 203,
   "id": "6cfcef06-9cd0-4343-9320-1f588edf4ace",
   "metadata": {},
   "outputs": [
    {
     "data": {
      "image/png": "[encoded data removed]",
      "text/plain": [
       "<Figure size 432x288 with 1 Axes>"
      ]
     },
     "metadata": {
      "needs_background": "light"
     },
     "output_type": "display_data"
    }
   ],
   "source": [
    "# show on best n_est:\n",
    "x_ = best_nest(gsc.cv_results_, \"max_depth\")\n",
    "y_ = best_nest(gsc.cv_results_, \"max_features\")\n",
    "ax = plt.axes(projection='3d')\n",
    "z_ = np.array([m for p, m in zip(gsc.cv_results_[\"params\"], gsc.cv_results_[\"mean_test_score\"]) if p['n_estimators'] == 160])\n",
    "ax.plot_trisurf(x_, y_, z_);\n",
    "ax.scatter(x_, y_, z_, color=\"red\");\n",
    "ax.set_xlabel('max_depth')\n",
    "ax.set_ylabel('max_features')\n",
    "ax.set_zlabel('mean_test_score');"
   ]
  },
  {
   "cell_type": "code",
   "execution_count": 208,
   "id": "b02018d8-d164-44f9-b0eb-b75611b1a9c7",
   "metadata": {},
   "outputs": [
    {
     "data": {
      "text/plain": [
       "0.950471756672874"
      ]
     },
     "execution_count": 208,
     "metadata": {},
     "output_type": "execute_result"
    }
   ],
   "source": [
    "\n",
    "cross_val_score(RandomForestClassifier(random_state=0, n_estimators=500, n_jobs=-1), X, y, cv=k).mean()"
   ]
  },
  {
   "cell_type": "code",
   "execution_count": 209,
   "id": "ca35522f-e1b1-4288-b5a5-3d6b9c097761",
   "metadata": {},
   "outputs": [
    {
     "data": {
      "text/plain": [
       "0.9805230940456316"
      ]
     },
     "execution_count": 209,
     "metadata": {},
     "output_type": "execute_result"
    }
   ],
   "source": [
    "RandomForestClassifier(random_state=0, n_estimators=500, n_jobs=-1, oob_score=True).fit(X, y).oob_score_"
   ]
  },
  {
   "cell_type": "code",
   "execution_count": null,
   "id": "b1984cef-c602-4982-ab94-26994703fa19",
   "metadata": {},
   "outputs": [],
   "source": []
  }
 ],
 "metadata": {
  "kernelspec": {
   "display_name": "Python 3",
   "language": "python",
   "name": "python3"
  },
  "language_info": {
   "codemirror_mode": {
    "name": "ipython",
    "version": 3
   },
   "file_extension": ".py",
   "mimetype": "text/x-python",
   "name": "python",
   "nbconvert_exporter": "python",
   "pygments_lexer": "ipython3",
   "version": "3.8.5"
  }
 },
 "nbformat": 4,
 "nbformat_minor": 5
}
