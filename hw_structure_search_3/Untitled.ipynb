{
 "cells": [
  {
   "cell_type": "code",
   "execution_count": 1,
   "id": "f42486f0-0c85-458a-8db1-62d7b5b2fd1a",
   "metadata": {},
   "outputs": [],
   "source": [
    "import numpy as np"
   ]
  },
  {
   "cell_type": "code",
   "execution_count": 2,
   "id": "da2bd645-d824-4655-8793-c01c1ed7d138",
   "metadata": {},
   "outputs": [],
   "source": [
    "from scipy.special import binom"
   ]
  },
  {
   "cell_type": "code",
   "execution_count": 34,
   "id": "91c8b4e2-3a6b-4c43-9f68-9e655e3e4a73",
   "metadata": {},
   "outputs": [
    {
     "data": {
      "text/plain": [
       "[1, 2, 3, 4, 5, 6, 7, 8, 9, 10, 11, 12, 13, 14, 15, 16, 17, 18, 19, 20, 21]"
      ]
     },
     "execution_count": 34,
     "metadata": {},
     "output_type": "execute_result"
    }
   ],
   "source": [
    "list(range(1, 21 + 1))"
   ]
  },
  {
   "cell_type": "code",
   "execution_count": 36,
   "id": "6348f8cd-2aca-4cb3-a3c7-a145f013f1dd",
   "metadata": {},
   "outputs": [
    {
     "data": {
      "text/plain": [
       "2097152.0"
      ]
     },
     "execution_count": 36,
     "metadata": {},
     "output_type": "execute_result"
    }
   ],
   "source": [
    "n = 21\n",
    "arr = []\n",
    "for i in range(0, 21 + 1):\n",
    "    arr.append(binom(n, i))\n",
    "np.sum(arr)"
   ]
  },
  {
   "cell_type": "code",
   "execution_count": 28,
   "id": "322cb5cc-e9fe-4653-a34d-bb78d9195444",
   "metadata": {},
   "outputs": [
    {
     "data": {
      "text/plain": [
       "376740.0"
      ]
     },
     "execution_count": 28,
     "metadata": {},
     "output_type": "execute_result"
    }
   ],
   "source": [
    "binom(28, 6)"
   ]
  },
  {
   "cell_type": "code",
   "execution_count": 29,
   "id": "e07d7653-49c5-4c4d-b3c0-782b75f01c6d",
   "metadata": {},
   "outputs": [
    {
     "data": {
      "text/plain": [
       "21.0"
      ]
     },
     "execution_count": 29,
     "metadata": {},
     "output_type": "execute_result"
    }
   ],
   "source": [
    "binom(7, 2)"
   ]
  },
  {
   "cell_type": "code",
   "execution_count": 5,
   "id": "1e293a70-2aee-4b23-a48c-4d68b69acf06",
   "metadata": {},
   "outputs": [
    {
     "data": {
      "text/plain": [
       "15.0"
      ]
     },
     "execution_count": 5,
     "metadata": {},
     "output_type": "execute_result"
    }
   ],
   "source": [
    "binom(6, 2)"
   ]
  },
  {
   "cell_type": "code",
   "execution_count": 41,
   "id": "230421b4-8226-49db-b497-f7426709677d",
   "metadata": {},
   "outputs": [
    {
     "data": {
      "text/plain": [
       "16384.0"
      ]
     },
     "execution_count": 41,
     "metadata": {},
     "output_type": "execute_result"
    }
   ],
   "source": [
    "a = 0\n",
    "for i in range(0, 15 + 1, 2):\n",
    "    a += binom(15, i)\n",
    "a"
   ]
  },
  {
   "cell_type": "code",
   "execution_count": 38,
   "id": "36073168-7375-4802-86d4-0e338d991bfa",
   "metadata": {},
   "outputs": [
    {
     "data": {
      "text/plain": [
       "[0, 2, 4, 6, 8, 10, 12, 14]"
      ]
     },
     "execution_count": 38,
     "metadata": {},
     "output_type": "execute_result"
    }
   ],
   "source": [
    "list(range(0, 15 + 1, 2))"
   ]
  },
  {
   "cell_type": "code",
   "execution_count": null,
   "id": "8ee34b7e-bab5-4d45-87eb-40f7682f74f3",
   "metadata": {},
   "outputs": [],
   "source": []
  }
 ],
 "metadata": {
  "kernelspec": {
   "display_name": "Python 3",
   "language": "python",
   "name": "python3"
  },
  "language_info": {
   "codemirror_mode": {
    "name": "ipython",
    "version": 3
   },
   "file_extension": ".py",
   "mimetype": "text/x-python",
   "name": "python",
   "nbconvert_exporter": "python",
   "pygments_lexer": "ipython3",
   "version": "3.8.5"
  }
 },
 "nbformat": 4,
 "nbformat_minor": 5
}
