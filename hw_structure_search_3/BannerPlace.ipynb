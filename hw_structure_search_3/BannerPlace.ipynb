{
 "cells": [
  {
   "cell_type": "code",
   "execution_count": 118,
   "id": "2ab18b6b-0148-41bc-a9d0-c7d29d685a2d",
   "metadata": {},
   "outputs": [],
   "source": [
    "import pandas as pd\n",
    "import numpy as np\n",
    "from sklearn.cluster import MeanShift\n",
    "from numpy.linalg import norm"
   ]
  },
  {
   "cell_type": "code",
   "execution_count": 45,
   "id": "89f733e4-da03-489a-9b03-9a611d22f192",
   "metadata": {},
   "outputs": [],
   "source": [
    "df = pd.read_csv(r\".\\201309_foursquare_dataset_umn\\fsq\\umn_foursquare_datasets\\checkins.dat\", sep=\"|\", low_memory=False)"
   ]
  },
  {
   "cell_type": "code",
   "execution_count": 46,
   "id": "e8c3d15d-4b46-4467-8b8f-6fd076904b63",
   "metadata": {},
   "outputs": [],
   "source": [
    "df = df.replace('                   ', np.nan).dropna() "
   ]
  },
  {
   "cell_type": "code",
   "execution_count": 47,
   "id": "1c2f9270-143a-40f0-b378-24ddc3266860",
   "metadata": {},
   "outputs": [
    {
     "data": {
      "text/html": [
       "<div>\n",
       "<style scoped>\n",
       "    .dataframe tbody tr th:only-of-type {\n",
       "        vertical-align: middle;\n",
       "    }\n",
       "\n",
       "    .dataframe tbody tr th {\n",
       "        vertical-align: top;\n",
       "    }\n",
       "\n",
       "    .dataframe thead th {\n",
       "        text-align: right;\n",
       "    }\n",
       "</style>\n",
       "<table border=\"1\" class=\"dataframe\">\n",
       "  <thead>\n",
       "    <tr style=\"text-align: right;\">\n",
       "      <th></th>\n",
       "      <th>id</th>\n",
       "      <th>user_id</th>\n",
       "      <th>venue_id</th>\n",
       "      <th>latitude</th>\n",
       "      <th>longitude</th>\n",
       "      <th>created_at</th>\n",
       "    </tr>\n",
       "  </thead>\n",
       "  <tbody>\n",
       "    <tr>\n",
       "      <th>2</th>\n",
       "      <td>984222</td>\n",
       "      <td>15824.0</td>\n",
       "      <td>5222.0</td>\n",
       "      <td>38.8951118</td>\n",
       "      <td>-77.0363658</td>\n",
       "      <td>2012-04-21 17:43:47</td>\n",
       "    </tr>\n",
       "    <tr>\n",
       "      <th>4</th>\n",
       "      <td>984234</td>\n",
       "      <td>44652.0</td>\n",
       "      <td>5222.0</td>\n",
       "      <td>33.800745</td>\n",
       "      <td>-84.41052</td>\n",
       "      <td>2012-04-21 17:43:43</td>\n",
       "    </tr>\n",
       "    <tr>\n",
       "      <th>8</th>\n",
       "      <td>984291</td>\n",
       "      <td>105054.0</td>\n",
       "      <td>5222.0</td>\n",
       "      <td>45.5234515</td>\n",
       "      <td>-122.6762071</td>\n",
       "      <td>2012-04-21 17:39:22</td>\n",
       "    </tr>\n",
       "    <tr>\n",
       "      <th>10</th>\n",
       "      <td>984318</td>\n",
       "      <td>2146539.0</td>\n",
       "      <td>5222.0</td>\n",
       "      <td>40.764462</td>\n",
       "      <td>-111.904565</td>\n",
       "      <td>2012-04-21 17:35:46</td>\n",
       "    </tr>\n",
       "    <tr>\n",
       "      <th>11</th>\n",
       "      <td>984232</td>\n",
       "      <td>93870.0</td>\n",
       "      <td>380645.0</td>\n",
       "      <td>33.4483771</td>\n",
       "      <td>-112.0740373</td>\n",
       "      <td>2012-04-21 17:38:18</td>\n",
       "    </tr>\n",
       "  </tbody>\n",
       "</table>\n",
       "</div>"
      ],
      "text/plain": [
       "       id       user_id    venue_id        latitude        \\\n",
       "2     984222     15824.0      5222.0          38.8951118    \n",
       "4     984234     44652.0      5222.0           33.800745    \n",
       "8     984291    105054.0      5222.0          45.5234515    \n",
       "10    984318   2146539.0      5222.0           40.764462    \n",
       "11    984232     93870.0    380645.0          33.4483771    \n",
       "\n",
       "         longitude           created_at        \n",
       "2          -77.0363658    2012-04-21 17:43:47  \n",
       "4            -84.41052    2012-04-21 17:43:43  \n",
       "8         -122.6762071    2012-04-21 17:39:22  \n",
       "10         -111.904565    2012-04-21 17:35:46  \n",
       "11        -112.0740373    2012-04-21 17:38:18  "
      ]
     },
     "execution_count": 47,
     "metadata": {},
     "output_type": "execute_result"
    }
   ],
   "source": [
    "df.head()"
   ]
  },
  {
   "cell_type": "code",
   "execution_count": 48,
   "id": "e763bc90-771e-4db4-833a-3f0c4bb7854f",
   "metadata": {},
   "outputs": [
    {
     "name": "stdout",
     "output_type": "stream",
     "text": [
      "<class 'pandas.core.frame.DataFrame'>\n",
      "Int64Index: 396634 entries, 2 to 1021965\n",
      "Data columns (total 6 columns):\n",
      " #   Column                 Non-Null Count   Dtype  \n",
      "---  ------                 --------------   -----  \n",
      " 0      id                  396634 non-null  object \n",
      " 1    user_id               396634 non-null  float64\n",
      " 2    venue_id              396634 non-null  float64\n",
      " 3        latitude          396634 non-null  object \n",
      " 4        longitude         396634 non-null  object \n",
      " 5        created_at        396634 non-null  object \n",
      "dtypes: float64(2), object(4)\n",
      "memory usage: 21.2+ MB\n"
     ]
    }
   ],
   "source": [
    "df.info()"
   ]
  },
  {
   "cell_type": "code",
   "execution_count": 67,
   "id": "584a553b-4df7-40d3-b946-88d59a26ff90",
   "metadata": {},
   "outputs": [
    {
     "data": {
      "text/plain": [
       "Index(['id', 'user_id', 'venue_id', 'latitude', 'longitude', 'created_at'], dtype='object')"
      ]
     },
     "execution_count": 67,
     "metadata": {},
     "output_type": "execute_result"
    }
   ],
   "source": [
    "df.columns"
   ]
  },
  {
   "cell_type": "code",
   "execution_count": 65,
   "id": "8caf0fea-6bf1-4f33-93a8-65c5d2ffc438",
   "metadata": {},
   "outputs": [],
   "source": [
    "df.columns = [x() for x in df.columns]"
   ]
  },
  {
   "cell_type": "code",
   "execution_count": 70,
   "id": "a4c25adb-c9d9-44b2-a9f2-677cfdd431b8",
   "metadata": {},
   "outputs": [],
   "source": [
    "df.reset_index(inplace=True)"
   ]
  },
  {
   "cell_type": "code",
   "execution_count": 285,
   "id": "3672ce3e-f02b-45bc-9a28-2ffc0fe28592",
   "metadata": {},
   "outputs": [],
   "source": [
    "X = df.loc[:99999, ['latitude', 'longitude']]"
   ]
  },
  {
   "cell_type": "code",
   "execution_count": 286,
   "id": "dc4878fa-fafe-4832-8df7-bff1bcd3c407",
   "metadata": {},
   "outputs": [],
   "source": [
    "X = X.apply(lambda x: x.str.strip()).values.astype(np.float32)"
   ]
  },
  {
   "cell_type": "code",
   "execution_count": 287,
   "id": "d7f606c7-c2d4-4d42-ac82-08c8d29b9d44",
   "metadata": {},
   "outputs": [],
   "source": [
    "model = MeanShift(bandwidth=.1, n_jobs=-1).fit(X)"
   ]
  },
  {
   "cell_type": "code",
   "execution_count": 288,
   "id": "f029840c-c8b2-4964-b0aa-4ec6e6104600",
   "metadata": {},
   "outputs": [
    {
     "data": {
      "text/plain": [
       "(3230, 2)"
      ]
     },
     "execution_count": 288,
     "metadata": {},
     "output_type": "execute_result"
    }
   ],
   "source": [
    "centers = model.cluster_centers_\n",
    "labels_per_point = model.labels_\n",
    "centers.shape"
   ]
  },
  {
   "cell_type": "code",
   "execution_count": 289,
   "id": "36931294-1c71-4f5b-ad68-a1b9b4031033",
   "metadata": {},
   "outputs": [
    {
     "data": {
      "text/plain": [
       "array([12506,  6572,  4408, ...,     1,     1,     1], dtype=int64)"
      ]
     },
     "execution_count": 289,
     "metadata": {},
     "output_type": "execute_result"
    }
   ],
   "source": [
    "np.bincount(labels_per_point)"
   ]
  },
  {
   "cell_type": "code",
   "execution_count": 290,
   "id": "34321f2a-9cba-4667-ae2f-8e6e997594e7",
   "metadata": {},
   "outputs": [],
   "source": [
    "centers_ref = centers[np.bincount(labels_per_point) > 15]"
   ]
  },
  {
   "cell_type": "code",
   "execution_count": 291,
   "id": "52105d68-7fc8-4828-91c9-482c4d1f2e80",
   "metadata": {},
   "outputs": [],
   "source": [
    "def distance_between(X, coordinate):\n",
    "    return norm(X - coordinate, axis=1)"
   ]
  },
  {
   "cell_type": "code",
   "execution_count": 292,
   "id": "cbb83eee-7343-4cf3-947a-82dff1a361c0",
   "metadata": {},
   "outputs": [],
   "source": [
    "l = []\n",
    "for i in [(33.751277, -118.188740), (25.867736, -80.324116), (51.503016, -0.075479), (52.378894, 4.885084), (39.366487, 117.036146), (-33.868457, 151.205134)]:\n",
    "    l.append(distance_between(centers_ref, np.array(i)))"
   ]
  },
  {
   "cell_type": "code",
   "execution_count": 294,
   "id": "7d52efed-d0c2-4f1a-b356-a4a02041d4c8",
   "metadata": {},
   "outputs": [
    {
     "data": {
      "text/plain": [
       "((6, 591), 591)"
      ]
     },
     "execution_count": 294,
     "metadata": {},
     "output_type": "execute_result"
    }
   ],
   "source": [
    "np.array(l).shape, centers_ref.shape[0]"
   ]
  },
  {
   "cell_type": "code",
   "execution_count": 295,
   "id": "f4e9d9aa-23f3-4db2-9c78-b041b61e828c",
   "metadata": {
    "tags": []
   },
   "outputs": [],
   "source": [
    "mask = (np.array(l).flatten().argsort() % centers_ref.shape[0])[:20]"
   ]
  },
  {
   "cell_type": "code",
   "execution_count": 296,
   "id": "b43a66d4-c24b-4296-8959-b6172638db8b",
   "metadata": {},
   "outputs": [],
   "source": [
    "output_array = centers_ref[mask]"
   ]
  },
  {
   "cell_type": "code",
   "execution_count": 297,
   "id": "a509f33c-7dbc-4b88-a868-fbed57eb004d",
   "metadata": {},
   "outputs": [],
   "source": [
    "np.savetxt(\"result.txt\", output_array)"
   ]
  },
  {
   "cell_type": "code",
   "execution_count": 298,
   "id": "e4c5e687-d390-4c0f-bd59-476041106aaf",
   "metadata": {},
   "outputs": [
    {
     "data": {
      "text/plain": [
       "array([[-3.38606339e+01,  1.51204803e+02],\n",
       "       [ 5.23729591e+01,  4.89231730e+00],\n",
       "       [ 2.58456764e+01, -8.03188858e+01],\n",
       "       [ 5.15029106e+01, -1.25537127e-01],\n",
       "       [ 3.38098640e+01, -1.18149147e+02],\n",
       "       [ 2.57859211e+01, -8.02178726e+01],\n",
       "       [ 2.57053204e+01, -8.02834854e+01],\n",
       "       [ 2.60101414e+01, -8.02000427e+01],\n",
       "       [ 3.38883133e+01, -1.18049004e+02],\n",
       "       [ 3.38730698e+01, -1.18361679e+02],\n",
       "       [ 3.39725647e+01, -1.18168373e+02],\n",
       "       [ 2.61388397e+01, -8.03343277e+01],\n",
       "       [ 3.39839401e+01, -1.18007408e+02],\n",
       "       [ 2.61207809e+01, -8.01589050e+01],\n",
       "       [ 3.38171501e+01, -1.17890518e+02],\n",
       "       [ 3.40602341e+01, -1.18247810e+02],\n",
       "       [ 3.36741905e+01, -1.17857864e+02],\n",
       "       [ 2.62005730e+01, -8.02506561e+01],\n",
       "       [ 3.40355949e+01, -1.18438438e+02],\n",
       "       [ 3.41314240e+01, -1.18118027e+02]], dtype=float32)"
      ]
     },
     "execution_count": 298,
     "metadata": {},
     "output_type": "execute_result"
    }
   ],
   "source": [
    "output_array"
   ]
  },
  {
   "cell_type": "code",
   "execution_count": 276,
   "id": "59252c90-55fa-4b96-a15d-3c173110277b",
   "metadata": {},
   "outputs": [
    {
     "data": {
      "text/plain": [
       "array([ 49, 400,  58, 374, 528, 391], dtype=int64)"
      ]
     },
     "execution_count": 276,
     "metadata": {},
     "output_type": "execute_result"
    }
   ],
   "source": [
    "np.array(l).argmin(axis=1) % centers_ref.shape[0]"
   ]
  },
  {
   "cell_type": "code",
   "execution_count": 277,
   "id": "cdac82b2-edcf-4384-b1a6-10bd45e9c65b",
   "metadata": {},
   "outputs": [
    {
     "data": {
      "text/plain": [
       "array([391, 374, 400, ..., 121, 456, 475], dtype=int64)"
      ]
     },
     "execution_count": 277,
     "metadata": {},
     "output_type": "execute_result"
    }
   ],
   "source": [
    "mask"
   ]
  },
  {
   "cell_type": "code",
   "execution_count": null,
   "id": "8c4199a9-e67b-4cab-a3cb-faf82dfaab23",
   "metadata": {},
   "outputs": [],
   "source": []
  }
 ],
 "metadata": {
  "kernelspec": {
   "display_name": "Python 3",
   "language": "python",
   "name": "python3"
  },
  "language_info": {
   "codemirror_mode": {
    "name": "ipython",
    "version": 3
   },
   "file_extension": ".py",
   "mimetype": "text/x-python",
   "name": "python",
   "nbconvert_exporter": "python",
   "pygments_lexer": "ipython3",
   "version": "3.8.5"
  }
 },
 "nbformat": 4,
 "nbformat_minor": 5
}
