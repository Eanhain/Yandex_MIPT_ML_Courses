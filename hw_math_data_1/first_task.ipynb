{
 "cells": [
  {
   "cell_type": "code",
   "execution_count": 68,
   "id": "86a385ed-8575-447e-b7e7-288562f1db31",
   "metadata": {},
   "outputs": [],
   "source": [
    "import numpy as np\n",
    "import regex as re\n",
    "import scipy as sp\n",
    "import matplotlib.pyplot as plt"
   ]
  },
  {
   "cell_type": "code",
   "execution_count": 4,
   "id": "6cc75fde-7315-40f8-b9c6-08aa879f7d47",
   "metadata": {},
   "outputs": [],
   "source": [
    "with open('./sentences.txt', 'r') as f:\n",
    "    func = lambda x: re.split('[^a-z]', x.rstrip(\"\\n\").lower())\n",
    "    text = [[*filter(lambda x: x != \"\", func(x))] for x in f]"
   ]
  },
  {
   "cell_type": "code",
   "execution_count": 5,
   "id": "afc8319d-0d08-4a60-bd88-6f19cf32b1fd",
   "metadata": {},
   "outputs": [],
   "source": [
    "voc = []\n",
    "for sentence in text:\n",
    "    for word in sentence:\n",
    "        if word not in voc:\n",
    "            voc.append(word)"
   ]
  },
  {
   "cell_type": "code",
   "execution_count": 6,
   "id": "1a3f96c5-193c-48cc-a6ec-bda120a5f70d",
   "metadata": {
    "tags": []
   },
   "outputs": [],
   "source": [
    "voc = {x: i for i, x in enumerate(voc)}"
   ]
  },
  {
   "cell_type": "code",
   "execution_count": 7,
   "id": "8d25329f-b7f3-44fd-ad71-c8f2eb74d16c",
   "metadata": {
    "tags": []
   },
   "outputs": [],
   "source": [
    "def text_to_vect(sentence):\n",
    "    vect = []\n",
    "    for word in sentence:\n",
    "        vect.append(voc[word])\n",
    "    return vect"
   ]
  },
  {
   "cell_type": "code",
   "execution_count": 8,
   "id": "1c6a3a57-d876-4090-8c28-e6869b4dbfdc",
   "metadata": {},
   "outputs": [],
   "source": [
    "vect_text = []\n",
    "for sentence in text:\n",
    "    vect_text.append(text_to_vect(sentence))"
   ]
  },
  {
   "cell_type": "code",
   "execution_count": 19,
   "id": "ebef30b9-39a9-45e3-958d-11064a36c48e",
   "metadata": {
    "tags": []
   },
   "outputs": [
    {
     "name": "stdout",
     "output_type": "stream",
     "text": [
      "22 253\n"
     ]
    }
   ],
   "source": [
    "a = 0\n",
    "for sentence in vect_text:\n",
    "    if np.array(sentence).max() > a:\n",
    "        a = np.array(sentence).max()\n",
    "print(len(vect_text), a)"
   ]
  },
  {
   "cell_type": "code",
   "execution_count": 25,
   "id": "e4e28d5b-0375-4434-947f-e38c1ff7b578",
   "metadata": {},
   "outputs": [],
   "source": [
    "matrix_d = np.zeros((len(vect_text), a + 1))"
   ]
  },
  {
   "cell_type": "code",
   "execution_count": 26,
   "id": "c0efda04-7b6b-4a51-a7bb-124b0f0a6b6c",
   "metadata": {
    "tags": []
   },
   "outputs": [],
   "source": [
    "for i, sentence in enumerate(vect_text):\n",
    "    matrix_d[i][sentence] = 1"
   ]
  },
  {
   "cell_type": "code",
   "execution_count": 28,
   "id": "a4f57d30-1fec-4f75-bdeb-4c44cc74fa44",
   "metadata": {},
   "outputs": [
    {
     "data": {
      "text/plain": [
       "(22, 254)"
      ]
     },
     "execution_count": 28,
     "metadata": {},
     "output_type": "execute_result"
    }
   ],
   "source": [
    "matrix_d.shape"
   ]
  },
  {
   "cell_type": "code",
   "execution_count": 36,
   "id": "8f29b688-4aca-45f7-9b83-3831e7b61e79",
   "metadata": {},
   "outputs": [],
   "source": [
    "from scipy.spatial.distance import cosine"
   ]
  },
  {
   "cell_type": "code",
   "execution_count": 66,
   "id": "ee33d068-8ad9-4053-9fb4-de842eb8e092",
   "metadata": {},
   "outputs": [
    {
     "name": "stdout",
     "output_type": "stream",
     "text": [
      "5 3 0.7547442642060137 0.8055388829343507\n"
     ]
    }
   ],
   "source": [
    "a_0 = 1\n",
    "a_1 = 1\n",
    "i_f_0 = None\n",
    "for i, row in enumerate(matrix_d[1:]):\n",
    "    if cosine(matrix_d[0], row) < a_0:\n",
    "        a_0 = cosine(matrix_d[0], row)\n",
    "        i_f_0 = i\n",
    "for i, row in enumerate(matrix_d[1:]):\n",
    "    if cosine(matrix_d[0], row) < a_1 and i_f_0 != i:\n",
    "        a_1 = cosine(matrix_d[0], row)\n",
    "        i_f_1 = i\n",
    "print(i_f_0, i_f_1, a_0, a_1)\n",
    "with open(\"submission-1.txt\", \"w\") as f:\n",
    "    f.write(str(i_f_0) + \" \" + str(i_f_1))"
   ]
  },
  {
   "cell_type": "code",
   "execution_count": 60,
   "id": "ebe9524b-8e5b-46df-a247-cd8d60bb48f8",
   "metadata": {},
   "outputs": [
    {
     "data": {
      "text/plain": [
       "('the domesticated cat and its closest wild ancestor are both diploid organisms that possess chromosomes and roughly genes',\n",
       " 'cats can hear sounds too faint or too high in frequency for human ears such as those made by mice and other small animals',\n",
       " 'in comparison to dogs cats have not undergone major changes during the domestication process')"
      ]
     },
     "execution_count": 60,
     "metadata": {},
     "output_type": "execute_result"
    }
   ],
   "source": [
    "(\" \".join(text[5]), \" \".join(text[3]), \" \".join(text[0]))"
   ]
  },
  {
   "cell_type": "markdown",
   "id": "e3ac3802-6268-4720-9941-3271e1bfc4a0",
   "metadata": {},
   "source": [
    "## P_2"
   ]
  },
  {
   "cell_type": "code",
   "execution_count": 78,
   "id": "4965c511-900d-4981-b127-4c1fc29c0778",
   "metadata": {},
   "outputs": [],
   "source": [
    "def func(x): return np.sin(x / 5) * np.exp(x / 10) + 5 * np.exp(-x / 2)"
   ]
  },
  {
   "cell_type": "code",
   "execution_count": 140,
   "id": "0a8d3e45-5834-4b01-966d-8fe2285ff2b6",
   "metadata": {},
   "outputs": [],
   "source": [
    "x_line = np.linspace(1, 15, 50)"
   ]
  },
  {
   "cell_type": "code",
   "execution_count": 79,
   "id": "4432e05a-3151-407e-bd5c-62b4c7ec390b",
   "metadata": {},
   "outputs": [
    {
     "data": {
      "text/plain": [
       "[<matplotlib.lines.Line2D at 0x24ef3658b20>]"
      ]
     },
     "execution_count": 79,
     "metadata": {},
     "output_type": "execute_result"
    },
    {
     "data": {
      "image/png": "[encoded data removed]",
      "text/plain": [
       "<Figure size 432x288 with 1 Axes>"
      ]
     },
     "metadata": {
      "needs_background": "light"
     },
     "output_type": "display_data"
    }
   ],
   "source": [
    "plt.plot(x, func(x))"
   ]
  },
  {
   "cell_type": "code",
   "execution_count": 110,
   "id": "18d51d0a-da55-4d6a-9f95-8004f4132c79",
   "metadata": {},
   "outputs": [],
   "source": [
    "x = x[:, np.newaxis] + np.zeros(49)"
   ]
  },
  {
   "cell_type": "code",
   "execution_count": 127,
   "id": "fa6bdead-4d00-4e24-9e4e-c13da48eec4b",
   "metadata": {
    "collapsed": true,
    "jupyter": {
     "outputs_hidden": true
    },
    "tags": []
   },
   "outputs": [
    {
     "data": {
      "text/plain": [
       "array([1.        , 1.57142857, 1.57142857, 1.57142857, 1.57142857,\n",
       "       1.57142857, 1.57142857, 1.57142857, 1.57142857, 1.57142857,\n",
       "       1.57142857, 1.57142857, 1.57142857, 1.57142857, 1.57142857,\n",
       "       1.57142857, 1.57142857, 1.57142857, 1.57142857, 1.57142857,\n",
       "       1.57142857, 1.57142857, 1.57142857, 1.57142857, 1.57142857,\n",
       "       1.57142857, 1.57142857, 1.57142857, 1.57142857, 1.57142857,\n",
       "       1.57142857, 1.57142857, 1.57142857, 1.57142857, 1.57142857,\n",
       "       1.57142857, 1.57142857, 1.57142857, 1.57142857, 1.57142857,\n",
       "       1.57142857, 1.57142857, 1.57142857, 1.57142857, 1.57142857,\n",
       "       1.57142857, 1.57142857, 1.57142857, 1.57142857, 1.57142857])"
      ]
     },
     "execution_count": 127,
     "metadata": {},
     "output_type": "execute_result"
    }
   ],
   "source": [
    "A[2]"
   ]
  },
  {
   "cell_type": "code",
   "execution_count": 125,
   "id": "067b9a2d-7f9b-47b4-988e-36b56444c22a",
   "metadata": {},
   "outputs": [],
   "source": [
    "A = np.hstack((np.ones(50).reshape(-1, 1), x))"
   ]
  },
  {
   "cell_type": "code",
   "execution_count": 100,
   "id": "e9c0211a-28f8-4335-86a5-16ed385e7179",
   "metadata": {},
   "outputs": [],
   "source": [
    "b = func(x[:, 1])"
   ]
  },
  {
   "cell_type": "code",
   "execution_count": 101,
   "id": "3ca3defa-878a-4e82-8584-b75d8ef72faf",
   "metadata": {},
   "outputs": [],
   "source": [
    "from scipy.linalg import solve"
   ]
  },
  {
   "cell_type": "code",
   "execution_count": 136,
   "id": "9d04b550-b6d1-4c33-8ce4-3e784cc74ae4",
   "metadata": {
    "tags": []
   },
   "outputs": [
    {
     "ename": "LinAlgError",
     "evalue": "Matrix is singular.",
     "output_type": "error",
     "traceback": [
      "\u001b[1;31m---------------------------------------------------------------------------\u001b[0m",
      "\u001b[1;31mLinAlgError\u001b[0m                               Traceback (most recent call last)",
      "\u001b[1;32m<ipython-input-136-3354481b5071>\u001b[0m in \u001b[0;36m<module>\u001b[1;34m\u001b[0m\n\u001b[1;32m----> 1\u001b[1;33m \u001b[0msolve\u001b[0m\u001b[1;33m(\u001b[0m\u001b[0mA\u001b[0m\u001b[1;33m,\u001b[0m \u001b[0mb\u001b[0m\u001b[1;33m)\u001b[0m\u001b[1;33m\u001b[0m\u001b[1;33m\u001b[0m\u001b[0m\n\u001b[0m",
      "\u001b[1;32mA:\\Anaconda3\\lib\\site-packages\\scipy\\linalg\\basic.py\u001b[0m in \u001b[0;36msolve\u001b[1;34m(a, b, sym_pos, lower, overwrite_a, overwrite_b, debug, check_finite, assume_a, transposed)\u001b[0m\n\u001b[0;32m    217\u001b[0m                                                (a1, b1))\n\u001b[0;32m    218\u001b[0m         \u001b[0mlu\u001b[0m\u001b[1;33m,\u001b[0m \u001b[0mipvt\u001b[0m\u001b[1;33m,\u001b[0m \u001b[0minfo\u001b[0m \u001b[1;33m=\u001b[0m \u001b[0mgetrf\u001b[0m\u001b[1;33m(\u001b[0m\u001b[0ma1\u001b[0m\u001b[1;33m,\u001b[0m \u001b[0moverwrite_a\u001b[0m\u001b[1;33m=\u001b[0m\u001b[0moverwrite_a\u001b[0m\u001b[1;33m)\u001b[0m\u001b[1;33m\u001b[0m\u001b[1;33m\u001b[0m\u001b[0m\n\u001b[1;32m--> 219\u001b[1;33m         \u001b[0m_solve_check\u001b[0m\u001b[1;33m(\u001b[0m\u001b[0mn\u001b[0m\u001b[1;33m,\u001b[0m \u001b[0minfo\u001b[0m\u001b[1;33m)\u001b[0m\u001b[1;33m\u001b[0m\u001b[1;33m\u001b[0m\u001b[0m\n\u001b[0m\u001b[0;32m    220\u001b[0m         x, info = getrs(lu, ipvt, b1,\n\u001b[0;32m    221\u001b[0m                         trans=trans, overwrite_b=overwrite_b)\n",
      "\u001b[1;32mA:\\Anaconda3\\lib\\site-packages\\scipy\\linalg\\basic.py\u001b[0m in \u001b[0;36m_solve_check\u001b[1;34m(n, info, lamch, rcond)\u001b[0m\n\u001b[0;32m     27\u001b[0m                          '.'.format(-info))\n\u001b[0;32m     28\u001b[0m     \u001b[1;32melif\u001b[0m \u001b[1;36m0\u001b[0m \u001b[1;33m<\u001b[0m \u001b[0minfo\u001b[0m\u001b[1;33m:\u001b[0m\u001b[1;33m\u001b[0m\u001b[1;33m\u001b[0m\u001b[0m\n\u001b[1;32m---> 29\u001b[1;33m         \u001b[1;32mraise\u001b[0m \u001b[0mLinAlgError\u001b[0m\u001b[1;33m(\u001b[0m\u001b[1;34m'Matrix is singular.'\u001b[0m\u001b[1;33m)\u001b[0m\u001b[1;33m\u001b[0m\u001b[1;33m\u001b[0m\u001b[0m\n\u001b[0m\u001b[0;32m     30\u001b[0m \u001b[1;33m\u001b[0m\u001b[0m\n\u001b[0;32m     31\u001b[0m     \u001b[1;32mif\u001b[0m \u001b[0mlamch\u001b[0m \u001b[1;32mis\u001b[0m \u001b[1;32mNone\u001b[0m\u001b[1;33m:\u001b[0m\u001b[1;33m\u001b[0m\u001b[1;33m\u001b[0m\u001b[0m\n",
      "\u001b[1;31mLinAlgError\u001b[0m: Matrix is singular."
     ]
    }
   ],
   "source": [
    "solve(A, b)"
   ]
  },
  {
   "cell_type": "code",
   "execution_count": 155,
   "id": "708093e7-1947-4d95-9c59-fcf5a98a9bfb",
   "metadata": {
    "tags": []
   },
   "outputs": [],
   "source": [
    "A_0 = np.array([[1, 1, 1, 1], [1, 4, 4 ** 2, 4 ** 3], [1, 10, 10 ** 2, 10 ** 3], [1, 15, 15 ** 2, 15 ** 3]])\n",
    "B_0 = np.array([func(1), func(4), func(10), func(15)])"
   ]
  },
  {
   "cell_type": "code",
   "execution_count": 157,
   "id": "fd618d9b-6c9d-4106-bf39-0251b651bec1",
   "metadata": {},
   "outputs": [],
   "source": [
    "w_0, w_1, w_2, w_3 = solve(A_0, B_0)"
   ]
  },
  {
   "cell_type": "code",
   "execution_count": 158,
   "id": "c7e6c8d9-29c9-4284-945f-50f340e1a5cd",
   "metadata": {},
   "outputs": [
    {
     "data": {
      "text/plain": [
       "[<matplotlib.lines.Line2D at 0x24ef3d9e0d0>]"
      ]
     },
     "execution_count": 158,
     "metadata": {},
     "output_type": "execute_result"
    },
    {
     "data": {
      "image/png": "[encoded data removed]",
      "text/plain": [
       "<Figure size 432x288 with 1 Axes>"
      ]
     },
     "metadata": {
      "needs_background": "light"
     },
     "output_type": "display_data"
    }
   ],
   "source": [
    "plt.plot(x_line, w_0 + w_1 * x_line + w_2 * x_line ** 2 + w_3 * x_line ** 3)"
   ]
  },
  {
   "cell_type": "code",
   "execution_count": 167,
   "id": "f6950c5a-a985-4e7a-b285-9e517b88d68f",
   "metadata": {},
   "outputs": [],
   "source": [
    "with open(\"submission-2.txt\", \"w\") as f:\n",
    "    f.write(\" \".join(str(x) for x in [w_0, w_1, w_2, w_3]))"
   ]
  },
  {
   "cell_type": "code",
   "execution_count": 163,
   "id": "11b36ceb-9f49-4105-884b-ffbde89f0d7f",
   "metadata": {},
   "outputs": [
    {
     "data": {
      "text/plain": [
       "[4.362641535118072,\n",
       " -1.2955258656948434,\n",
       " 0.1933368470215116,\n",
       " -0.008235651173320554]"
      ]
     },
     "execution_count": 163,
     "metadata": {},
     "output_type": "execute_result"
    }
   ],
   "source": [
    "[w_0, w_1, w_2, w_3]"
   ]
  },
  {
   "cell_type": "code",
   "execution_count": 166,
   "id": "c6d83962-8ba3-4255-a49b-2e60d1032a6f",
   "metadata": {},
   "outputs": [
    {
     "data": {
      "text/plain": [
       "'4.362641535118072 -1.2955258656948434 0.1933368470215116 -0.008235651173320554'"
      ]
     },
     "execution_count": 166,
     "metadata": {},
     "output_type": "execute_result"
    }
   ],
   "source": []
  },
  {
   "cell_type": "code",
   "execution_count": 165,
   "id": "f6725a0a-5b0d-4167-a0cc-5036dfd57928",
   "metadata": {},
   "outputs": [
    {
     "data": {
      "text/plain": [
       "numpy.float64"
      ]
     },
     "execution_count": 165,
     "metadata": {},
     "output_type": "execute_result"
    }
   ],
   "source": [
    "type(w_0)"
   ]
  },
  {
   "cell_type": "code",
   "execution_count": null,
   "id": "27c8e73d-9266-425b-a34a-6c5b91a44331",
   "metadata": {},
   "outputs": [],
   "source": []
  }
 ],
 "metadata": {
  "kernelspec": {
   "display_name": "Python 3",
   "language": "python",
   "name": "python3"
  },
  "language_info": {
   "codemirror_mode": {
    "name": "ipython",
    "version": 3
   },
   "file_extension": ".py",
   "mimetype": "text/x-python",
   "name": "python",
   "nbconvert_exporter": "python",
   "pygments_lexer": "ipython3",
   "version": "3.8.5"
  }
 },
 "nbformat": 4,
 "nbformat_minor": 5
}
