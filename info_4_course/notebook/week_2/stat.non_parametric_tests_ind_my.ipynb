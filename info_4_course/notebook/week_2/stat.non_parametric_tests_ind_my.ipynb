{
 "cells": [
  {
   "cell_type": "code",
   "execution_count": 2,
   "id": "7dc3a45e-0080-4908-bc72-22da7c078dc1",
   "metadata": {},
   "outputs": [],
   "source": [
    "import numpy as np\n",
    "import pandas as pd\n",
    "import itertools\n",
    "\n",
    "from scipy import stats\n",
    "from statsmodels.stats.descriptivestats import sign_test\n",
    "from statsmodels.stats.weightstats import zconfint\n",
    "from statsmodels.stats.weightstats import *"
   ]
  },
  {
   "cell_type": "code",
   "execution_count": 3,
   "id": "86cf7aff-6dc4-4efe-a042-e9c35f307f7b",
   "metadata": {},
   "outputs": [
    {
     "name": "stdout",
     "output_type": "stream",
     "text": [
      "Populating the interactive namespace from numpy and matplotlib\n"
     ]
    }
   ],
   "source": [
    "%pylab inline"
   ]
  },
  {
   "cell_type": "markdown",
   "id": "fa7e0bf9-740a-42cf-a7fd-826546450ec7",
   "metadata": {},
   "source": [
    "## Недвижимость в Сиэттле"
   ]
  },
  {
   "cell_type": "code",
   "execution_count": 4,
   "id": "d7d4b36f-828a-4d8c-b5ed-0b8a819993f1",
   "metadata": {},
   "outputs": [],
   "source": [
    "seattle_data = pd.read_csv('data/seattle.txt', sep=\"\\t\", header=0)"
   ]
  },
  {
   "cell_type": "code",
   "execution_count": 5,
   "id": "8451f7c5-b2a0-42cb-9177-a3c76817ed1a",
   "metadata": {},
   "outputs": [
    {
     "data": {
      "text/plain": [
       "(100, 2)"
      ]
     },
     "execution_count": 5,
     "metadata": {},
     "output_type": "execute_result"
    }
   ],
   "source": [
    "seattle_data.shape"
   ]
  },
  {
   "cell_type": "code",
   "execution_count": 6,
   "id": "afd95d2d-e894-48f7-9adf-4e8fa3c1ebed",
   "metadata": {},
   "outputs": [
    {
     "data": {
      "text/html": [
       "<div>\n",
       "<style scoped>\n",
       "    .dataframe tbody tr th:only-of-type {\n",
       "        vertical-align: middle;\n",
       "    }\n",
       "\n",
       "    .dataframe tbody tr th {\n",
       "        vertical-align: top;\n",
       "    }\n",
       "\n",
       "    .dataframe thead th {\n",
       "        text-align: right;\n",
       "    }\n",
       "</style>\n",
       "<table border=\"1\" class=\"dataframe\">\n",
       "  <thead>\n",
       "    <tr style=\"text-align: right;\">\n",
       "      <th></th>\n",
       "      <th>Price</th>\n",
       "      <th>Year</th>\n",
       "    </tr>\n",
       "  </thead>\n",
       "  <tbody>\n",
       "    <tr>\n",
       "      <th>0</th>\n",
       "      <td>142.0</td>\n",
       "      <td>2002</td>\n",
       "    </tr>\n",
       "    <tr>\n",
       "      <th>1</th>\n",
       "      <td>232.0</td>\n",
       "      <td>2002</td>\n",
       "    </tr>\n",
       "    <tr>\n",
       "      <th>2</th>\n",
       "      <td>132.5</td>\n",
       "      <td>2002</td>\n",
       "    </tr>\n",
       "    <tr>\n",
       "      <th>3</th>\n",
       "      <td>200.0</td>\n",
       "      <td>2002</td>\n",
       "    </tr>\n",
       "    <tr>\n",
       "      <th>4</th>\n",
       "      <td>362.0</td>\n",
       "      <td>2002</td>\n",
       "    </tr>\n",
       "  </tbody>\n",
       "</table>\n",
       "</div>"
      ],
      "text/plain": [
       "   Price  Year\n",
       "0  142.0  2002\n",
       "1  232.0  2002\n",
       "2  132.5  2002\n",
       "3  200.0  2002\n",
       "4  362.0  2002"
      ]
     },
     "execution_count": 6,
     "metadata": {},
     "output_type": "execute_result"
    }
   ],
   "source": [
    "seattle_data.head()"
   ]
  },
  {
   "cell_type": "code",
   "execution_count": 7,
   "id": "367cdd78-5627-4f0d-ae80-bcf8d3a53bb7",
   "metadata": {},
   "outputs": [],
   "source": [
    "price2001 = seattle_data[seattle_data['Year'] == 2001].Price\n",
    "price2002 = seattle_data[seattle_data['Year'] == 2002].Price"
   ]
  },
  {
   "cell_type": "code",
   "execution_count": 10,
   "id": "bd640cc8-9fe0-41dc-914f-8e077c3ccebc",
   "metadata": {},
   "outputs": [
    {
     "data": {
      "image/png": "[encoded data removed]",
      "text/plain": [
       "<Figure size 864x288 with 2 Axes>"
      ]
     },
     "metadata": {
      "needs_background": "light"
     },
     "output_type": "display_data"
    }
   ],
   "source": [
    "pylab.figure(figsize=(12, 4))\n",
    "\n",
    "pylab.subplot(1, 2, 1)\n",
    "pylab.grid()\n",
    "pylab.hist(price2001, color='r')\n",
    "pylab.xlabel('2001')\n",
    "\n",
    "pylab.subplot(1, 2, 2)\n",
    "pylab.grid()\n",
    "pylab.hist(price2002, color='b')\n",
    "pylab.xlabel('2002');"
   ]
  },
  {
   "cell_type": "markdown",
   "id": "f9b72f5d-fb8d-4167-9334-ad96e86a78f2",
   "metadata": {},
   "source": [
    "### Двухвыборочные критерии для независимых выборок"
   ]
  },
  {
   "cell_type": "markdown",
   "id": "26f583f6-f09b-408c-920f-5317c0f05028",
   "metadata": {},
   "source": [
    "H0: Медианы стоимости совпадают  \n",
    "H1: Не совпадают"
   ]
  },
  {
   "cell_type": "code",
   "execution_count": 11,
   "id": "9efef827-a165-46be-9c5b-7dfa25c64192",
   "metadata": {},
   "outputs": [
    {
     "data": {
      "text/plain": [
       "(245.19358064978286, 332.65949935021723)"
      ]
     },
     "execution_count": 11,
     "metadata": {},
     "output_type": "execute_result"
    }
   ],
   "source": [
    "zconfint(price2001)"
   ]
  },
  {
   "cell_type": "code",
   "execution_count": 12,
   "id": "4850b5bd-0ecf-487d-97bc-7c515926ebbd",
   "metadata": {},
   "outputs": [
    {
     "data": {
      "text/plain": [
       "(241.4379457326015, 417.07633426739847)"
      ]
     },
     "execution_count": 12,
     "metadata": {},
     "output_type": "execute_result"
    }
   ],
   "source": [
    "zconfint(price2002)"
   ]
  },
  {
   "cell_type": "markdown",
   "id": "be17149a-c568-436c-bb41-664f2fb25fe1",
   "metadata": {},
   "source": [
    "#### Ранговый критерий Манна-Уитни"
   ]
  },
  {
   "cell_type": "markdown",
   "id": "f0589a8c-87d8-44ba-b2f9-bfe5dc45eded",
   "metadata": {},
   "source": [
    "$H_0\\colon F_{X_1}(x) = F_{X_2}(x)$\n",
    "\n",
    "$H_1\\colon F_{X_1}(x) = F_{X_2}(x + \\Delta), \\Delta\\neq 0$"
   ]
  },
  {
   "cell_type": "code",
   "execution_count": 14,
   "id": "684c8b35-acf7-45c8-95b3-672c6cd97cd7",
   "metadata": {},
   "outputs": [
    {
     "data": {
      "text/plain": [
       "MannwhitneyuResult(statistic=1295.5, pvalue=0.7563872675701748)"
      ]
     },
     "execution_count": 14,
     "metadata": {},
     "output_type": "execute_result"
    }
   ],
   "source": [
    "stats.mannwhitneyu(price2001, price2002)"
   ]
  },
  {
   "cell_type": "markdown",
   "id": "8699a747-cce2-4066-8d4f-d299c7a04dbd",
   "metadata": {},
   "source": [
    "#### Перестановочный критерий"
   ]
  },
  {
   "cell_type": "markdown",
   "id": "fb20d2da-7dd2-4463-9fa2-d1a85a16df36",
   "metadata": {},
   "source": [
    "$H_0\\colon F_{X_1}(x) = F_{X_2}(x)$\n",
    "\n",
    "$H_1\\colon F_{X_1}(x) = F_{X_2}(x + \\Delta), \\Delta\\neq 0$"
   ]
  },
  {
   "cell_type": "code",
   "execution_count": 32,
   "id": "63d3bd65-8a10-4e43-8248-9eefd521e0fa",
   "metadata": {},
   "outputs": [],
   "source": [
    "def permutation_t_stat_ind(sample1, sample2):\n",
    "    return np.mean(sample1) - np.mean(sample2)\n",
    "\n",
    "def get_random_combinations(n1, n2, max_combinations):\n",
    "    index = list(range(n1 + n2))\n",
    "    indices = set([tuple(index)])\n",
    "    for i in range(max_combinations - 1):\n",
    "        np.random.shuffle(index)\n",
    "        indices.add(tuple(index))\n",
    "    return [(index[:n1], index[n1:]) for index in indices]\n",
    "\n",
    "def permutation_zero_dist_ind(sample1, sample2, max_combinations=None):\n",
    "    joined_sample = np.hstack((sample1, sample2))\n",
    "    n1 = len(sample1)\n",
    "    n = len(joined_sample)\n",
    "    if max_combinations:\n",
    "        indices = get_random_combinations(n1, len(sample2), max_combinations)\n",
    "    else:\n",
    "        indices = [(list(index), filter(lambda i: i not in index, range(n))) for index in itertools.combinations(range(n), n1)]\n",
    "    distr = [joined_sample[list(i[0])].mean() - joined_sample[list(i[1])].mean() for i in indices]\n",
    "    return distr"
   ]
  },
  {
   "cell_type": "code",
   "execution_count": 26,
   "id": "db440a35-62cd-4815-b6ff-0afbb5820995",
   "metadata": {},
   "outputs": [
    {
     "data": {
      "image/png": "[encoded data removed]",
      "text/plain": [
       "<Figure size 432x288 with 1 Axes>"
      ]
     },
     "metadata": {
      "needs_background": "light"
     },
     "output_type": "display_data"
    }
   ],
   "source": [
    "pylab.hist(permutation_zero_dist_ind(price2001, price2002, max_combinations=1000));"
   ]
  },
  {
   "cell_type": "code",
   "execution_count": 34,
   "id": "68755ff4-128c-43b1-aa02-d09575e9d89b",
   "metadata": {},
   "outputs": [],
   "source": [
    "def permutation_test(sample, mean, max_permutation=None, alternative=\"two-sided\"):\n",
    "    if alternative not in (\"two-sided\", \"less\", \"greater\"):\n",
    "        raise ValueError(\"alternative not recognized\\nshould be 'two-sided', 'less' or 'greater'\")\n",
    "    t_stat = permutation_t_stat_ind(sample, mean)\n",
    "    zero_distr = permutation_zero_dist_ind(sample, mean, max_permutation)\n",
    "    if alternative == 'two-sided':\n",
    "        return sum([1 if abs(x) >= abs(t_stat) else 0 for x in zero_distr]) / len(zero_distr)\n",
    "    if alternative == 'less':\n",
    "        return sum([1 if x <= t_stat else 0 for x in zero_distr]) / len(zero_distr)\n",
    "    if alternative == 'greater':\n",
    "        return sum([1 if x >= t_stat else 0 for x in zero_distr]) / len(zero_distr)"
   ]
  },
  {
   "cell_type": "code",
   "execution_count": 35,
   "id": "978ecda8-c29f-46a0-931f-ac4a80bb88b2",
   "metadata": {},
   "outputs": [
    {
     "data": {
      "text/plain": [
       "(0.4395, 0.44622)"
      ]
     },
     "execution_count": 35,
     "metadata": {},
     "output_type": "execute_result"
    }
   ],
   "source": [
    "permutation_test(price2001, price2002, max_permutation=10000), permutation_test(price2001, price2002, max_permutation=50000)"
   ]
  },
  {
   "cell_type": "code",
   "execution_count": null,
   "id": "edb35fd7-aa02-4517-95f3-384e9127e4d9",
   "metadata": {},
   "outputs": [],
   "source": []
  }
 ],
 "metadata": {
  "kernelspec": {
   "display_name": "Python 3 (ipykernel)",
   "language": "python",
   "name": "python3"
  },
  "language_info": {
   "codemirror_mode": {
    "name": "ipython",
    "version": 3
   },
   "file_extension": ".py",
   "mimetype": "text/x-python",
   "name": "python",
   "nbconvert_exporter": "python",
   "pygments_lexer": "ipython3",
   "version": "3.8.5"
  }
 },
 "nbformat": 4,
 "nbformat_minor": 5
}
