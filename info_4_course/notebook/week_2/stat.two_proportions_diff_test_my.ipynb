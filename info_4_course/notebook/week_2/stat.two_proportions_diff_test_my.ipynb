{
 "cells": [
  {
   "cell_type": "code",
   "execution_count": 1,
   "id": "be71e6fb-1eaf-4017-9c36-daaa10c2e4b5",
   "metadata": {},
   "outputs": [],
   "source": [
    "import numpy as np\n",
    "import pandas as pd\n",
    "\n",
    "import scipy\n",
    "from statsmodels.stats.weightstats import *\n",
    "from statsmodels.stats.proportion import proportion_confint"
   ]
  },
  {
   "cell_type": "code",
   "execution_count": 4,
   "id": "cb538b94-e0c7-4c60-bb75-5ba7a405bd56",
   "metadata": {},
   "outputs": [
    {
     "data": {
      "text/html": [
       "<div>\n",
       "<style scoped>\n",
       "    .dataframe tbody tr th:only-of-type {\n",
       "        vertical-align: middle;\n",
       "    }\n",
       "\n",
       "    .dataframe tbody tr th {\n",
       "        vertical-align: top;\n",
       "    }\n",
       "\n",
       "    .dataframe thead th {\n",
       "        text-align: right;\n",
       "    }\n",
       "</style>\n",
       "<table border=\"1\" class=\"dataframe\">\n",
       "  <thead>\n",
       "    <tr style=\"text-align: right;\">\n",
       "      <th></th>\n",
       "      <th>banner_a</th>\n",
       "      <th>banner_b</th>\n",
       "    </tr>\n",
       "  </thead>\n",
       "  <tbody>\n",
       "    <tr>\n",
       "      <th>0</th>\n",
       "      <td>0</td>\n",
       "      <td>0</td>\n",
       "    </tr>\n",
       "    <tr>\n",
       "      <th>1</th>\n",
       "      <td>1</td>\n",
       "      <td>1</td>\n",
       "    </tr>\n",
       "    <tr>\n",
       "      <th>2</th>\n",
       "      <td>0</td>\n",
       "      <td>0</td>\n",
       "    </tr>\n",
       "    <tr>\n",
       "      <th>3</th>\n",
       "      <td>0</td>\n",
       "      <td>0</td>\n",
       "    </tr>\n",
       "    <tr>\n",
       "      <th>4</th>\n",
       "      <td>0</td>\n",
       "      <td>0</td>\n",
       "    </tr>\n",
       "  </tbody>\n",
       "</table>\n",
       "</div>"
      ],
      "text/plain": [
       "   banner_a  banner_b\n",
       "0         0         0\n",
       "1         1         1\n",
       "2         0         0\n",
       "3         0         0\n",
       "4         0         0"
      ]
     },
     "execution_count": 4,
     "metadata": {},
     "output_type": "execute_result"
    }
   ],
   "source": [
    "data = pd.read_csv(\"data/banner_click_stat.txt\", header=None, sep=\"\\t\", names=[\"banner_a\", \"banner_b\"])\n",
    "data.head()"
   ]
  },
  {
   "cell_type": "code",
   "execution_count": 5,
   "id": "6a05d3ac-c4ae-4f17-b530-a5c380a612b7",
   "metadata": {},
   "outputs": [
    {
     "data": {
      "text/html": [
       "<div>\n",
       "<style scoped>\n",
       "    .dataframe tbody tr th:only-of-type {\n",
       "        vertical-align: middle;\n",
       "    }\n",
       "\n",
       "    .dataframe tbody tr th {\n",
       "        vertical-align: top;\n",
       "    }\n",
       "\n",
       "    .dataframe thead th {\n",
       "        text-align: right;\n",
       "    }\n",
       "</style>\n",
       "<table border=\"1\" class=\"dataframe\">\n",
       "  <thead>\n",
       "    <tr style=\"text-align: right;\">\n",
       "      <th></th>\n",
       "      <th>banner_a</th>\n",
       "      <th>banner_b</th>\n",
       "    </tr>\n",
       "  </thead>\n",
       "  <tbody>\n",
       "    <tr>\n",
       "      <th>count</th>\n",
       "      <td>1000.000000</td>\n",
       "      <td>1000.000000</td>\n",
       "    </tr>\n",
       "    <tr>\n",
       "      <th>mean</th>\n",
       "      <td>0.037000</td>\n",
       "      <td>0.053000</td>\n",
       "    </tr>\n",
       "    <tr>\n",
       "      <th>std</th>\n",
       "      <td>0.188856</td>\n",
       "      <td>0.224146</td>\n",
       "    </tr>\n",
       "    <tr>\n",
       "      <th>min</th>\n",
       "      <td>0.000000</td>\n",
       "      <td>0.000000</td>\n",
       "    </tr>\n",
       "    <tr>\n",
       "      <th>25%</th>\n",
       "      <td>0.000000</td>\n",
       "      <td>0.000000</td>\n",
       "    </tr>\n",
       "    <tr>\n",
       "      <th>50%</th>\n",
       "      <td>0.000000</td>\n",
       "      <td>0.000000</td>\n",
       "    </tr>\n",
       "    <tr>\n",
       "      <th>75%</th>\n",
       "      <td>0.000000</td>\n",
       "      <td>0.000000</td>\n",
       "    </tr>\n",
       "    <tr>\n",
       "      <th>max</th>\n",
       "      <td>1.000000</td>\n",
       "      <td>1.000000</td>\n",
       "    </tr>\n",
       "  </tbody>\n",
       "</table>\n",
       "</div>"
      ],
      "text/plain": [
       "          banner_a     banner_b\n",
       "count  1000.000000  1000.000000\n",
       "mean      0.037000     0.053000\n",
       "std       0.188856     0.224146\n",
       "min       0.000000     0.000000\n",
       "25%       0.000000     0.000000\n",
       "50%       0.000000     0.000000\n",
       "75%       0.000000     0.000000\n",
       "max       1.000000     1.000000"
      ]
     },
     "execution_count": 5,
     "metadata": {},
     "output_type": "execute_result"
    }
   ],
   "source": [
    "data.describe()"
   ]
  },
  {
   "cell_type": "markdown",
   "id": "b5efcd93-62ef-475f-8b1b-6468db4c2b33",
   "metadata": {},
   "source": [
    "### Интервальные оценки долей"
   ]
  },
  {
   "cell_type": "code",
   "execution_count": 6,
   "id": "69a55496-e4d4-452c-a8ae-0b4733fb5309",
   "metadata": {},
   "outputs": [],
   "source": [
    "conf_int_banner_a = proportion_confint(sum(data.banner_a), data.shape[0], method=\"normal\")\n",
    "conf_int_banner_b = proportion_confint(sum(data.banner_b), data.shape[0], method=\"normal\")"
   ]
  },
  {
   "cell_type": "code",
   "execution_count": 7,
   "id": "47f6d031-631b-4860-9539-2e9b258fceff",
   "metadata": {},
   "outputs": [
    {
     "name": "stdout",
     "output_type": "stream",
     "text": [
      "(0.02530064022092865, 0.04869935977907135) (0.03911451622486782, 0.06688548377513218)\n"
     ]
    }
   ],
   "source": [
    "print(conf_int_banner_a, conf_int_banner_b)"
   ]
  },
  {
   "cell_type": "markdown",
   "id": "36a5ff46-8f66-42c4-b0b2-f97ca94a2138",
   "metadata": {},
   "source": [
    "### Z-критерий (независимые выборки)"
   ]
  },
  {
   "cell_type": "code",
   "execution_count": 8,
   "id": "45ed3636-d829-4fe2-865d-4d2f974125f2",
   "metadata": {},
   "outputs": [],
   "source": [
    "def prop_diff_confint_ind(sample1, sample2, alpha=.05):\n",
    "    z = scipy.stats.norm.ppf(1 - alpha / 2)\n",
    "    p1 = sum(sample1) / len(sample1)\n",
    "    p2 = sum(sample2) / len(sample2)\n",
    "    \n",
    "    left_boundary = (p1 - p2) - z * np.sqrt(p1 * (1 - p1) / len(sample1) + p2 * (1 - p2) / len(sample2))\n",
    "    right_boundary = (p1 - p2) + z * np.sqrt(p1 * (1 - p1) / len(sample1) + p2 * (1 - p2) / len(sample2))\n",
    "    return left_boundary, right_boundary"
   ]
  },
  {
   "cell_type": "code",
   "execution_count": 9,
   "id": "149163d9-e1be-4e46-9909-19f127c11fde",
   "metadata": {},
   "outputs": [],
   "source": [
    "def prop_diff_z_stat_ind(sample1, sample2):\n",
    "    n1 = len(sample1)\n",
    "    n2 = len(sample2)\n",
    "    \n",
    "    p1 = sum(sample1) / n1\n",
    "    p2 = sum(sample2) / n2\n",
    "    P = (p1 * n1 + p2 * n2) / (n1 + n2)\n",
    "    \n",
    "    return (p1 - p2) / np.sqrt(P * (1 - P) * (1 / n1 + 1 / n2))"
   ]
  },
  {
   "cell_type": "code",
   "execution_count": 24,
   "id": "5e2cf2bd-be25-47e7-b1b9-fb59949ebe2a",
   "metadata": {},
   "outputs": [],
   "source": [
    "def prop_diff_z_test(z_stat, alternative=\"two-sided\"):\n",
    "    if alternative not in (\"two-sided\", \"less\", \"greater\"):\n",
    "        raise ValueError(\"alternative not recognized\\nshould be 'two-sided', 'less' or 'greater'\")\n",
    "    if alternative == \"two-sided\":\n",
    "        return 2 * (1 - scipy.stats.norm.cdf(np.abs(z_stat)))\n",
    "    if alternative == \"less\":\n",
    "        return scipy.stats.norm.cdf(z_stat)\n",
    "    if alternative == \"greater\":\n",
    "        return 1 - scipy.stats.norm.cdf(z_stat)"
   ]
  },
  {
   "cell_type": "code",
   "execution_count": 16,
   "id": "328e6e55-26af-49e2-b569-4913e04973f9",
   "metadata": {},
   "outputs": [
    {
     "data": {
      "text/plain": [
       "(-0.0341571385110543, 0.002157138511054299)"
      ]
     },
     "execution_count": 16,
     "metadata": {},
     "output_type": "execute_result"
    }
   ],
   "source": [
    "prop_diff_confint_ind(data.banner_a, data.banner_b)"
   ]
  },
  {
   "cell_type": "code",
   "execution_count": 17,
   "id": "d84bd927-0ddf-4506-9c73-97d56bcf93cf",
   "metadata": {},
   "outputs": [
    {
     "data": {
      "text/plain": [
       "-1.7258261378415294"
      ]
     },
     "execution_count": 17,
     "metadata": {},
     "output_type": "execute_result"
    }
   ],
   "source": [
    "Z = prop_diff_z_stat_ind(data.banner_a, data.banner_b)\n",
    "Z"
   ]
  },
  {
   "cell_type": "code",
   "execution_count": 23,
   "id": "fdc37d78-840b-4058-8b2f-e7a14689138e",
   "metadata": {},
   "outputs": [
    {
     "data": {
      "text/plain": [
       "0.08437869601106662"
      ]
     },
     "execution_count": 23,
     "metadata": {},
     "output_type": "execute_result"
    }
   ],
   "source": [
    "prop_diff_z_test(Z)"
   ]
  },
  {
   "cell_type": "code",
   "execution_count": 27,
   "id": "475fe5b9-ffc6-4207-b078-1a5078bfa75c",
   "metadata": {},
   "outputs": [
    {
     "data": {
      "text/plain": [
       "0.042189348005533284"
      ]
     },
     "execution_count": 27,
     "metadata": {},
     "output_type": "execute_result"
    }
   ],
   "source": [
    "prop_diff_z_test(Z, \"less\")"
   ]
  },
  {
   "cell_type": "markdown",
   "id": "75a9062d-d5b9-4e74-90e2-ad2b81ee2c05",
   "metadata": {},
   "source": [
    "### Z-критерий связанные выборки"
   ]
  },
  {
   "cell_type": "code",
   "execution_count": 42,
   "id": "bf740b26-c05e-4381-8cdb-28de810088ab",
   "metadata": {},
   "outputs": [],
   "source": [
    "def prop_diff_confint_rel(sample1, sample2, alpha=.05):\n",
    "    z = scipy.stats.norm.ppf(1 - alpha / 2)\n",
    "    sample = list(zip(sample1, sample2))\n",
    "    n = len(sample)\n",
    "    f = sum(1 if x[0] == 1 and x[1] == 0 else 0 for x in sample)\n",
    "    g = sum(1 if x[1] == 1 and x[0] == 0 else 0 for x in sample)\n",
    "    \n",
    "    left_boundary = (f - g) / n - z * np.sqrt((f + g) / n ** 2 - (f - g) ** 2 / n ** 3)\n",
    "    right_boundary = (f - g) / n + z * np.sqrt((f + g) / n ** 2 - (f - g) ** 2 / n ** 3)\n",
    "    return left_boundary, right_boundary"
   ]
  },
  {
   "cell_type": "code",
   "execution_count": 45,
   "id": "86349e2f-c9df-4fe9-a623-96716ac17170",
   "metadata": {},
   "outputs": [],
   "source": [
    "def prop_diff_z_stat_rel(sample1, sample2):\n",
    "    sample = list(zip(sample1, sample2))\n",
    "    n = len(sample)\n",
    "    f = sum(1 if x[0] == 1 and x[1] == 0 else 0 for x in sample)\n",
    "    g = sum(1 if x[1] == 1 and x[0] == 0 else 0 for x in sample)\n",
    "    return (f - g) / np.sqrt(f + g - (f - g) ** 2 / n)"
   ]
  },
  {
   "cell_type": "code",
   "execution_count": 44,
   "id": "1160c1b0-b72a-4f42-95d0-56d75fbc207e",
   "metadata": {},
   "outputs": [
    {
     "data": {
      "text/plain": [
       "(-0.02668926335921826, -0.00531073664078174)"
      ]
     },
     "execution_count": 44,
     "metadata": {},
     "output_type": "execute_result"
    }
   ],
   "source": [
    "prop_diff_confint_rel(data.banner_a, data.banner_b)"
   ]
  },
  {
   "cell_type": "code",
   "execution_count": 48,
   "id": "96f8b1ee-6fcc-4337-a195-864e19949897",
   "metadata": {},
   "outputs": [
    {
     "data": {
      "text/plain": [
       "-2.9337310438325916"
      ]
     },
     "execution_count": 48,
     "metadata": {},
     "output_type": "execute_result"
    }
   ],
   "source": [
    "Z2 = prop_diff_z_stat_rel(data.banner_a, data.banner_b)\n",
    "Z2"
   ]
  },
  {
   "cell_type": "code",
   "execution_count": 50,
   "id": "3a4e12b8-9247-4ac6-afc1-7813f0d06ea2",
   "metadata": {},
   "outputs": [
    {
     "data": {
      "text/plain": [
       "0.0016745714232725471"
      ]
     },
     "execution_count": 50,
     "metadata": {},
     "output_type": "execute_result"
    }
   ],
   "source": [
    "prop_diff_z_test(Z2, \"less\")"
   ]
  },
  {
   "cell_type": "code",
   "execution_count": 51,
   "id": "68256434-d679-4e5b-82a1-2ed51f0b7c69",
   "metadata": {},
   "outputs": [
    {
     "data": {
      "text/plain": [
       "0.0033491428465450834"
      ]
     },
     "execution_count": 51,
     "metadata": {},
     "output_type": "execute_result"
    }
   ],
   "source": [
    "prop_diff_z_test(Z2)"
   ]
  },
  {
   "cell_type": "code",
   "execution_count": null,
   "id": "1bb57c4b-d9da-41b5-8338-4bd3a4b49355",
   "metadata": {},
   "outputs": [],
   "source": []
  }
 ],
 "metadata": {
  "kernelspec": {
   "display_name": "Python 3 (ipykernel)",
   "language": "python",
   "name": "python3"
  },
  "language_info": {
   "codemirror_mode": {
    "name": "ipython",
    "version": 3
   },
   "file_extension": ".py",
   "mimetype": "text/x-python",
   "name": "python",
   "nbconvert_exporter": "python",
   "pygments_lexer": "ipython3",
   "version": "3.8.5"
  }
 },
 "nbformat": 4,
 "nbformat_minor": 5
}
