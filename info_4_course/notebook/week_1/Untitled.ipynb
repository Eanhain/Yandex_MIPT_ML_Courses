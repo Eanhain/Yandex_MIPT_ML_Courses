{
 "cells": [
  {
   "cell_type": "markdown",
   "id": "c8503f86-73f3-4011-b7e7-10048cf26974",
   "metadata": {},
   "source": [
    "## Доверительный интервалы на основе bootstrap"
   ]
  },
  {
   "cell_type": "code",
   "execution_count": 4,
   "id": "6b88c29a-f7c3-46e4-95cb-c6b8a0005bce",
   "metadata": {},
   "outputs": [],
   "source": [
    "import numpy as np\n",
    "import pandas as pd"
   ]
  },
  {
   "cell_type": "code",
   "execution_count": 5,
   "id": "65960cac-e262-4e8d-92b8-084b26525a15",
   "metadata": {},
   "outputs": [
    {
     "name": "stdout",
     "output_type": "stream",
     "text": [
      "Populating the interactive namespace from numpy and matplotlib\n"
     ]
    }
   ],
   "source": [
    "%pylab inline"
   ]
  },
  {
   "cell_type": "markdown",
   "id": "2252862f-9125-4fe4-9113-fb9b70518d55",
   "metadata": {},
   "source": [
    "## Загрузка данных"
   ]
  },
  {
   "cell_type": "code",
   "execution_count": 4,
   "id": "340cee0a-8bfd-4f55-9353-40c6f1ba17cf",
   "metadata": {},
   "outputs": [
    {
     "data": {
      "text/plain": [
       "(1687, 2)"
      ]
     },
     "execution_count": 4,
     "metadata": {},
     "output_type": "execute_result"
    }
   ],
   "source": [
    "data = pd.read_csv(\"data/verizon.txt\", sep=\"\\t\")\n",
    "data.shape"
   ]
  },
  {
   "cell_type": "code",
   "execution_count": 5,
   "id": "3bec9b2a-3217-4730-bfe0-20709d525d64",
   "metadata": {},
   "outputs": [
    {
     "data": {
      "text/html": [
       "<div>\n",
       "<style scoped>\n",
       "    .dataframe tbody tr th:only-of-type {\n",
       "        vertical-align: middle;\n",
       "    }\n",
       "\n",
       "    .dataframe tbody tr th {\n",
       "        vertical-align: top;\n",
       "    }\n",
       "\n",
       "    .dataframe thead th {\n",
       "        text-align: right;\n",
       "    }\n",
       "</style>\n",
       "<table border=\"1\" class=\"dataframe\">\n",
       "  <thead>\n",
       "    <tr style=\"text-align: right;\">\n",
       "      <th></th>\n",
       "      <th>Time</th>\n",
       "      <th>Group</th>\n",
       "    </tr>\n",
       "  </thead>\n",
       "  <tbody>\n",
       "    <tr>\n",
       "      <th>0</th>\n",
       "      <td>17.50</td>\n",
       "      <td>ILEC</td>\n",
       "    </tr>\n",
       "    <tr>\n",
       "      <th>1</th>\n",
       "      <td>2.40</td>\n",
       "      <td>ILEC</td>\n",
       "    </tr>\n",
       "    <tr>\n",
       "      <th>2</th>\n",
       "      <td>0.00</td>\n",
       "      <td>ILEC</td>\n",
       "    </tr>\n",
       "    <tr>\n",
       "      <th>3</th>\n",
       "      <td>0.65</td>\n",
       "      <td>ILEC</td>\n",
       "    </tr>\n",
       "    <tr>\n",
       "      <th>4</th>\n",
       "      <td>22.23</td>\n",
       "      <td>ILEC</td>\n",
       "    </tr>\n",
       "  </tbody>\n",
       "</table>\n",
       "</div>"
      ],
      "text/plain": [
       "    Time Group\n",
       "0  17.50  ILEC\n",
       "1   2.40  ILEC\n",
       "2   0.00  ILEC\n",
       "3   0.65  ILEC\n",
       "4  22.23  ILEC"
      ]
     },
     "execution_count": 5,
     "metadata": {},
     "output_type": "execute_result"
    }
   ],
   "source": [
    "data.head()"
   ]
  },
  {
   "cell_type": "code",
   "execution_count": 6,
   "id": "c48971f4-55d8-4547-b971-63f6cc20cc31",
   "metadata": {},
   "outputs": [
    {
     "data": {
      "text/plain": [
       "ILEC    1664\n",
       "CLEC      23\n",
       "Name: Group, dtype: int64"
      ]
     },
     "execution_count": 6,
     "metadata": {},
     "output_type": "execute_result"
    }
   ],
   "source": [
    "data.Group.value_counts()"
   ]
  },
  {
   "cell_type": "code",
   "execution_count": 12,
   "id": "01a08267-4eaf-4d04-a14a-a8d7bffdb319",
   "metadata": {},
   "outputs": [
    {
     "data": {
      "image/png": "[encoded data removed]",
      "text/plain": [
       "<Figure size 864x360 with 2 Axes>"
      ]
     },
     "metadata": {
      "needs_background": "light"
     },
     "output_type": "display_data"
    }
   ],
   "source": [
    "pylab.figure(figsize(12, 5))\n",
    "pylab.subplot(1, 2, 1)\n",
    "pylab.hist(data[data.Group == \"ILEC\"].Time, bins=20, color=\"b\", range=(0, 100), label=\"ILEC\")\n",
    "pylab.legend()\n",
    "\n",
    "pylab.subplot(1, 2, 2)\n",
    "pylab.hist(data[data.Group == \"CLEC\"].Time, bins=20, color=\"r\", range=(0, 100), label=\"CLEC\")\n",
    "pylab.legend();\n",
    "\n",
    "pylab.show()"
   ]
  },
  {
   "cell_type": "markdown",
   "id": "692b9037-6253-48b4-8bee-456ca70de0d9",
   "metadata": {},
   "source": [
    "## Bootstrap"
   ]
  },
  {
   "cell_type": "code",
   "execution_count": 19,
   "id": "95743275-794d-416a-a72e-0b672fc1822b",
   "metadata": {},
   "outputs": [],
   "source": [
    "def get_bootstrap_samples(data, n_samples):\n",
    "    indices = np.random.randint(0, len(data), (n_samples, len(data)))\n",
    "    samples = data[indices]\n",
    "    return samples"
   ]
  },
  {
   "cell_type": "code",
   "execution_count": 15,
   "id": "3c5d8c9c-e4e4-4f81-bd4e-0fd18a2cd812",
   "metadata": {},
   "outputs": [],
   "source": [
    "def stat_intervals(stat, alpha):\n",
    "    boundaries = np.percentile(stat, [100 * alpha / 2, 100 * (1 - alpha / 2)])\n",
    "    return boundaries"
   ]
  },
  {
   "cell_type": "markdown",
   "id": "6c99eed0-eca9-45cd-9f9a-662e596fd924",
   "metadata": {},
   "source": [
    "### Интервальные оценки медианы"
   ]
  },
  {
   "cell_type": "code",
   "execution_count": 17,
   "id": "18c164af-788c-4a6f-9043-d1d5ed77a3cc",
   "metadata": {},
   "outputs": [],
   "source": [
    "ilec_time = data[data.Group == \"ILEC\"].Time.values\n",
    "clec_time = data[data.Group == \"CLEC\"].Time.values"
   ]
  },
  {
   "cell_type": "code",
   "execution_count": 23,
   "id": "2b1a4345-5d4a-414d-865e-e33fc6181244",
   "metadata": {},
   "outputs": [
    {
     "name": "stdout",
     "output_type": "stream",
     "text": [
      "95% confidence interval for the ILEC median repair time: [3.18    3.82525]\n",
      "95% confidence interval for the CLEC median repair time: [ 5.79125 20.     ]\n"
     ]
    }
   ],
   "source": [
    "np.random.seed(0)\n",
    "\n",
    "ilec_median_scores = [np.median(x) for x in get_bootstrap_samples(ilec_time, 1000)]\n",
    "clec_median_scores = [np.median(x) for x in get_bootstrap_samples(clec_time, 1000)]\n",
    "\n",
    "print(\"95% confidence interval for the ILEC median repair time:\", stat_intervals(ilec_median_scores, .05))\n",
    "print(\"95% confidence interval for the CLEC median repair time:\", stat_intervals(clec_median_scores, .05))"
   ]
  },
  {
   "cell_type": "markdown",
   "id": "c5c6e329-9c83-4d23-ba63-3db1c6014811",
   "metadata": {},
   "source": [
    "### Точечная оценка разности медиан"
   ]
  },
  {
   "cell_type": "code",
   "execution_count": 28,
   "id": "ab2407e2-aa3c-47fc-bb84-588225cbacb6",
   "metadata": {},
   "outputs": [
    {
     "name": "stdout",
     "output_type": "stream",
     "text": [
      "diff between medians:  10.74\n"
     ]
    }
   ],
   "source": [
    "print(\"diff between medians: \", np.median(clec_time) - np.median(ilec_time))"
   ]
  },
  {
   "cell_type": "markdown",
   "id": "2d43d953-392b-479d-baa7-e82f79c7b689",
   "metadata": {},
   "source": [
    "### Интервальная оценка разности медиан"
   ]
  },
  {
   "cell_type": "code",
   "execution_count": 29,
   "id": "5d2888a3-b889-4d01-9a9b-bb2d8b45bcb9",
   "metadata": {},
   "outputs": [],
   "source": [
    "delta_median_scores = [x[1] - x[0] for x in zip(ilec_median_scores, clec_median_scores)]"
   ]
  },
  {
   "cell_type": "code",
   "execution_count": 31,
   "id": "f0dcc677-f57a-4d74-9868-b506a1e4b29c",
   "metadata": {},
   "outputs": [
    {
     "name": "stdout",
     "output_type": "stream",
     "text": [
      "diff interval for the difference between medians [ 2.04975 16.63   ]\n"
     ]
    }
   ],
   "source": [
    "print(\"diff interval for the difference between medians\", stat_intervals(delta_median_scores, .05))"
   ]
  },
  {
   "cell_type": "markdown",
   "id": "abea23a6-2ed3-461a-9765-455b80aedfce",
   "metadata": {},
   "source": [
    "### Биномиальные критерии для доли"
   ]
  },
  {
   "cell_type": "code",
   "execution_count": 9,
   "id": "25c5260f-ead4-4be0-93ee-caff2c12386d",
   "metadata": {},
   "outputs": [
    {
     "name": "stdout",
     "output_type": "stream",
     "text": [
      "Populating the interactive namespace from numpy and matplotlib\n"
     ]
    }
   ],
   "source": [
    "import numpy as np\n",
    "from scipy import stats\n",
    "%pylab inline"
   ]
  },
  {
   "cell_type": "code",
   "execution_count": 4,
   "id": "5e8d2ba4-aea0-4f8b-a5ce-0da099e8c334",
   "metadata": {},
   "outputs": [],
   "source": [
    "n = 16 "
   ]
  },
  {
   "cell_type": "code",
   "execution_count": 5,
   "id": "5737572e-5a7c-49dc-9442-e5560a5b1b5f",
   "metadata": {},
   "outputs": [],
   "source": [
    "F_H0 = stats.binom(16, .5)"
   ]
  },
  {
   "cell_type": "code",
   "execution_count": 9,
   "id": "f569efed-c0aa-4b9f-847e-856aa955a6ce",
   "metadata": {},
   "outputs": [
    {
     "data": {
      "image/png": "[encoded data removed]",
      "text/plain": [
       "<Figure size 432x288 with 1 Axes>"
      ]
     },
     "metadata": {
      "needs_background": "light"
     },
     "output_type": "display_data"
    }
   ],
   "source": [
    "x = np.linspace(0, 16, 17)\n",
    "pylab.bar(x, F_H0.pmf(x), align=\"center\")\n",
    "xlim(-.5, 16.5);"
   ]
  },
  {
   "cell_type": "markdown",
   "id": "19e1ceb1-1e59-42bd-a98b-5df6017d0c21",
   "metadata": {},
   "source": [
    "### Односторонняя альтернатива\n",
    "Гипотеа H1: Джеймс Бонд предпочитает взболтанный мартини  \n",
    "При такой альтернативе более вероятны большие значения статистики; при расчете достигаемого уровня  \n",
    "значимости будем суммировать высоту столбиков в правом хвосте распределения"
   ]
  },
  {
   "cell_type": "code",
   "execution_count": 20,
   "id": "8300276a-b29f-419e-9eb2-267ecaa99503",
   "metadata": {},
   "outputs": [
    {
     "data": {
      "image/png": "[encoded data removed]",
      "text/plain": [
       "<Figure size 432x288 with 1 Axes>"
      ]
     },
     "metadata": {
      "needs_background": "light"
     },
     "output_type": "display_data"
    }
   ],
   "source": [
    "pylab.bar(x, F_H0.pmf(x), align=\"center\")\n",
    "pylab.bar(np.linspace(12, 16, 5), F_H0.pmf(np.linspace(12, 16, 5)), color=\"red\");"
   ]
  },
  {
   "cell_type": "code",
   "execution_count": 38,
   "id": "cbe27b61-226e-4409-9794-774425aadb24",
   "metadata": {},
   "outputs": [
    {
     "data": {
      "text/plain": [
       "0.0384063720703125"
      ]
     },
     "execution_count": 38,
     "metadata": {},
     "output_type": "execute_result"
    }
   ],
   "source": [
    "stats.binom_test(12, 16, .5, alternative=\"greater\")"
   ]
  },
  {
   "cell_type": "code",
   "execution_count": 24,
   "id": "e19a7ef8-af50-4d8e-9c46-92cbcb0a58df",
   "metadata": {},
   "outputs": [
    {
     "data": {
      "image/png": "[encoded data removed]",
      "text/plain": [
       "<Figure size 432x288 with 1 Axes>"
      ]
     },
     "metadata": {
      "needs_background": "light"
     },
     "output_type": "display_data"
    }
   ],
   "source": [
    "pylab.bar(x, F_H0.pmf(x), align=\"center\")\n",
    "pylab.bar(np.linspace(11, 16, 6), F_H0.pmf(np.linspace(11, 16, 6)), color=\"red\");"
   ]
  },
  {
   "cell_type": "code",
   "execution_count": 25,
   "id": "5147b786-348c-4c2b-9766-6d403783ede3",
   "metadata": {},
   "outputs": [
    {
     "data": {
      "text/plain": [
       "0.1050567626953125"
      ]
     },
     "execution_count": 25,
     "metadata": {},
     "output_type": "execute_result"
    }
   ],
   "source": [
    "stats.binom_test(11, 16, .5, alternative=\"greater\")"
   ]
  },
  {
   "cell_type": "markdown",
   "id": "41e10e92-566b-4614-8e7a-76a9825b3f95",
   "metadata": {},
   "source": [
    "### Двусторонняя альтернатива\n",
    "Джеймс Бонд предпочитает какой-то определенный вид мартини\n",
    "При такой альтернативе вероятные очень большие и очень маленькие значения статистики; при расчете достигаемого уровня значимости будем суммировать высоту столбиков в правом и левом хвостах распределения"
   ]
  },
  {
   "cell_type": "code",
   "execution_count": 26,
   "id": "1b4e842c-02f0-412a-b26e-d2a8dc6c0f1f",
   "metadata": {},
   "outputs": [
    {
     "data": {
      "image/png": "[encoded data removed]",
      "text/plain": [
       "<Figure size 432x288 with 1 Axes>"
      ]
     },
     "metadata": {
      "needs_background": "light"
     },
     "output_type": "display_data"
    }
   ],
   "source": [
    "pylab.bar(x, F_H0.pmf(x), align=\"center\")\n",
    "pylab.bar(np.linspace(12, 16, 5), F_H0.pmf(np.linspace(12, 16, 5)), color=\"red\");\n",
    "pylab.bar(np.linspace(0, 4 , 5), F_H0.pmf(np.linspace(0, 4 , 5)), color=\"red\");"
   ]
  },
  {
   "cell_type": "code",
   "execution_count": 35,
   "id": "2c57232b-99d1-4b30-b073-688adc444ae7",
   "metadata": {},
   "outputs": [
    {
     "data": {
      "text/plain": [
       "0.076812744140625"
      ]
     },
     "execution_count": 35,
     "metadata": {},
     "output_type": "execute_result"
    }
   ],
   "source": [
    "stats.binom_test(12, n=16, p=.5, alternative=\"two-sided\")"
   ]
  },
  {
   "cell_type": "code",
   "execution_count": 29,
   "id": "9f2b59f4-a706-47bb-aaf3-0193c7366566",
   "metadata": {},
   "outputs": [
    {
     "data": {
      "image/png": "[encoded data removed]",
      "text/plain": [
       "<Figure size 432x288 with 1 Axes>"
      ]
     },
     "metadata": {
      "needs_background": "light"
     },
     "output_type": "display_data"
    }
   ],
   "source": [
    "pylab.bar(x, F_H0.pmf(x), align=\"center\")\n",
    "pylab.bar(np.linspace(13, 16, 4), F_H0.pmf(np.linspace(13, 16, 4)), color=\"red\");\n",
    "pylab.bar(np.linspace(0, 3, 4), F_H0.pmf(np.linspace(0, 3, 4)), color=\"red\");"
   ]
  },
  {
   "cell_type": "code",
   "execution_count": 39,
   "id": "b59a7602-59f9-4b94-a053-fa0f12ba4e5f",
   "metadata": {},
   "outputs": [
    {
     "data": {
      "text/plain": [
       "0.021270751953125"
      ]
     },
     "execution_count": 39,
     "metadata": {},
     "output_type": "execute_result"
    }
   ],
   "source": [
    "stats.binom_test(13, n=16, p=.5, alternative=\"two-sided\")"
   ]
  },
  {
   "cell_type": "markdown",
   "id": "1e3fe82d-d9ec-4758-9af1-41e750971ca1",
   "metadata": {},
   "source": [
    "### Критерий Пирсона"
   ]
  },
  {
   "cell_type": "markdown",
   "id": "94f31f1a-e067-4b7f-938d-b0f260392bea",
   "metadata": {},
   "source": [
    "#### Исчерпанная рождаемость\n",
    "выборка - целочисленный вектор длины n, характеризующий количество детей у опрашиваемой женщины  \n",
    "гипотеза H0 - рассматриваемая величина имеет распределение пуассона"
   ]
  },
  {
   "cell_type": "code",
   "execution_count": 1,
   "id": "fe38e7d4-0553-4b4f-9864-1f51d86496ae",
   "metadata": {},
   "outputs": [],
   "source": [
    "import pandas as pd"
   ]
  },
  {
   "cell_type": "code",
   "execution_count": 2,
   "id": "fd020fbf-ad00-4d52-b965-eac972f80b5c",
   "metadata": {},
   "outputs": [],
   "source": [
    "fin = pd.read_csv(\"./data/fertility.txt\", header=None)"
   ]
  },
  {
   "cell_type": "code",
   "execution_count": 6,
   "id": "b1c44034-9479-4458-a708-22da9ea9fbdc",
   "metadata": {},
   "outputs": [
    {
     "data": {
      "image/png": "[encoded data removed]",
      "text/plain": [
       "<Figure size 432x288 with 1 Axes>"
      ]
     },
     "metadata": {
      "needs_background": "light"
     },
     "output_type": "display_data"
    }
   ],
   "source": [
    "pylab.bar(range(12), np.bincount(fin.values.ravel()), color=\"b\", label=\"fertility_stat\")\n",
    "pylab.legend();"
   ]
  },
  {
   "cell_type": "code",
   "execution_count": 16,
   "id": "748d3691-1c63-4a8e-a9f9-c2d4c5983243",
   "metadata": {},
   "outputs": [
    {
     "data": {
      "text/plain": [
       "0    1.937167\n",
       "dtype: float64"
      ]
     },
     "execution_count": 16,
     "metadata": {},
     "output_type": "execute_result"
    }
   ],
   "source": [
    "l = np.mean(fin)\n",
    "l"
   ]
  },
  {
   "cell_type": "markdown",
   "id": "c6bb2821-1894-4c33-b0b6-3e2cf4ff7e1d",
   "metadata": {},
   "source": [
    "### Критерий согласия "
   ]
  },
  {
   "cell_type": "code",
   "execution_count": 12,
   "id": "1822192b-4b9e-4005-b193-c25f20512b54",
   "metadata": {},
   "outputs": [
    {
     "data": {
      "text/plain": [
       "array([379, 262, 684, 353, 128,  35,  16,   8,  10,   1,   1,   1],\n",
       "      dtype=int64)"
      ]
     },
     "execution_count": 12,
     "metadata": {},
     "output_type": "execute_result"
    }
   ],
   "source": [
    "data = list(fin.values.ravel().astype(int))\n",
    "observed_frequences = np.bincount(data)\n",
    "observed_frequences"
   ]
  },
  {
   "cell_type": "code",
   "execution_count": 28,
   "id": "1287ce8e-779f-412a-81f1-b2f81a5c64fe",
   "metadata": {},
   "outputs": [
    {
     "data": {
      "text/plain": [
       "array([0.20181044, 0.13951012, 0.36421725, 0.18796592, 0.06815761,\n",
       "       0.01863685, 0.0085197 , 0.00425985, 0.00532481, 0.00053248,\n",
       "       0.00053248, 0.00053248])"
      ]
     },
     "execution_count": 28,
     "metadata": {},
     "output_type": "execute_result"
    }
   ],
   "source": [
    "np.bincount(data) / len(data)"
   ]
  },
  {
   "cell_type": "code",
   "execution_count": 17,
   "id": "6300d978-2982-4248-bb2b-1a14c63e3e75",
   "metadata": {},
   "outputs": [],
   "source": [
    "expected_frequences = [len(data) * stats.poisson.pmf(x, l)[0] for x in range(min(data), max(data) + 1)]"
   ]
  },
  {
   "cell_type": "code",
   "execution_count": 95,
   "id": "fa4a475f-98ca-4185-a168-9a65f7ce8c01",
   "metadata": {},
   "outputs": [
    {
     "data": {
      "text/plain": [
       "[270.6416065637888,\n",
       " 524.2780429600978,\n",
       " 507.80711402791167,\n",
       " 327.9024282629646,\n",
       " 158.80045713800124,\n",
       " 61.52460735548975,\n",
       " 19.863908551586047,\n",
       " 5.49710172757265,\n",
       " 1.3311006446292126,\n",
       " 0.28650716750450117,\n",
       " 0.055501228721053016,\n",
       " 0.009774105435530582]"
      ]
     },
     "execution_count": 95,
     "metadata": {},
     "output_type": "execute_result"
    }
   ],
   "source": [
    "expected_frequences"
   ]
  },
  {
   "cell_type": "code",
   "execution_count": 30,
   "id": "ff3be176-9cf5-4f84-9e7c-364348703f81",
   "metadata": {},
   "outputs": [
    {
     "data": {
      "image/png": "[encoded data removed]",
      "text/plain": [
       "<Figure size 432x288 with 1 Axes>"
      ]
     },
     "metadata": {
      "needs_background": "light"
     },
     "output_type": "display_data"
    }
   ],
   "source": [
    "pylab.bar(range(len(expected_frequences)), expected_frequences, color=\"b\", label=\"poisson distr\")\n",
    "pylab.legend();"
   ]
  },
  {
   "cell_type": "code",
   "execution_count": 50,
   "id": "28a9337f-96cb-4e29-9b97-a0827a9d2044",
   "metadata": {},
   "outputs": [
    {
     "data": {
      "text/plain": [
       "Power_divergenceResult(statistic=415.2920720688844, pvalue=5.223503735094445e-83)"
      ]
     },
     "execution_count": 50,
     "metadata": {},
     "output_type": "execute_result"
    }
   ],
   "source": [
    "stats.chisquare(observed_frequences, expected_frequences, ddof=1)"
   ]
  },
  {
   "cell_type": "code",
   "execution_count": 46,
   "id": "3c0b6970-65b5-4fcd-b21e-297b118227cf",
   "metadata": {},
   "outputs": [
    {
     "data": {
      "text/plain": [
       "1878"
      ]
     },
     "execution_count": 46,
     "metadata": {},
     "output_type": "execute_result"
    }
   ],
   "source": [
    "observed_frequences.sum()"
   ]
  },
  {
   "cell_type": "code",
   "execution_count": 48,
   "id": "720e994a-ae4d-43df-8cd1-01f5e53b5420",
   "metadata": {},
   "outputs": [
    {
     "data": {
      "text/plain": [
       "0.0018502662971968675"
      ]
     },
     "execution_count": 48,
     "metadata": {},
     "output_type": "execute_result"
    }
   ],
   "source": [
    "observed_frequences.sum() - sum()"
   ]
  },
  {
   "cell_type": "code",
   "execution_count": 49,
   "id": "4c834b6a-793e-4d2e-9003-6eb59f8cb0ec",
   "metadata": {},
   "outputs": [],
   "source": [
    "expected_frequences[-1] += 0.0018502662971968675\n"
   ]
  },
  {
   "cell_type": "code",
   "execution_count": null,
   "id": "3d6ea7f3-7f23-4f50-991d-4c90ae431816",
   "metadata": {},
   "outputs": [],
   "source": []
  }
 ],
 "metadata": {
  "kernelspec": {
   "display_name": "Python 3 (ipykernel)",
   "language": "python",
   "name": "python3"
  },
  "language_info": {
   "codemirror_mode": {
    "name": "ipython",
    "version": 3
   },
   "file_extension": ".py",
   "mimetype": "text/x-python",
   "name": "python",
   "nbconvert_exporter": "python",
   "pygments_lexer": "ipython3",
   "version": "3.8.5"
  }
 },
 "nbformat": 4,
 "nbformat_minor": 5
}
